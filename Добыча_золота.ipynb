{
 "cells": [
  {
   "cell_type": "markdown",
   "metadata": {},
   "source": [
    "# Восстановление золота из руды"
   ]
  },
  {
   "cell_type": "markdown",
   "metadata": {},
   "source": [
    "Необходимо подготовить прототип модели машинного обучения для компании «Цифры». Компания разрабатывает решения для эффективной работы промышленных предприятий.\n",
    "\n",
    "Модель должна предсказать коэффициент восстановления золота из золотосодержащей руды. Используйте данные с параметрами добычи и очистки. \n",
    "\n",
    "Модель поможет оптимизировать производство, чтобы не запускать предприятие с убыточными характеристиками."
   ]
  },
  {
   "cell_type": "markdown",
   "metadata": {},
   "source": [
    "## Подготовка данных"
   ]
  },
  {
   "cell_type": "markdown",
   "metadata": {},
   "source": [
    "### Изучение файлов"
   ]
  },
  {
   "cell_type": "code",
   "execution_count": 1,
   "metadata": {},
   "outputs": [],
   "source": [
    "import pandas as pd\n",
    "from sklearn.tree import DecisionTreeRegressor\n",
    "from sklearn.ensemble import RandomForestRegressor\n",
    "from sklearn.linear_model import LinearRegression\n",
    "from sklearn.metrics import mean_absolute_error\n",
    "from sklearn.metrics import mean_squared_error\n",
    "from sklearn.model_selection import GridSearchCV\n",
    "from sklearn.metrics import r2_score\n",
    "from sklearn.model_selection import cross_val_score\n",
    "from sklearn.metrics import make_scorer\n",
    "import matplotlib.pyplot as plt\n",
    "from scipy import stats as st\n",
    "from sklearn.dummy import DummyRegressor\n",
    "import numpy as np\n",
    "import seaborn as sns\n",
    "import warnings\n",
    "warnings.filterwarnings('ignore')"
   ]
  },
  {
   "cell_type": "code",
   "execution_count": 2,
   "metadata": {},
   "outputs": [],
   "source": [
    "gold_recovery_train = pd.read_csv('C:/Users/Nshan/Desktop/Сброный_проект_2/gold_recovery_train_new.csv')\n",
    "gold_recovery_test = pd.read_csv('C:/Users/Nshan/Desktop/Сброный_проект_2/gold_recovery_test_new.csv')\n",
    "gold_recovery_full = pd.read_csv('C:/Users/Nshan/Desktop/Сброный_проект_2/gold_recovery_full_new.csv')"
   ]
  },
  {
   "cell_type": "code",
   "execution_count": 3,
   "metadata": {},
   "outputs": [
    {
     "data": {
      "text/html": [
       "<div>\n",
       "<style scoped>\n",
       "    .dataframe tbody tr th:only-of-type {\n",
       "        vertical-align: middle;\n",
       "    }\n",
       "\n",
       "    .dataframe tbody tr th {\n",
       "        vertical-align: top;\n",
       "    }\n",
       "\n",
       "    .dataframe thead th {\n",
       "        text-align: right;\n",
       "    }\n",
       "</style>\n",
       "<table border=\"1\" class=\"dataframe\">\n",
       "  <thead>\n",
       "    <tr style=\"text-align: right;\">\n",
       "      <th></th>\n",
       "      <th>date</th>\n",
       "      <th>final.output.concentrate_ag</th>\n",
       "      <th>final.output.concentrate_pb</th>\n",
       "      <th>final.output.concentrate_sol</th>\n",
       "      <th>final.output.concentrate_au</th>\n",
       "      <th>final.output.recovery</th>\n",
       "      <th>final.output.tail_ag</th>\n",
       "      <th>final.output.tail_pb</th>\n",
       "      <th>final.output.tail_sol</th>\n",
       "      <th>final.output.tail_au</th>\n",
       "      <th>...</th>\n",
       "      <th>secondary_cleaner.state.floatbank4_a_air</th>\n",
       "      <th>secondary_cleaner.state.floatbank4_a_level</th>\n",
       "      <th>secondary_cleaner.state.floatbank4_b_air</th>\n",
       "      <th>secondary_cleaner.state.floatbank4_b_level</th>\n",
       "      <th>secondary_cleaner.state.floatbank5_a_air</th>\n",
       "      <th>secondary_cleaner.state.floatbank5_a_level</th>\n",
       "      <th>secondary_cleaner.state.floatbank5_b_air</th>\n",
       "      <th>secondary_cleaner.state.floatbank5_b_level</th>\n",
       "      <th>secondary_cleaner.state.floatbank6_a_air</th>\n",
       "      <th>secondary_cleaner.state.floatbank6_a_level</th>\n",
       "    </tr>\n",
       "  </thead>\n",
       "  <tbody>\n",
       "    <tr>\n",
       "      <th>0</th>\n",
       "      <td>2016-01-15 00:00:00</td>\n",
       "      <td>6.055403</td>\n",
       "      <td>9.889648</td>\n",
       "      <td>5.507324</td>\n",
       "      <td>42.192020</td>\n",
       "      <td>70.541216</td>\n",
       "      <td>10.411962</td>\n",
       "      <td>0.895447</td>\n",
       "      <td>16.904297</td>\n",
       "      <td>2.143149</td>\n",
       "      <td>...</td>\n",
       "      <td>14.016835</td>\n",
       "      <td>-502.488007</td>\n",
       "      <td>12.099931</td>\n",
       "      <td>-504.715942</td>\n",
       "      <td>9.925633</td>\n",
       "      <td>-498.310211</td>\n",
       "      <td>8.079666</td>\n",
       "      <td>-500.470978</td>\n",
       "      <td>14.151341</td>\n",
       "      <td>-605.841980</td>\n",
       "    </tr>\n",
       "    <tr>\n",
       "      <th>1</th>\n",
       "      <td>2016-01-15 01:00:00</td>\n",
       "      <td>6.029369</td>\n",
       "      <td>9.968944</td>\n",
       "      <td>5.257781</td>\n",
       "      <td>42.701629</td>\n",
       "      <td>69.266198</td>\n",
       "      <td>10.462676</td>\n",
       "      <td>0.927452</td>\n",
       "      <td>16.634514</td>\n",
       "      <td>2.224930</td>\n",
       "      <td>...</td>\n",
       "      <td>13.992281</td>\n",
       "      <td>-505.503262</td>\n",
       "      <td>11.950531</td>\n",
       "      <td>-501.331529</td>\n",
       "      <td>10.039245</td>\n",
       "      <td>-500.169983</td>\n",
       "      <td>7.984757</td>\n",
       "      <td>-500.582168</td>\n",
       "      <td>13.998353</td>\n",
       "      <td>-599.787184</td>\n",
       "    </tr>\n",
       "    <tr>\n",
       "      <th>2</th>\n",
       "      <td>2016-01-15 02:00:00</td>\n",
       "      <td>6.055926</td>\n",
       "      <td>10.213995</td>\n",
       "      <td>5.383759</td>\n",
       "      <td>42.657501</td>\n",
       "      <td>68.116445</td>\n",
       "      <td>10.507046</td>\n",
       "      <td>0.953716</td>\n",
       "      <td>16.208849</td>\n",
       "      <td>2.257889</td>\n",
       "      <td>...</td>\n",
       "      <td>14.015015</td>\n",
       "      <td>-502.520901</td>\n",
       "      <td>11.912783</td>\n",
       "      <td>-501.133383</td>\n",
       "      <td>10.070913</td>\n",
       "      <td>-500.129135</td>\n",
       "      <td>8.013877</td>\n",
       "      <td>-500.517572</td>\n",
       "      <td>14.028663</td>\n",
       "      <td>-601.427363</td>\n",
       "    </tr>\n",
       "    <tr>\n",
       "      <th>3</th>\n",
       "      <td>2016-01-15 03:00:00</td>\n",
       "      <td>6.047977</td>\n",
       "      <td>9.977019</td>\n",
       "      <td>4.858634</td>\n",
       "      <td>42.689819</td>\n",
       "      <td>68.347543</td>\n",
       "      <td>10.422762</td>\n",
       "      <td>0.883763</td>\n",
       "      <td>16.532835</td>\n",
       "      <td>2.146849</td>\n",
       "      <td>...</td>\n",
       "      <td>14.036510</td>\n",
       "      <td>-500.857308</td>\n",
       "      <td>11.999550</td>\n",
       "      <td>-501.193686</td>\n",
       "      <td>9.970366</td>\n",
       "      <td>-499.201640</td>\n",
       "      <td>7.977324</td>\n",
       "      <td>-500.255908</td>\n",
       "      <td>14.005551</td>\n",
       "      <td>-599.996129</td>\n",
       "    </tr>\n",
       "    <tr>\n",
       "      <th>4</th>\n",
       "      <td>2016-01-15 04:00:00</td>\n",
       "      <td>6.148599</td>\n",
       "      <td>10.142511</td>\n",
       "      <td>4.939416</td>\n",
       "      <td>42.774141</td>\n",
       "      <td>66.927016</td>\n",
       "      <td>10.360302</td>\n",
       "      <td>0.792826</td>\n",
       "      <td>16.525686</td>\n",
       "      <td>2.055292</td>\n",
       "      <td>...</td>\n",
       "      <td>14.027298</td>\n",
       "      <td>-499.838632</td>\n",
       "      <td>11.953070</td>\n",
       "      <td>-501.053894</td>\n",
       "      <td>9.925709</td>\n",
       "      <td>-501.686727</td>\n",
       "      <td>7.894242</td>\n",
       "      <td>-500.356035</td>\n",
       "      <td>13.996647</td>\n",
       "      <td>-601.496691</td>\n",
       "    </tr>\n",
       "    <tr>\n",
       "      <th>5</th>\n",
       "      <td>2016-01-15 05:00:00</td>\n",
       "      <td>6.482968</td>\n",
       "      <td>10.049416</td>\n",
       "      <td>5.480257</td>\n",
       "      <td>41.633678</td>\n",
       "      <td>69.465816</td>\n",
       "      <td>10.182708</td>\n",
       "      <td>0.664118</td>\n",
       "      <td>16.999638</td>\n",
       "      <td>1.918586</td>\n",
       "      <td>...</td>\n",
       "      <td>13.938497</td>\n",
       "      <td>-500.970168</td>\n",
       "      <td>11.883350</td>\n",
       "      <td>-500.395298</td>\n",
       "      <td>10.054147</td>\n",
       "      <td>-496.374715</td>\n",
       "      <td>7.965083</td>\n",
       "      <td>-499.364752</td>\n",
       "      <td>14.017067</td>\n",
       "      <td>-599.707915</td>\n",
       "    </tr>\n",
       "    <tr>\n",
       "      <th>6</th>\n",
       "      <td>2016-01-15 06:00:00</td>\n",
       "      <td>6.533849</td>\n",
       "      <td>10.058141</td>\n",
       "      <td>4.569100</td>\n",
       "      <td>41.995316</td>\n",
       "      <td>69.300835</td>\n",
       "      <td>10.304598</td>\n",
       "      <td>0.807342</td>\n",
       "      <td>16.723575</td>\n",
       "      <td>2.058913</td>\n",
       "      <td>...</td>\n",
       "      <td>14.046819</td>\n",
       "      <td>-500.971133</td>\n",
       "      <td>12.091543</td>\n",
       "      <td>-500.501426</td>\n",
       "      <td>10.003247</td>\n",
       "      <td>-497.083180</td>\n",
       "      <td>8.010890</td>\n",
       "      <td>-500.002423</td>\n",
       "      <td>14.029649</td>\n",
       "      <td>-600.905470</td>\n",
       "    </tr>\n",
       "    <tr>\n",
       "      <th>7</th>\n",
       "      <td>2016-01-15 07:00:00</td>\n",
       "      <td>6.130823</td>\n",
       "      <td>9.935481</td>\n",
       "      <td>4.389813</td>\n",
       "      <td>42.452727</td>\n",
       "      <td>70.230976</td>\n",
       "      <td>10.443288</td>\n",
       "      <td>0.949346</td>\n",
       "      <td>16.689959</td>\n",
       "      <td>2.143437</td>\n",
       "      <td>...</td>\n",
       "      <td>13.974691</td>\n",
       "      <td>-501.819696</td>\n",
       "      <td>12.101324</td>\n",
       "      <td>-500.583446</td>\n",
       "      <td>9.873169</td>\n",
       "      <td>-499.171928</td>\n",
       "      <td>7.993381</td>\n",
       "      <td>-499.794518</td>\n",
       "      <td>13.984498</td>\n",
       "      <td>-600.411070</td>\n",
       "    </tr>\n",
       "    <tr>\n",
       "      <th>8</th>\n",
       "      <td>2016-01-15 08:00:00</td>\n",
       "      <td>5.834140</td>\n",
       "      <td>10.071156</td>\n",
       "      <td>4.876389</td>\n",
       "      <td>43.404078</td>\n",
       "      <td>69.688595</td>\n",
       "      <td>10.420140</td>\n",
       "      <td>1.065453</td>\n",
       "      <td>17.201948</td>\n",
       "      <td>2.209881</td>\n",
       "      <td>...</td>\n",
       "      <td>13.964030</td>\n",
       "      <td>-504.252450</td>\n",
       "      <td>12.060738</td>\n",
       "      <td>-501.174549</td>\n",
       "      <td>10.033838</td>\n",
       "      <td>-501.178133</td>\n",
       "      <td>7.881604</td>\n",
       "      <td>-499.729434</td>\n",
       "      <td>13.967135</td>\n",
       "      <td>-599.061188</td>\n",
       "    </tr>\n",
       "    <tr>\n",
       "      <th>9</th>\n",
       "      <td>2016-01-15 09:00:00</td>\n",
       "      <td>5.687063</td>\n",
       "      <td>9.980404</td>\n",
       "      <td>5.282514</td>\n",
       "      <td>43.235220</td>\n",
       "      <td>70.279619</td>\n",
       "      <td>10.487013</td>\n",
       "      <td>1.159805</td>\n",
       "      <td>17.483979</td>\n",
       "      <td>2.209593</td>\n",
       "      <td>...</td>\n",
       "      <td>13.989632</td>\n",
       "      <td>-503.195299</td>\n",
       "      <td>12.052233</td>\n",
       "      <td>-500.928547</td>\n",
       "      <td>9.962574</td>\n",
       "      <td>-502.986357</td>\n",
       "      <td>7.979219</td>\n",
       "      <td>-500.146835</td>\n",
       "      <td>13.981614</td>\n",
       "      <td>-598.070855</td>\n",
       "    </tr>\n",
       "  </tbody>\n",
       "</table>\n",
       "<p>10 rows × 87 columns</p>\n",
       "</div>"
      ],
      "text/plain": [
       "                  date  final.output.concentrate_ag  \\\n",
       "0  2016-01-15 00:00:00                     6.055403   \n",
       "1  2016-01-15 01:00:00                     6.029369   \n",
       "2  2016-01-15 02:00:00                     6.055926   \n",
       "3  2016-01-15 03:00:00                     6.047977   \n",
       "4  2016-01-15 04:00:00                     6.148599   \n",
       "5  2016-01-15 05:00:00                     6.482968   \n",
       "6  2016-01-15 06:00:00                     6.533849   \n",
       "7  2016-01-15 07:00:00                     6.130823   \n",
       "8  2016-01-15 08:00:00                     5.834140   \n",
       "9  2016-01-15 09:00:00                     5.687063   \n",
       "\n",
       "   final.output.concentrate_pb  final.output.concentrate_sol  \\\n",
       "0                     9.889648                      5.507324   \n",
       "1                     9.968944                      5.257781   \n",
       "2                    10.213995                      5.383759   \n",
       "3                     9.977019                      4.858634   \n",
       "4                    10.142511                      4.939416   \n",
       "5                    10.049416                      5.480257   \n",
       "6                    10.058141                      4.569100   \n",
       "7                     9.935481                      4.389813   \n",
       "8                    10.071156                      4.876389   \n",
       "9                     9.980404                      5.282514   \n",
       "\n",
       "   final.output.concentrate_au  final.output.recovery  final.output.tail_ag  \\\n",
       "0                    42.192020              70.541216             10.411962   \n",
       "1                    42.701629              69.266198             10.462676   \n",
       "2                    42.657501              68.116445             10.507046   \n",
       "3                    42.689819              68.347543             10.422762   \n",
       "4                    42.774141              66.927016             10.360302   \n",
       "5                    41.633678              69.465816             10.182708   \n",
       "6                    41.995316              69.300835             10.304598   \n",
       "7                    42.452727              70.230976             10.443288   \n",
       "8                    43.404078              69.688595             10.420140   \n",
       "9                    43.235220              70.279619             10.487013   \n",
       "\n",
       "   final.output.tail_pb  final.output.tail_sol  final.output.tail_au  ...  \\\n",
       "0              0.895447              16.904297              2.143149  ...   \n",
       "1              0.927452              16.634514              2.224930  ...   \n",
       "2              0.953716              16.208849              2.257889  ...   \n",
       "3              0.883763              16.532835              2.146849  ...   \n",
       "4              0.792826              16.525686              2.055292  ...   \n",
       "5              0.664118              16.999638              1.918586  ...   \n",
       "6              0.807342              16.723575              2.058913  ...   \n",
       "7              0.949346              16.689959              2.143437  ...   \n",
       "8              1.065453              17.201948              2.209881  ...   \n",
       "9              1.159805              17.483979              2.209593  ...   \n",
       "\n",
       "   secondary_cleaner.state.floatbank4_a_air  \\\n",
       "0                                 14.016835   \n",
       "1                                 13.992281   \n",
       "2                                 14.015015   \n",
       "3                                 14.036510   \n",
       "4                                 14.027298   \n",
       "5                                 13.938497   \n",
       "6                                 14.046819   \n",
       "7                                 13.974691   \n",
       "8                                 13.964030   \n",
       "9                                 13.989632   \n",
       "\n",
       "   secondary_cleaner.state.floatbank4_a_level  \\\n",
       "0                                 -502.488007   \n",
       "1                                 -505.503262   \n",
       "2                                 -502.520901   \n",
       "3                                 -500.857308   \n",
       "4                                 -499.838632   \n",
       "5                                 -500.970168   \n",
       "6                                 -500.971133   \n",
       "7                                 -501.819696   \n",
       "8                                 -504.252450   \n",
       "9                                 -503.195299   \n",
       "\n",
       "   secondary_cleaner.state.floatbank4_b_air  \\\n",
       "0                                 12.099931   \n",
       "1                                 11.950531   \n",
       "2                                 11.912783   \n",
       "3                                 11.999550   \n",
       "4                                 11.953070   \n",
       "5                                 11.883350   \n",
       "6                                 12.091543   \n",
       "7                                 12.101324   \n",
       "8                                 12.060738   \n",
       "9                                 12.052233   \n",
       "\n",
       "   secondary_cleaner.state.floatbank4_b_level  \\\n",
       "0                                 -504.715942   \n",
       "1                                 -501.331529   \n",
       "2                                 -501.133383   \n",
       "3                                 -501.193686   \n",
       "4                                 -501.053894   \n",
       "5                                 -500.395298   \n",
       "6                                 -500.501426   \n",
       "7                                 -500.583446   \n",
       "8                                 -501.174549   \n",
       "9                                 -500.928547   \n",
       "\n",
       "   secondary_cleaner.state.floatbank5_a_air  \\\n",
       "0                                  9.925633   \n",
       "1                                 10.039245   \n",
       "2                                 10.070913   \n",
       "3                                  9.970366   \n",
       "4                                  9.925709   \n",
       "5                                 10.054147   \n",
       "6                                 10.003247   \n",
       "7                                  9.873169   \n",
       "8                                 10.033838   \n",
       "9                                  9.962574   \n",
       "\n",
       "   secondary_cleaner.state.floatbank5_a_level  \\\n",
       "0                                 -498.310211   \n",
       "1                                 -500.169983   \n",
       "2                                 -500.129135   \n",
       "3                                 -499.201640   \n",
       "4                                 -501.686727   \n",
       "5                                 -496.374715   \n",
       "6                                 -497.083180   \n",
       "7                                 -499.171928   \n",
       "8                                 -501.178133   \n",
       "9                                 -502.986357   \n",
       "\n",
       "   secondary_cleaner.state.floatbank5_b_air  \\\n",
       "0                                  8.079666   \n",
       "1                                  7.984757   \n",
       "2                                  8.013877   \n",
       "3                                  7.977324   \n",
       "4                                  7.894242   \n",
       "5                                  7.965083   \n",
       "6                                  8.010890   \n",
       "7                                  7.993381   \n",
       "8                                  7.881604   \n",
       "9                                  7.979219   \n",
       "\n",
       "   secondary_cleaner.state.floatbank5_b_level  \\\n",
       "0                                 -500.470978   \n",
       "1                                 -500.582168   \n",
       "2                                 -500.517572   \n",
       "3                                 -500.255908   \n",
       "4                                 -500.356035   \n",
       "5                                 -499.364752   \n",
       "6                                 -500.002423   \n",
       "7                                 -499.794518   \n",
       "8                                 -499.729434   \n",
       "9                                 -500.146835   \n",
       "\n",
       "   secondary_cleaner.state.floatbank6_a_air  \\\n",
       "0                                 14.151341   \n",
       "1                                 13.998353   \n",
       "2                                 14.028663   \n",
       "3                                 14.005551   \n",
       "4                                 13.996647   \n",
       "5                                 14.017067   \n",
       "6                                 14.029649   \n",
       "7                                 13.984498   \n",
       "8                                 13.967135   \n",
       "9                                 13.981614   \n",
       "\n",
       "   secondary_cleaner.state.floatbank6_a_level  \n",
       "0                                 -605.841980  \n",
       "1                                 -599.787184  \n",
       "2                                 -601.427363  \n",
       "3                                 -599.996129  \n",
       "4                                 -601.496691  \n",
       "5                                 -599.707915  \n",
       "6                                 -600.905470  \n",
       "7                                 -600.411070  \n",
       "8                                 -599.061188  \n",
       "9                                 -598.070855  \n",
       "\n",
       "[10 rows x 87 columns]"
      ]
     },
     "execution_count": 3,
     "metadata": {},
     "output_type": "execute_result"
    }
   ],
   "source": [
    "gold_recovery_train.head(10)"
   ]
  },
  {
   "cell_type": "code",
   "execution_count": 4,
   "metadata": {},
   "outputs": [
    {
     "name": "stdout",
     "output_type": "stream",
     "text": [
      "<class 'pandas.core.frame.DataFrame'>\n",
      "RangeIndex: 14149 entries, 0 to 14148\n",
      "Data columns (total 87 columns):\n",
      " #   Column                                              Non-Null Count  Dtype  \n",
      "---  ------                                              --------------  -----  \n",
      " 0   date                                                14149 non-null  object \n",
      " 1   final.output.concentrate_ag                         14148 non-null  float64\n",
      " 2   final.output.concentrate_pb                         14148 non-null  float64\n",
      " 3   final.output.concentrate_sol                        13938 non-null  float64\n",
      " 4   final.output.concentrate_au                         14149 non-null  float64\n",
      " 5   final.output.recovery                               14149 non-null  float64\n",
      " 6   final.output.tail_ag                                14149 non-null  float64\n",
      " 7   final.output.tail_pb                                14049 non-null  float64\n",
      " 8   final.output.tail_sol                               14144 non-null  float64\n",
      " 9   final.output.tail_au                                14149 non-null  float64\n",
      " 10  primary_cleaner.input.sulfate                       14129 non-null  float64\n",
      " 11  primary_cleaner.input.depressant                    14117 non-null  float64\n",
      " 12  primary_cleaner.input.feed_size                     14149 non-null  float64\n",
      " 13  primary_cleaner.input.xanthate                      14049 non-null  float64\n",
      " 14  primary_cleaner.output.concentrate_ag               14149 non-null  float64\n",
      " 15  primary_cleaner.output.concentrate_pb               14063 non-null  float64\n",
      " 16  primary_cleaner.output.concentrate_sol              13863 non-null  float64\n",
      " 17  primary_cleaner.output.concentrate_au               14149 non-null  float64\n",
      " 18  primary_cleaner.output.tail_ag                      14148 non-null  float64\n",
      " 19  primary_cleaner.output.tail_pb                      14134 non-null  float64\n",
      " 20  primary_cleaner.output.tail_sol                     14103 non-null  float64\n",
      " 21  primary_cleaner.output.tail_au                      14149 non-null  float64\n",
      " 22  primary_cleaner.state.floatbank8_a_air              14145 non-null  float64\n",
      " 23  primary_cleaner.state.floatbank8_a_level            14148 non-null  float64\n",
      " 24  primary_cleaner.state.floatbank8_b_air              14145 non-null  float64\n",
      " 25  primary_cleaner.state.floatbank8_b_level            14148 non-null  float64\n",
      " 26  primary_cleaner.state.floatbank8_c_air              14147 non-null  float64\n",
      " 27  primary_cleaner.state.floatbank8_c_level            14148 non-null  float64\n",
      " 28  primary_cleaner.state.floatbank8_d_air              14146 non-null  float64\n",
      " 29  primary_cleaner.state.floatbank8_d_level            14148 non-null  float64\n",
      " 30  rougher.calculation.sulfate_to_au_concentrate       14148 non-null  float64\n",
      " 31  rougher.calculation.floatbank10_sulfate_to_au_feed  14148 non-null  float64\n",
      " 32  rougher.calculation.floatbank11_sulfate_to_au_feed  14148 non-null  float64\n",
      " 33  rougher.calculation.au_pb_ratio                     14149 non-null  float64\n",
      " 34  rougher.input.feed_ag                               14149 non-null  float64\n",
      " 35  rougher.input.feed_pb                               14049 non-null  float64\n",
      " 36  rougher.input.feed_rate                             14141 non-null  float64\n",
      " 37  rougher.input.feed_size                             14005 non-null  float64\n",
      " 38  rougher.input.feed_sol                              14071 non-null  float64\n",
      " 39  rougher.input.feed_au                               14149 non-null  float64\n",
      " 40  rougher.input.floatbank10_sulfate                   14120 non-null  float64\n",
      " 41  rougher.input.floatbank10_xanthate                  14141 non-null  float64\n",
      " 42  rougher.input.floatbank11_sulfate                   14113 non-null  float64\n",
      " 43  rougher.input.floatbank11_xanthate                  13721 non-null  float64\n",
      " 44  rougher.output.concentrate_ag                       14149 non-null  float64\n",
      " 45  rougher.output.concentrate_pb                       14149 non-null  float64\n",
      " 46  rougher.output.concentrate_sol                      14127 non-null  float64\n",
      " 47  rougher.output.concentrate_au                       14149 non-null  float64\n",
      " 48  rougher.output.recovery                             14149 non-null  float64\n",
      " 49  rougher.output.tail_ag                              14148 non-null  float64\n",
      " 50  rougher.output.tail_pb                              14149 non-null  float64\n",
      " 51  rougher.output.tail_sol                             14149 non-null  float64\n",
      " 52  rougher.output.tail_au                              14149 non-null  float64\n",
      " 53  rougher.state.floatbank10_a_air                     14148 non-null  float64\n",
      " 54  rougher.state.floatbank10_a_level                   14148 non-null  float64\n",
      " 55  rougher.state.floatbank10_b_air                     14148 non-null  float64\n",
      " 56  rougher.state.floatbank10_b_level                   14148 non-null  float64\n",
      " 57  rougher.state.floatbank10_c_air                     14148 non-null  float64\n",
      " 58  rougher.state.floatbank10_c_level                   14148 non-null  float64\n",
      " 59  rougher.state.floatbank10_d_air                     14149 non-null  float64\n",
      " 60  rougher.state.floatbank10_d_level                   14149 non-null  float64\n",
      " 61  rougher.state.floatbank10_e_air                     13713 non-null  float64\n",
      " 62  rougher.state.floatbank10_e_level                   14149 non-null  float64\n",
      " 63  rougher.state.floatbank10_f_air                     14149 non-null  float64\n",
      " 64  rougher.state.floatbank10_f_level                   14149 non-null  float64\n",
      " 65  secondary_cleaner.output.tail_ag                    14147 non-null  float64\n",
      " 66  secondary_cleaner.output.tail_pb                    14139 non-null  float64\n",
      " 67  secondary_cleaner.output.tail_sol                   12544 non-null  float64\n",
      " 68  secondary_cleaner.output.tail_au                    14149 non-null  float64\n",
      " 69  secondary_cleaner.state.floatbank2_a_air            13932 non-null  float64\n",
      " 70  secondary_cleaner.state.floatbank2_a_level          14148 non-null  float64\n",
      " 71  secondary_cleaner.state.floatbank2_b_air            14128 non-null  float64\n",
      " 72  secondary_cleaner.state.floatbank2_b_level          14148 non-null  float64\n",
      " 73  secondary_cleaner.state.floatbank3_a_air            14145 non-null  float64\n",
      " 74  secondary_cleaner.state.floatbank3_a_level          14148 non-null  float64\n",
      " 75  secondary_cleaner.state.floatbank3_b_air            14148 non-null  float64\n",
      " 76  secondary_cleaner.state.floatbank3_b_level          14148 non-null  float64\n",
      " 77  secondary_cleaner.state.floatbank4_a_air            14143 non-null  float64\n",
      " 78  secondary_cleaner.state.floatbank4_a_level          14148 non-null  float64\n",
      " 79  secondary_cleaner.state.floatbank4_b_air            14148 non-null  float64\n",
      " 80  secondary_cleaner.state.floatbank4_b_level          14148 non-null  float64\n",
      " 81  secondary_cleaner.state.floatbank5_a_air            14148 non-null  float64\n",
      " 82  secondary_cleaner.state.floatbank5_a_level          14148 non-null  float64\n",
      " 83  secondary_cleaner.state.floatbank5_b_air            14148 non-null  float64\n",
      " 84  secondary_cleaner.state.floatbank5_b_level          14148 non-null  float64\n",
      " 85  secondary_cleaner.state.floatbank6_a_air            14147 non-null  float64\n",
      " 86  secondary_cleaner.state.floatbank6_a_level          14148 non-null  float64\n",
      "dtypes: float64(86), object(1)\n",
      "memory usage: 9.4+ MB\n"
     ]
    }
   ],
   "source": [
    "gold_recovery_train.info()"
   ]
  },
  {
   "cell_type": "code",
   "execution_count": 5,
   "metadata": {
    "scrolled": true
   },
   "outputs": [
    {
     "data": {
      "text/html": [
       "<div>\n",
       "<style scoped>\n",
       "    .dataframe tbody tr th:only-of-type {\n",
       "        vertical-align: middle;\n",
       "    }\n",
       "\n",
       "    .dataframe tbody tr th {\n",
       "        vertical-align: top;\n",
       "    }\n",
       "\n",
       "    .dataframe thead th {\n",
       "        text-align: right;\n",
       "    }\n",
       "</style>\n",
       "<table border=\"1\" class=\"dataframe\">\n",
       "  <thead>\n",
       "    <tr style=\"text-align: right;\">\n",
       "      <th></th>\n",
       "      <th>final.output.concentrate_ag</th>\n",
       "      <th>final.output.concentrate_pb</th>\n",
       "      <th>final.output.concentrate_sol</th>\n",
       "      <th>final.output.concentrate_au</th>\n",
       "      <th>final.output.recovery</th>\n",
       "      <th>final.output.tail_ag</th>\n",
       "      <th>final.output.tail_pb</th>\n",
       "      <th>final.output.tail_sol</th>\n",
       "      <th>final.output.tail_au</th>\n",
       "      <th>primary_cleaner.input.sulfate</th>\n",
       "      <th>...</th>\n",
       "      <th>secondary_cleaner.state.floatbank4_a_air</th>\n",
       "      <th>secondary_cleaner.state.floatbank4_a_level</th>\n",
       "      <th>secondary_cleaner.state.floatbank4_b_air</th>\n",
       "      <th>secondary_cleaner.state.floatbank4_b_level</th>\n",
       "      <th>secondary_cleaner.state.floatbank5_a_air</th>\n",
       "      <th>secondary_cleaner.state.floatbank5_a_level</th>\n",
       "      <th>secondary_cleaner.state.floatbank5_b_air</th>\n",
       "      <th>secondary_cleaner.state.floatbank5_b_level</th>\n",
       "      <th>secondary_cleaner.state.floatbank6_a_air</th>\n",
       "      <th>secondary_cleaner.state.floatbank6_a_level</th>\n",
       "    </tr>\n",
       "  </thead>\n",
       "  <tbody>\n",
       "    <tr>\n",
       "      <th>count</th>\n",
       "      <td>14148.000000</td>\n",
       "      <td>14148.000000</td>\n",
       "      <td>13938.000000</td>\n",
       "      <td>14149.000000</td>\n",
       "      <td>14149.000000</td>\n",
       "      <td>14149.000000</td>\n",
       "      <td>14049.000000</td>\n",
       "      <td>14144.000000</td>\n",
       "      <td>14149.000000</td>\n",
       "      <td>14129.000000</td>\n",
       "      <td>...</td>\n",
       "      <td>14143.000000</td>\n",
       "      <td>14148.000000</td>\n",
       "      <td>14148.000000</td>\n",
       "      <td>14148.000000</td>\n",
       "      <td>14148.000000</td>\n",
       "      <td>14148.000000</td>\n",
       "      <td>14148.000000</td>\n",
       "      <td>14148.000000</td>\n",
       "      <td>14147.000000</td>\n",
       "      <td>14148.000000</td>\n",
       "    </tr>\n",
       "    <tr>\n",
       "      <th>mean</th>\n",
       "      <td>5.142034</td>\n",
       "      <td>10.132960</td>\n",
       "      <td>9.202849</td>\n",
       "      <td>44.003792</td>\n",
       "      <td>66.518832</td>\n",
       "      <td>9.607035</td>\n",
       "      <td>2.597298</td>\n",
       "      <td>10.512122</td>\n",
       "      <td>2.918421</td>\n",
       "      <td>133.320659</td>\n",
       "      <td>...</td>\n",
       "      <td>19.985454</td>\n",
       "      <td>-478.696836</td>\n",
       "      <td>15.487065</td>\n",
       "      <td>-460.229416</td>\n",
       "      <td>16.775136</td>\n",
       "      <td>-483.956022</td>\n",
       "      <td>13.064590</td>\n",
       "      <td>-483.966564</td>\n",
       "      <td>19.577539</td>\n",
       "      <td>-506.798480</td>\n",
       "    </tr>\n",
       "    <tr>\n",
       "      <th>std</th>\n",
       "      <td>1.369586</td>\n",
       "      <td>1.654930</td>\n",
       "      <td>2.790516</td>\n",
       "      <td>4.905261</td>\n",
       "      <td>10.295402</td>\n",
       "      <td>2.319069</td>\n",
       "      <td>0.971843</td>\n",
       "      <td>3.003617</td>\n",
       "      <td>0.903712</td>\n",
       "      <td>39.431659</td>\n",
       "      <td>...</td>\n",
       "      <td>5.657723</td>\n",
       "      <td>50.736021</td>\n",
       "      <td>5.255655</td>\n",
       "      <td>58.843586</td>\n",
       "      <td>5.831906</td>\n",
       "      <td>37.892788</td>\n",
       "      <td>5.765617</td>\n",
       "      <td>39.207913</td>\n",
       "      <td>5.764417</td>\n",
       "      <td>37.079249</td>\n",
       "    </tr>\n",
       "    <tr>\n",
       "      <th>min</th>\n",
       "      <td>0.000000</td>\n",
       "      <td>0.000000</td>\n",
       "      <td>0.000000</td>\n",
       "      <td>0.000000</td>\n",
       "      <td>0.000000</td>\n",
       "      <td>0.000000</td>\n",
       "      <td>0.000000</td>\n",
       "      <td>0.000000</td>\n",
       "      <td>0.000000</td>\n",
       "      <td>0.003112</td>\n",
       "      <td>...</td>\n",
       "      <td>0.000000</td>\n",
       "      <td>-799.709069</td>\n",
       "      <td>0.000000</td>\n",
       "      <td>-799.889113</td>\n",
       "      <td>-0.372054</td>\n",
       "      <td>-797.142475</td>\n",
       "      <td>0.646208</td>\n",
       "      <td>-800.006180</td>\n",
       "      <td>0.195324</td>\n",
       "      <td>-809.398668</td>\n",
       "    </tr>\n",
       "    <tr>\n",
       "      <th>25%</th>\n",
       "      <td>4.211620</td>\n",
       "      <td>9.297355</td>\n",
       "      <td>7.484645</td>\n",
       "      <td>43.276111</td>\n",
       "      <td>62.545817</td>\n",
       "      <td>7.997429</td>\n",
       "      <td>1.905973</td>\n",
       "      <td>8.811324</td>\n",
       "      <td>2.368607</td>\n",
       "      <td>107.006651</td>\n",
       "      <td>...</td>\n",
       "      <td>14.990775</td>\n",
       "      <td>-500.628656</td>\n",
       "      <td>11.894558</td>\n",
       "      <td>-500.149000</td>\n",
       "      <td>11.083980</td>\n",
       "      <td>-500.363177</td>\n",
       "      <td>8.994405</td>\n",
       "      <td>-500.105994</td>\n",
       "      <td>14.989304</td>\n",
       "      <td>-500.745104</td>\n",
       "    </tr>\n",
       "    <tr>\n",
       "      <th>50%</th>\n",
       "      <td>4.994652</td>\n",
       "      <td>10.297144</td>\n",
       "      <td>8.845462</td>\n",
       "      <td>44.872436</td>\n",
       "      <td>67.432775</td>\n",
       "      <td>9.480270</td>\n",
       "      <td>2.592022</td>\n",
       "      <td>10.514621</td>\n",
       "      <td>2.851025</td>\n",
       "      <td>133.018328</td>\n",
       "      <td>...</td>\n",
       "      <td>20.001789</td>\n",
       "      <td>-499.681450</td>\n",
       "      <td>14.975536</td>\n",
       "      <td>-499.388738</td>\n",
       "      <td>17.932223</td>\n",
       "      <td>-499.702452</td>\n",
       "      <td>11.997547</td>\n",
       "      <td>-499.914556</td>\n",
       "      <td>19.984175</td>\n",
       "      <td>-500.061431</td>\n",
       "    </tr>\n",
       "    <tr>\n",
       "      <th>75%</th>\n",
       "      <td>5.859540</td>\n",
       "      <td>11.170603</td>\n",
       "      <td>10.487508</td>\n",
       "      <td>46.166425</td>\n",
       "      <td>72.346428</td>\n",
       "      <td>11.003707</td>\n",
       "      <td>3.241723</td>\n",
       "      <td>11.933009</td>\n",
       "      <td>3.434764</td>\n",
       "      <td>159.825396</td>\n",
       "      <td>...</td>\n",
       "      <td>24.990826</td>\n",
       "      <td>-477.472413</td>\n",
       "      <td>20.059375</td>\n",
       "      <td>-400.039008</td>\n",
       "      <td>21.346550</td>\n",
       "      <td>-487.712108</td>\n",
       "      <td>17.982903</td>\n",
       "      <td>-453.186936</td>\n",
       "      <td>24.991623</td>\n",
       "      <td>-499.536466</td>\n",
       "    </tr>\n",
       "    <tr>\n",
       "      <th>max</th>\n",
       "      <td>16.001945</td>\n",
       "      <td>17.031899</td>\n",
       "      <td>18.124851</td>\n",
       "      <td>52.756638</td>\n",
       "      <td>100.000000</td>\n",
       "      <td>19.552149</td>\n",
       "      <td>5.639565</td>\n",
       "      <td>22.317730</td>\n",
       "      <td>8.197408</td>\n",
       "      <td>250.127834</td>\n",
       "      <td>...</td>\n",
       "      <td>30.115735</td>\n",
       "      <td>-245.239184</td>\n",
       "      <td>24.007913</td>\n",
       "      <td>-145.071088</td>\n",
       "      <td>43.709931</td>\n",
       "      <td>-275.073125</td>\n",
       "      <td>27.926001</td>\n",
       "      <td>-157.396071</td>\n",
       "      <td>32.188906</td>\n",
       "      <td>-104.427459</td>\n",
       "    </tr>\n",
       "  </tbody>\n",
       "</table>\n",
       "<p>8 rows × 86 columns</p>\n",
       "</div>"
      ],
      "text/plain": [
       "       final.output.concentrate_ag  final.output.concentrate_pb  \\\n",
       "count                 14148.000000                 14148.000000   \n",
       "mean                      5.142034                    10.132960   \n",
       "std                       1.369586                     1.654930   \n",
       "min                       0.000000                     0.000000   \n",
       "25%                       4.211620                     9.297355   \n",
       "50%                       4.994652                    10.297144   \n",
       "75%                       5.859540                    11.170603   \n",
       "max                      16.001945                    17.031899   \n",
       "\n",
       "       final.output.concentrate_sol  final.output.concentrate_au  \\\n",
       "count                  13938.000000                 14149.000000   \n",
       "mean                       9.202849                    44.003792   \n",
       "std                        2.790516                     4.905261   \n",
       "min                        0.000000                     0.000000   \n",
       "25%                        7.484645                    43.276111   \n",
       "50%                        8.845462                    44.872436   \n",
       "75%                       10.487508                    46.166425   \n",
       "max                       18.124851                    52.756638   \n",
       "\n",
       "       final.output.recovery  final.output.tail_ag  final.output.tail_pb  \\\n",
       "count           14149.000000          14149.000000          14049.000000   \n",
       "mean               66.518832              9.607035              2.597298   \n",
       "std                10.295402              2.319069              0.971843   \n",
       "min                 0.000000              0.000000              0.000000   \n",
       "25%                62.545817              7.997429              1.905973   \n",
       "50%                67.432775              9.480270              2.592022   \n",
       "75%                72.346428             11.003707              3.241723   \n",
       "max               100.000000             19.552149              5.639565   \n",
       "\n",
       "       final.output.tail_sol  final.output.tail_au  \\\n",
       "count           14144.000000          14149.000000   \n",
       "mean               10.512122              2.918421   \n",
       "std                 3.003617              0.903712   \n",
       "min                 0.000000              0.000000   \n",
       "25%                 8.811324              2.368607   \n",
       "50%                10.514621              2.851025   \n",
       "75%                11.933009              3.434764   \n",
       "max                22.317730              8.197408   \n",
       "\n",
       "       primary_cleaner.input.sulfate  ...  \\\n",
       "count                   14129.000000  ...   \n",
       "mean                      133.320659  ...   \n",
       "std                        39.431659  ...   \n",
       "min                         0.003112  ...   \n",
       "25%                       107.006651  ...   \n",
       "50%                       133.018328  ...   \n",
       "75%                       159.825396  ...   \n",
       "max                       250.127834  ...   \n",
       "\n",
       "       secondary_cleaner.state.floatbank4_a_air  \\\n",
       "count                              14143.000000   \n",
       "mean                                  19.985454   \n",
       "std                                    5.657723   \n",
       "min                                    0.000000   \n",
       "25%                                   14.990775   \n",
       "50%                                   20.001789   \n",
       "75%                                   24.990826   \n",
       "max                                   30.115735   \n",
       "\n",
       "       secondary_cleaner.state.floatbank4_a_level  \\\n",
       "count                                14148.000000   \n",
       "mean                                  -478.696836   \n",
       "std                                     50.736021   \n",
       "min                                   -799.709069   \n",
       "25%                                   -500.628656   \n",
       "50%                                   -499.681450   \n",
       "75%                                   -477.472413   \n",
       "max                                   -245.239184   \n",
       "\n",
       "       secondary_cleaner.state.floatbank4_b_air  \\\n",
       "count                              14148.000000   \n",
       "mean                                  15.487065   \n",
       "std                                    5.255655   \n",
       "min                                    0.000000   \n",
       "25%                                   11.894558   \n",
       "50%                                   14.975536   \n",
       "75%                                   20.059375   \n",
       "max                                   24.007913   \n",
       "\n",
       "       secondary_cleaner.state.floatbank4_b_level  \\\n",
       "count                                14148.000000   \n",
       "mean                                  -460.229416   \n",
       "std                                     58.843586   \n",
       "min                                   -799.889113   \n",
       "25%                                   -500.149000   \n",
       "50%                                   -499.388738   \n",
       "75%                                   -400.039008   \n",
       "max                                   -145.071088   \n",
       "\n",
       "       secondary_cleaner.state.floatbank5_a_air  \\\n",
       "count                              14148.000000   \n",
       "mean                                  16.775136   \n",
       "std                                    5.831906   \n",
       "min                                   -0.372054   \n",
       "25%                                   11.083980   \n",
       "50%                                   17.932223   \n",
       "75%                                   21.346550   \n",
       "max                                   43.709931   \n",
       "\n",
       "       secondary_cleaner.state.floatbank5_a_level  \\\n",
       "count                                14148.000000   \n",
       "mean                                  -483.956022   \n",
       "std                                     37.892788   \n",
       "min                                   -797.142475   \n",
       "25%                                   -500.363177   \n",
       "50%                                   -499.702452   \n",
       "75%                                   -487.712108   \n",
       "max                                   -275.073125   \n",
       "\n",
       "       secondary_cleaner.state.floatbank5_b_air  \\\n",
       "count                              14148.000000   \n",
       "mean                                  13.064590   \n",
       "std                                    5.765617   \n",
       "min                                    0.646208   \n",
       "25%                                    8.994405   \n",
       "50%                                   11.997547   \n",
       "75%                                   17.982903   \n",
       "max                                   27.926001   \n",
       "\n",
       "       secondary_cleaner.state.floatbank5_b_level  \\\n",
       "count                                14148.000000   \n",
       "mean                                  -483.966564   \n",
       "std                                     39.207913   \n",
       "min                                   -800.006180   \n",
       "25%                                   -500.105994   \n",
       "50%                                   -499.914556   \n",
       "75%                                   -453.186936   \n",
       "max                                   -157.396071   \n",
       "\n",
       "       secondary_cleaner.state.floatbank6_a_air  \\\n",
       "count                              14147.000000   \n",
       "mean                                  19.577539   \n",
       "std                                    5.764417   \n",
       "min                                    0.195324   \n",
       "25%                                   14.989304   \n",
       "50%                                   19.984175   \n",
       "75%                                   24.991623   \n",
       "max                                   32.188906   \n",
       "\n",
       "       secondary_cleaner.state.floatbank6_a_level  \n",
       "count                                14148.000000  \n",
       "mean                                  -506.798480  \n",
       "std                                     37.079249  \n",
       "min                                   -809.398668  \n",
       "25%                                   -500.745104  \n",
       "50%                                   -500.061431  \n",
       "75%                                   -499.536466  \n",
       "max                                   -104.427459  \n",
       "\n",
       "[8 rows x 86 columns]"
      ]
     },
     "execution_count": 5,
     "metadata": {},
     "output_type": "execute_result"
    }
   ],
   "source": [
    "gold_recovery_train.describe()"
   ]
  },
  {
   "cell_type": "markdown",
   "metadata": {},
   "source": [
    "Необходимо преобразовать первый столбец в таблице gold_recovery_train в datetime."
   ]
  },
  {
   "cell_type": "code",
   "execution_count": 6,
   "metadata": {
    "scrolled": true
   },
   "outputs": [
    {
     "data": {
      "text/plain": [
       "date                                            0\n",
       "final.output.concentrate_ag                     1\n",
       "final.output.concentrate_pb                     1\n",
       "final.output.concentrate_sol                  211\n",
       "final.output.concentrate_au                     0\n",
       "                                             ... \n",
       "secondary_cleaner.state.floatbank5_a_level      1\n",
       "secondary_cleaner.state.floatbank5_b_air        1\n",
       "secondary_cleaner.state.floatbank5_b_level      1\n",
       "secondary_cleaner.state.floatbank6_a_air        2\n",
       "secondary_cleaner.state.floatbank6_a_level      1\n",
       "Length: 87, dtype: int64"
      ]
     },
     "execution_count": 6,
     "metadata": {},
     "output_type": "execute_result"
    }
   ],
   "source": [
    "gold_recovery_train.isna().sum()"
   ]
  },
  {
   "cell_type": "code",
   "execution_count": 7,
   "metadata": {},
   "outputs": [
    {
     "data": {
      "text/plain": [
       "0"
      ]
     },
     "execution_count": 7,
     "metadata": {},
     "output_type": "execute_result"
    }
   ],
   "source": [
    "gold_recovery_train.duplicated().sum()"
   ]
  },
  {
   "cell_type": "code",
   "execution_count": 8,
   "metadata": {},
   "outputs": [
    {
     "data": {
      "text/html": [
       "<div>\n",
       "<style scoped>\n",
       "    .dataframe tbody tr th:only-of-type {\n",
       "        vertical-align: middle;\n",
       "    }\n",
       "\n",
       "    .dataframe tbody tr th {\n",
       "        vertical-align: top;\n",
       "    }\n",
       "\n",
       "    .dataframe thead th {\n",
       "        text-align: right;\n",
       "    }\n",
       "</style>\n",
       "<table border=\"1\" class=\"dataframe\">\n",
       "  <thead>\n",
       "    <tr style=\"text-align: right;\">\n",
       "      <th></th>\n",
       "      <th>date</th>\n",
       "      <th>primary_cleaner.input.sulfate</th>\n",
       "      <th>primary_cleaner.input.depressant</th>\n",
       "      <th>primary_cleaner.input.feed_size</th>\n",
       "      <th>primary_cleaner.input.xanthate</th>\n",
       "      <th>primary_cleaner.state.floatbank8_a_air</th>\n",
       "      <th>primary_cleaner.state.floatbank8_a_level</th>\n",
       "      <th>primary_cleaner.state.floatbank8_b_air</th>\n",
       "      <th>primary_cleaner.state.floatbank8_b_level</th>\n",
       "      <th>primary_cleaner.state.floatbank8_c_air</th>\n",
       "      <th>...</th>\n",
       "      <th>secondary_cleaner.state.floatbank4_a_air</th>\n",
       "      <th>secondary_cleaner.state.floatbank4_a_level</th>\n",
       "      <th>secondary_cleaner.state.floatbank4_b_air</th>\n",
       "      <th>secondary_cleaner.state.floatbank4_b_level</th>\n",
       "      <th>secondary_cleaner.state.floatbank5_a_air</th>\n",
       "      <th>secondary_cleaner.state.floatbank5_a_level</th>\n",
       "      <th>secondary_cleaner.state.floatbank5_b_air</th>\n",
       "      <th>secondary_cleaner.state.floatbank5_b_level</th>\n",
       "      <th>secondary_cleaner.state.floatbank6_a_air</th>\n",
       "      <th>secondary_cleaner.state.floatbank6_a_level</th>\n",
       "    </tr>\n",
       "  </thead>\n",
       "  <tbody>\n",
       "    <tr>\n",
       "      <th>0</th>\n",
       "      <td>2016-09-01 00:59:59</td>\n",
       "      <td>210.800909</td>\n",
       "      <td>14.993118</td>\n",
       "      <td>8.080000</td>\n",
       "      <td>1.005021</td>\n",
       "      <td>1398.981301</td>\n",
       "      <td>-500.225577</td>\n",
       "      <td>1399.144926</td>\n",
       "      <td>-499.919735</td>\n",
       "      <td>1400.102998</td>\n",
       "      <td>...</td>\n",
       "      <td>12.023554</td>\n",
       "      <td>-497.795834</td>\n",
       "      <td>8.016656</td>\n",
       "      <td>-501.289139</td>\n",
       "      <td>7.946562</td>\n",
       "      <td>-432.317850</td>\n",
       "      <td>4.872511</td>\n",
       "      <td>-500.037437</td>\n",
       "      <td>26.705889</td>\n",
       "      <td>-499.709414</td>\n",
       "    </tr>\n",
       "    <tr>\n",
       "      <th>1</th>\n",
       "      <td>2016-09-01 01:59:59</td>\n",
       "      <td>215.392455</td>\n",
       "      <td>14.987471</td>\n",
       "      <td>8.080000</td>\n",
       "      <td>0.990469</td>\n",
       "      <td>1398.777912</td>\n",
       "      <td>-500.057435</td>\n",
       "      <td>1398.055362</td>\n",
       "      <td>-499.778182</td>\n",
       "      <td>1396.151033</td>\n",
       "      <td>...</td>\n",
       "      <td>12.058140</td>\n",
       "      <td>-498.695773</td>\n",
       "      <td>8.130979</td>\n",
       "      <td>-499.634209</td>\n",
       "      <td>7.958270</td>\n",
       "      <td>-525.839648</td>\n",
       "      <td>4.878850</td>\n",
       "      <td>-500.162375</td>\n",
       "      <td>25.019940</td>\n",
       "      <td>-499.819438</td>\n",
       "    </tr>\n",
       "    <tr>\n",
       "      <th>2</th>\n",
       "      <td>2016-09-01 02:59:59</td>\n",
       "      <td>215.259946</td>\n",
       "      <td>12.884934</td>\n",
       "      <td>7.786667</td>\n",
       "      <td>0.996043</td>\n",
       "      <td>1398.493666</td>\n",
       "      <td>-500.868360</td>\n",
       "      <td>1398.860436</td>\n",
       "      <td>-499.764529</td>\n",
       "      <td>1398.075709</td>\n",
       "      <td>...</td>\n",
       "      <td>11.962366</td>\n",
       "      <td>-498.767484</td>\n",
       "      <td>8.096893</td>\n",
       "      <td>-500.827423</td>\n",
       "      <td>8.071056</td>\n",
       "      <td>-500.801673</td>\n",
       "      <td>4.905125</td>\n",
       "      <td>-499.828510</td>\n",
       "      <td>24.994862</td>\n",
       "      <td>-500.622559</td>\n",
       "    </tr>\n",
       "    <tr>\n",
       "      <th>3</th>\n",
       "      <td>2016-09-01 03:59:59</td>\n",
       "      <td>215.336236</td>\n",
       "      <td>12.006805</td>\n",
       "      <td>7.640000</td>\n",
       "      <td>0.863514</td>\n",
       "      <td>1399.618111</td>\n",
       "      <td>-498.863574</td>\n",
       "      <td>1397.440120</td>\n",
       "      <td>-499.211024</td>\n",
       "      <td>1400.129303</td>\n",
       "      <td>...</td>\n",
       "      <td>12.033091</td>\n",
       "      <td>-498.350935</td>\n",
       "      <td>8.074946</td>\n",
       "      <td>-499.474407</td>\n",
       "      <td>7.897085</td>\n",
       "      <td>-500.868509</td>\n",
       "      <td>4.931400</td>\n",
       "      <td>-499.963623</td>\n",
       "      <td>24.948919</td>\n",
       "      <td>-498.709987</td>\n",
       "    </tr>\n",
       "    <tr>\n",
       "      <th>4</th>\n",
       "      <td>2016-09-01 04:59:59</td>\n",
       "      <td>199.099327</td>\n",
       "      <td>10.682530</td>\n",
       "      <td>7.530000</td>\n",
       "      <td>0.805575</td>\n",
       "      <td>1401.268123</td>\n",
       "      <td>-500.808305</td>\n",
       "      <td>1398.128818</td>\n",
       "      <td>-499.504543</td>\n",
       "      <td>1402.172226</td>\n",
       "      <td>...</td>\n",
       "      <td>12.025367</td>\n",
       "      <td>-500.786497</td>\n",
       "      <td>8.054678</td>\n",
       "      <td>-500.397500</td>\n",
       "      <td>8.107890</td>\n",
       "      <td>-509.526725</td>\n",
       "      <td>4.957674</td>\n",
       "      <td>-500.360026</td>\n",
       "      <td>25.003331</td>\n",
       "      <td>-500.856333</td>\n",
       "    </tr>\n",
       "  </tbody>\n",
       "</table>\n",
       "<p>5 rows × 53 columns</p>\n",
       "</div>"
      ],
      "text/plain": [
       "                  date  primary_cleaner.input.sulfate  \\\n",
       "0  2016-09-01 00:59:59                     210.800909   \n",
       "1  2016-09-01 01:59:59                     215.392455   \n",
       "2  2016-09-01 02:59:59                     215.259946   \n",
       "3  2016-09-01 03:59:59                     215.336236   \n",
       "4  2016-09-01 04:59:59                     199.099327   \n",
       "\n",
       "   primary_cleaner.input.depressant  primary_cleaner.input.feed_size  \\\n",
       "0                         14.993118                         8.080000   \n",
       "1                         14.987471                         8.080000   \n",
       "2                         12.884934                         7.786667   \n",
       "3                         12.006805                         7.640000   \n",
       "4                         10.682530                         7.530000   \n",
       "\n",
       "   primary_cleaner.input.xanthate  primary_cleaner.state.floatbank8_a_air  \\\n",
       "0                        1.005021                             1398.981301   \n",
       "1                        0.990469                             1398.777912   \n",
       "2                        0.996043                             1398.493666   \n",
       "3                        0.863514                             1399.618111   \n",
       "4                        0.805575                             1401.268123   \n",
       "\n",
       "   primary_cleaner.state.floatbank8_a_level  \\\n",
       "0                               -500.225577   \n",
       "1                               -500.057435   \n",
       "2                               -500.868360   \n",
       "3                               -498.863574   \n",
       "4                               -500.808305   \n",
       "\n",
       "   primary_cleaner.state.floatbank8_b_air  \\\n",
       "0                             1399.144926   \n",
       "1                             1398.055362   \n",
       "2                             1398.860436   \n",
       "3                             1397.440120   \n",
       "4                             1398.128818   \n",
       "\n",
       "   primary_cleaner.state.floatbank8_b_level  \\\n",
       "0                               -499.919735   \n",
       "1                               -499.778182   \n",
       "2                               -499.764529   \n",
       "3                               -499.211024   \n",
       "4                               -499.504543   \n",
       "\n",
       "   primary_cleaner.state.floatbank8_c_air  ...  \\\n",
       "0                             1400.102998  ...   \n",
       "1                             1396.151033  ...   \n",
       "2                             1398.075709  ...   \n",
       "3                             1400.129303  ...   \n",
       "4                             1402.172226  ...   \n",
       "\n",
       "   secondary_cleaner.state.floatbank4_a_air  \\\n",
       "0                                 12.023554   \n",
       "1                                 12.058140   \n",
       "2                                 11.962366   \n",
       "3                                 12.033091   \n",
       "4                                 12.025367   \n",
       "\n",
       "   secondary_cleaner.state.floatbank4_a_level  \\\n",
       "0                                 -497.795834   \n",
       "1                                 -498.695773   \n",
       "2                                 -498.767484   \n",
       "3                                 -498.350935   \n",
       "4                                 -500.786497   \n",
       "\n",
       "   secondary_cleaner.state.floatbank4_b_air  \\\n",
       "0                                  8.016656   \n",
       "1                                  8.130979   \n",
       "2                                  8.096893   \n",
       "3                                  8.074946   \n",
       "4                                  8.054678   \n",
       "\n",
       "   secondary_cleaner.state.floatbank4_b_level  \\\n",
       "0                                 -501.289139   \n",
       "1                                 -499.634209   \n",
       "2                                 -500.827423   \n",
       "3                                 -499.474407   \n",
       "4                                 -500.397500   \n",
       "\n",
       "   secondary_cleaner.state.floatbank5_a_air  \\\n",
       "0                                  7.946562   \n",
       "1                                  7.958270   \n",
       "2                                  8.071056   \n",
       "3                                  7.897085   \n",
       "4                                  8.107890   \n",
       "\n",
       "   secondary_cleaner.state.floatbank5_a_level  \\\n",
       "0                                 -432.317850   \n",
       "1                                 -525.839648   \n",
       "2                                 -500.801673   \n",
       "3                                 -500.868509   \n",
       "4                                 -509.526725   \n",
       "\n",
       "   secondary_cleaner.state.floatbank5_b_air  \\\n",
       "0                                  4.872511   \n",
       "1                                  4.878850   \n",
       "2                                  4.905125   \n",
       "3                                  4.931400   \n",
       "4                                  4.957674   \n",
       "\n",
       "   secondary_cleaner.state.floatbank5_b_level  \\\n",
       "0                                 -500.037437   \n",
       "1                                 -500.162375   \n",
       "2                                 -499.828510   \n",
       "3                                 -499.963623   \n",
       "4                                 -500.360026   \n",
       "\n",
       "   secondary_cleaner.state.floatbank6_a_air  \\\n",
       "0                                 26.705889   \n",
       "1                                 25.019940   \n",
       "2                                 24.994862   \n",
       "3                                 24.948919   \n",
       "4                                 25.003331   \n",
       "\n",
       "   secondary_cleaner.state.floatbank6_a_level  \n",
       "0                                 -499.709414  \n",
       "1                                 -499.819438  \n",
       "2                                 -500.622559  \n",
       "3                                 -498.709987  \n",
       "4                                 -500.856333  \n",
       "\n",
       "[5 rows x 53 columns]"
      ]
     },
     "execution_count": 8,
     "metadata": {},
     "output_type": "execute_result"
    }
   ],
   "source": [
    "gold_recovery_test.head()"
   ]
  },
  {
   "cell_type": "code",
   "execution_count": 9,
   "metadata": {},
   "outputs": [
    {
     "name": "stdout",
     "output_type": "stream",
     "text": [
      "<class 'pandas.core.frame.DataFrame'>\n",
      "RangeIndex: 5290 entries, 0 to 5289\n",
      "Data columns (total 53 columns):\n",
      " #   Column                                      Non-Null Count  Dtype  \n",
      "---  ------                                      --------------  -----  \n",
      " 0   date                                        5290 non-null   object \n",
      " 1   primary_cleaner.input.sulfate               5286 non-null   float64\n",
      " 2   primary_cleaner.input.depressant            5285 non-null   float64\n",
      " 3   primary_cleaner.input.feed_size             5290 non-null   float64\n",
      " 4   primary_cleaner.input.xanthate              5286 non-null   float64\n",
      " 5   primary_cleaner.state.floatbank8_a_air      5290 non-null   float64\n",
      " 6   primary_cleaner.state.floatbank8_a_level    5290 non-null   float64\n",
      " 7   primary_cleaner.state.floatbank8_b_air      5290 non-null   float64\n",
      " 8   primary_cleaner.state.floatbank8_b_level    5290 non-null   float64\n",
      " 9   primary_cleaner.state.floatbank8_c_air      5290 non-null   float64\n",
      " 10  primary_cleaner.state.floatbank8_c_level    5290 non-null   float64\n",
      " 11  primary_cleaner.state.floatbank8_d_air      5290 non-null   float64\n",
      " 12  primary_cleaner.state.floatbank8_d_level    5290 non-null   float64\n",
      " 13  rougher.input.feed_ag                       5290 non-null   float64\n",
      " 14  rougher.input.feed_pb                       5290 non-null   float64\n",
      " 15  rougher.input.feed_rate                     5287 non-null   float64\n",
      " 16  rougher.input.feed_size                     5289 non-null   float64\n",
      " 17  rougher.input.feed_sol                      5269 non-null   float64\n",
      " 18  rougher.input.feed_au                       5290 non-null   float64\n",
      " 19  rougher.input.floatbank10_sulfate           5285 non-null   float64\n",
      " 20  rougher.input.floatbank10_xanthate          5290 non-null   float64\n",
      " 21  rougher.input.floatbank11_sulfate           5282 non-null   float64\n",
      " 22  rougher.input.floatbank11_xanthate          5265 non-null   float64\n",
      " 23  rougher.state.floatbank10_a_air             5290 non-null   float64\n",
      " 24  rougher.state.floatbank10_a_level           5290 non-null   float64\n",
      " 25  rougher.state.floatbank10_b_air             5290 non-null   float64\n",
      " 26  rougher.state.floatbank10_b_level           5290 non-null   float64\n",
      " 27  rougher.state.floatbank10_c_air             5290 non-null   float64\n",
      " 28  rougher.state.floatbank10_c_level           5290 non-null   float64\n",
      " 29  rougher.state.floatbank10_d_air             5290 non-null   float64\n",
      " 30  rougher.state.floatbank10_d_level           5290 non-null   float64\n",
      " 31  rougher.state.floatbank10_e_air             5290 non-null   float64\n",
      " 32  rougher.state.floatbank10_e_level           5290 non-null   float64\n",
      " 33  rougher.state.floatbank10_f_air             5290 non-null   float64\n",
      " 34  rougher.state.floatbank10_f_level           5290 non-null   float64\n",
      " 35  secondary_cleaner.state.floatbank2_a_air    5287 non-null   float64\n",
      " 36  secondary_cleaner.state.floatbank2_a_level  5290 non-null   float64\n",
      " 37  secondary_cleaner.state.floatbank2_b_air    5288 non-null   float64\n",
      " 38  secondary_cleaner.state.floatbank2_b_level  5290 non-null   float64\n",
      " 39  secondary_cleaner.state.floatbank3_a_air    5281 non-null   float64\n",
      " 40  secondary_cleaner.state.floatbank3_a_level  5290 non-null   float64\n",
      " 41  secondary_cleaner.state.floatbank3_b_air    5290 non-null   float64\n",
      " 42  secondary_cleaner.state.floatbank3_b_level  5290 non-null   float64\n",
      " 43  secondary_cleaner.state.floatbank4_a_air    5290 non-null   float64\n",
      " 44  secondary_cleaner.state.floatbank4_a_level  5290 non-null   float64\n",
      " 45  secondary_cleaner.state.floatbank4_b_air    5290 non-null   float64\n",
      " 46  secondary_cleaner.state.floatbank4_b_level  5290 non-null   float64\n",
      " 47  secondary_cleaner.state.floatbank5_a_air    5290 non-null   float64\n",
      " 48  secondary_cleaner.state.floatbank5_a_level  5290 non-null   float64\n",
      " 49  secondary_cleaner.state.floatbank5_b_air    5290 non-null   float64\n",
      " 50  secondary_cleaner.state.floatbank5_b_level  5290 non-null   float64\n",
      " 51  secondary_cleaner.state.floatbank6_a_air    5290 non-null   float64\n",
      " 52  secondary_cleaner.state.floatbank6_a_level  5290 non-null   float64\n",
      "dtypes: float64(52), object(1)\n",
      "memory usage: 2.1+ MB\n"
     ]
    }
   ],
   "source": [
    "gold_recovery_test.info()"
   ]
  },
  {
   "cell_type": "code",
   "execution_count": 10,
   "metadata": {},
   "outputs": [
    {
     "data": {
      "text/plain": [
       "date                                           0\n",
       "primary_cleaner.input.sulfate                  4\n",
       "primary_cleaner.input.depressant               5\n",
       "primary_cleaner.input.feed_size                0\n",
       "primary_cleaner.input.xanthate                 4\n",
       "primary_cleaner.state.floatbank8_a_air         0\n",
       "primary_cleaner.state.floatbank8_a_level       0\n",
       "primary_cleaner.state.floatbank8_b_air         0\n",
       "primary_cleaner.state.floatbank8_b_level       0\n",
       "primary_cleaner.state.floatbank8_c_air         0\n",
       "primary_cleaner.state.floatbank8_c_level       0\n",
       "primary_cleaner.state.floatbank8_d_air         0\n",
       "primary_cleaner.state.floatbank8_d_level       0\n",
       "rougher.input.feed_ag                          0\n",
       "rougher.input.feed_pb                          0\n",
       "rougher.input.feed_rate                        3\n",
       "rougher.input.feed_size                        1\n",
       "rougher.input.feed_sol                        21\n",
       "rougher.input.feed_au                          0\n",
       "rougher.input.floatbank10_sulfate              5\n",
       "rougher.input.floatbank10_xanthate             0\n",
       "rougher.input.floatbank11_sulfate              8\n",
       "rougher.input.floatbank11_xanthate            25\n",
       "rougher.state.floatbank10_a_air                0\n",
       "rougher.state.floatbank10_a_level              0\n",
       "rougher.state.floatbank10_b_air                0\n",
       "rougher.state.floatbank10_b_level              0\n",
       "rougher.state.floatbank10_c_air                0\n",
       "rougher.state.floatbank10_c_level              0\n",
       "rougher.state.floatbank10_d_air                0\n",
       "rougher.state.floatbank10_d_level              0\n",
       "rougher.state.floatbank10_e_air                0\n",
       "rougher.state.floatbank10_e_level              0\n",
       "rougher.state.floatbank10_f_air                0\n",
       "rougher.state.floatbank10_f_level              0\n",
       "secondary_cleaner.state.floatbank2_a_air       3\n",
       "secondary_cleaner.state.floatbank2_a_level     0\n",
       "secondary_cleaner.state.floatbank2_b_air       2\n",
       "secondary_cleaner.state.floatbank2_b_level     0\n",
       "secondary_cleaner.state.floatbank3_a_air       9\n",
       "secondary_cleaner.state.floatbank3_a_level     0\n",
       "secondary_cleaner.state.floatbank3_b_air       0\n",
       "secondary_cleaner.state.floatbank3_b_level     0\n",
       "secondary_cleaner.state.floatbank4_a_air       0\n",
       "secondary_cleaner.state.floatbank4_a_level     0\n",
       "secondary_cleaner.state.floatbank4_b_air       0\n",
       "secondary_cleaner.state.floatbank4_b_level     0\n",
       "secondary_cleaner.state.floatbank5_a_air       0\n",
       "secondary_cleaner.state.floatbank5_a_level     0\n",
       "secondary_cleaner.state.floatbank5_b_air       0\n",
       "secondary_cleaner.state.floatbank5_b_level     0\n",
       "secondary_cleaner.state.floatbank6_a_air       0\n",
       "secondary_cleaner.state.floatbank6_a_level     0\n",
       "dtype: int64"
      ]
     },
     "execution_count": 10,
     "metadata": {},
     "output_type": "execute_result"
    }
   ],
   "source": [
    "gold_recovery_test.isna().sum()"
   ]
  },
  {
   "cell_type": "code",
   "execution_count": 11,
   "metadata": {},
   "outputs": [
    {
     "data": {
      "text/plain": [
       "0"
      ]
     },
     "execution_count": 11,
     "metadata": {},
     "output_type": "execute_result"
    }
   ],
   "source": [
    "gold_recovery_test.duplicated().sum()"
   ]
  },
  {
   "cell_type": "code",
   "execution_count": 12,
   "metadata": {},
   "outputs": [
    {
     "data": {
      "text/html": [
       "<div>\n",
       "<style scoped>\n",
       "    .dataframe tbody tr th:only-of-type {\n",
       "        vertical-align: middle;\n",
       "    }\n",
       "\n",
       "    .dataframe tbody tr th {\n",
       "        vertical-align: top;\n",
       "    }\n",
       "\n",
       "    .dataframe thead th {\n",
       "        text-align: right;\n",
       "    }\n",
       "</style>\n",
       "<table border=\"1\" class=\"dataframe\">\n",
       "  <thead>\n",
       "    <tr style=\"text-align: right;\">\n",
       "      <th></th>\n",
       "      <th>date</th>\n",
       "      <th>final.output.concentrate_ag</th>\n",
       "      <th>final.output.concentrate_pb</th>\n",
       "      <th>final.output.concentrate_sol</th>\n",
       "      <th>final.output.concentrate_au</th>\n",
       "      <th>final.output.recovery</th>\n",
       "      <th>final.output.tail_ag</th>\n",
       "      <th>final.output.tail_pb</th>\n",
       "      <th>final.output.tail_sol</th>\n",
       "      <th>final.output.tail_au</th>\n",
       "      <th>...</th>\n",
       "      <th>secondary_cleaner.state.floatbank4_a_air</th>\n",
       "      <th>secondary_cleaner.state.floatbank4_a_level</th>\n",
       "      <th>secondary_cleaner.state.floatbank4_b_air</th>\n",
       "      <th>secondary_cleaner.state.floatbank4_b_level</th>\n",
       "      <th>secondary_cleaner.state.floatbank5_a_air</th>\n",
       "      <th>secondary_cleaner.state.floatbank5_a_level</th>\n",
       "      <th>secondary_cleaner.state.floatbank5_b_air</th>\n",
       "      <th>secondary_cleaner.state.floatbank5_b_level</th>\n",
       "      <th>secondary_cleaner.state.floatbank6_a_air</th>\n",
       "      <th>secondary_cleaner.state.floatbank6_a_level</th>\n",
       "    </tr>\n",
       "  </thead>\n",
       "  <tbody>\n",
       "    <tr>\n",
       "      <th>0</th>\n",
       "      <td>2016-01-15 00:00:00</td>\n",
       "      <td>6.055403</td>\n",
       "      <td>9.889648</td>\n",
       "      <td>5.507324</td>\n",
       "      <td>42.192020</td>\n",
       "      <td>70.541216</td>\n",
       "      <td>10.411962</td>\n",
       "      <td>0.895447</td>\n",
       "      <td>16.904297</td>\n",
       "      <td>2.143149</td>\n",
       "      <td>...</td>\n",
       "      <td>14.016835</td>\n",
       "      <td>-502.488007</td>\n",
       "      <td>12.099931</td>\n",
       "      <td>-504.715942</td>\n",
       "      <td>9.925633</td>\n",
       "      <td>-498.310211</td>\n",
       "      <td>8.079666</td>\n",
       "      <td>-500.470978</td>\n",
       "      <td>14.151341</td>\n",
       "      <td>-605.841980</td>\n",
       "    </tr>\n",
       "    <tr>\n",
       "      <th>1</th>\n",
       "      <td>2016-01-15 01:00:00</td>\n",
       "      <td>6.029369</td>\n",
       "      <td>9.968944</td>\n",
       "      <td>5.257781</td>\n",
       "      <td>42.701629</td>\n",
       "      <td>69.266198</td>\n",
       "      <td>10.462676</td>\n",
       "      <td>0.927452</td>\n",
       "      <td>16.634514</td>\n",
       "      <td>2.224930</td>\n",
       "      <td>...</td>\n",
       "      <td>13.992281</td>\n",
       "      <td>-505.503262</td>\n",
       "      <td>11.950531</td>\n",
       "      <td>-501.331529</td>\n",
       "      <td>10.039245</td>\n",
       "      <td>-500.169983</td>\n",
       "      <td>7.984757</td>\n",
       "      <td>-500.582168</td>\n",
       "      <td>13.998353</td>\n",
       "      <td>-599.787184</td>\n",
       "    </tr>\n",
       "    <tr>\n",
       "      <th>2</th>\n",
       "      <td>2016-01-15 02:00:00</td>\n",
       "      <td>6.055926</td>\n",
       "      <td>10.213995</td>\n",
       "      <td>5.383759</td>\n",
       "      <td>42.657501</td>\n",
       "      <td>68.116445</td>\n",
       "      <td>10.507046</td>\n",
       "      <td>0.953716</td>\n",
       "      <td>16.208849</td>\n",
       "      <td>2.257889</td>\n",
       "      <td>...</td>\n",
       "      <td>14.015015</td>\n",
       "      <td>-502.520901</td>\n",
       "      <td>11.912783</td>\n",
       "      <td>-501.133383</td>\n",
       "      <td>10.070913</td>\n",
       "      <td>-500.129135</td>\n",
       "      <td>8.013877</td>\n",
       "      <td>-500.517572</td>\n",
       "      <td>14.028663</td>\n",
       "      <td>-601.427363</td>\n",
       "    </tr>\n",
       "    <tr>\n",
       "      <th>3</th>\n",
       "      <td>2016-01-15 03:00:00</td>\n",
       "      <td>6.047977</td>\n",
       "      <td>9.977019</td>\n",
       "      <td>4.858634</td>\n",
       "      <td>42.689819</td>\n",
       "      <td>68.347543</td>\n",
       "      <td>10.422762</td>\n",
       "      <td>0.883763</td>\n",
       "      <td>16.532835</td>\n",
       "      <td>2.146849</td>\n",
       "      <td>...</td>\n",
       "      <td>14.036510</td>\n",
       "      <td>-500.857308</td>\n",
       "      <td>11.999550</td>\n",
       "      <td>-501.193686</td>\n",
       "      <td>9.970366</td>\n",
       "      <td>-499.201640</td>\n",
       "      <td>7.977324</td>\n",
       "      <td>-500.255908</td>\n",
       "      <td>14.005551</td>\n",
       "      <td>-599.996129</td>\n",
       "    </tr>\n",
       "    <tr>\n",
       "      <th>4</th>\n",
       "      <td>2016-01-15 04:00:00</td>\n",
       "      <td>6.148599</td>\n",
       "      <td>10.142511</td>\n",
       "      <td>4.939416</td>\n",
       "      <td>42.774141</td>\n",
       "      <td>66.927016</td>\n",
       "      <td>10.360302</td>\n",
       "      <td>0.792826</td>\n",
       "      <td>16.525686</td>\n",
       "      <td>2.055292</td>\n",
       "      <td>...</td>\n",
       "      <td>14.027298</td>\n",
       "      <td>-499.838632</td>\n",
       "      <td>11.953070</td>\n",
       "      <td>-501.053894</td>\n",
       "      <td>9.925709</td>\n",
       "      <td>-501.686727</td>\n",
       "      <td>7.894242</td>\n",
       "      <td>-500.356035</td>\n",
       "      <td>13.996647</td>\n",
       "      <td>-601.496691</td>\n",
       "    </tr>\n",
       "  </tbody>\n",
       "</table>\n",
       "<p>5 rows × 87 columns</p>\n",
       "</div>"
      ],
      "text/plain": [
       "                  date  final.output.concentrate_ag  \\\n",
       "0  2016-01-15 00:00:00                     6.055403   \n",
       "1  2016-01-15 01:00:00                     6.029369   \n",
       "2  2016-01-15 02:00:00                     6.055926   \n",
       "3  2016-01-15 03:00:00                     6.047977   \n",
       "4  2016-01-15 04:00:00                     6.148599   \n",
       "\n",
       "   final.output.concentrate_pb  final.output.concentrate_sol  \\\n",
       "0                     9.889648                      5.507324   \n",
       "1                     9.968944                      5.257781   \n",
       "2                    10.213995                      5.383759   \n",
       "3                     9.977019                      4.858634   \n",
       "4                    10.142511                      4.939416   \n",
       "\n",
       "   final.output.concentrate_au  final.output.recovery  final.output.tail_ag  \\\n",
       "0                    42.192020              70.541216             10.411962   \n",
       "1                    42.701629              69.266198             10.462676   \n",
       "2                    42.657501              68.116445             10.507046   \n",
       "3                    42.689819              68.347543             10.422762   \n",
       "4                    42.774141              66.927016             10.360302   \n",
       "\n",
       "   final.output.tail_pb  final.output.tail_sol  final.output.tail_au  ...  \\\n",
       "0              0.895447              16.904297              2.143149  ...   \n",
       "1              0.927452              16.634514              2.224930  ...   \n",
       "2              0.953716              16.208849              2.257889  ...   \n",
       "3              0.883763              16.532835              2.146849  ...   \n",
       "4              0.792826              16.525686              2.055292  ...   \n",
       "\n",
       "   secondary_cleaner.state.floatbank4_a_air  \\\n",
       "0                                 14.016835   \n",
       "1                                 13.992281   \n",
       "2                                 14.015015   \n",
       "3                                 14.036510   \n",
       "4                                 14.027298   \n",
       "\n",
       "   secondary_cleaner.state.floatbank4_a_level  \\\n",
       "0                                 -502.488007   \n",
       "1                                 -505.503262   \n",
       "2                                 -502.520901   \n",
       "3                                 -500.857308   \n",
       "4                                 -499.838632   \n",
       "\n",
       "   secondary_cleaner.state.floatbank4_b_air  \\\n",
       "0                                 12.099931   \n",
       "1                                 11.950531   \n",
       "2                                 11.912783   \n",
       "3                                 11.999550   \n",
       "4                                 11.953070   \n",
       "\n",
       "   secondary_cleaner.state.floatbank4_b_level  \\\n",
       "0                                 -504.715942   \n",
       "1                                 -501.331529   \n",
       "2                                 -501.133383   \n",
       "3                                 -501.193686   \n",
       "4                                 -501.053894   \n",
       "\n",
       "   secondary_cleaner.state.floatbank5_a_air  \\\n",
       "0                                  9.925633   \n",
       "1                                 10.039245   \n",
       "2                                 10.070913   \n",
       "3                                  9.970366   \n",
       "4                                  9.925709   \n",
       "\n",
       "   secondary_cleaner.state.floatbank5_a_level  \\\n",
       "0                                 -498.310211   \n",
       "1                                 -500.169983   \n",
       "2                                 -500.129135   \n",
       "3                                 -499.201640   \n",
       "4                                 -501.686727   \n",
       "\n",
       "   secondary_cleaner.state.floatbank5_b_air  \\\n",
       "0                                  8.079666   \n",
       "1                                  7.984757   \n",
       "2                                  8.013877   \n",
       "3                                  7.977324   \n",
       "4                                  7.894242   \n",
       "\n",
       "   secondary_cleaner.state.floatbank5_b_level  \\\n",
       "0                                 -500.470978   \n",
       "1                                 -500.582168   \n",
       "2                                 -500.517572   \n",
       "3                                 -500.255908   \n",
       "4                                 -500.356035   \n",
       "\n",
       "   secondary_cleaner.state.floatbank6_a_air  \\\n",
       "0                                 14.151341   \n",
       "1                                 13.998353   \n",
       "2                                 14.028663   \n",
       "3                                 14.005551   \n",
       "4                                 13.996647   \n",
       "\n",
       "   secondary_cleaner.state.floatbank6_a_level  \n",
       "0                                 -605.841980  \n",
       "1                                 -599.787184  \n",
       "2                                 -601.427363  \n",
       "3                                 -599.996129  \n",
       "4                                 -601.496691  \n",
       "\n",
       "[5 rows x 87 columns]"
      ]
     },
     "execution_count": 12,
     "metadata": {},
     "output_type": "execute_result"
    }
   ],
   "source": [
    "gold_recovery_full.head()"
   ]
  },
  {
   "cell_type": "code",
   "execution_count": 13,
   "metadata": {},
   "outputs": [
    {
     "name": "stdout",
     "output_type": "stream",
     "text": [
      "<class 'pandas.core.frame.DataFrame'>\n",
      "RangeIndex: 19439 entries, 0 to 19438\n",
      "Data columns (total 87 columns):\n",
      " #   Column                                              Non-Null Count  Dtype  \n",
      "---  ------                                              --------------  -----  \n",
      " 0   date                                                19439 non-null  object \n",
      " 1   final.output.concentrate_ag                         19438 non-null  float64\n",
      " 2   final.output.concentrate_pb                         19438 non-null  float64\n",
      " 3   final.output.concentrate_sol                        19228 non-null  float64\n",
      " 4   final.output.concentrate_au                         19439 non-null  float64\n",
      " 5   final.output.recovery                               19439 non-null  float64\n",
      " 6   final.output.tail_ag                                19438 non-null  float64\n",
      " 7   final.output.tail_pb                                19338 non-null  float64\n",
      " 8   final.output.tail_sol                               19433 non-null  float64\n",
      " 9   final.output.tail_au                                19439 non-null  float64\n",
      " 10  primary_cleaner.input.sulfate                       19415 non-null  float64\n",
      " 11  primary_cleaner.input.depressant                    19402 non-null  float64\n",
      " 12  primary_cleaner.input.feed_size                     19439 non-null  float64\n",
      " 13  primary_cleaner.input.xanthate                      19335 non-null  float64\n",
      " 14  primary_cleaner.output.concentrate_ag               19439 non-null  float64\n",
      " 15  primary_cleaner.output.concentrate_pb               19323 non-null  float64\n",
      " 16  primary_cleaner.output.concentrate_sol              19069 non-null  float64\n",
      " 17  primary_cleaner.output.concentrate_au               19439 non-null  float64\n",
      " 18  primary_cleaner.output.tail_ag                      19435 non-null  float64\n",
      " 19  primary_cleaner.output.tail_pb                      19418 non-null  float64\n",
      " 20  primary_cleaner.output.tail_sol                     19377 non-null  float64\n",
      " 21  primary_cleaner.output.tail_au                      19439 non-null  float64\n",
      " 22  primary_cleaner.state.floatbank8_a_air              19435 non-null  float64\n",
      " 23  primary_cleaner.state.floatbank8_a_level            19438 non-null  float64\n",
      " 24  primary_cleaner.state.floatbank8_b_air              19435 non-null  float64\n",
      " 25  primary_cleaner.state.floatbank8_b_level            19438 non-null  float64\n",
      " 26  primary_cleaner.state.floatbank8_c_air              19437 non-null  float64\n",
      " 27  primary_cleaner.state.floatbank8_c_level            19438 non-null  float64\n",
      " 28  primary_cleaner.state.floatbank8_d_air              19436 non-null  float64\n",
      " 29  primary_cleaner.state.floatbank8_d_level            19438 non-null  float64\n",
      " 30  rougher.calculation.sulfate_to_au_concentrate       19437 non-null  float64\n",
      " 31  rougher.calculation.floatbank10_sulfate_to_au_feed  19437 non-null  float64\n",
      " 32  rougher.calculation.floatbank11_sulfate_to_au_feed  19437 non-null  float64\n",
      " 33  rougher.calculation.au_pb_ratio                     19439 non-null  float64\n",
      " 34  rougher.input.feed_ag                               19439 non-null  float64\n",
      " 35  rougher.input.feed_pb                               19339 non-null  float64\n",
      " 36  rougher.input.feed_rate                             19428 non-null  float64\n",
      " 37  rougher.input.feed_size                             19294 non-null  float64\n",
      " 38  rougher.input.feed_sol                              19340 non-null  float64\n",
      " 39  rougher.input.feed_au                               19439 non-null  float64\n",
      " 40  rougher.input.floatbank10_sulfate                   19405 non-null  float64\n",
      " 41  rougher.input.floatbank10_xanthate                  19431 non-null  float64\n",
      " 42  rougher.input.floatbank11_sulfate                   19395 non-null  float64\n",
      " 43  rougher.input.floatbank11_xanthate                  18986 non-null  float64\n",
      " 44  rougher.output.concentrate_ag                       19439 non-null  float64\n",
      " 45  rougher.output.concentrate_pb                       19439 non-null  float64\n",
      " 46  rougher.output.concentrate_sol                      19416 non-null  float64\n",
      " 47  rougher.output.concentrate_au                       19439 non-null  float64\n",
      " 48  rougher.output.recovery                             19439 non-null  float64\n",
      " 49  rougher.output.tail_ag                              19438 non-null  float64\n",
      " 50  rougher.output.tail_pb                              19439 non-null  float64\n",
      " 51  rougher.output.tail_sol                             19439 non-null  float64\n",
      " 52  rougher.output.tail_au                              19439 non-null  float64\n",
      " 53  rougher.state.floatbank10_a_air                     19438 non-null  float64\n",
      " 54  rougher.state.floatbank10_a_level                   19438 non-null  float64\n",
      " 55  rougher.state.floatbank10_b_air                     19438 non-null  float64\n",
      " 56  rougher.state.floatbank10_b_level                   19438 non-null  float64\n",
      " 57  rougher.state.floatbank10_c_air                     19438 non-null  float64\n",
      " 58  rougher.state.floatbank10_c_level                   19438 non-null  float64\n",
      " 59  rougher.state.floatbank10_d_air                     19439 non-null  float64\n",
      " 60  rougher.state.floatbank10_d_level                   19439 non-null  float64\n",
      " 61  rougher.state.floatbank10_e_air                     19003 non-null  float64\n",
      " 62  rougher.state.floatbank10_e_level                   19439 non-null  float64\n",
      " 63  rougher.state.floatbank10_f_air                     19439 non-null  float64\n",
      " 64  rougher.state.floatbank10_f_level                   19439 non-null  float64\n",
      " 65  secondary_cleaner.output.tail_ag                    19437 non-null  float64\n",
      " 66  secondary_cleaner.output.tail_pb                    19427 non-null  float64\n",
      " 67  secondary_cleaner.output.tail_sol                   17691 non-null  float64\n",
      " 68  secondary_cleaner.output.tail_au                    19439 non-null  float64\n",
      " 69  secondary_cleaner.state.floatbank2_a_air            19219 non-null  float64\n",
      " 70  secondary_cleaner.state.floatbank2_a_level          19438 non-null  float64\n",
      " 71  secondary_cleaner.state.floatbank2_b_air            19416 non-null  float64\n",
      " 72  secondary_cleaner.state.floatbank2_b_level          19438 non-null  float64\n",
      " 73  secondary_cleaner.state.floatbank3_a_air            19426 non-null  float64\n",
      " 74  secondary_cleaner.state.floatbank3_a_level          19438 non-null  float64\n",
      " 75  secondary_cleaner.state.floatbank3_b_air            19438 non-null  float64\n",
      " 76  secondary_cleaner.state.floatbank3_b_level          19438 non-null  float64\n",
      " 77  secondary_cleaner.state.floatbank4_a_air            19433 non-null  float64\n",
      " 78  secondary_cleaner.state.floatbank4_a_level          19438 non-null  float64\n",
      " 79  secondary_cleaner.state.floatbank4_b_air            19438 non-null  float64\n",
      " 80  secondary_cleaner.state.floatbank4_b_level          19438 non-null  float64\n",
      " 81  secondary_cleaner.state.floatbank5_a_air            19438 non-null  float64\n",
      " 82  secondary_cleaner.state.floatbank5_a_level          19438 non-null  float64\n",
      " 83  secondary_cleaner.state.floatbank5_b_air            19438 non-null  float64\n",
      " 84  secondary_cleaner.state.floatbank5_b_level          19438 non-null  float64\n",
      " 85  secondary_cleaner.state.floatbank6_a_air            19437 non-null  float64\n",
      " 86  secondary_cleaner.state.floatbank6_a_level          19438 non-null  float64\n",
      "dtypes: float64(86), object(1)\n",
      "memory usage: 12.9+ MB\n"
     ]
    }
   ],
   "source": [
    "gold_recovery_full.info()"
   ]
  },
  {
   "cell_type": "code",
   "execution_count": 14,
   "metadata": {},
   "outputs": [
    {
     "data": {
      "text/plain": [
       "0"
      ]
     },
     "execution_count": 14,
     "metadata": {},
     "output_type": "execute_result"
    }
   ],
   "source": [
    "gold_recovery_full.duplicated().sum()"
   ]
  },
  {
   "cell_type": "code",
   "execution_count": 15,
   "metadata": {},
   "outputs": [
    {
     "data": {
      "text/plain": [
       "1748"
      ]
     },
     "execution_count": 15,
     "metadata": {},
     "output_type": "execute_result"
    }
   ],
   "source": [
    "gold_recovery_full.isna().sum().max()"
   ]
  },
  {
   "cell_type": "markdown",
   "metadata": {},
   "source": [
    "Суммарно пропуски составляют в каждом датафрейме менее 10 процентов. Поскольку данных не много, то целессобразно в дальнейшем рассмотреть замену пропусков на медианные значение. Также необходимо изменить тип первого столбца каждого датафрейма.\n",
    "Дубликатов в датафремах нет."
   ]
  },
  {
   "cell_type": "code",
   "execution_count": 16,
   "metadata": {
    "scrolled": true
   },
   "outputs": [
    {
     "name": "stdout",
     "output_type": "stream",
     "text": [
      "<class 'pandas.core.frame.DataFrame'>\n",
      "RangeIndex: 14149 entries, 0 to 14148\n",
      "Data columns (total 87 columns):\n",
      " #   Column                                              Non-Null Count  Dtype  \n",
      "---  ------                                              --------------  -----  \n",
      " 0   date                                                14149 non-null  object \n",
      " 1   final.output.concentrate_ag                         14148 non-null  float64\n",
      " 2   final.output.concentrate_pb                         14148 non-null  float64\n",
      " 3   final.output.concentrate_sol                        13938 non-null  float64\n",
      " 4   final.output.concentrate_au                         14149 non-null  float64\n",
      " 5   final.output.recovery                               14149 non-null  float64\n",
      " 6   final.output.tail_ag                                14149 non-null  float64\n",
      " 7   final.output.tail_pb                                14049 non-null  float64\n",
      " 8   final.output.tail_sol                               14144 non-null  float64\n",
      " 9   final.output.tail_au                                14149 non-null  float64\n",
      " 10  primary_cleaner.input.sulfate                       14129 non-null  float64\n",
      " 11  primary_cleaner.input.depressant                    14117 non-null  float64\n",
      " 12  primary_cleaner.input.feed_size                     14149 non-null  float64\n",
      " 13  primary_cleaner.input.xanthate                      14049 non-null  float64\n",
      " 14  primary_cleaner.output.concentrate_ag               14149 non-null  float64\n",
      " 15  primary_cleaner.output.concentrate_pb               14063 non-null  float64\n",
      " 16  primary_cleaner.output.concentrate_sol              13863 non-null  float64\n",
      " 17  primary_cleaner.output.concentrate_au               14149 non-null  float64\n",
      " 18  primary_cleaner.output.tail_ag                      14148 non-null  float64\n",
      " 19  primary_cleaner.output.tail_pb                      14134 non-null  float64\n",
      " 20  primary_cleaner.output.tail_sol                     14103 non-null  float64\n",
      " 21  primary_cleaner.output.tail_au                      14149 non-null  float64\n",
      " 22  primary_cleaner.state.floatbank8_a_air              14145 non-null  float64\n",
      " 23  primary_cleaner.state.floatbank8_a_level            14148 non-null  float64\n",
      " 24  primary_cleaner.state.floatbank8_b_air              14145 non-null  float64\n",
      " 25  primary_cleaner.state.floatbank8_b_level            14148 non-null  float64\n",
      " 26  primary_cleaner.state.floatbank8_c_air              14147 non-null  float64\n",
      " 27  primary_cleaner.state.floatbank8_c_level            14148 non-null  float64\n",
      " 28  primary_cleaner.state.floatbank8_d_air              14146 non-null  float64\n",
      " 29  primary_cleaner.state.floatbank8_d_level            14148 non-null  float64\n",
      " 30  rougher.calculation.sulfate_to_au_concentrate       14148 non-null  float64\n",
      " 31  rougher.calculation.floatbank10_sulfate_to_au_feed  14148 non-null  float64\n",
      " 32  rougher.calculation.floatbank11_sulfate_to_au_feed  14148 non-null  float64\n",
      " 33  rougher.calculation.au_pb_ratio                     14149 non-null  float64\n",
      " 34  rougher.input.feed_ag                               14149 non-null  float64\n",
      " 35  rougher.input.feed_pb                               14049 non-null  float64\n",
      " 36  rougher.input.feed_rate                             14141 non-null  float64\n",
      " 37  rougher.input.feed_size                             14005 non-null  float64\n",
      " 38  rougher.input.feed_sol                              14071 non-null  float64\n",
      " 39  rougher.input.feed_au                               14149 non-null  float64\n",
      " 40  rougher.input.floatbank10_sulfate                   14120 non-null  float64\n",
      " 41  rougher.input.floatbank10_xanthate                  14141 non-null  float64\n",
      " 42  rougher.input.floatbank11_sulfate                   14113 non-null  float64\n",
      " 43  rougher.input.floatbank11_xanthate                  13721 non-null  float64\n",
      " 44  rougher.output.concentrate_ag                       14149 non-null  float64\n",
      " 45  rougher.output.concentrate_pb                       14149 non-null  float64\n",
      " 46  rougher.output.concentrate_sol                      14127 non-null  float64\n",
      " 47  rougher.output.concentrate_au                       14149 non-null  float64\n",
      " 48  rougher.output.recovery                             14149 non-null  float64\n",
      " 49  rougher.output.tail_ag                              14148 non-null  float64\n",
      " 50  rougher.output.tail_pb                              14149 non-null  float64\n",
      " 51  rougher.output.tail_sol                             14149 non-null  float64\n",
      " 52  rougher.output.tail_au                              14149 non-null  float64\n",
      " 53  rougher.state.floatbank10_a_air                     14148 non-null  float64\n",
      " 54  rougher.state.floatbank10_a_level                   14148 non-null  float64\n",
      " 55  rougher.state.floatbank10_b_air                     14148 non-null  float64\n",
      " 56  rougher.state.floatbank10_b_level                   14148 non-null  float64\n",
      " 57  rougher.state.floatbank10_c_air                     14148 non-null  float64\n",
      " 58  rougher.state.floatbank10_c_level                   14148 non-null  float64\n",
      " 59  rougher.state.floatbank10_d_air                     14149 non-null  float64\n",
      " 60  rougher.state.floatbank10_d_level                   14149 non-null  float64\n",
      " 61  rougher.state.floatbank10_e_air                     13713 non-null  float64\n",
      " 62  rougher.state.floatbank10_e_level                   14149 non-null  float64\n",
      " 63  rougher.state.floatbank10_f_air                     14149 non-null  float64\n",
      " 64  rougher.state.floatbank10_f_level                   14149 non-null  float64\n",
      " 65  secondary_cleaner.output.tail_ag                    14147 non-null  float64\n",
      " 66  secondary_cleaner.output.tail_pb                    14139 non-null  float64\n",
      " 67  secondary_cleaner.output.tail_sol                   12544 non-null  float64\n",
      " 68  secondary_cleaner.output.tail_au                    14149 non-null  float64\n",
      " 69  secondary_cleaner.state.floatbank2_a_air            13932 non-null  float64\n",
      " 70  secondary_cleaner.state.floatbank2_a_level          14148 non-null  float64\n",
      " 71  secondary_cleaner.state.floatbank2_b_air            14128 non-null  float64\n",
      " 72  secondary_cleaner.state.floatbank2_b_level          14148 non-null  float64\n",
      " 73  secondary_cleaner.state.floatbank3_a_air            14145 non-null  float64\n",
      " 74  secondary_cleaner.state.floatbank3_a_level          14148 non-null  float64\n",
      " 75  secondary_cleaner.state.floatbank3_b_air            14148 non-null  float64\n",
      " 76  secondary_cleaner.state.floatbank3_b_level          14148 non-null  float64\n",
      " 77  secondary_cleaner.state.floatbank4_a_air            14143 non-null  float64\n",
      " 78  secondary_cleaner.state.floatbank4_a_level          14148 non-null  float64\n",
      " 79  secondary_cleaner.state.floatbank4_b_air            14148 non-null  float64\n",
      " 80  secondary_cleaner.state.floatbank4_b_level          14148 non-null  float64\n",
      " 81  secondary_cleaner.state.floatbank5_a_air            14148 non-null  float64\n",
      " 82  secondary_cleaner.state.floatbank5_a_level          14148 non-null  float64\n",
      " 83  secondary_cleaner.state.floatbank5_b_air            14148 non-null  float64\n",
      " 84  secondary_cleaner.state.floatbank5_b_level          14148 non-null  float64\n",
      " 85  secondary_cleaner.state.floatbank6_a_air            14147 non-null  float64\n",
      " 86  secondary_cleaner.state.floatbank6_a_level          14148 non-null  float64\n",
      "dtypes: float64(86), object(1)\n",
      "memory usage: 9.4+ MB\n"
     ]
    }
   ],
   "source": [
    "gold_recovery_train.info()"
   ]
  },
  {
   "cell_type": "markdown",
   "metadata": {},
   "source": [
    "### Проверка правильности подсчёта эффективности обогащения"
   ]
  },
  {
   "cell_type": "code",
   "execution_count": 17,
   "metadata": {
    "scrolled": true
   },
   "outputs": [
    {
     "data": {
      "text/plain": [
       "0        87.107763\n",
       "1        86.843261\n",
       "2        86.842308\n",
       "3        87.226430\n",
       "4        86.688794\n",
       "           ...    \n",
       "14144    89.574376\n",
       "14145    87.724007\n",
       "14146    88.890579\n",
       "14147    89.858126\n",
       "14148    89.514960\n",
       "Length: 14149, dtype: float64"
      ]
     },
     "execution_count": 17,
     "metadata": {},
     "output_type": "execute_result"
    }
   ],
   "source": [
    "recovery = (gold_recovery_train['rougher.output.concentrate_au'] * (gold_recovery_train['rougher.input.feed_au'] - gold_recovery_train['rougher.output.tail_au'])) / (\n",
    "gold_recovery_train['rougher.input.feed_au'] * (gold_recovery_train['rougher.output.concentrate_au'] - gold_recovery_train['rougher.output.tail_au'])) * 100\n",
    "recovery"
   ]
  },
  {
   "cell_type": "code",
   "execution_count": 18,
   "metadata": {},
   "outputs": [
    {
     "data": {
      "text/plain": [
       "0        87.107763\n",
       "1        86.843261\n",
       "2        86.842308\n",
       "3        87.226430\n",
       "4        86.688794\n",
       "           ...    \n",
       "14144    89.574376\n",
       "14145    87.724007\n",
       "14146    88.890579\n",
       "14147    89.858126\n",
       "14148    89.514960\n",
       "Name: rougher.output.recovery, Length: 14149, dtype: float64"
      ]
     },
     "execution_count": 18,
     "metadata": {},
     "output_type": "execute_result"
    }
   ],
   "source": [
    "gold_recovery_train['rougher.output.recovery']"
   ]
  },
  {
   "cell_type": "code",
   "execution_count": 19,
   "metadata": {
    "scrolled": false
   },
   "outputs": [
    {
     "data": {
      "text/plain": [
       "9.73512347450521e-15"
      ]
     },
     "execution_count": 19,
     "metadata": {},
     "output_type": "execute_result"
    }
   ],
   "source": [
    "mean_absolute_error(recovery, gold_recovery_train['rougher.output.recovery'])"
   ]
  },
  {
   "cell_type": "markdown",
   "metadata": {},
   "source": [
    "**Среднее абсолютное отклонение после флотации имеет минимальное отклонение, что говорит о том, что показатель в таблице посчитан верно.**"
   ]
  },
  {
   "cell_type": "markdown",
   "metadata": {},
   "source": [
    "### Анализ признаков недоступных в тестовой выборке"
   ]
  },
  {
   "cell_type": "code",
   "execution_count": 20,
   "metadata": {},
   "outputs": [
    {
     "name": "stdout",
     "output_type": "stream",
     "text": [
      "(14149, 87)\n",
      "(5290, 53)\n",
      "(19439, 87)\n"
     ]
    }
   ],
   "source": [
    "print(gold_recovery_train.shape)\n",
    "print(gold_recovery_test.shape)\n",
    "print(gold_recovery_full.shape)"
   ]
  },
  {
   "cell_type": "markdown",
   "metadata": {},
   "source": [
    "в тестовой выборке не хватает 34 признаков, что связано с тем, что данные показатели измеряются позже."
   ]
  },
  {
   "cell_type": "code",
   "execution_count": 21,
   "metadata": {},
   "outputs": [
    {
     "data": {
      "text/plain": [
       "['final.output.concentrate_ag',\n",
       " 'final.output.concentrate_au',\n",
       " 'final.output.concentrate_pb',\n",
       " 'final.output.concentrate_sol',\n",
       " 'final.output.recovery',\n",
       " 'final.output.tail_ag',\n",
       " 'final.output.tail_au',\n",
       " 'final.output.tail_pb',\n",
       " 'final.output.tail_sol',\n",
       " 'primary_cleaner.output.concentrate_ag',\n",
       " 'primary_cleaner.output.concentrate_au',\n",
       " 'primary_cleaner.output.concentrate_pb',\n",
       " 'primary_cleaner.output.concentrate_sol',\n",
       " 'primary_cleaner.output.tail_ag',\n",
       " 'primary_cleaner.output.tail_au',\n",
       " 'primary_cleaner.output.tail_pb',\n",
       " 'primary_cleaner.output.tail_sol',\n",
       " 'rougher.calculation.au_pb_ratio',\n",
       " 'rougher.calculation.floatbank10_sulfate_to_au_feed',\n",
       " 'rougher.calculation.floatbank11_sulfate_to_au_feed',\n",
       " 'rougher.calculation.sulfate_to_au_concentrate',\n",
       " 'rougher.output.concentrate_ag',\n",
       " 'rougher.output.concentrate_au',\n",
       " 'rougher.output.concentrate_pb',\n",
       " 'rougher.output.concentrate_sol',\n",
       " 'rougher.output.recovery',\n",
       " 'rougher.output.tail_ag',\n",
       " 'rougher.output.tail_au',\n",
       " 'rougher.output.tail_pb',\n",
       " 'rougher.output.tail_sol',\n",
       " 'secondary_cleaner.output.tail_ag',\n",
       " 'secondary_cleaner.output.tail_au',\n",
       " 'secondary_cleaner.output.tail_pb',\n",
       " 'secondary_cleaner.output.tail_sol']"
      ]
     },
     "execution_count": 21,
     "metadata": {},
     "output_type": "execute_result"
    }
   ],
   "source": [
    "col_list = list(set(gold_recovery_full) - set(gold_recovery_test))\n",
    "col_list.sort()\n",
    "col_list"
   ]
  },
  {
   "cell_type": "markdown",
   "metadata": {},
   "source": [
    "выше перечисленных параметров нет в тестовой выборке. В тестовой выборке отсутствуют параметры итоговых результатов технологических этапов."
   ]
  },
  {
   "cell_type": "markdown",
   "metadata": {},
   "source": [
    "Поскольку обучать модель на параметрах, которых нет в тестовой выборке некорректно, необходиом будет убрать из тренировочной выборки те параметры, которых не было в тестовой."
   ]
  },
  {
   "cell_type": "markdown",
   "metadata": {},
   "source": [
    "### Предобработка данных"
   ]
  },
  {
   "cell_type": "code",
   "execution_count": 22,
   "metadata": {},
   "outputs": [],
   "source": [
    "gold_recovery_train['date'] = pd.to_datetime(gold_recovery_train['date'], format='%Y-%m-%d %H:%M:%S')\n",
    "gold_recovery_test['date'] = pd.to_datetime(gold_recovery_test['date'], format='%Y-%m-%d %H:%M:%S')\n",
    "gold_recovery_full['date'] = pd.to_datetime(gold_recovery_full['date'], format='%Y-%m-%d %H:%M:%S')"
   ]
  },
  {
   "cell_type": "code",
   "execution_count": 23,
   "metadata": {},
   "outputs": [
    {
     "data": {
      "text/html": [
       "<div>\n",
       "<style scoped>\n",
       "    .dataframe tbody tr th:only-of-type {\n",
       "        vertical-align: middle;\n",
       "    }\n",
       "\n",
       "    .dataframe tbody tr th {\n",
       "        vertical-align: top;\n",
       "    }\n",
       "\n",
       "    .dataframe thead th {\n",
       "        text-align: right;\n",
       "    }\n",
       "</style>\n",
       "<table border=\"1\" class=\"dataframe\">\n",
       "  <thead>\n",
       "    <tr style=\"text-align: right;\">\n",
       "      <th></th>\n",
       "      <th>date</th>\n",
       "      <th>final.output.concentrate_ag</th>\n",
       "      <th>final.output.concentrate_pb</th>\n",
       "      <th>final.output.concentrate_sol</th>\n",
       "      <th>final.output.concentrate_au</th>\n",
       "      <th>final.output.recovery</th>\n",
       "      <th>final.output.tail_ag</th>\n",
       "      <th>final.output.tail_pb</th>\n",
       "      <th>final.output.tail_sol</th>\n",
       "      <th>final.output.tail_au</th>\n",
       "      <th>...</th>\n",
       "      <th>secondary_cleaner.state.floatbank4_a_air</th>\n",
       "      <th>secondary_cleaner.state.floatbank4_a_level</th>\n",
       "      <th>secondary_cleaner.state.floatbank4_b_air</th>\n",
       "      <th>secondary_cleaner.state.floatbank4_b_level</th>\n",
       "      <th>secondary_cleaner.state.floatbank5_a_air</th>\n",
       "      <th>secondary_cleaner.state.floatbank5_a_level</th>\n",
       "      <th>secondary_cleaner.state.floatbank5_b_air</th>\n",
       "      <th>secondary_cleaner.state.floatbank5_b_level</th>\n",
       "      <th>secondary_cleaner.state.floatbank6_a_air</th>\n",
       "      <th>secondary_cleaner.state.floatbank6_a_level</th>\n",
       "    </tr>\n",
       "  </thead>\n",
       "  <tbody>\n",
       "    <tr>\n",
       "      <th>0</th>\n",
       "      <td>2016-01-15 00:00:00</td>\n",
       "      <td>6.055403</td>\n",
       "      <td>9.889648</td>\n",
       "      <td>5.507324</td>\n",
       "      <td>42.192020</td>\n",
       "      <td>70.541216</td>\n",
       "      <td>10.411962</td>\n",
       "      <td>0.895447</td>\n",
       "      <td>16.904297</td>\n",
       "      <td>2.143149</td>\n",
       "      <td>...</td>\n",
       "      <td>14.016835</td>\n",
       "      <td>-502.488007</td>\n",
       "      <td>12.099931</td>\n",
       "      <td>-504.715942</td>\n",
       "      <td>9.925633</td>\n",
       "      <td>-498.310211</td>\n",
       "      <td>8.079666</td>\n",
       "      <td>-500.470978</td>\n",
       "      <td>14.151341</td>\n",
       "      <td>-605.841980</td>\n",
       "    </tr>\n",
       "    <tr>\n",
       "      <th>1</th>\n",
       "      <td>2016-01-15 01:00:00</td>\n",
       "      <td>6.029369</td>\n",
       "      <td>9.968944</td>\n",
       "      <td>5.257781</td>\n",
       "      <td>42.701629</td>\n",
       "      <td>69.266198</td>\n",
       "      <td>10.462676</td>\n",
       "      <td>0.927452</td>\n",
       "      <td>16.634514</td>\n",
       "      <td>2.224930</td>\n",
       "      <td>...</td>\n",
       "      <td>13.992281</td>\n",
       "      <td>-505.503262</td>\n",
       "      <td>11.950531</td>\n",
       "      <td>-501.331529</td>\n",
       "      <td>10.039245</td>\n",
       "      <td>-500.169983</td>\n",
       "      <td>7.984757</td>\n",
       "      <td>-500.582168</td>\n",
       "      <td>13.998353</td>\n",
       "      <td>-599.787184</td>\n",
       "    </tr>\n",
       "    <tr>\n",
       "      <th>2</th>\n",
       "      <td>2016-01-15 02:00:00</td>\n",
       "      <td>6.055926</td>\n",
       "      <td>10.213995</td>\n",
       "      <td>5.383759</td>\n",
       "      <td>42.657501</td>\n",
       "      <td>68.116445</td>\n",
       "      <td>10.507046</td>\n",
       "      <td>0.953716</td>\n",
       "      <td>16.208849</td>\n",
       "      <td>2.257889</td>\n",
       "      <td>...</td>\n",
       "      <td>14.015015</td>\n",
       "      <td>-502.520901</td>\n",
       "      <td>11.912783</td>\n",
       "      <td>-501.133383</td>\n",
       "      <td>10.070913</td>\n",
       "      <td>-500.129135</td>\n",
       "      <td>8.013877</td>\n",
       "      <td>-500.517572</td>\n",
       "      <td>14.028663</td>\n",
       "      <td>-601.427363</td>\n",
       "    </tr>\n",
       "    <tr>\n",
       "      <th>3</th>\n",
       "      <td>2016-01-15 03:00:00</td>\n",
       "      <td>6.047977</td>\n",
       "      <td>9.977019</td>\n",
       "      <td>4.858634</td>\n",
       "      <td>42.689819</td>\n",
       "      <td>68.347543</td>\n",
       "      <td>10.422762</td>\n",
       "      <td>0.883763</td>\n",
       "      <td>16.532835</td>\n",
       "      <td>2.146849</td>\n",
       "      <td>...</td>\n",
       "      <td>14.036510</td>\n",
       "      <td>-500.857308</td>\n",
       "      <td>11.999550</td>\n",
       "      <td>-501.193686</td>\n",
       "      <td>9.970366</td>\n",
       "      <td>-499.201640</td>\n",
       "      <td>7.977324</td>\n",
       "      <td>-500.255908</td>\n",
       "      <td>14.005551</td>\n",
       "      <td>-599.996129</td>\n",
       "    </tr>\n",
       "    <tr>\n",
       "      <th>4</th>\n",
       "      <td>2016-01-15 04:00:00</td>\n",
       "      <td>6.148599</td>\n",
       "      <td>10.142511</td>\n",
       "      <td>4.939416</td>\n",
       "      <td>42.774141</td>\n",
       "      <td>66.927016</td>\n",
       "      <td>10.360302</td>\n",
       "      <td>0.792826</td>\n",
       "      <td>16.525686</td>\n",
       "      <td>2.055292</td>\n",
       "      <td>...</td>\n",
       "      <td>14.027298</td>\n",
       "      <td>-499.838632</td>\n",
       "      <td>11.953070</td>\n",
       "      <td>-501.053894</td>\n",
       "      <td>9.925709</td>\n",
       "      <td>-501.686727</td>\n",
       "      <td>7.894242</td>\n",
       "      <td>-500.356035</td>\n",
       "      <td>13.996647</td>\n",
       "      <td>-601.496691</td>\n",
       "    </tr>\n",
       "    <tr>\n",
       "      <th>5</th>\n",
       "      <td>2016-01-15 05:00:00</td>\n",
       "      <td>6.482968</td>\n",
       "      <td>10.049416</td>\n",
       "      <td>5.480257</td>\n",
       "      <td>41.633678</td>\n",
       "      <td>69.465816</td>\n",
       "      <td>10.182708</td>\n",
       "      <td>0.664118</td>\n",
       "      <td>16.999638</td>\n",
       "      <td>1.918586</td>\n",
       "      <td>...</td>\n",
       "      <td>13.938497</td>\n",
       "      <td>-500.970168</td>\n",
       "      <td>11.883350</td>\n",
       "      <td>-500.395298</td>\n",
       "      <td>10.054147</td>\n",
       "      <td>-496.374715</td>\n",
       "      <td>7.965083</td>\n",
       "      <td>-499.364752</td>\n",
       "      <td>14.017067</td>\n",
       "      <td>-599.707915</td>\n",
       "    </tr>\n",
       "    <tr>\n",
       "      <th>6</th>\n",
       "      <td>2016-01-15 06:00:00</td>\n",
       "      <td>6.533849</td>\n",
       "      <td>10.058141</td>\n",
       "      <td>4.569100</td>\n",
       "      <td>41.995316</td>\n",
       "      <td>69.300835</td>\n",
       "      <td>10.304598</td>\n",
       "      <td>0.807342</td>\n",
       "      <td>16.723575</td>\n",
       "      <td>2.058913</td>\n",
       "      <td>...</td>\n",
       "      <td>14.046819</td>\n",
       "      <td>-500.971133</td>\n",
       "      <td>12.091543</td>\n",
       "      <td>-500.501426</td>\n",
       "      <td>10.003247</td>\n",
       "      <td>-497.083180</td>\n",
       "      <td>8.010890</td>\n",
       "      <td>-500.002423</td>\n",
       "      <td>14.029649</td>\n",
       "      <td>-600.905470</td>\n",
       "    </tr>\n",
       "    <tr>\n",
       "      <th>7</th>\n",
       "      <td>2016-01-15 07:00:00</td>\n",
       "      <td>6.130823</td>\n",
       "      <td>9.935481</td>\n",
       "      <td>4.389813</td>\n",
       "      <td>42.452727</td>\n",
       "      <td>70.230976</td>\n",
       "      <td>10.443288</td>\n",
       "      <td>0.949346</td>\n",
       "      <td>16.689959</td>\n",
       "      <td>2.143437</td>\n",
       "      <td>...</td>\n",
       "      <td>13.974691</td>\n",
       "      <td>-501.819696</td>\n",
       "      <td>12.101324</td>\n",
       "      <td>-500.583446</td>\n",
       "      <td>9.873169</td>\n",
       "      <td>-499.171928</td>\n",
       "      <td>7.993381</td>\n",
       "      <td>-499.794518</td>\n",
       "      <td>13.984498</td>\n",
       "      <td>-600.411070</td>\n",
       "    </tr>\n",
       "    <tr>\n",
       "      <th>8</th>\n",
       "      <td>2016-01-15 08:00:00</td>\n",
       "      <td>5.834140</td>\n",
       "      <td>10.071156</td>\n",
       "      <td>4.876389</td>\n",
       "      <td>43.404078</td>\n",
       "      <td>69.688595</td>\n",
       "      <td>10.420140</td>\n",
       "      <td>1.065453</td>\n",
       "      <td>17.201948</td>\n",
       "      <td>2.209881</td>\n",
       "      <td>...</td>\n",
       "      <td>13.964030</td>\n",
       "      <td>-504.252450</td>\n",
       "      <td>12.060738</td>\n",
       "      <td>-501.174549</td>\n",
       "      <td>10.033838</td>\n",
       "      <td>-501.178133</td>\n",
       "      <td>7.881604</td>\n",
       "      <td>-499.729434</td>\n",
       "      <td>13.967135</td>\n",
       "      <td>-599.061188</td>\n",
       "    </tr>\n",
       "    <tr>\n",
       "      <th>9</th>\n",
       "      <td>2016-01-15 09:00:00</td>\n",
       "      <td>5.687063</td>\n",
       "      <td>9.980404</td>\n",
       "      <td>5.282514</td>\n",
       "      <td>43.235220</td>\n",
       "      <td>70.279619</td>\n",
       "      <td>10.487013</td>\n",
       "      <td>1.159805</td>\n",
       "      <td>17.483979</td>\n",
       "      <td>2.209593</td>\n",
       "      <td>...</td>\n",
       "      <td>13.989632</td>\n",
       "      <td>-503.195299</td>\n",
       "      <td>12.052233</td>\n",
       "      <td>-500.928547</td>\n",
       "      <td>9.962574</td>\n",
       "      <td>-502.986357</td>\n",
       "      <td>7.979219</td>\n",
       "      <td>-500.146835</td>\n",
       "      <td>13.981614</td>\n",
       "      <td>-598.070855</td>\n",
       "    </tr>\n",
       "    <tr>\n",
       "      <th>10</th>\n",
       "      <td>2016-01-15 10:00:00</td>\n",
       "      <td>5.706261</td>\n",
       "      <td>10.242511</td>\n",
       "      <td>5.214161</td>\n",
       "      <td>43.487291</td>\n",
       "      <td>70.973641</td>\n",
       "      <td>10.473539</td>\n",
       "      <td>1.171183</td>\n",
       "      <td>17.717049</td>\n",
       "      <td>2.200997</td>\n",
       "      <td>...</td>\n",
       "      <td>14.008944</td>\n",
       "      <td>-504.170807</td>\n",
       "      <td>11.995903</td>\n",
       "      <td>-501.269181</td>\n",
       "      <td>10.043100</td>\n",
       "      <td>-498.529996</td>\n",
       "      <td>8.002633</td>\n",
       "      <td>-499.761922</td>\n",
       "      <td>14.004767</td>\n",
       "      <td>-599.595324</td>\n",
       "    </tr>\n",
       "    <tr>\n",
       "      <th>11</th>\n",
       "      <td>2016-01-15 11:00:00</td>\n",
       "      <td>5.582300</td>\n",
       "      <td>10.029878</td>\n",
       "      <td>5.751567</td>\n",
       "      <td>43.467440</td>\n",
       "      <td>71.380681</td>\n",
       "      <td>10.394314</td>\n",
       "      <td>1.087722</td>\n",
       "      <td>18.059770</td>\n",
       "      <td>2.098777</td>\n",
       "      <td>...</td>\n",
       "      <td>14.029704</td>\n",
       "      <td>-503.940828</td>\n",
       "      <td>12.022296</td>\n",
       "      <td>-501.238477</td>\n",
       "      <td>10.020094</td>\n",
       "      <td>-500.061845</td>\n",
       "      <td>7.964024</td>\n",
       "      <td>-499.283982</td>\n",
       "      <td>14.003011</td>\n",
       "      <td>-599.879856</td>\n",
       "    </tr>\n",
       "    <tr>\n",
       "      <th>12</th>\n",
       "      <td>2016-01-15 12:00:00</td>\n",
       "      <td>5.664983</td>\n",
       "      <td>10.168953</td>\n",
       "      <td>5.484318</td>\n",
       "      <td>43.339714</td>\n",
       "      <td>72.659046</td>\n",
       "      <td>10.475957</td>\n",
       "      <td>1.050592</td>\n",
       "      <td>17.525656</td>\n",
       "      <td>2.064422</td>\n",
       "      <td>...</td>\n",
       "      <td>13.983963</td>\n",
       "      <td>-503.675714</td>\n",
       "      <td>11.928745</td>\n",
       "      <td>-500.583183</td>\n",
       "      <td>9.970359</td>\n",
       "      <td>-498.822343</td>\n",
       "      <td>8.016377</td>\n",
       "      <td>-499.013145</td>\n",
       "      <td>14.000032</td>\n",
       "      <td>-600.024741</td>\n",
       "    </tr>\n",
       "    <tr>\n",
       "      <th>13</th>\n",
       "      <td>2016-01-15 13:00:00</td>\n",
       "      <td>5.474776</td>\n",
       "      <td>9.813218</td>\n",
       "      <td>5.587525</td>\n",
       "      <td>44.099758</td>\n",
       "      <td>73.588844</td>\n",
       "      <td>10.378293</td>\n",
       "      <td>0.900833</td>\n",
       "      <td>17.464201</td>\n",
       "      <td>1.975039</td>\n",
       "      <td>...</td>\n",
       "      <td>13.981325</td>\n",
       "      <td>-504.947519</td>\n",
       "      <td>12.014060</td>\n",
       "      <td>-500.647565</td>\n",
       "      <td>10.000087</td>\n",
       "      <td>-499.306972</td>\n",
       "      <td>8.002007</td>\n",
       "      <td>-499.970754</td>\n",
       "      <td>14.019977</td>\n",
       "      <td>-599.986714</td>\n",
       "    </tr>\n",
       "    <tr>\n",
       "      <th>14</th>\n",
       "      <td>2016-01-15 14:00:00</td>\n",
       "      <td>5.437716</td>\n",
       "      <td>9.781181</td>\n",
       "      <td>6.057627</td>\n",
       "      <td>44.284117</td>\n",
       "      <td>70.847012</td>\n",
       "      <td>10.324415</td>\n",
       "      <td>0.961210</td>\n",
       "      <td>18.185262</td>\n",
       "      <td>2.161256</td>\n",
       "      <td>...</td>\n",
       "      <td>13.996317</td>\n",
       "      <td>-502.995300</td>\n",
       "      <td>11.980055</td>\n",
       "      <td>-500.607751</td>\n",
       "      <td>9.964501</td>\n",
       "      <td>-499.261719</td>\n",
       "      <td>8.065048</td>\n",
       "      <td>-499.492395</td>\n",
       "      <td>13.997801</td>\n",
       "      <td>-600.621416</td>\n",
       "    </tr>\n",
       "    <tr>\n",
       "      <th>15</th>\n",
       "      <td>2016-01-15 15:00:00</td>\n",
       "      <td>5.454277</td>\n",
       "      <td>10.019066</td>\n",
       "      <td>5.744694</td>\n",
       "      <td>44.081600</td>\n",
       "      <td>68.753219</td>\n",
       "      <td>10.352547</td>\n",
       "      <td>1.137378</td>\n",
       "      <td>18.431646</td>\n",
       "      <td>2.336759</td>\n",
       "      <td>...</td>\n",
       "      <td>14.015223</td>\n",
       "      <td>-503.202022</td>\n",
       "      <td>11.994299</td>\n",
       "      <td>-500.337803</td>\n",
       "      <td>10.037149</td>\n",
       "      <td>-499.395047</td>\n",
       "      <td>8.056439</td>\n",
       "      <td>-499.479716</td>\n",
       "      <td>13.977626</td>\n",
       "      <td>-600.075029</td>\n",
       "    </tr>\n",
       "    <tr>\n",
       "      <th>16</th>\n",
       "      <td>2016-01-15 16:00:00</td>\n",
       "      <td>5.410126</td>\n",
       "      <td>10.868937</td>\n",
       "      <td>6.258693</td>\n",
       "      <td>43.440341</td>\n",
       "      <td>67.839536</td>\n",
       "      <td>10.382891</td>\n",
       "      <td>1.239738</td>\n",
       "      <td>18.544924</td>\n",
       "      <td>2.423143</td>\n",
       "      <td>...</td>\n",
       "      <td>14.031220</td>\n",
       "      <td>-503.471307</td>\n",
       "      <td>11.966426</td>\n",
       "      <td>-500.656842</td>\n",
       "      <td>10.051620</td>\n",
       "      <td>-498.318772</td>\n",
       "      <td>8.018091</td>\n",
       "      <td>-499.696138</td>\n",
       "      <td>13.958937</td>\n",
       "      <td>-599.213013</td>\n",
       "    </tr>\n",
       "    <tr>\n",
       "      <th>17</th>\n",
       "      <td>2016-01-15 17:00:00</td>\n",
       "      <td>5.572499</td>\n",
       "      <td>10.841483</td>\n",
       "      <td>6.841936</td>\n",
       "      <td>42.844534</td>\n",
       "      <td>69.633763</td>\n",
       "      <td>10.349616</td>\n",
       "      <td>1.179975</td>\n",
       "      <td>18.748028</td>\n",
       "      <td>2.327442</td>\n",
       "      <td>...</td>\n",
       "      <td>14.019768</td>\n",
       "      <td>-541.569984</td>\n",
       "      <td>12.021831</td>\n",
       "      <td>-545.572166</td>\n",
       "      <td>10.021058</td>\n",
       "      <td>-501.386982</td>\n",
       "      <td>7.947110</td>\n",
       "      <td>-500.062750</td>\n",
       "      <td>14.014991</td>\n",
       "      <td>-600.670573</td>\n",
       "    </tr>\n",
       "    <tr>\n",
       "      <th>18</th>\n",
       "      <td>2016-01-15 18:00:00</td>\n",
       "      <td>5.719113</td>\n",
       "      <td>10.621027</td>\n",
       "      <td>6.459561</td>\n",
       "      <td>42.435181</td>\n",
       "      <td>68.786981</td>\n",
       "      <td>10.286797</td>\n",
       "      <td>1.171459</td>\n",
       "      <td>19.131121</td>\n",
       "      <td>2.314786</td>\n",
       "      <td>...</td>\n",
       "      <td>14.003057</td>\n",
       "      <td>-503.152258</td>\n",
       "      <td>12.016724</td>\n",
       "      <td>-501.136446</td>\n",
       "      <td>10.041864</td>\n",
       "      <td>-499.338844</td>\n",
       "      <td>8.007022</td>\n",
       "      <td>-500.279583</td>\n",
       "      <td>14.001271</td>\n",
       "      <td>-602.072365</td>\n",
       "    </tr>\n",
       "    <tr>\n",
       "      <th>19</th>\n",
       "      <td>2016-01-15 19:00:00</td>\n",
       "      <td>5.658943</td>\n",
       "      <td>10.436002</td>\n",
       "      <td>5.942418</td>\n",
       "      <td>42.509402</td>\n",
       "      <td>70.348300</td>\n",
       "      <td>10.232392</td>\n",
       "      <td>1.174845</td>\n",
       "      <td>19.498566</td>\n",
       "      <td>2.272460</td>\n",
       "      <td>...</td>\n",
       "      <td>14.001632</td>\n",
       "      <td>-509.808331</td>\n",
       "      <td>12.087669</td>\n",
       "      <td>-510.782166</td>\n",
       "      <td>10.032043</td>\n",
       "      <td>-499.128183</td>\n",
       "      <td>8.016140</td>\n",
       "      <td>-499.806844</td>\n",
       "      <td>13.949790</td>\n",
       "      <td>-600.140776</td>\n",
       "    </tr>\n",
       "  </tbody>\n",
       "</table>\n",
       "<p>20 rows × 87 columns</p>\n",
       "</div>"
      ],
      "text/plain": [
       "                  date  final.output.concentrate_ag  \\\n",
       "0  2016-01-15 00:00:00                     6.055403   \n",
       "1  2016-01-15 01:00:00                     6.029369   \n",
       "2  2016-01-15 02:00:00                     6.055926   \n",
       "3  2016-01-15 03:00:00                     6.047977   \n",
       "4  2016-01-15 04:00:00                     6.148599   \n",
       "5  2016-01-15 05:00:00                     6.482968   \n",
       "6  2016-01-15 06:00:00                     6.533849   \n",
       "7  2016-01-15 07:00:00                     6.130823   \n",
       "8  2016-01-15 08:00:00                     5.834140   \n",
       "9  2016-01-15 09:00:00                     5.687063   \n",
       "10 2016-01-15 10:00:00                     5.706261   \n",
       "11 2016-01-15 11:00:00                     5.582300   \n",
       "12 2016-01-15 12:00:00                     5.664983   \n",
       "13 2016-01-15 13:00:00                     5.474776   \n",
       "14 2016-01-15 14:00:00                     5.437716   \n",
       "15 2016-01-15 15:00:00                     5.454277   \n",
       "16 2016-01-15 16:00:00                     5.410126   \n",
       "17 2016-01-15 17:00:00                     5.572499   \n",
       "18 2016-01-15 18:00:00                     5.719113   \n",
       "19 2016-01-15 19:00:00                     5.658943   \n",
       "\n",
       "    final.output.concentrate_pb  final.output.concentrate_sol  \\\n",
       "0                      9.889648                      5.507324   \n",
       "1                      9.968944                      5.257781   \n",
       "2                     10.213995                      5.383759   \n",
       "3                      9.977019                      4.858634   \n",
       "4                     10.142511                      4.939416   \n",
       "5                     10.049416                      5.480257   \n",
       "6                     10.058141                      4.569100   \n",
       "7                      9.935481                      4.389813   \n",
       "8                     10.071156                      4.876389   \n",
       "9                      9.980404                      5.282514   \n",
       "10                    10.242511                      5.214161   \n",
       "11                    10.029878                      5.751567   \n",
       "12                    10.168953                      5.484318   \n",
       "13                     9.813218                      5.587525   \n",
       "14                     9.781181                      6.057627   \n",
       "15                    10.019066                      5.744694   \n",
       "16                    10.868937                      6.258693   \n",
       "17                    10.841483                      6.841936   \n",
       "18                    10.621027                      6.459561   \n",
       "19                    10.436002                      5.942418   \n",
       "\n",
       "    final.output.concentrate_au  final.output.recovery  final.output.tail_ag  \\\n",
       "0                     42.192020              70.541216             10.411962   \n",
       "1                     42.701629              69.266198             10.462676   \n",
       "2                     42.657501              68.116445             10.507046   \n",
       "3                     42.689819              68.347543             10.422762   \n",
       "4                     42.774141              66.927016             10.360302   \n",
       "5                     41.633678              69.465816             10.182708   \n",
       "6                     41.995316              69.300835             10.304598   \n",
       "7                     42.452727              70.230976             10.443288   \n",
       "8                     43.404078              69.688595             10.420140   \n",
       "9                     43.235220              70.279619             10.487013   \n",
       "10                    43.487291              70.973641             10.473539   \n",
       "11                    43.467440              71.380681             10.394314   \n",
       "12                    43.339714              72.659046             10.475957   \n",
       "13                    44.099758              73.588844             10.378293   \n",
       "14                    44.284117              70.847012             10.324415   \n",
       "15                    44.081600              68.753219             10.352547   \n",
       "16                    43.440341              67.839536             10.382891   \n",
       "17                    42.844534              69.633763             10.349616   \n",
       "18                    42.435181              68.786981             10.286797   \n",
       "19                    42.509402              70.348300             10.232392   \n",
       "\n",
       "    final.output.tail_pb  final.output.tail_sol  final.output.tail_au  ...  \\\n",
       "0               0.895447              16.904297              2.143149  ...   \n",
       "1               0.927452              16.634514              2.224930  ...   \n",
       "2               0.953716              16.208849              2.257889  ...   \n",
       "3               0.883763              16.532835              2.146849  ...   \n",
       "4               0.792826              16.525686              2.055292  ...   \n",
       "5               0.664118              16.999638              1.918586  ...   \n",
       "6               0.807342              16.723575              2.058913  ...   \n",
       "7               0.949346              16.689959              2.143437  ...   \n",
       "8               1.065453              17.201948              2.209881  ...   \n",
       "9               1.159805              17.483979              2.209593  ...   \n",
       "10              1.171183              17.717049              2.200997  ...   \n",
       "11              1.087722              18.059770              2.098777  ...   \n",
       "12              1.050592              17.525656              2.064422  ...   \n",
       "13              0.900833              17.464201              1.975039  ...   \n",
       "14              0.961210              18.185262              2.161256  ...   \n",
       "15              1.137378              18.431646              2.336759  ...   \n",
       "16              1.239738              18.544924              2.423143  ...   \n",
       "17              1.179975              18.748028              2.327442  ...   \n",
       "18              1.171459              19.131121              2.314786  ...   \n",
       "19              1.174845              19.498566              2.272460  ...   \n",
       "\n",
       "    secondary_cleaner.state.floatbank4_a_air  \\\n",
       "0                                  14.016835   \n",
       "1                                  13.992281   \n",
       "2                                  14.015015   \n",
       "3                                  14.036510   \n",
       "4                                  14.027298   \n",
       "5                                  13.938497   \n",
       "6                                  14.046819   \n",
       "7                                  13.974691   \n",
       "8                                  13.964030   \n",
       "9                                  13.989632   \n",
       "10                                 14.008944   \n",
       "11                                 14.029704   \n",
       "12                                 13.983963   \n",
       "13                                 13.981325   \n",
       "14                                 13.996317   \n",
       "15                                 14.015223   \n",
       "16                                 14.031220   \n",
       "17                                 14.019768   \n",
       "18                                 14.003057   \n",
       "19                                 14.001632   \n",
       "\n",
       "    secondary_cleaner.state.floatbank4_a_level  \\\n",
       "0                                  -502.488007   \n",
       "1                                  -505.503262   \n",
       "2                                  -502.520901   \n",
       "3                                  -500.857308   \n",
       "4                                  -499.838632   \n",
       "5                                  -500.970168   \n",
       "6                                  -500.971133   \n",
       "7                                  -501.819696   \n",
       "8                                  -504.252450   \n",
       "9                                  -503.195299   \n",
       "10                                 -504.170807   \n",
       "11                                 -503.940828   \n",
       "12                                 -503.675714   \n",
       "13                                 -504.947519   \n",
       "14                                 -502.995300   \n",
       "15                                 -503.202022   \n",
       "16                                 -503.471307   \n",
       "17                                 -541.569984   \n",
       "18                                 -503.152258   \n",
       "19                                 -509.808331   \n",
       "\n",
       "    secondary_cleaner.state.floatbank4_b_air  \\\n",
       "0                                  12.099931   \n",
       "1                                  11.950531   \n",
       "2                                  11.912783   \n",
       "3                                  11.999550   \n",
       "4                                  11.953070   \n",
       "5                                  11.883350   \n",
       "6                                  12.091543   \n",
       "7                                  12.101324   \n",
       "8                                  12.060738   \n",
       "9                                  12.052233   \n",
       "10                                 11.995903   \n",
       "11                                 12.022296   \n",
       "12                                 11.928745   \n",
       "13                                 12.014060   \n",
       "14                                 11.980055   \n",
       "15                                 11.994299   \n",
       "16                                 11.966426   \n",
       "17                                 12.021831   \n",
       "18                                 12.016724   \n",
       "19                                 12.087669   \n",
       "\n",
       "    secondary_cleaner.state.floatbank4_b_level  \\\n",
       "0                                  -504.715942   \n",
       "1                                  -501.331529   \n",
       "2                                  -501.133383   \n",
       "3                                  -501.193686   \n",
       "4                                  -501.053894   \n",
       "5                                  -500.395298   \n",
       "6                                  -500.501426   \n",
       "7                                  -500.583446   \n",
       "8                                  -501.174549   \n",
       "9                                  -500.928547   \n",
       "10                                 -501.269181   \n",
       "11                                 -501.238477   \n",
       "12                                 -500.583183   \n",
       "13                                 -500.647565   \n",
       "14                                 -500.607751   \n",
       "15                                 -500.337803   \n",
       "16                                 -500.656842   \n",
       "17                                 -545.572166   \n",
       "18                                 -501.136446   \n",
       "19                                 -510.782166   \n",
       "\n",
       "    secondary_cleaner.state.floatbank5_a_air  \\\n",
       "0                                   9.925633   \n",
       "1                                  10.039245   \n",
       "2                                  10.070913   \n",
       "3                                   9.970366   \n",
       "4                                   9.925709   \n",
       "5                                  10.054147   \n",
       "6                                  10.003247   \n",
       "7                                   9.873169   \n",
       "8                                  10.033838   \n",
       "9                                   9.962574   \n",
       "10                                 10.043100   \n",
       "11                                 10.020094   \n",
       "12                                  9.970359   \n",
       "13                                 10.000087   \n",
       "14                                  9.964501   \n",
       "15                                 10.037149   \n",
       "16                                 10.051620   \n",
       "17                                 10.021058   \n",
       "18                                 10.041864   \n",
       "19                                 10.032043   \n",
       "\n",
       "    secondary_cleaner.state.floatbank5_a_level  \\\n",
       "0                                  -498.310211   \n",
       "1                                  -500.169983   \n",
       "2                                  -500.129135   \n",
       "3                                  -499.201640   \n",
       "4                                  -501.686727   \n",
       "5                                  -496.374715   \n",
       "6                                  -497.083180   \n",
       "7                                  -499.171928   \n",
       "8                                  -501.178133   \n",
       "9                                  -502.986357   \n",
       "10                                 -498.529996   \n",
       "11                                 -500.061845   \n",
       "12                                 -498.822343   \n",
       "13                                 -499.306972   \n",
       "14                                 -499.261719   \n",
       "15                                 -499.395047   \n",
       "16                                 -498.318772   \n",
       "17                                 -501.386982   \n",
       "18                                 -499.338844   \n",
       "19                                 -499.128183   \n",
       "\n",
       "    secondary_cleaner.state.floatbank5_b_air  \\\n",
       "0                                   8.079666   \n",
       "1                                   7.984757   \n",
       "2                                   8.013877   \n",
       "3                                   7.977324   \n",
       "4                                   7.894242   \n",
       "5                                   7.965083   \n",
       "6                                   8.010890   \n",
       "7                                   7.993381   \n",
       "8                                   7.881604   \n",
       "9                                   7.979219   \n",
       "10                                  8.002633   \n",
       "11                                  7.964024   \n",
       "12                                  8.016377   \n",
       "13                                  8.002007   \n",
       "14                                  8.065048   \n",
       "15                                  8.056439   \n",
       "16                                  8.018091   \n",
       "17                                  7.947110   \n",
       "18                                  8.007022   \n",
       "19                                  8.016140   \n",
       "\n",
       "    secondary_cleaner.state.floatbank5_b_level  \\\n",
       "0                                  -500.470978   \n",
       "1                                  -500.582168   \n",
       "2                                  -500.517572   \n",
       "3                                  -500.255908   \n",
       "4                                  -500.356035   \n",
       "5                                  -499.364752   \n",
       "6                                  -500.002423   \n",
       "7                                  -499.794518   \n",
       "8                                  -499.729434   \n",
       "9                                  -500.146835   \n",
       "10                                 -499.761922   \n",
       "11                                 -499.283982   \n",
       "12                                 -499.013145   \n",
       "13                                 -499.970754   \n",
       "14                                 -499.492395   \n",
       "15                                 -499.479716   \n",
       "16                                 -499.696138   \n",
       "17                                 -500.062750   \n",
       "18                                 -500.279583   \n",
       "19                                 -499.806844   \n",
       "\n",
       "    secondary_cleaner.state.floatbank6_a_air  \\\n",
       "0                                  14.151341   \n",
       "1                                  13.998353   \n",
       "2                                  14.028663   \n",
       "3                                  14.005551   \n",
       "4                                  13.996647   \n",
       "5                                  14.017067   \n",
       "6                                  14.029649   \n",
       "7                                  13.984498   \n",
       "8                                  13.967135   \n",
       "9                                  13.981614   \n",
       "10                                 14.004767   \n",
       "11                                 14.003011   \n",
       "12                                 14.000032   \n",
       "13                                 14.019977   \n",
       "14                                 13.997801   \n",
       "15                                 13.977626   \n",
       "16                                 13.958937   \n",
       "17                                 14.014991   \n",
       "18                                 14.001271   \n",
       "19                                 13.949790   \n",
       "\n",
       "    secondary_cleaner.state.floatbank6_a_level  \n",
       "0                                  -605.841980  \n",
       "1                                  -599.787184  \n",
       "2                                  -601.427363  \n",
       "3                                  -599.996129  \n",
       "4                                  -601.496691  \n",
       "5                                  -599.707915  \n",
       "6                                  -600.905470  \n",
       "7                                  -600.411070  \n",
       "8                                  -599.061188  \n",
       "9                                  -598.070855  \n",
       "10                                 -599.595324  \n",
       "11                                 -599.879856  \n",
       "12                                 -600.024741  \n",
       "13                                 -599.986714  \n",
       "14                                 -600.621416  \n",
       "15                                 -600.075029  \n",
       "16                                 -599.213013  \n",
       "17                                 -600.670573  \n",
       "18                                 -602.072365  \n",
       "19                                 -600.140776  \n",
       "\n",
       "[20 rows x 87 columns]"
      ]
     },
     "execution_count": 23,
     "metadata": {},
     "output_type": "execute_result"
    }
   ],
   "source": [
    "gold_recovery_train.head(20)"
   ]
  },
  {
   "cell_type": "markdown",
   "metadata": {},
   "source": [
    "Поскольку пропусков много, то удалить их без потери качества не удастся. Исходя их данных можно заметить, что соседние по времени данные имеют близкие значения. Поэтому заполним пропуски методом \"ffil\", чтобы устранить пропуски."
   ]
  },
  {
   "cell_type": "code",
   "execution_count": 24,
   "metadata": {},
   "outputs": [],
   "source": [
    "gold_recovery_train = gold_recovery_train.fillna(method='ffill')\n",
    "gold_recovery_test = gold_recovery_test.fillna(method='ffill')\n",
    "gold_recovery_full = gold_recovery_full.fillna(method='ffill')"
   ]
  },
  {
   "cell_type": "code",
   "execution_count": 25,
   "metadata": {},
   "outputs": [
    {
     "data": {
      "text/plain": [
       "0"
      ]
     },
     "execution_count": 25,
     "metadata": {},
     "output_type": "execute_result"
    }
   ],
   "source": [
    "gold_recovery_full.isna().sum().max()"
   ]
  },
  {
   "cell_type": "markdown",
   "metadata": {},
   "source": [
    "**Выводы**"
   ]
  },
  {
   "cell_type": "markdown",
   "metadata": {},
   "source": [
    "1. Столбцы с датой преобразованы в тип datetime.\n",
    "2. В тренировочной выборке, например, пропуски составляют более 10 процентов. Поскольку данных не много, то целессобразно заменить пропуски методом ffill по причине того, что рядом стоящие значение близки друг к другу. \n",
    "3. Дубликатов нет.\n",
    "4. Эффективность обогащения посчитана правильно.\n"
   ]
  },
  {
   "cell_type": "markdown",
   "metadata": {},
   "source": [
    "## Анализ данных"
   ]
  },
  {
   "cell_type": "markdown",
   "metadata": {},
   "source": [
    "### как меняется концентрация металлов (Au, Ag, Pb) на различных этапах очистки"
   ]
  },
  {
   "cell_type": "code",
   "execution_count": 26,
   "metadata": {},
   "outputs": [
    {
     "data": {
      "text/plain": [
       "Index(['date', 'final.output.concentrate_ag', 'final.output.concentrate_pb',\n",
       "       'final.output.concentrate_sol', 'final.output.concentrate_au',\n",
       "       'final.output.recovery', 'final.output.tail_ag', 'final.output.tail_pb',\n",
       "       'final.output.tail_sol', 'final.output.tail_au',\n",
       "       'primary_cleaner.input.sulfate', 'primary_cleaner.input.depressant',\n",
       "       'primary_cleaner.input.feed_size', 'primary_cleaner.input.xanthate',\n",
       "       'primary_cleaner.output.concentrate_ag',\n",
       "       'primary_cleaner.output.concentrate_pb',\n",
       "       'primary_cleaner.output.concentrate_sol',\n",
       "       'primary_cleaner.output.concentrate_au',\n",
       "       'primary_cleaner.output.tail_ag', 'primary_cleaner.output.tail_pb',\n",
       "       'primary_cleaner.output.tail_sol', 'primary_cleaner.output.tail_au',\n",
       "       'primary_cleaner.state.floatbank8_a_air',\n",
       "       'primary_cleaner.state.floatbank8_a_level',\n",
       "       'primary_cleaner.state.floatbank8_b_air',\n",
       "       'primary_cleaner.state.floatbank8_b_level',\n",
       "       'primary_cleaner.state.floatbank8_c_air',\n",
       "       'primary_cleaner.state.floatbank8_c_level',\n",
       "       'primary_cleaner.state.floatbank8_d_air',\n",
       "       'primary_cleaner.state.floatbank8_d_level',\n",
       "       'rougher.calculation.sulfate_to_au_concentrate',\n",
       "       'rougher.calculation.floatbank10_sulfate_to_au_feed',\n",
       "       'rougher.calculation.floatbank11_sulfate_to_au_feed',\n",
       "       'rougher.calculation.au_pb_ratio', 'rougher.input.feed_ag',\n",
       "       'rougher.input.feed_pb', 'rougher.input.feed_rate',\n",
       "       'rougher.input.feed_size', 'rougher.input.feed_sol',\n",
       "       'rougher.input.feed_au', 'rougher.input.floatbank10_sulfate',\n",
       "       'rougher.input.floatbank10_xanthate',\n",
       "       'rougher.input.floatbank11_sulfate',\n",
       "       'rougher.input.floatbank11_xanthate', 'rougher.output.concentrate_ag',\n",
       "       'rougher.output.concentrate_pb', 'rougher.output.concentrate_sol',\n",
       "       'rougher.output.concentrate_au', 'rougher.output.recovery',\n",
       "       'rougher.output.tail_ag', 'rougher.output.tail_pb',\n",
       "       'rougher.output.tail_sol', 'rougher.output.tail_au',\n",
       "       'rougher.state.floatbank10_a_air', 'rougher.state.floatbank10_a_level',\n",
       "       'rougher.state.floatbank10_b_air', 'rougher.state.floatbank10_b_level',\n",
       "       'rougher.state.floatbank10_c_air', 'rougher.state.floatbank10_c_level',\n",
       "       'rougher.state.floatbank10_d_air', 'rougher.state.floatbank10_d_level',\n",
       "       'rougher.state.floatbank10_e_air', 'rougher.state.floatbank10_e_level',\n",
       "       'rougher.state.floatbank10_f_air', 'rougher.state.floatbank10_f_level',\n",
       "       'secondary_cleaner.output.tail_ag', 'secondary_cleaner.output.tail_pb',\n",
       "       'secondary_cleaner.output.tail_sol', 'secondary_cleaner.output.tail_au',\n",
       "       'secondary_cleaner.state.floatbank2_a_air',\n",
       "       'secondary_cleaner.state.floatbank2_a_level',\n",
       "       'secondary_cleaner.state.floatbank2_b_air',\n",
       "       'secondary_cleaner.state.floatbank2_b_level',\n",
       "       'secondary_cleaner.state.floatbank3_a_air',\n",
       "       'secondary_cleaner.state.floatbank3_a_level',\n",
       "       'secondary_cleaner.state.floatbank3_b_air',\n",
       "       'secondary_cleaner.state.floatbank3_b_level',\n",
       "       'secondary_cleaner.state.floatbank4_a_air',\n",
       "       'secondary_cleaner.state.floatbank4_a_level',\n",
       "       'secondary_cleaner.state.floatbank4_b_air',\n",
       "       'secondary_cleaner.state.floatbank4_b_level',\n",
       "       'secondary_cleaner.state.floatbank5_a_air',\n",
       "       'secondary_cleaner.state.floatbank5_a_level',\n",
       "       'secondary_cleaner.state.floatbank5_b_air',\n",
       "       'secondary_cleaner.state.floatbank5_b_level',\n",
       "       'secondary_cleaner.state.floatbank6_a_air',\n",
       "       'secondary_cleaner.state.floatbank6_a_level'],\n",
       "      dtype='object')"
      ]
     },
     "execution_count": 26,
     "metadata": {},
     "output_type": "execute_result"
    }
   ],
   "source": [
    "gold_recovery_full.columns"
   ]
  },
  {
   "cell_type": "code",
   "execution_count": 27,
   "metadata": {
    "scrolled": true
   },
   "outputs": [
    {
     "data": {
      "image/png": "[encoded data removed]",
      "text/plain": [
       "<Figure size 504x504 with 4 Axes>"
      ]
     },
     "metadata": {
      "needs_background": "light"
     },
     "output_type": "display_data"
    }
   ],
   "source": [
    "gold_recovery_full[['rougher.input.feed_ag', 'rougher.input.feed_pb', 'rougher.input.feed_au']].hist(figsize=(7, 7))\n",
    "plt.show()"
   ]
  },
  {
   "cell_type": "markdown",
   "metadata": {},
   "source": [
    "До этапа флотации коцентрация трёх металлов распределена вокруг слудующих значений:\n",
    "серебро - 7,8\n",
    "медь - 3,5\n",
    "золото - 7,5"
   ]
  },
  {
   "cell_type": "code",
   "execution_count": 28,
   "metadata": {},
   "outputs": [
    {
     "data": {
      "image/png": "[encoded data removed]",
      "text/plain": [
       "<Figure size 504x504 with 4 Axes>"
      ]
     },
     "metadata": {
      "needs_background": "light"
     },
     "output_type": "display_data"
    }
   ],
   "source": [
    "gold_recovery_full[['rougher.output.concentrate_ag', 'rougher.output.concentrate_pb', 'rougher.output.concentrate_au']].hist(figsize=(7, 7))\n",
    "plt.show()"
   ]
  },
  {
   "cell_type": "code",
   "execution_count": 29,
   "metadata": {},
   "outputs": [
    {
     "name": "stdout",
     "output_type": "stream",
     "text": [
      "Этап Флотации\n",
      "Среднее AG: 11.994759359873452\n",
      "Медианное AG: 12.098114967346191\n",
      "Среднее AU: 19.772000139486334\n",
      "Медианное AU: 20.280214025891475\n",
      "Среднее PB: 7.606272313194984\n",
      "Медианное PB: 7.742580079502529\n"
     ]
    }
   ],
   "source": [
    "print('Этап Флотации')\n",
    "print('Среднее AG:', gold_recovery_full['rougher.output.concentrate_ag'].mean())\n",
    "print('Медианное AG:', gold_recovery_full['rougher.output.concentrate_ag'].median())\n",
    "print('Среднее AU:', gold_recovery_full['rougher.output.concentrate_au'].mean())\n",
    "print('Медианное AU:', gold_recovery_full['rougher.output.concentrate_au'].median())\n",
    "print('Среднее PB:', gold_recovery_full['rougher.output.concentrate_pb'].mean())\n",
    "print('Медианное PB:', gold_recovery_full['rougher.output.concentrate_pb'].median())"
   ]
  },
  {
   "cell_type": "markdown",
   "metadata": {},
   "source": [
    "Концентрация металлов после этапа флотации для серебра равна 12, для золота - 21, для меди - 7,5."
   ]
  },
  {
   "cell_type": "code",
   "execution_count": 30,
   "metadata": {},
   "outputs": [
    {
     "data": {
      "image/png": "[encoded data removed]",
      "text/plain": [
       "<Figure size 504x504 with 4 Axes>"
      ]
     },
     "metadata": {
      "needs_background": "light"
     },
     "output_type": "display_data"
    }
   ],
   "source": [
    "gold_recovery_full[['primary_cleaner.output.concentrate_ag', 'primary_cleaner.output.concentrate_pb', 'primary_cleaner.output.concentrate_au']].hist(figsize=(7, 7))\n",
    "plt.show()"
   ]
  },
  {
   "cell_type": "code",
   "execution_count": 31,
   "metadata": {},
   "outputs": [
    {
     "name": "stdout",
     "output_type": "stream",
     "text": [
      "Этап Первичной обработки\n",
      "Среднее AG: 8.442408077719056\n",
      "Медианное AG: 8.507297972365805\n",
      "Среднее AU: 32.1194004078766\n",
      "Медианное AU: 32.841295480233306\n",
      "Среднее PB: 9.810316539310222\n",
      "Медианное PB: 10.142270415359071\n"
     ]
    }
   ],
   "source": [
    "print('Этап Первичной обработки')\n",
    "print('Среднее AG:', gold_recovery_full['primary_cleaner.output.concentrate_ag'].mean())\n",
    "print('Медианное AG:', gold_recovery_full['primary_cleaner.output.concentrate_ag'].median())\n",
    "print('Среднее AU:', gold_recovery_full['primary_cleaner.output.concentrate_au'].mean())\n",
    "print('Медианное AU:', gold_recovery_full['primary_cleaner.output.concentrate_au'].median())\n",
    "print('Среднее PB:', gold_recovery_full['primary_cleaner.output.concentrate_pb'].mean())\n",
    "print('Медианное PB:', gold_recovery_full['primary_cleaner.output.concentrate_pb'].median())"
   ]
  },
  {
   "cell_type": "markdown",
   "metadata": {},
   "source": [
    "Во время первого этапа очистки концентрация серебра в среднем снижается, а вот концентрация меди и золота растут. причём концентрация золота в среднем выросла на 50%."
   ]
  },
  {
   "cell_type": "code",
   "execution_count": 32,
   "metadata": {},
   "outputs": [
    {
     "data": {
      "image/png": "[encoded data removed]",
      "text/plain": [
       "<Figure size 504x504 with 4 Axes>"
      ]
     },
     "metadata": {
      "needs_background": "light"
     },
     "output_type": "display_data"
    }
   ],
   "source": [
    "gold_recovery_full[['final.output.concentrate_ag','final.output.concentrate_pb', 'final.output.concentrate_au']].hist(figsize=(7, 7))\n",
    "plt.show()"
   ]
  },
  {
   "cell_type": "code",
   "execution_count": 33,
   "metadata": {
    "scrolled": true
   },
   "outputs": [
    {
     "name": "stdout",
     "output_type": "stream",
     "text": [
      "Этап Первичной обработки\n",
      "Среднее AG: 5.168386967510268\n",
      "Медианное AG: 5.066039118467836\n",
      "Среднее AU: 44.076512941952664\n",
      "Медианное AU: 45.01124391455689\n",
      "Среднее PB: 9.978821384192898\n",
      "Медианное PB: 10.10226350598865\n"
     ]
    }
   ],
   "source": [
    "print('Этап Первичной обработки')\n",
    "print('Среднее AG:', gold_recovery_full['final.output.concentrate_ag'].mean())\n",
    "print('Медианное AG:', gold_recovery_full['final.output.concentrate_ag'].median())\n",
    "print('Среднее AU:', gold_recovery_full['final.output.concentrate_au'].mean())\n",
    "print('Медианное AU:', gold_recovery_full['final.output.concentrate_au'].median())\n",
    "print('Среднее PB:', gold_recovery_full['final.output.concentrate_pb'].mean())\n",
    "print('Медианное PB:', gold_recovery_full['final.output.concentrate_pb'].median())"
   ]
  },
  {
   "cell_type": "markdown",
   "metadata": {},
   "source": [
    "Концентрация золота после второго этапа очистки выросла на 50% при параллельном уменьшении концентрации других металлов."
   ]
  },
  {
   "cell_type": "code",
   "execution_count": 34,
   "metadata": {
    "scrolled": true
   },
   "outputs": [
    {
     "data": {
      "image/png": "[encoded data removed]",
      "text/plain": [
       "<Figure size 576x576 with 1 Axes>"
      ]
     },
     "metadata": {
      "needs_background": "light"
     },
     "output_type": "display_data"
    }
   ],
   "source": [
    "plt.figure(figsize=(8, 8))\n",
    "ax = gold_recovery_full['rougher.input.feed_ag'].hist(legend=True, alpha=0.7)\n",
    "gold_recovery_full['final.output.concentrate_ag'].hist(ax=ax, legend=True, alpha=0.7)\n",
    "gold_recovery_full['primary_cleaner.output.concentrate_ag'].hist(ax=ax, legend=True, alpha=0.7)\n",
    "gold_recovery_full['rougher.output.concentrate_ag'].hist(ax=ax, legend=True, alpha=0.7)\n",
    "plt.title('Распределение серебра')\n",
    "plt.show()\n",
    "\n"
   ]
  },
  {
   "cell_type": "code",
   "execution_count": 35,
   "metadata": {},
   "outputs": [
    {
     "data": {
      "image/png": "[encoded data removed]",
      "text/plain": [
       "<Figure size 576x576 with 1 Axes>"
      ]
     },
     "metadata": {
      "needs_background": "light"
     },
     "output_type": "display_data"
    }
   ],
   "source": [
    "plt.figure(figsize=(8, 8))\n",
    "ax = gold_recovery_full['rougher.input.feed_pb'].hist(legend=True, alpha=0.7)\n",
    "gold_recovery_full['final.output.concentrate_pb'].hist(ax=ax, legend=True, alpha=0.7)\n",
    "gold_recovery_full['primary_cleaner.output.concentrate_pb'].hist(ax=ax, legend=True, alpha=0.7)\n",
    "gold_recovery_full['rougher.output.concentrate_pb'].hist(ax=ax, legend=True, alpha=0.7)\n",
    "plt.title('Распределение Меди')\n",
    "plt.show()"
   ]
  },
  {
   "cell_type": "code",
   "execution_count": 36,
   "metadata": {},
   "outputs": [
    {
     "data": {
      "image/png": "[encoded data removed]",
      "text/plain": [
       "<Figure size 576x576 with 1 Axes>"
      ]
     },
     "metadata": {
      "needs_background": "light"
     },
     "output_type": "display_data"
    }
   ],
   "source": [
    "plt.figure(figsize=(8, 8))\n",
    "ax = gold_recovery_full['rougher.input.feed_au'].hist(legend=True, alpha=0.7)\n",
    "gold_recovery_full['final.output.concentrate_au'].hist(ax=ax, legend=True, alpha=0.7)\n",
    "gold_recovery_full['primary_cleaner.output.concentrate_au'].hist(ax=ax, legend=True, alpha=0.7)\n",
    "gold_recovery_full['rougher.output.concentrate_au'].hist(ax=ax, legend=True, alpha=0.7)\n",
    "plt.title('Распределение Золота')\n",
    "plt.show()"
   ]
  },
  {
   "cell_type": "markdown",
   "metadata": {},
   "source": [
    "### Сравнение распределения размеров гранул сырья на обучающей и тестовой выборках."
   ]
  },
  {
   "cell_type": "code",
   "execution_count": 37,
   "metadata": {},
   "outputs": [
    {
     "data": {
      "image/png": "[encoded data removed]",
      "text/plain": [
       "<Figure size 1008x720 with 1 Axes>"
      ]
     },
     "metadata": {
      "needs_background": "light"
     },
     "output_type": "display_data"
    }
   ],
   "source": [
    "plt.figure(figsize = (14, 10))\n",
    "sns.histplot(data=gold_recovery_train['rougher.input.feed_size'], kde=True)\n",
    "sns.histplot(data=gold_recovery_test['rougher.input.feed_size'], kde=True)\n",
    "plt.title('Распределение гранул до очистки')\n",
    "plt.xlabel('Размеры грынул')\n",
    "plt.ylabel('Частота')\n",
    "plt.show()"
   ]
  },
  {
   "cell_type": "markdown",
   "metadata": {},
   "source": [
    "**Распределение размеров гранул на тестовой и тренировочной выборках сильных отличий не имеет, что говорит о том, что оценка модели будет правильной**"
   ]
  },
  {
   "cell_type": "code",
   "execution_count": 38,
   "metadata": {
    "scrolled": true
   },
   "outputs": [
    {
     "data": {
      "image/png": "[encoded data removed]",
      "text/plain": [
       "<Figure size 1008x720 with 1 Axes>"
      ]
     },
     "metadata": {
      "needs_background": "light"
     },
     "output_type": "display_data"
    }
   ],
   "source": [
    "plt.figure(figsize = (14, 10))\n",
    "sns.histplot(data=gold_recovery_train['primary_cleaner.input.feed_size'], kde=True)\n",
    "sns.histplot(data=gold_recovery_test['primary_cleaner.input.feed_size'], kde=True)\n",
    "plt.title('Распределение гранул до очистки')\n",
    "plt.xlabel('Размеры грынул')\n",
    "plt.ylabel('Частота')\n",
    "plt.show()"
   ]
  },
  {
   "cell_type": "code",
   "execution_count": 39,
   "metadata": {},
   "outputs": [
    {
     "data": {
      "text/plain": [
       "KstestResult(statistic=0.2502993057549405, pvalue=5.1997046130555955e-213)"
      ]
     },
     "execution_count": 39,
     "metadata": {},
     "output_type": "execute_result"
    }
   ],
   "source": [
    "st.kstest(gold_recovery_train['rougher.input.feed_size'], gold_recovery_test['rougher.input.feed_size'])"
   ]
  },
  {
   "cell_type": "code",
   "execution_count": 40,
   "metadata": {
    "scrolled": true
   },
   "outputs": [
    {
     "data": {
      "text/plain": [
       "KstestResult(statistic=0.05922065470904381, pvalue=3.5273935105512727e-12)"
      ]
     },
     "execution_count": 40,
     "metadata": {},
     "output_type": "execute_result"
    }
   ],
   "source": [
    "st.kstest(gold_recovery_train['primary_cleaner.input.feed_size'], gold_recovery_test['primary_cleaner.input.feed_size'])"
   ]
  },
  {
   "cell_type": "markdown",
   "metadata": {},
   "source": [
    "После первого этапа очистки распределение размеров гранул остаётся схожим. "
   ]
  },
  {
   "cell_type": "markdown",
   "metadata": {},
   "source": [
    "Тест Колмогорова_Смирнова показал, что распределения отличаются, но визуально они похожи, то есть сильных отличий нет."
   ]
  },
  {
   "cell_type": "markdown",
   "metadata": {},
   "source": [
    "### Исследование суммарной концентрации всех веществ на разных стадиях: в сырье, в черновом и финальном концентратах."
   ]
  },
  {
   "cell_type": "code",
   "execution_count": 41,
   "metadata": {},
   "outputs": [
    {
     "name": "stdout",
     "output_type": "stream",
     "text": [
      "<class 'pandas.core.frame.DataFrame'>\n",
      "RangeIndex: 19439 entries, 0 to 19438\n",
      "Data columns (total 87 columns):\n",
      " #   Column                                              Non-Null Count  Dtype         \n",
      "---  ------                                              --------------  -----         \n",
      " 0   date                                                19439 non-null  datetime64[ns]\n",
      " 1   final.output.concentrate_ag                         19439 non-null  float64       \n",
      " 2   final.output.concentrate_pb                         19439 non-null  float64       \n",
      " 3   final.output.concentrate_sol                        19439 non-null  float64       \n",
      " 4   final.output.concentrate_au                         19439 non-null  float64       \n",
      " 5   final.output.recovery                               19439 non-null  float64       \n",
      " 6   final.output.tail_ag                                19439 non-null  float64       \n",
      " 7   final.output.tail_pb                                19439 non-null  float64       \n",
      " 8   final.output.tail_sol                               19439 non-null  float64       \n",
      " 9   final.output.tail_au                                19439 non-null  float64       \n",
      " 10  primary_cleaner.input.sulfate                       19439 non-null  float64       \n",
      " 11  primary_cleaner.input.depressant                    19439 non-null  float64       \n",
      " 12  primary_cleaner.input.feed_size                     19439 non-null  float64       \n",
      " 13  primary_cleaner.input.xanthate                      19439 non-null  float64       \n",
      " 14  primary_cleaner.output.concentrate_ag               19439 non-null  float64       \n",
      " 15  primary_cleaner.output.concentrate_pb               19439 non-null  float64       \n",
      " 16  primary_cleaner.output.concentrate_sol              19439 non-null  float64       \n",
      " 17  primary_cleaner.output.concentrate_au               19439 non-null  float64       \n",
      " 18  primary_cleaner.output.tail_ag                      19439 non-null  float64       \n",
      " 19  primary_cleaner.output.tail_pb                      19439 non-null  float64       \n",
      " 20  primary_cleaner.output.tail_sol                     19439 non-null  float64       \n",
      " 21  primary_cleaner.output.tail_au                      19439 non-null  float64       \n",
      " 22  primary_cleaner.state.floatbank8_a_air              19439 non-null  float64       \n",
      " 23  primary_cleaner.state.floatbank8_a_level            19439 non-null  float64       \n",
      " 24  primary_cleaner.state.floatbank8_b_air              19439 non-null  float64       \n",
      " 25  primary_cleaner.state.floatbank8_b_level            19439 non-null  float64       \n",
      " 26  primary_cleaner.state.floatbank8_c_air              19439 non-null  float64       \n",
      " 27  primary_cleaner.state.floatbank8_c_level            19439 non-null  float64       \n",
      " 28  primary_cleaner.state.floatbank8_d_air              19439 non-null  float64       \n",
      " 29  primary_cleaner.state.floatbank8_d_level            19439 non-null  float64       \n",
      " 30  rougher.calculation.sulfate_to_au_concentrate       19439 non-null  float64       \n",
      " 31  rougher.calculation.floatbank10_sulfate_to_au_feed  19439 non-null  float64       \n",
      " 32  rougher.calculation.floatbank11_sulfate_to_au_feed  19439 non-null  float64       \n",
      " 33  rougher.calculation.au_pb_ratio                     19439 non-null  float64       \n",
      " 34  rougher.input.feed_ag                               19439 non-null  float64       \n",
      " 35  rougher.input.feed_pb                               19439 non-null  float64       \n",
      " 36  rougher.input.feed_rate                             19439 non-null  float64       \n",
      " 37  rougher.input.feed_size                             19439 non-null  float64       \n",
      " 38  rougher.input.feed_sol                              19439 non-null  float64       \n",
      " 39  rougher.input.feed_au                               19439 non-null  float64       \n",
      " 40  rougher.input.floatbank10_sulfate                   19439 non-null  float64       \n",
      " 41  rougher.input.floatbank10_xanthate                  19439 non-null  float64       \n",
      " 42  rougher.input.floatbank11_sulfate                   19439 non-null  float64       \n",
      " 43  rougher.input.floatbank11_xanthate                  19439 non-null  float64       \n",
      " 44  rougher.output.concentrate_ag                       19439 non-null  float64       \n",
      " 45  rougher.output.concentrate_pb                       19439 non-null  float64       \n",
      " 46  rougher.output.concentrate_sol                      19439 non-null  float64       \n",
      " 47  rougher.output.concentrate_au                       19439 non-null  float64       \n",
      " 48  rougher.output.recovery                             19439 non-null  float64       \n",
      " 49  rougher.output.tail_ag                              19439 non-null  float64       \n",
      " 50  rougher.output.tail_pb                              19439 non-null  float64       \n",
      " 51  rougher.output.tail_sol                             19439 non-null  float64       \n",
      " 52  rougher.output.tail_au                              19439 non-null  float64       \n",
      " 53  rougher.state.floatbank10_a_air                     19439 non-null  float64       \n",
      " 54  rougher.state.floatbank10_a_level                   19439 non-null  float64       \n",
      " 55  rougher.state.floatbank10_b_air                     19439 non-null  float64       \n",
      " 56  rougher.state.floatbank10_b_level                   19439 non-null  float64       \n",
      " 57  rougher.state.floatbank10_c_air                     19439 non-null  float64       \n",
      " 58  rougher.state.floatbank10_c_level                   19439 non-null  float64       \n",
      " 59  rougher.state.floatbank10_d_air                     19439 non-null  float64       \n",
      " 60  rougher.state.floatbank10_d_level                   19439 non-null  float64       \n",
      " 61  rougher.state.floatbank10_e_air                     19439 non-null  float64       \n",
      " 62  rougher.state.floatbank10_e_level                   19439 non-null  float64       \n",
      " 63  rougher.state.floatbank10_f_air                     19439 non-null  float64       \n",
      " 64  rougher.state.floatbank10_f_level                   19439 non-null  float64       \n",
      " 65  secondary_cleaner.output.tail_ag                    19439 non-null  float64       \n",
      " 66  secondary_cleaner.output.tail_pb                    19439 non-null  float64       \n",
      " 67  secondary_cleaner.output.tail_sol                   19439 non-null  float64       \n",
      " 68  secondary_cleaner.output.tail_au                    19439 non-null  float64       \n",
      " 69  secondary_cleaner.state.floatbank2_a_air            19439 non-null  float64       \n",
      " 70  secondary_cleaner.state.floatbank2_a_level          19439 non-null  float64       \n",
      " 71  secondary_cleaner.state.floatbank2_b_air            19439 non-null  float64       \n",
      " 72  secondary_cleaner.state.floatbank2_b_level          19439 non-null  float64       \n",
      " 73  secondary_cleaner.state.floatbank3_a_air            19439 non-null  float64       \n",
      " 74  secondary_cleaner.state.floatbank3_a_level          19439 non-null  float64       \n",
      " 75  secondary_cleaner.state.floatbank3_b_air            19439 non-null  float64       \n",
      " 76  secondary_cleaner.state.floatbank3_b_level          19439 non-null  float64       \n",
      " 77  secondary_cleaner.state.floatbank4_a_air            19439 non-null  float64       \n",
      " 78  secondary_cleaner.state.floatbank4_a_level          19439 non-null  float64       \n",
      " 79  secondary_cleaner.state.floatbank4_b_air            19439 non-null  float64       \n",
      " 80  secondary_cleaner.state.floatbank4_b_level          19439 non-null  float64       \n",
      " 81  secondary_cleaner.state.floatbank5_a_air            19439 non-null  float64       \n",
      " 82  secondary_cleaner.state.floatbank5_a_level          19439 non-null  float64       \n",
      " 83  secondary_cleaner.state.floatbank5_b_air            19439 non-null  float64       \n",
      " 84  secondary_cleaner.state.floatbank5_b_level          19439 non-null  float64       \n",
      " 85  secondary_cleaner.state.floatbank6_a_air            19439 non-null  float64       \n",
      " 86  secondary_cleaner.state.floatbank6_a_level          19439 non-null  float64       \n",
      "dtypes: datetime64[ns](1), float64(86)\n",
      "memory usage: 12.9 MB\n"
     ]
    }
   ],
   "source": [
    "gold_recovery_full.info()"
   ]
  },
  {
   "cell_type": "code",
   "execution_count": 42,
   "metadata": {},
   "outputs": [],
   "source": [
    "gold_recovery_full['sum_concen_rough'] = (gold_recovery_full['rougher.output.concentrate_ag'] + gold_recovery_full['rougher.output.concentrate_pb'] +\n",
    "                                         gold_recovery_full['rougher.output.concentrate_sol'] + gold_recovery_full['rougher.output.concentrate_au'])\n"
   ]
  },
  {
   "cell_type": "code",
   "execution_count": 43,
   "metadata": {},
   "outputs": [],
   "source": [
    "gold_recovery_full['sum_concen_primar'] = (gold_recovery_full['primary_cleaner.output.concentrate_ag'] + gold_recovery_full['primary_cleaner.output.concentrate_pb'] +\n",
    "                                         gold_recovery_full['primary_cleaner.output.concentrate_sol'] + gold_recovery_full['primary_cleaner.output.concentrate_au'])\n"
   ]
  },
  {
   "cell_type": "code",
   "execution_count": 44,
   "metadata": {},
   "outputs": [],
   "source": [
    "gold_recovery_full['sum_concen_final'] = (gold_recovery_full['final.output.concentrate_ag'] + gold_recovery_full['final.output.concentrate_pb'] +\n",
    "                                         gold_recovery_full['final.output.concentrate_sol'] + gold_recovery_full['final.output.concentrate_au'])\n"
   ]
  },
  {
   "cell_type": "code",
   "execution_count": 45,
   "metadata": {},
   "outputs": [],
   "source": [
    "gold_recovery_full['sum_concen_raw'] = (gold_recovery_full['rougher.input.feed_ag'] + gold_recovery_full['rougher.input.feed_pb'] +\n",
    "                                         gold_recovery_full['rougher.input.feed_sol'] + gold_recovery_full['rougher.input.feed_au'])\n"
   ]
  },
  {
   "cell_type": "code",
   "execution_count": 46,
   "metadata": {},
   "outputs": [
    {
     "data": {
      "image/png": "[encoded data removed]",
      "text/plain": [
       "<Figure size 720x720 with 1 Axes>"
      ]
     },
     "metadata": {
      "needs_background": "light"
     },
     "output_type": "display_data"
    }
   ],
   "source": [
    "plt.figure(figsize=(10, 10))\n",
    "ax = gold_recovery_full['sum_concen_rough'].hist(alpha=0.5, legend=True)\n",
    "gold_recovery_full['sum_concen_primar'].hist(ax=ax, alpha = 0.8, legend=True)\n",
    "gold_recovery_full['sum_concen_final'].hist(ax=ax, legend=True, alpha=0.6)\n",
    "gold_recovery_full['sum_concen_raw'].hist(ax=ax, legend=True, alpha=0.5)\n",
    "plt.title('Концентрация веществ на разных этапах очистки')\n",
    "plt.xlabel('Концентрация')\n",
    "plt.ylabel('Частота')\n",
    "\n",
    "plt.show()"
   ]
  },
  {
   "cell_type": "markdown",
   "metadata": {},
   "source": [
    "По гистограмме Концентрации веществ на разных этапах очистки видно, что есть концентрации частоты которых практически равны нулю (концентрация от 0 до 40). Данный факт может помешать эффективному обучению модели. В связи с этим необходимо очистить модель от выбросов."
   ]
  },
  {
   "cell_type": "code",
   "execution_count": 47,
   "metadata": {},
   "outputs": [],
   "source": [
    "gold_recovery_full = gold_recovery_full[gold_recovery_full['sum_concen_primar'] > 40]\n",
    "gold_recovery_full = gold_recovery_full[gold_recovery_full['sum_concen_rough'] > 40]\n",
    "gold_recovery_full = gold_recovery_full[gold_recovery_full['sum_concen_final'] > 40]\n",
    "gold_recovery_full = gold_recovery_full[gold_recovery_full['sum_concen_raw'] > 40]\n"
   ]
  },
  {
   "cell_type": "code",
   "execution_count": 48,
   "metadata": {},
   "outputs": [
    {
     "data": {
      "image/png": "[encoded data removed]",
      "text/plain": [
       "<Figure size 720x720 with 1 Axes>"
      ]
     },
     "metadata": {
      "needs_background": "light"
     },
     "output_type": "display_data"
    }
   ],
   "source": [
    "plt.figure(figsize=(10, 10))\n",
    "ax = gold_recovery_full['sum_concen_rough'].hist(alpha=0.5, legend=True)\n",
    "gold_recovery_full['sum_concen_primar'].hist(ax=ax, alpha = 0.8, legend=True)\n",
    "gold_recovery_full['sum_concen_final'].hist(ax=ax, legend=True, alpha=0.6)\n",
    "gold_recovery_full['sum_concen_raw'].hist(ax=ax, legend=True, alpha=0.5)\n",
    "plt.title('Концентрация веществ на разных этапах очистки')\n",
    "plt.xlabel('Концентрация')\n",
    "plt.ylabel('Частота')\n",
    "\n",
    "plt.show()"
   ]
  },
  {
   "cell_type": "markdown",
   "metadata": {},
   "source": [
    "По мере очистки золота разброс в цонцентрации веществ снижается."
   ]
  },
  {
   "cell_type": "code",
   "execution_count": 49,
   "metadata": {},
   "outputs": [],
   "source": [
    "def sum_rough(data):\n",
    "    data['sum_concen_rough'] = (data['rougher.output.concentrate_ag'] + data['rougher.output.concentrate_pb'] +\n",
    "                                         data['rougher.output.concentrate_sol'] + data['rougher.output.concentrate_au'])\n",
    "    data['sum_concen_primar'] = (data['primary_cleaner.output.concentrate_ag'] + data['primary_cleaner.output.concentrate_pb'] +\n",
    "                                         data['primary_cleaner.output.concentrate_sol'] + data['primary_cleaner.output.concentrate_au'])\n",
    "    data['sum_concen_final'] = (data['final.output.concentrate_ag'] + data['final.output.concentrate_pb'] +\n",
    "                                         data['final.output.concentrate_sol'] + data['final.output.concentrate_au'])\n",
    "    data['sum_concen_raw'] = (data['rougher.input.feed_ag'] + data['rougher.input.feed_pb'] +\n",
    "                                         data['rougher.input.feed_sol'] + data['rougher.input.feed_au'])\n",
    "\n",
    "    \n",
    "\n"
   ]
  },
  {
   "cell_type": "code",
   "execution_count": 50,
   "metadata": {},
   "outputs": [],
   "source": [
    "sum_rough(gold_recovery_train)"
   ]
  },
  {
   "cell_type": "code",
   "execution_count": 51,
   "metadata": {},
   "outputs": [],
   "source": [
    "def develop(data):\n",
    "    data = data[data['sum_concen_primar'] > 40]\n",
    "    data = data[data['sum_concen_rough'] > 40]\n",
    "    data = data[data['sum_concen_final'] > 40]\n",
    "    data = data[data['sum_concen_raw'] > 40]"
   ]
  },
  {
   "cell_type": "code",
   "execution_count": 52,
   "metadata": {},
   "outputs": [],
   "source": [
    "develop(gold_recovery_train)"
   ]
  },
  {
   "cell_type": "code",
   "execution_count": 53,
   "metadata": {},
   "outputs": [],
   "source": [
    "gold_recovery_train = gold_recovery_train.drop(col_list, axis=1)"
   ]
  },
  {
   "cell_type": "code",
   "execution_count": 54,
   "metadata": {},
   "outputs": [
    {
     "data": {
      "text/plain": [
       "(14149, 57)"
      ]
     },
     "execution_count": 54,
     "metadata": {},
     "output_type": "execute_result"
    }
   ],
   "source": [
    "gold_recovery_train.shape"
   ]
  },
  {
   "cell_type": "code",
   "execution_count": 55,
   "metadata": {
    "scrolled": true
   },
   "outputs": [
    {
     "data": {
      "text/plain": [
       "date                                          0\n",
       "primary_cleaner.input.sulfate                 0\n",
       "primary_cleaner.input.depressant              0\n",
       "primary_cleaner.input.feed_size               0\n",
       "primary_cleaner.input.xanthate                0\n",
       "primary_cleaner.state.floatbank8_a_air        0\n",
       "primary_cleaner.state.floatbank8_a_level      0\n",
       "primary_cleaner.state.floatbank8_b_air        0\n",
       "primary_cleaner.state.floatbank8_b_level      0\n",
       "primary_cleaner.state.floatbank8_c_air        0\n",
       "primary_cleaner.state.floatbank8_c_level      0\n",
       "primary_cleaner.state.floatbank8_d_air        0\n",
       "primary_cleaner.state.floatbank8_d_level      0\n",
       "rougher.input.feed_ag                         0\n",
       "rougher.input.feed_pb                         0\n",
       "rougher.input.feed_rate                       0\n",
       "rougher.input.feed_size                       0\n",
       "rougher.input.feed_sol                        0\n",
       "rougher.input.feed_au                         0\n",
       "rougher.input.floatbank10_sulfate             0\n",
       "rougher.input.floatbank10_xanthate            0\n",
       "rougher.input.floatbank11_sulfate             0\n",
       "rougher.input.floatbank11_xanthate            0\n",
       "rougher.state.floatbank10_a_air               0\n",
       "rougher.state.floatbank10_a_level             0\n",
       "rougher.state.floatbank10_b_air               0\n",
       "rougher.state.floatbank10_b_level             0\n",
       "rougher.state.floatbank10_c_air               0\n",
       "rougher.state.floatbank10_c_level             0\n",
       "rougher.state.floatbank10_d_air               0\n",
       "rougher.state.floatbank10_d_level             0\n",
       "rougher.state.floatbank10_e_air               0\n",
       "rougher.state.floatbank10_e_level             0\n",
       "rougher.state.floatbank10_f_air               0\n",
       "rougher.state.floatbank10_f_level             0\n",
       "secondary_cleaner.state.floatbank2_a_air      0\n",
       "secondary_cleaner.state.floatbank2_a_level    0\n",
       "secondary_cleaner.state.floatbank2_b_air      0\n",
       "secondary_cleaner.state.floatbank2_b_level    0\n",
       "secondary_cleaner.state.floatbank3_a_air      0\n",
       "secondary_cleaner.state.floatbank3_a_level    0\n",
       "secondary_cleaner.state.floatbank3_b_air      0\n",
       "secondary_cleaner.state.floatbank3_b_level    0\n",
       "secondary_cleaner.state.floatbank4_a_air      0\n",
       "secondary_cleaner.state.floatbank4_a_level    0\n",
       "secondary_cleaner.state.floatbank4_b_air      0\n",
       "secondary_cleaner.state.floatbank4_b_level    0\n",
       "secondary_cleaner.state.floatbank5_a_air      0\n",
       "secondary_cleaner.state.floatbank5_a_level    0\n",
       "secondary_cleaner.state.floatbank5_b_air      0\n",
       "secondary_cleaner.state.floatbank5_b_level    0\n",
       "secondary_cleaner.state.floatbank6_a_air      0\n",
       "secondary_cleaner.state.floatbank6_a_level    0\n",
       "sum_concen_rough                              0\n",
       "sum_concen_primar                             0\n",
       "sum_concen_final                              0\n",
       "sum_concen_raw                                0\n",
       "dtype: int64"
      ]
     },
     "execution_count": 55,
     "metadata": {},
     "output_type": "execute_result"
    }
   ],
   "source": [
    "gold_recovery_train.isna().sum()"
   ]
  },
  {
   "cell_type": "markdown",
   "metadata": {},
   "source": [
    "Поскольку столбцы с суммарной концентрацией могут быть определены через другие признаки, то для избежания возможности переобучения стоит в дальнейшем их удалить."
   ]
  },
  {
   "cell_type": "code",
   "execution_count": 56,
   "metadata": {
    "scrolled": true
   },
   "outputs": [
    {
     "data": {
      "image/png": "[encoded data removed]",
      "text/plain": [
       "<Figure size 720x720 with 1 Axes>"
      ]
     },
     "metadata": {
      "needs_background": "light"
     },
     "output_type": "display_data"
    }
   ],
   "source": [
    "plt.figure(figsize=(10, 10))\n",
    "ax = gold_recovery_train['sum_concen_rough'].hist(alpha=0.5, legend=True)\n",
    "gold_recovery_train['sum_concen_primar'].hist(ax=ax, alpha = 0.8, legend=True)\n",
    "gold_recovery_train['sum_concen_final'].hist(ax=ax, legend=True, alpha=0.6)\n",
    "gold_recovery_train['sum_concen_raw'].hist(ax=ax, legend=True, alpha=0.5)\n",
    "plt.title('Концентрация веществ на разных этапах очистки')\n",
    "plt.xlabel('Концентрация')\n",
    "plt.ylabel('Частота')\n",
    "\n",
    "plt.show()"
   ]
  },
  {
   "cell_type": "code",
   "execution_count": 57,
   "metadata": {},
   "outputs": [],
   "source": [
    "gold_recovery_train = gold_recovery_train.drop(['sum_concen_rough', 'sum_concen_primar', 'sum_concen_final', 'sum_concen_raw'], 1)"
   ]
  },
  {
   "cell_type": "markdown",
   "metadata": {},
   "source": [
    "**Выводы**"
   ]
  },
  {
   "cell_type": "markdown",
   "metadata": {},
   "source": [
    "До этапа флотации коцентрация трёх металлов распределена вокруг слудующих значений:\n",
    "серебро - 7,8\n",
    "медь - 3,5\n",
    "золото - 7,5\n",
    "\n",
    "Этап Флотации\n",
    "Среднее AG: 11.994759359873429\n",
    "Медианное AG: 12.098114967346191\n",
    "Среднее AU: 19.772000139486316\n",
    "Медианное AU: 20.280214025891475\n",
    "Среднее PB: 7.606272313195003\n",
    "Медианное PB: 7.742580079502529\n",
    "Концентрация металлов после этапа флотации для серебра равна 12, для золота - 21, для меди - 7,5.\n",
    "\n",
    "Этап Первичной обработки\n",
    "Среднее AG: 8.44240807771906\n",
    "Медианное AG: 8.507297972365805\n",
    "Среднее AU: 32.1194004078765\n",
    "Медианное AU: 32.841295480233306\n",
    "Среднее PB: 9.810316539310149\n",
    "Медианное PB: 10.142270415359071\n",
    "Во время первого этапа очистки концентрация серебра в среднем снижается, а вот концентрация меди и золота растут. причём концентрация золота в среднем выросла на 50%.\n",
    "\n",
    "Этап Первичной обработки\n",
    "Среднее AG: 5.168386967510243\n",
    "Медианное AG: 5.066039118467836\n",
    "Среднее AU: 44.0765129419528\n",
    "Медианное AU: 45.01124391455689\n",
    "Среднее PB: 9.978821384192907\n",
    "Медианное PB: 10.10226350598865\n",
    "Концентрация золото после второго этапа очистки выросла на 50% при параллельном уменьшении концентрации других металлов.\n",
    "\n",
    "По гистограмме Концентрации веществ на разных этапах очистки видно, что есть концентрации частоты которых практически равны нулю (концентрация от 0 до 40). Данный факт может помешать эффективному обучению модели. В связи с этим  важно очистить данные  от выбросов.\n",
    "По мере очистки золота разброс в концентрации веществ снижается.\n",
    "Для повышения качества будущей модели из тренировочной выборки были удалены те столбцы (праметры), которые отсутствовали в тестовой выборке."
   ]
  },
  {
   "cell_type": "markdown",
   "metadata": {},
   "source": [
    "## Модель"
   ]
  },
  {
   "cell_type": "code",
   "execution_count": 58,
   "metadata": {
    "scrolled": false
   },
   "outputs": [
    {
     "name": "stdout",
     "output_type": "stream",
     "text": [
      "<class 'pandas.core.frame.DataFrame'>\n",
      "Int64Index: 17847 entries, 0 to 19438\n",
      "Data columns (total 91 columns):\n",
      " #   Column                                              Non-Null Count  Dtype         \n",
      "---  ------                                              --------------  -----         \n",
      " 0   date                                                17847 non-null  datetime64[ns]\n",
      " 1   final.output.concentrate_ag                         17847 non-null  float64       \n",
      " 2   final.output.concentrate_pb                         17847 non-null  float64       \n",
      " 3   final.output.concentrate_sol                        17847 non-null  float64       \n",
      " 4   final.output.concentrate_au                         17847 non-null  float64       \n",
      " 5   final.output.recovery                               17847 non-null  float64       \n",
      " 6   final.output.tail_ag                                17847 non-null  float64       \n",
      " 7   final.output.tail_pb                                17847 non-null  float64       \n",
      " 8   final.output.tail_sol                               17847 non-null  float64       \n",
      " 9   final.output.tail_au                                17847 non-null  float64       \n",
      " 10  primary_cleaner.input.sulfate                       17847 non-null  float64       \n",
      " 11  primary_cleaner.input.depressant                    17847 non-null  float64       \n",
      " 12  primary_cleaner.input.feed_size                     17847 non-null  float64       \n",
      " 13  primary_cleaner.input.xanthate                      17847 non-null  float64       \n",
      " 14  primary_cleaner.output.concentrate_ag               17847 non-null  float64       \n",
      " 15  primary_cleaner.output.concentrate_pb               17847 non-null  float64       \n",
      " 16  primary_cleaner.output.concentrate_sol              17847 non-null  float64       \n",
      " 17  primary_cleaner.output.concentrate_au               17847 non-null  float64       \n",
      " 18  primary_cleaner.output.tail_ag                      17847 non-null  float64       \n",
      " 19  primary_cleaner.output.tail_pb                      17847 non-null  float64       \n",
      " 20  primary_cleaner.output.tail_sol                     17847 non-null  float64       \n",
      " 21  primary_cleaner.output.tail_au                      17847 non-null  float64       \n",
      " 22  primary_cleaner.state.floatbank8_a_air              17847 non-null  float64       \n",
      " 23  primary_cleaner.state.floatbank8_a_level            17847 non-null  float64       \n",
      " 24  primary_cleaner.state.floatbank8_b_air              17847 non-null  float64       \n",
      " 25  primary_cleaner.state.floatbank8_b_level            17847 non-null  float64       \n",
      " 26  primary_cleaner.state.floatbank8_c_air              17847 non-null  float64       \n",
      " 27  primary_cleaner.state.floatbank8_c_level            17847 non-null  float64       \n",
      " 28  primary_cleaner.state.floatbank8_d_air              17847 non-null  float64       \n",
      " 29  primary_cleaner.state.floatbank8_d_level            17847 non-null  float64       \n",
      " 30  rougher.calculation.sulfate_to_au_concentrate       17847 non-null  float64       \n",
      " 31  rougher.calculation.floatbank10_sulfate_to_au_feed  17847 non-null  float64       \n",
      " 32  rougher.calculation.floatbank11_sulfate_to_au_feed  17847 non-null  float64       \n",
      " 33  rougher.calculation.au_pb_ratio                     17847 non-null  float64       \n",
      " 34  rougher.input.feed_ag                               17847 non-null  float64       \n",
      " 35  rougher.input.feed_pb                               17847 non-null  float64       \n",
      " 36  rougher.input.feed_rate                             17847 non-null  float64       \n",
      " 37  rougher.input.feed_size                             17847 non-null  float64       \n",
      " 38  rougher.input.feed_sol                              17847 non-null  float64       \n",
      " 39  rougher.input.feed_au                               17847 non-null  float64       \n",
      " 40  rougher.input.floatbank10_sulfate                   17847 non-null  float64       \n",
      " 41  rougher.input.floatbank10_xanthate                  17847 non-null  float64       \n",
      " 42  rougher.input.floatbank11_sulfate                   17847 non-null  float64       \n",
      " 43  rougher.input.floatbank11_xanthate                  17847 non-null  float64       \n",
      " 44  rougher.output.concentrate_ag                       17847 non-null  float64       \n",
      " 45  rougher.output.concentrate_pb                       17847 non-null  float64       \n",
      " 46  rougher.output.concentrate_sol                      17847 non-null  float64       \n",
      " 47  rougher.output.concentrate_au                       17847 non-null  float64       \n",
      " 48  rougher.output.recovery                             17847 non-null  float64       \n",
      " 49  rougher.output.tail_ag                              17847 non-null  float64       \n",
      " 50  rougher.output.tail_pb                              17847 non-null  float64       \n",
      " 51  rougher.output.tail_sol                             17847 non-null  float64       \n",
      " 52  rougher.output.tail_au                              17847 non-null  float64       \n",
      " 53  rougher.state.floatbank10_a_air                     17847 non-null  float64       \n",
      " 54  rougher.state.floatbank10_a_level                   17847 non-null  float64       \n",
      " 55  rougher.state.floatbank10_b_air                     17847 non-null  float64       \n",
      " 56  rougher.state.floatbank10_b_level                   17847 non-null  float64       \n",
      " 57  rougher.state.floatbank10_c_air                     17847 non-null  float64       \n",
      " 58  rougher.state.floatbank10_c_level                   17847 non-null  float64       \n",
      " 59  rougher.state.floatbank10_d_air                     17847 non-null  float64       \n",
      " 60  rougher.state.floatbank10_d_level                   17847 non-null  float64       \n",
      " 61  rougher.state.floatbank10_e_air                     17847 non-null  float64       \n",
      " 62  rougher.state.floatbank10_e_level                   17847 non-null  float64       \n",
      " 63  rougher.state.floatbank10_f_air                     17847 non-null  float64       \n",
      " 64  rougher.state.floatbank10_f_level                   17847 non-null  float64       \n",
      " 65  secondary_cleaner.output.tail_ag                    17847 non-null  float64       \n",
      " 66  secondary_cleaner.output.tail_pb                    17847 non-null  float64       \n",
      " 67  secondary_cleaner.output.tail_sol                   17847 non-null  float64       \n",
      " 68  secondary_cleaner.output.tail_au                    17847 non-null  float64       \n",
      " 69  secondary_cleaner.state.floatbank2_a_air            17847 non-null  float64       \n",
      " 70  secondary_cleaner.state.floatbank2_a_level          17847 non-null  float64       \n",
      " 71  secondary_cleaner.state.floatbank2_b_air            17847 non-null  float64       \n",
      " 72  secondary_cleaner.state.floatbank2_b_level          17847 non-null  float64       \n",
      " 73  secondary_cleaner.state.floatbank3_a_air            17847 non-null  float64       \n",
      " 74  secondary_cleaner.state.floatbank3_a_level          17847 non-null  float64       \n",
      " 75  secondary_cleaner.state.floatbank3_b_air            17847 non-null  float64       \n",
      " 76  secondary_cleaner.state.floatbank3_b_level          17847 non-null  float64       \n",
      " 77  secondary_cleaner.state.floatbank4_a_air            17847 non-null  float64       \n",
      " 78  secondary_cleaner.state.floatbank4_a_level          17847 non-null  float64       \n",
      " 79  secondary_cleaner.state.floatbank4_b_air            17847 non-null  float64       \n",
      " 80  secondary_cleaner.state.floatbank4_b_level          17847 non-null  float64       \n",
      " 81  secondary_cleaner.state.floatbank5_a_air            17847 non-null  float64       \n",
      " 82  secondary_cleaner.state.floatbank5_a_level          17847 non-null  float64       \n",
      " 83  secondary_cleaner.state.floatbank5_b_air            17847 non-null  float64       \n",
      " 84  secondary_cleaner.state.floatbank5_b_level          17847 non-null  float64       \n",
      " 85  secondary_cleaner.state.floatbank6_a_air            17847 non-null  float64       \n",
      " 86  secondary_cleaner.state.floatbank6_a_level          17847 non-null  float64       \n",
      " 87  sum_concen_rough                                    17847 non-null  float64       \n",
      " 88  sum_concen_primar                                   17847 non-null  float64       \n",
      " 89  sum_concen_final                                    17847 non-null  float64       \n",
      " 90  sum_concen_raw                                      17847 non-null  float64       \n",
      "dtypes: datetime64[ns](1), float64(90)\n",
      "memory usage: 12.5 MB\n"
     ]
    }
   ],
   "source": [
    "gold_recovery_full.info()"
   ]
  },
  {
   "cell_type": "code",
   "execution_count": 59,
   "metadata": {},
   "outputs": [
    {
     "data": {
      "text/plain": [
       "17847"
      ]
     },
     "execution_count": 59,
     "metadata": {},
     "output_type": "execute_result"
    }
   ],
   "source": [
    "len(gold_recovery_full['date'].unique())"
   ]
  },
  {
   "cell_type": "code",
   "execution_count": 60,
   "metadata": {},
   "outputs": [
    {
     "data": {
      "text/html": [
       "<div>\n",
       "<style scoped>\n",
       "    .dataframe tbody tr th:only-of-type {\n",
       "        vertical-align: middle;\n",
       "    }\n",
       "\n",
       "    .dataframe tbody tr th {\n",
       "        vertical-align: top;\n",
       "    }\n",
       "\n",
       "    .dataframe thead th {\n",
       "        text-align: right;\n",
       "    }\n",
       "</style>\n",
       "<table border=\"1\" class=\"dataframe\">\n",
       "  <thead>\n",
       "    <tr style=\"text-align: right;\">\n",
       "      <th></th>\n",
       "      <th>date</th>\n",
       "      <th>primary_cleaner.input.sulfate</th>\n",
       "      <th>primary_cleaner.input.depressant</th>\n",
       "      <th>primary_cleaner.input.feed_size</th>\n",
       "      <th>primary_cleaner.input.xanthate</th>\n",
       "      <th>primary_cleaner.state.floatbank8_a_air</th>\n",
       "      <th>primary_cleaner.state.floatbank8_a_level</th>\n",
       "      <th>primary_cleaner.state.floatbank8_b_air</th>\n",
       "      <th>primary_cleaner.state.floatbank8_b_level</th>\n",
       "      <th>primary_cleaner.state.floatbank8_c_air</th>\n",
       "      <th>...</th>\n",
       "      <th>secondary_cleaner.state.floatbank4_b_air</th>\n",
       "      <th>secondary_cleaner.state.floatbank4_b_level</th>\n",
       "      <th>secondary_cleaner.state.floatbank5_a_air</th>\n",
       "      <th>secondary_cleaner.state.floatbank5_a_level</th>\n",
       "      <th>secondary_cleaner.state.floatbank5_b_air</th>\n",
       "      <th>secondary_cleaner.state.floatbank5_b_level</th>\n",
       "      <th>secondary_cleaner.state.floatbank6_a_air</th>\n",
       "      <th>secondary_cleaner.state.floatbank6_a_level</th>\n",
       "      <th>rougher.output.recovery</th>\n",
       "      <th>final.output.recovery</th>\n",
       "    </tr>\n",
       "  </thead>\n",
       "  <tbody>\n",
       "    <tr>\n",
       "      <th>0</th>\n",
       "      <td>2016-01-15 00:00:00</td>\n",
       "      <td>127.092003</td>\n",
       "      <td>10.128295</td>\n",
       "      <td>7.25</td>\n",
       "      <td>0.988759</td>\n",
       "      <td>1549.775757</td>\n",
       "      <td>-498.912140</td>\n",
       "      <td>1551.434204</td>\n",
       "      <td>-516.403442</td>\n",
       "      <td>1549.873901</td>\n",
       "      <td>...</td>\n",
       "      <td>12.099931</td>\n",
       "      <td>-504.715942</td>\n",
       "      <td>9.925633</td>\n",
       "      <td>-498.310211</td>\n",
       "      <td>8.079666</td>\n",
       "      <td>-500.470978</td>\n",
       "      <td>14.151341</td>\n",
       "      <td>-605.841980</td>\n",
       "      <td>87.107763</td>\n",
       "      <td>70.541216</td>\n",
       "    </tr>\n",
       "    <tr>\n",
       "      <th>1</th>\n",
       "      <td>2016-01-15 01:00:00</td>\n",
       "      <td>125.629232</td>\n",
       "      <td>10.296251</td>\n",
       "      <td>7.25</td>\n",
       "      <td>1.002663</td>\n",
       "      <td>1576.166671</td>\n",
       "      <td>-500.904965</td>\n",
       "      <td>1575.950626</td>\n",
       "      <td>-499.865889</td>\n",
       "      <td>1575.994189</td>\n",
       "      <td>...</td>\n",
       "      <td>11.950531</td>\n",
       "      <td>-501.331529</td>\n",
       "      <td>10.039245</td>\n",
       "      <td>-500.169983</td>\n",
       "      <td>7.984757</td>\n",
       "      <td>-500.582168</td>\n",
       "      <td>13.998353</td>\n",
       "      <td>-599.787184</td>\n",
       "      <td>86.843261</td>\n",
       "      <td>69.266198</td>\n",
       "    </tr>\n",
       "    <tr>\n",
       "      <th>2</th>\n",
       "      <td>2016-01-15 02:00:00</td>\n",
       "      <td>123.819808</td>\n",
       "      <td>11.316280</td>\n",
       "      <td>7.25</td>\n",
       "      <td>0.991265</td>\n",
       "      <td>1601.556163</td>\n",
       "      <td>-499.997791</td>\n",
       "      <td>1600.386685</td>\n",
       "      <td>-500.607762</td>\n",
       "      <td>1602.003542</td>\n",
       "      <td>...</td>\n",
       "      <td>11.912783</td>\n",
       "      <td>-501.133383</td>\n",
       "      <td>10.070913</td>\n",
       "      <td>-500.129135</td>\n",
       "      <td>8.013877</td>\n",
       "      <td>-500.517572</td>\n",
       "      <td>14.028663</td>\n",
       "      <td>-601.427363</td>\n",
       "      <td>86.842308</td>\n",
       "      <td>68.116445</td>\n",
       "    </tr>\n",
       "    <tr>\n",
       "      <th>3</th>\n",
       "      <td>2016-01-15 03:00:00</td>\n",
       "      <td>122.270188</td>\n",
       "      <td>11.322140</td>\n",
       "      <td>7.25</td>\n",
       "      <td>0.996739</td>\n",
       "      <td>1599.968720</td>\n",
       "      <td>-500.951778</td>\n",
       "      <td>1600.659236</td>\n",
       "      <td>-499.677094</td>\n",
       "      <td>1600.304144</td>\n",
       "      <td>...</td>\n",
       "      <td>11.999550</td>\n",
       "      <td>-501.193686</td>\n",
       "      <td>9.970366</td>\n",
       "      <td>-499.201640</td>\n",
       "      <td>7.977324</td>\n",
       "      <td>-500.255908</td>\n",
       "      <td>14.005551</td>\n",
       "      <td>-599.996129</td>\n",
       "      <td>87.226430</td>\n",
       "      <td>68.347543</td>\n",
       "    </tr>\n",
       "    <tr>\n",
       "      <th>4</th>\n",
       "      <td>2016-01-15 04:00:00</td>\n",
       "      <td>117.988169</td>\n",
       "      <td>11.913613</td>\n",
       "      <td>7.25</td>\n",
       "      <td>1.009869</td>\n",
       "      <td>1601.339707</td>\n",
       "      <td>-498.975456</td>\n",
       "      <td>1601.437854</td>\n",
       "      <td>-500.323246</td>\n",
       "      <td>1599.581894</td>\n",
       "      <td>...</td>\n",
       "      <td>11.953070</td>\n",
       "      <td>-501.053894</td>\n",
       "      <td>9.925709</td>\n",
       "      <td>-501.686727</td>\n",
       "      <td>7.894242</td>\n",
       "      <td>-500.356035</td>\n",
       "      <td>13.996647</td>\n",
       "      <td>-601.496691</td>\n",
       "      <td>86.688794</td>\n",
       "      <td>66.927016</td>\n",
       "    </tr>\n",
       "    <tr>\n",
       "      <th>...</th>\n",
       "      <td>...</td>\n",
       "      <td>...</td>\n",
       "      <td>...</td>\n",
       "      <td>...</td>\n",
       "      <td>...</td>\n",
       "      <td>...</td>\n",
       "      <td>...</td>\n",
       "      <td>...</td>\n",
       "      <td>...</td>\n",
       "      <td>...</td>\n",
       "      <td>...</td>\n",
       "      <td>...</td>\n",
       "      <td>...</td>\n",
       "      <td>...</td>\n",
       "      <td>...</td>\n",
       "      <td>...</td>\n",
       "      <td>...</td>\n",
       "      <td>...</td>\n",
       "      <td>...</td>\n",
       "      <td>...</td>\n",
       "      <td>...</td>\n",
       "    </tr>\n",
       "    <tr>\n",
       "      <th>12899</th>\n",
       "      <td>2018-08-18 06:59:59</td>\n",
       "      <td>123.381787</td>\n",
       "      <td>8.028927</td>\n",
       "      <td>6.50</td>\n",
       "      <td>1.304232</td>\n",
       "      <td>1648.421193</td>\n",
       "      <td>-400.382169</td>\n",
       "      <td>1648.742005</td>\n",
       "      <td>-400.359661</td>\n",
       "      <td>1648.578230</td>\n",
       "      <td>...</td>\n",
       "      <td>20.007571</td>\n",
       "      <td>-499.740028</td>\n",
       "      <td>18.006038</td>\n",
       "      <td>-499.834374</td>\n",
       "      <td>13.001114</td>\n",
       "      <td>-500.155694</td>\n",
       "      <td>20.007840</td>\n",
       "      <td>-501.296428</td>\n",
       "      <td>89.574376</td>\n",
       "      <td>73.755150</td>\n",
       "    </tr>\n",
       "    <tr>\n",
       "      <th>12900</th>\n",
       "      <td>2018-08-18 07:59:59</td>\n",
       "      <td>120.878188</td>\n",
       "      <td>7.962636</td>\n",
       "      <td>6.50</td>\n",
       "      <td>1.302419</td>\n",
       "      <td>1649.820162</td>\n",
       "      <td>-399.930973</td>\n",
       "      <td>1649.357538</td>\n",
       "      <td>-399.721222</td>\n",
       "      <td>1648.656192</td>\n",
       "      <td>...</td>\n",
       "      <td>20.035660</td>\n",
       "      <td>-500.251357</td>\n",
       "      <td>17.998535</td>\n",
       "      <td>-500.395178</td>\n",
       "      <td>12.954048</td>\n",
       "      <td>-499.895163</td>\n",
       "      <td>19.968498</td>\n",
       "      <td>-501.041608</td>\n",
       "      <td>87.724007</td>\n",
       "      <td>69.049291</td>\n",
       "    </tr>\n",
       "    <tr>\n",
       "      <th>12901</th>\n",
       "      <td>2018-08-18 08:59:59</td>\n",
       "      <td>105.666118</td>\n",
       "      <td>7.955111</td>\n",
       "      <td>6.50</td>\n",
       "      <td>1.315926</td>\n",
       "      <td>1649.166761</td>\n",
       "      <td>-399.888631</td>\n",
       "      <td>1649.196904</td>\n",
       "      <td>-399.677571</td>\n",
       "      <td>1647.896999</td>\n",
       "      <td>...</td>\n",
       "      <td>19.951231</td>\n",
       "      <td>-499.857027</td>\n",
       "      <td>18.019543</td>\n",
       "      <td>-500.451156</td>\n",
       "      <td>13.023431</td>\n",
       "      <td>-499.914391</td>\n",
       "      <td>19.990885</td>\n",
       "      <td>-501.518452</td>\n",
       "      <td>88.890579</td>\n",
       "      <td>67.002189</td>\n",
       "    </tr>\n",
       "    <tr>\n",
       "      <th>12902</th>\n",
       "      <td>2018-08-18 09:59:59</td>\n",
       "      <td>98.880538</td>\n",
       "      <td>7.984164</td>\n",
       "      <td>6.50</td>\n",
       "      <td>1.241969</td>\n",
       "      <td>1646.547763</td>\n",
       "      <td>-398.977083</td>\n",
       "      <td>1648.212240</td>\n",
       "      <td>-400.383265</td>\n",
       "      <td>1648.917387</td>\n",
       "      <td>...</td>\n",
       "      <td>20.054122</td>\n",
       "      <td>-500.314711</td>\n",
       "      <td>17.979515</td>\n",
       "      <td>-499.272871</td>\n",
       "      <td>12.992404</td>\n",
       "      <td>-499.976268</td>\n",
       "      <td>20.013986</td>\n",
       "      <td>-500.625471</td>\n",
       "      <td>89.858126</td>\n",
       "      <td>65.523246</td>\n",
       "    </tr>\n",
       "    <tr>\n",
       "      <th>12903</th>\n",
       "      <td>2018-08-18 10:59:59</td>\n",
       "      <td>95.248427</td>\n",
       "      <td>8.078957</td>\n",
       "      <td>6.50</td>\n",
       "      <td>1.283045</td>\n",
       "      <td>1648.759906</td>\n",
       "      <td>-399.862053</td>\n",
       "      <td>1650.135395</td>\n",
       "      <td>-399.957321</td>\n",
       "      <td>1648.831890</td>\n",
       "      <td>...</td>\n",
       "      <td>20.020205</td>\n",
       "      <td>-500.220296</td>\n",
       "      <td>17.963512</td>\n",
       "      <td>-499.939490</td>\n",
       "      <td>12.990306</td>\n",
       "      <td>-500.080993</td>\n",
       "      <td>19.990336</td>\n",
       "      <td>-499.191575</td>\n",
       "      <td>89.514960</td>\n",
       "      <td>70.281454</td>\n",
       "    </tr>\n",
       "  </tbody>\n",
       "</table>\n",
       "<p>12904 rows × 55 columns</p>\n",
       "</div>"
      ],
      "text/plain": [
       "                     date  primary_cleaner.input.sulfate  \\\n",
       "0     2016-01-15 00:00:00                     127.092003   \n",
       "1     2016-01-15 01:00:00                     125.629232   \n",
       "2     2016-01-15 02:00:00                     123.819808   \n",
       "3     2016-01-15 03:00:00                     122.270188   \n",
       "4     2016-01-15 04:00:00                     117.988169   \n",
       "...                   ...                            ...   \n",
       "12899 2018-08-18 06:59:59                     123.381787   \n",
       "12900 2018-08-18 07:59:59                     120.878188   \n",
       "12901 2018-08-18 08:59:59                     105.666118   \n",
       "12902 2018-08-18 09:59:59                      98.880538   \n",
       "12903 2018-08-18 10:59:59                      95.248427   \n",
       "\n",
       "       primary_cleaner.input.depressant  primary_cleaner.input.feed_size  \\\n",
       "0                             10.128295                             7.25   \n",
       "1                             10.296251                             7.25   \n",
       "2                             11.316280                             7.25   \n",
       "3                             11.322140                             7.25   \n",
       "4                             11.913613                             7.25   \n",
       "...                                 ...                              ...   \n",
       "12899                          8.028927                             6.50   \n",
       "12900                          7.962636                             6.50   \n",
       "12901                          7.955111                             6.50   \n",
       "12902                          7.984164                             6.50   \n",
       "12903                          8.078957                             6.50   \n",
       "\n",
       "       primary_cleaner.input.xanthate  primary_cleaner.state.floatbank8_a_air  \\\n",
       "0                            0.988759                             1549.775757   \n",
       "1                            1.002663                             1576.166671   \n",
       "2                            0.991265                             1601.556163   \n",
       "3                            0.996739                             1599.968720   \n",
       "4                            1.009869                             1601.339707   \n",
       "...                               ...                                     ...   \n",
       "12899                        1.304232                             1648.421193   \n",
       "12900                        1.302419                             1649.820162   \n",
       "12901                        1.315926                             1649.166761   \n",
       "12902                        1.241969                             1646.547763   \n",
       "12903                        1.283045                             1648.759906   \n",
       "\n",
       "       primary_cleaner.state.floatbank8_a_level  \\\n",
       "0                                   -498.912140   \n",
       "1                                   -500.904965   \n",
       "2                                   -499.997791   \n",
       "3                                   -500.951778   \n",
       "4                                   -498.975456   \n",
       "...                                         ...   \n",
       "12899                               -400.382169   \n",
       "12900                               -399.930973   \n",
       "12901                               -399.888631   \n",
       "12902                               -398.977083   \n",
       "12903                               -399.862053   \n",
       "\n",
       "       primary_cleaner.state.floatbank8_b_air  \\\n",
       "0                                 1551.434204   \n",
       "1                                 1575.950626   \n",
       "2                                 1600.386685   \n",
       "3                                 1600.659236   \n",
       "4                                 1601.437854   \n",
       "...                                       ...   \n",
       "12899                             1648.742005   \n",
       "12900                             1649.357538   \n",
       "12901                             1649.196904   \n",
       "12902                             1648.212240   \n",
       "12903                             1650.135395   \n",
       "\n",
       "       primary_cleaner.state.floatbank8_b_level  \\\n",
       "0                                   -516.403442   \n",
       "1                                   -499.865889   \n",
       "2                                   -500.607762   \n",
       "3                                   -499.677094   \n",
       "4                                   -500.323246   \n",
       "...                                         ...   \n",
       "12899                               -400.359661   \n",
       "12900                               -399.721222   \n",
       "12901                               -399.677571   \n",
       "12902                               -400.383265   \n",
       "12903                               -399.957321   \n",
       "\n",
       "       primary_cleaner.state.floatbank8_c_air  ...  \\\n",
       "0                                 1549.873901  ...   \n",
       "1                                 1575.994189  ...   \n",
       "2                                 1602.003542  ...   \n",
       "3                                 1600.304144  ...   \n",
       "4                                 1599.581894  ...   \n",
       "...                                       ...  ...   \n",
       "12899                             1648.578230  ...   \n",
       "12900                             1648.656192  ...   \n",
       "12901                             1647.896999  ...   \n",
       "12902                             1648.917387  ...   \n",
       "12903                             1648.831890  ...   \n",
       "\n",
       "       secondary_cleaner.state.floatbank4_b_air  \\\n",
       "0                                     12.099931   \n",
       "1                                     11.950531   \n",
       "2                                     11.912783   \n",
       "3                                     11.999550   \n",
       "4                                     11.953070   \n",
       "...                                         ...   \n",
       "12899                                 20.007571   \n",
       "12900                                 20.035660   \n",
       "12901                                 19.951231   \n",
       "12902                                 20.054122   \n",
       "12903                                 20.020205   \n",
       "\n",
       "       secondary_cleaner.state.floatbank4_b_level  \\\n",
       "0                                     -504.715942   \n",
       "1                                     -501.331529   \n",
       "2                                     -501.133383   \n",
       "3                                     -501.193686   \n",
       "4                                     -501.053894   \n",
       "...                                           ...   \n",
       "12899                                 -499.740028   \n",
       "12900                                 -500.251357   \n",
       "12901                                 -499.857027   \n",
       "12902                                 -500.314711   \n",
       "12903                                 -500.220296   \n",
       "\n",
       "       secondary_cleaner.state.floatbank5_a_air  \\\n",
       "0                                      9.925633   \n",
       "1                                     10.039245   \n",
       "2                                     10.070913   \n",
       "3                                      9.970366   \n",
       "4                                      9.925709   \n",
       "...                                         ...   \n",
       "12899                                 18.006038   \n",
       "12900                                 17.998535   \n",
       "12901                                 18.019543   \n",
       "12902                                 17.979515   \n",
       "12903                                 17.963512   \n",
       "\n",
       "       secondary_cleaner.state.floatbank5_a_level  \\\n",
       "0                                     -498.310211   \n",
       "1                                     -500.169983   \n",
       "2                                     -500.129135   \n",
       "3                                     -499.201640   \n",
       "4                                     -501.686727   \n",
       "...                                           ...   \n",
       "12899                                 -499.834374   \n",
       "12900                                 -500.395178   \n",
       "12901                                 -500.451156   \n",
       "12902                                 -499.272871   \n",
       "12903                                 -499.939490   \n",
       "\n",
       "       secondary_cleaner.state.floatbank5_b_air  \\\n",
       "0                                      8.079666   \n",
       "1                                      7.984757   \n",
       "2                                      8.013877   \n",
       "3                                      7.977324   \n",
       "4                                      7.894242   \n",
       "...                                         ...   \n",
       "12899                                 13.001114   \n",
       "12900                                 12.954048   \n",
       "12901                                 13.023431   \n",
       "12902                                 12.992404   \n",
       "12903                                 12.990306   \n",
       "\n",
       "       secondary_cleaner.state.floatbank5_b_level  \\\n",
       "0                                     -500.470978   \n",
       "1                                     -500.582168   \n",
       "2                                     -500.517572   \n",
       "3                                     -500.255908   \n",
       "4                                     -500.356035   \n",
       "...                                           ...   \n",
       "12899                                 -500.155694   \n",
       "12900                                 -499.895163   \n",
       "12901                                 -499.914391   \n",
       "12902                                 -499.976268   \n",
       "12903                                 -500.080993   \n",
       "\n",
       "       secondary_cleaner.state.floatbank6_a_air  \\\n",
       "0                                     14.151341   \n",
       "1                                     13.998353   \n",
       "2                                     14.028663   \n",
       "3                                     14.005551   \n",
       "4                                     13.996647   \n",
       "...                                         ...   \n",
       "12899                                 20.007840   \n",
       "12900                                 19.968498   \n",
       "12901                                 19.990885   \n",
       "12902                                 20.013986   \n",
       "12903                                 19.990336   \n",
       "\n",
       "       secondary_cleaner.state.floatbank6_a_level  rougher.output.recovery  \\\n",
       "0                                     -605.841980                87.107763   \n",
       "1                                     -599.787184                86.843261   \n",
       "2                                     -601.427363                86.842308   \n",
       "3                                     -599.996129                87.226430   \n",
       "4                                     -601.496691                86.688794   \n",
       "...                                           ...                      ...   \n",
       "12899                                 -501.296428                89.574376   \n",
       "12900                                 -501.041608                87.724007   \n",
       "12901                                 -501.518452                88.890579   \n",
       "12902                                 -500.625471                89.858126   \n",
       "12903                                 -499.191575                89.514960   \n",
       "\n",
       "       final.output.recovery  \n",
       "0                  70.541216  \n",
       "1                  69.266198  \n",
       "2                  68.116445  \n",
       "3                  68.347543  \n",
       "4                  66.927016  \n",
       "...                      ...  \n",
       "12899              73.755150  \n",
       "12900              69.049291  \n",
       "12901              67.002189  \n",
       "12902              65.523246  \n",
       "12903              70.281454  \n",
       "\n",
       "[12904 rows x 55 columns]"
      ]
     },
     "execution_count": 60,
     "metadata": {},
     "output_type": "execute_result"
    }
   ],
   "source": [
    "date = list(gold_recovery_train['date'])\n",
    "temp = gold_recovery_full.query(\"date == @date\")[['date', 'rougher.output.recovery', 'final.output.recovery']]\n",
    "gold_recovery_train = gold_recovery_train.merge(temp, on='date')\n",
    "gold_recovery_train"
   ]
  },
  {
   "cell_type": "code",
   "execution_count": 61,
   "metadata": {
    "scrolled": true
   },
   "outputs": [
    {
     "data": {
      "text/html": [
       "<div>\n",
       "<style scoped>\n",
       "    .dataframe tbody tr th:only-of-type {\n",
       "        vertical-align: middle;\n",
       "    }\n",
       "\n",
       "    .dataframe tbody tr th {\n",
       "        vertical-align: top;\n",
       "    }\n",
       "\n",
       "    .dataframe thead th {\n",
       "        text-align: right;\n",
       "    }\n",
       "</style>\n",
       "<table border=\"1\" class=\"dataframe\">\n",
       "  <thead>\n",
       "    <tr style=\"text-align: right;\">\n",
       "      <th></th>\n",
       "      <th>date</th>\n",
       "      <th>primary_cleaner.input.sulfate</th>\n",
       "      <th>primary_cleaner.input.depressant</th>\n",
       "      <th>primary_cleaner.input.feed_size</th>\n",
       "      <th>primary_cleaner.input.xanthate</th>\n",
       "      <th>primary_cleaner.state.floatbank8_a_air</th>\n",
       "      <th>primary_cleaner.state.floatbank8_a_level</th>\n",
       "      <th>primary_cleaner.state.floatbank8_b_air</th>\n",
       "      <th>primary_cleaner.state.floatbank8_b_level</th>\n",
       "      <th>primary_cleaner.state.floatbank8_c_air</th>\n",
       "      <th>...</th>\n",
       "      <th>secondary_cleaner.state.floatbank4_b_air</th>\n",
       "      <th>secondary_cleaner.state.floatbank4_b_level</th>\n",
       "      <th>secondary_cleaner.state.floatbank5_a_air</th>\n",
       "      <th>secondary_cleaner.state.floatbank5_a_level</th>\n",
       "      <th>secondary_cleaner.state.floatbank5_b_air</th>\n",
       "      <th>secondary_cleaner.state.floatbank5_b_level</th>\n",
       "      <th>secondary_cleaner.state.floatbank6_a_air</th>\n",
       "      <th>secondary_cleaner.state.floatbank6_a_level</th>\n",
       "      <th>rougher.output.recovery</th>\n",
       "      <th>final.output.recovery</th>\n",
       "    </tr>\n",
       "  </thead>\n",
       "  <tbody>\n",
       "    <tr>\n",
       "      <th>0</th>\n",
       "      <td>2016-09-01 00:59:59</td>\n",
       "      <td>210.800909</td>\n",
       "      <td>14.993118</td>\n",
       "      <td>8.080000</td>\n",
       "      <td>1.005021</td>\n",
       "      <td>1398.981301</td>\n",
       "      <td>-500.225577</td>\n",
       "      <td>1399.144926</td>\n",
       "      <td>-499.919735</td>\n",
       "      <td>1400.102998</td>\n",
       "      <td>...</td>\n",
       "      <td>8.016656</td>\n",
       "      <td>-501.289139</td>\n",
       "      <td>7.946562</td>\n",
       "      <td>-432.317850</td>\n",
       "      <td>4.872511</td>\n",
       "      <td>-500.037437</td>\n",
       "      <td>26.705889</td>\n",
       "      <td>-499.709414</td>\n",
       "      <td>89.993421</td>\n",
       "      <td>70.273583</td>\n",
       "    </tr>\n",
       "    <tr>\n",
       "      <th>1</th>\n",
       "      <td>2016-09-01 01:59:59</td>\n",
       "      <td>215.392455</td>\n",
       "      <td>14.987471</td>\n",
       "      <td>8.080000</td>\n",
       "      <td>0.990469</td>\n",
       "      <td>1398.777912</td>\n",
       "      <td>-500.057435</td>\n",
       "      <td>1398.055362</td>\n",
       "      <td>-499.778182</td>\n",
       "      <td>1396.151033</td>\n",
       "      <td>...</td>\n",
       "      <td>8.130979</td>\n",
       "      <td>-499.634209</td>\n",
       "      <td>7.958270</td>\n",
       "      <td>-525.839648</td>\n",
       "      <td>4.878850</td>\n",
       "      <td>-500.162375</td>\n",
       "      <td>25.019940</td>\n",
       "      <td>-499.819438</td>\n",
       "      <td>88.089657</td>\n",
       "      <td>68.910432</td>\n",
       "    </tr>\n",
       "    <tr>\n",
       "      <th>2</th>\n",
       "      <td>2016-09-01 02:59:59</td>\n",
       "      <td>215.259946</td>\n",
       "      <td>12.884934</td>\n",
       "      <td>7.786667</td>\n",
       "      <td>0.996043</td>\n",
       "      <td>1398.493666</td>\n",
       "      <td>-500.868360</td>\n",
       "      <td>1398.860436</td>\n",
       "      <td>-499.764529</td>\n",
       "      <td>1398.075709</td>\n",
       "      <td>...</td>\n",
       "      <td>8.096893</td>\n",
       "      <td>-500.827423</td>\n",
       "      <td>8.071056</td>\n",
       "      <td>-500.801673</td>\n",
       "      <td>4.905125</td>\n",
       "      <td>-499.828510</td>\n",
       "      <td>24.994862</td>\n",
       "      <td>-500.622559</td>\n",
       "      <td>88.412756</td>\n",
       "      <td>68.143213</td>\n",
       "    </tr>\n",
       "    <tr>\n",
       "      <th>3</th>\n",
       "      <td>2016-09-01 03:59:59</td>\n",
       "      <td>215.336236</td>\n",
       "      <td>12.006805</td>\n",
       "      <td>7.640000</td>\n",
       "      <td>0.863514</td>\n",
       "      <td>1399.618111</td>\n",
       "      <td>-498.863574</td>\n",
       "      <td>1397.440120</td>\n",
       "      <td>-499.211024</td>\n",
       "      <td>1400.129303</td>\n",
       "      <td>...</td>\n",
       "      <td>8.074946</td>\n",
       "      <td>-499.474407</td>\n",
       "      <td>7.897085</td>\n",
       "      <td>-500.868509</td>\n",
       "      <td>4.931400</td>\n",
       "      <td>-499.963623</td>\n",
       "      <td>24.948919</td>\n",
       "      <td>-498.709987</td>\n",
       "      <td>87.360133</td>\n",
       "      <td>67.776393</td>\n",
       "    </tr>\n",
       "    <tr>\n",
       "      <th>4</th>\n",
       "      <td>2016-09-01 04:59:59</td>\n",
       "      <td>199.099327</td>\n",
       "      <td>10.682530</td>\n",
       "      <td>7.530000</td>\n",
       "      <td>0.805575</td>\n",
       "      <td>1401.268123</td>\n",
       "      <td>-500.808305</td>\n",
       "      <td>1398.128818</td>\n",
       "      <td>-499.504543</td>\n",
       "      <td>1402.172226</td>\n",
       "      <td>...</td>\n",
       "      <td>8.054678</td>\n",
       "      <td>-500.397500</td>\n",
       "      <td>8.107890</td>\n",
       "      <td>-509.526725</td>\n",
       "      <td>4.957674</td>\n",
       "      <td>-500.360026</td>\n",
       "      <td>25.003331</td>\n",
       "      <td>-500.856333</td>\n",
       "      <td>83.236367</td>\n",
       "      <td>61.467078</td>\n",
       "    </tr>\n",
       "    <tr>\n",
       "      <th>...</th>\n",
       "      <td>...</td>\n",
       "      <td>...</td>\n",
       "      <td>...</td>\n",
       "      <td>...</td>\n",
       "      <td>...</td>\n",
       "      <td>...</td>\n",
       "      <td>...</td>\n",
       "      <td>...</td>\n",
       "      <td>...</td>\n",
       "      <td>...</td>\n",
       "      <td>...</td>\n",
       "      <td>...</td>\n",
       "      <td>...</td>\n",
       "      <td>...</td>\n",
       "      <td>...</td>\n",
       "      <td>...</td>\n",
       "      <td>...</td>\n",
       "      <td>...</td>\n",
       "      <td>...</td>\n",
       "      <td>...</td>\n",
       "      <td>...</td>\n",
       "    </tr>\n",
       "    <tr>\n",
       "      <th>4938</th>\n",
       "      <td>2017-12-31 19:59:59</td>\n",
       "      <td>173.957757</td>\n",
       "      <td>15.963399</td>\n",
       "      <td>8.070000</td>\n",
       "      <td>0.896701</td>\n",
       "      <td>1401.930554</td>\n",
       "      <td>-499.728848</td>\n",
       "      <td>1401.441445</td>\n",
       "      <td>-499.193423</td>\n",
       "      <td>1399.810313</td>\n",
       "      <td>...</td>\n",
       "      <td>12.069155</td>\n",
       "      <td>-499.673279</td>\n",
       "      <td>7.977259</td>\n",
       "      <td>-499.516126</td>\n",
       "      <td>5.933319</td>\n",
       "      <td>-499.965973</td>\n",
       "      <td>8.987171</td>\n",
       "      <td>-499.755909</td>\n",
       "      <td>95.172585</td>\n",
       "      <td>68.919891</td>\n",
       "    </tr>\n",
       "    <tr>\n",
       "      <th>4939</th>\n",
       "      <td>2017-12-31 20:59:59</td>\n",
       "      <td>172.910270</td>\n",
       "      <td>16.002605</td>\n",
       "      <td>8.070000</td>\n",
       "      <td>0.896519</td>\n",
       "      <td>1447.075722</td>\n",
       "      <td>-494.716823</td>\n",
       "      <td>1448.851892</td>\n",
       "      <td>-465.963026</td>\n",
       "      <td>1443.890424</td>\n",
       "      <td>...</td>\n",
       "      <td>13.365371</td>\n",
       "      <td>-499.122723</td>\n",
       "      <td>9.288553</td>\n",
       "      <td>-496.892967</td>\n",
       "      <td>7.372897</td>\n",
       "      <td>-499.942956</td>\n",
       "      <td>8.986832</td>\n",
       "      <td>-499.903761</td>\n",
       "      <td>94.575036</td>\n",
       "      <td>68.440582</td>\n",
       "    </tr>\n",
       "    <tr>\n",
       "      <th>4940</th>\n",
       "      <td>2017-12-31 21:59:59</td>\n",
       "      <td>171.135718</td>\n",
       "      <td>15.993669</td>\n",
       "      <td>8.070000</td>\n",
       "      <td>1.165996</td>\n",
       "      <td>1498.836182</td>\n",
       "      <td>-501.770403</td>\n",
       "      <td>1499.572353</td>\n",
       "      <td>-495.516347</td>\n",
       "      <td>1502.749213</td>\n",
       "      <td>...</td>\n",
       "      <td>15.101425</td>\n",
       "      <td>-499.936252</td>\n",
       "      <td>10.989181</td>\n",
       "      <td>-498.347898</td>\n",
       "      <td>9.020944</td>\n",
       "      <td>-500.040448</td>\n",
       "      <td>8.982038</td>\n",
       "      <td>-497.789882</td>\n",
       "      <td>93.018138</td>\n",
       "      <td>67.092759</td>\n",
       "    </tr>\n",
       "    <tr>\n",
       "      <th>4941</th>\n",
       "      <td>2017-12-31 22:59:59</td>\n",
       "      <td>179.697158</td>\n",
       "      <td>15.438979</td>\n",
       "      <td>8.070000</td>\n",
       "      <td>1.501068</td>\n",
       "      <td>1498.466243</td>\n",
       "      <td>-500.483984</td>\n",
       "      <td>1497.986986</td>\n",
       "      <td>-519.200340</td>\n",
       "      <td>1496.569047</td>\n",
       "      <td>...</td>\n",
       "      <td>15.026853</td>\n",
       "      <td>-499.723143</td>\n",
       "      <td>11.011607</td>\n",
       "      <td>-499.985046</td>\n",
       "      <td>9.009783</td>\n",
       "      <td>-499.937902</td>\n",
       "      <td>9.012660</td>\n",
       "      <td>-500.154284</td>\n",
       "      <td>92.599042</td>\n",
       "      <td>68.061186</td>\n",
       "    </tr>\n",
       "    <tr>\n",
       "      <th>4942</th>\n",
       "      <td>2017-12-31 23:59:59</td>\n",
       "      <td>181.556856</td>\n",
       "      <td>14.995850</td>\n",
       "      <td>8.070000</td>\n",
       "      <td>1.623454</td>\n",
       "      <td>1498.096303</td>\n",
       "      <td>-499.796922</td>\n",
       "      <td>1501.743791</td>\n",
       "      <td>-505.146931</td>\n",
       "      <td>1499.535978</td>\n",
       "      <td>...</td>\n",
       "      <td>14.914199</td>\n",
       "      <td>-499.948518</td>\n",
       "      <td>10.986607</td>\n",
       "      <td>-500.658027</td>\n",
       "      <td>8.989497</td>\n",
       "      <td>-500.337588</td>\n",
       "      <td>8.988632</td>\n",
       "      <td>-500.764937</td>\n",
       "      <td>91.177695</td>\n",
       "      <td>71.699976</td>\n",
       "    </tr>\n",
       "  </tbody>\n",
       "</table>\n",
       "<p>4943 rows × 55 columns</p>\n",
       "</div>"
      ],
      "text/plain": [
       "                    date  primary_cleaner.input.sulfate  \\\n",
       "0    2016-09-01 00:59:59                     210.800909   \n",
       "1    2016-09-01 01:59:59                     215.392455   \n",
       "2    2016-09-01 02:59:59                     215.259946   \n",
       "3    2016-09-01 03:59:59                     215.336236   \n",
       "4    2016-09-01 04:59:59                     199.099327   \n",
       "...                  ...                            ...   \n",
       "4938 2017-12-31 19:59:59                     173.957757   \n",
       "4939 2017-12-31 20:59:59                     172.910270   \n",
       "4940 2017-12-31 21:59:59                     171.135718   \n",
       "4941 2017-12-31 22:59:59                     179.697158   \n",
       "4942 2017-12-31 23:59:59                     181.556856   \n",
       "\n",
       "      primary_cleaner.input.depressant  primary_cleaner.input.feed_size  \\\n",
       "0                            14.993118                         8.080000   \n",
       "1                            14.987471                         8.080000   \n",
       "2                            12.884934                         7.786667   \n",
       "3                            12.006805                         7.640000   \n",
       "4                            10.682530                         7.530000   \n",
       "...                                ...                              ...   \n",
       "4938                         15.963399                         8.070000   \n",
       "4939                         16.002605                         8.070000   \n",
       "4940                         15.993669                         8.070000   \n",
       "4941                         15.438979                         8.070000   \n",
       "4942                         14.995850                         8.070000   \n",
       "\n",
       "      primary_cleaner.input.xanthate  primary_cleaner.state.floatbank8_a_air  \\\n",
       "0                           1.005021                             1398.981301   \n",
       "1                           0.990469                             1398.777912   \n",
       "2                           0.996043                             1398.493666   \n",
       "3                           0.863514                             1399.618111   \n",
       "4                           0.805575                             1401.268123   \n",
       "...                              ...                                     ...   \n",
       "4938                        0.896701                             1401.930554   \n",
       "4939                        0.896519                             1447.075722   \n",
       "4940                        1.165996                             1498.836182   \n",
       "4941                        1.501068                             1498.466243   \n",
       "4942                        1.623454                             1498.096303   \n",
       "\n",
       "      primary_cleaner.state.floatbank8_a_level  \\\n",
       "0                                  -500.225577   \n",
       "1                                  -500.057435   \n",
       "2                                  -500.868360   \n",
       "3                                  -498.863574   \n",
       "4                                  -500.808305   \n",
       "...                                        ...   \n",
       "4938                               -499.728848   \n",
       "4939                               -494.716823   \n",
       "4940                               -501.770403   \n",
       "4941                               -500.483984   \n",
       "4942                               -499.796922   \n",
       "\n",
       "      primary_cleaner.state.floatbank8_b_air  \\\n",
       "0                                1399.144926   \n",
       "1                                1398.055362   \n",
       "2                                1398.860436   \n",
       "3                                1397.440120   \n",
       "4                                1398.128818   \n",
       "...                                      ...   \n",
       "4938                             1401.441445   \n",
       "4939                             1448.851892   \n",
       "4940                             1499.572353   \n",
       "4941                             1497.986986   \n",
       "4942                             1501.743791   \n",
       "\n",
       "      primary_cleaner.state.floatbank8_b_level  \\\n",
       "0                                  -499.919735   \n",
       "1                                  -499.778182   \n",
       "2                                  -499.764529   \n",
       "3                                  -499.211024   \n",
       "4                                  -499.504543   \n",
       "...                                        ...   \n",
       "4938                               -499.193423   \n",
       "4939                               -465.963026   \n",
       "4940                               -495.516347   \n",
       "4941                               -519.200340   \n",
       "4942                               -505.146931   \n",
       "\n",
       "      primary_cleaner.state.floatbank8_c_air  ...  \\\n",
       "0                                1400.102998  ...   \n",
       "1                                1396.151033  ...   \n",
       "2                                1398.075709  ...   \n",
       "3                                1400.129303  ...   \n",
       "4                                1402.172226  ...   \n",
       "...                                      ...  ...   \n",
       "4938                             1399.810313  ...   \n",
       "4939                             1443.890424  ...   \n",
       "4940                             1502.749213  ...   \n",
       "4941                             1496.569047  ...   \n",
       "4942                             1499.535978  ...   \n",
       "\n",
       "      secondary_cleaner.state.floatbank4_b_air  \\\n",
       "0                                     8.016656   \n",
       "1                                     8.130979   \n",
       "2                                     8.096893   \n",
       "3                                     8.074946   \n",
       "4                                     8.054678   \n",
       "...                                        ...   \n",
       "4938                                 12.069155   \n",
       "4939                                 13.365371   \n",
       "4940                                 15.101425   \n",
       "4941                                 15.026853   \n",
       "4942                                 14.914199   \n",
       "\n",
       "      secondary_cleaner.state.floatbank4_b_level  \\\n",
       "0                                    -501.289139   \n",
       "1                                    -499.634209   \n",
       "2                                    -500.827423   \n",
       "3                                    -499.474407   \n",
       "4                                    -500.397500   \n",
       "...                                          ...   \n",
       "4938                                 -499.673279   \n",
       "4939                                 -499.122723   \n",
       "4940                                 -499.936252   \n",
       "4941                                 -499.723143   \n",
       "4942                                 -499.948518   \n",
       "\n",
       "      secondary_cleaner.state.floatbank5_a_air  \\\n",
       "0                                     7.946562   \n",
       "1                                     7.958270   \n",
       "2                                     8.071056   \n",
       "3                                     7.897085   \n",
       "4                                     8.107890   \n",
       "...                                        ...   \n",
       "4938                                  7.977259   \n",
       "4939                                  9.288553   \n",
       "4940                                 10.989181   \n",
       "4941                                 11.011607   \n",
       "4942                                 10.986607   \n",
       "\n",
       "      secondary_cleaner.state.floatbank5_a_level  \\\n",
       "0                                    -432.317850   \n",
       "1                                    -525.839648   \n",
       "2                                    -500.801673   \n",
       "3                                    -500.868509   \n",
       "4                                    -509.526725   \n",
       "...                                          ...   \n",
       "4938                                 -499.516126   \n",
       "4939                                 -496.892967   \n",
       "4940                                 -498.347898   \n",
       "4941                                 -499.985046   \n",
       "4942                                 -500.658027   \n",
       "\n",
       "      secondary_cleaner.state.floatbank5_b_air  \\\n",
       "0                                     4.872511   \n",
       "1                                     4.878850   \n",
       "2                                     4.905125   \n",
       "3                                     4.931400   \n",
       "4                                     4.957674   \n",
       "...                                        ...   \n",
       "4938                                  5.933319   \n",
       "4939                                  7.372897   \n",
       "4940                                  9.020944   \n",
       "4941                                  9.009783   \n",
       "4942                                  8.989497   \n",
       "\n",
       "      secondary_cleaner.state.floatbank5_b_level  \\\n",
       "0                                    -500.037437   \n",
       "1                                    -500.162375   \n",
       "2                                    -499.828510   \n",
       "3                                    -499.963623   \n",
       "4                                    -500.360026   \n",
       "...                                          ...   \n",
       "4938                                 -499.965973   \n",
       "4939                                 -499.942956   \n",
       "4940                                 -500.040448   \n",
       "4941                                 -499.937902   \n",
       "4942                                 -500.337588   \n",
       "\n",
       "      secondary_cleaner.state.floatbank6_a_air  \\\n",
       "0                                    26.705889   \n",
       "1                                    25.019940   \n",
       "2                                    24.994862   \n",
       "3                                    24.948919   \n",
       "4                                    25.003331   \n",
       "...                                        ...   \n",
       "4938                                  8.987171   \n",
       "4939                                  8.986832   \n",
       "4940                                  8.982038   \n",
       "4941                                  9.012660   \n",
       "4942                                  8.988632   \n",
       "\n",
       "      secondary_cleaner.state.floatbank6_a_level  rougher.output.recovery  \\\n",
       "0                                    -499.709414                89.993421   \n",
       "1                                    -499.819438                88.089657   \n",
       "2                                    -500.622559                88.412756   \n",
       "3                                    -498.709987                87.360133   \n",
       "4                                    -500.856333                83.236367   \n",
       "...                                          ...                      ...   \n",
       "4938                                 -499.755909                95.172585   \n",
       "4939                                 -499.903761                94.575036   \n",
       "4940                                 -497.789882                93.018138   \n",
       "4941                                 -500.154284                92.599042   \n",
       "4942                                 -500.764937                91.177695   \n",
       "\n",
       "      final.output.recovery  \n",
       "0                 70.273583  \n",
       "1                 68.910432  \n",
       "2                 68.143213  \n",
       "3                 67.776393  \n",
       "4                 61.467078  \n",
       "...                     ...  \n",
       "4938              68.919891  \n",
       "4939              68.440582  \n",
       "4940              67.092759  \n",
       "4941              68.061186  \n",
       "4942              71.699976  \n",
       "\n",
       "[4943 rows x 55 columns]"
      ]
     },
     "execution_count": 61,
     "metadata": {},
     "output_type": "execute_result"
    }
   ],
   "source": [
    "date_t = list(gold_recovery_test['date'])\n",
    "temp_t = gold_recovery_full.query(\"date == @date_t\")[['date', 'rougher.output.recovery', 'final.output.recovery']]\n",
    "gold_recovery_test = gold_recovery_test.merge(temp_t, on='date')\n",
    "gold_recovery_test"
   ]
  },
  {
   "cell_type": "code",
   "execution_count": 62,
   "metadata": {},
   "outputs": [],
   "source": [
    "def feature_target(data):\n",
    "    data_features = data.drop(['date', 'rougher.output.recovery', 'final.output.recovery'], 1)\n",
    "    data_targ_rough = data['rougher.output.recovery']\n",
    "    data_targ_final = data['final.output.recovery']\n",
    "    return data_features, data_targ_rough, data_targ_final"
   ]
  },
  {
   "cell_type": "code",
   "execution_count": 63,
   "metadata": {},
   "outputs": [],
   "source": [
    "train_features, train_target_rough, train_target_fin = feature_target(gold_recovery_train)"
   ]
  },
  {
   "cell_type": "code",
   "execution_count": 64,
   "metadata": {},
   "outputs": [],
   "source": [
    "test_features, test_target_rough, test_target_fin = feature_target(gold_recovery_test)"
   ]
  },
  {
   "cell_type": "code",
   "execution_count": 65,
   "metadata": {},
   "outputs": [
    {
     "data": {
      "text/html": [
       "<div>\n",
       "<style scoped>\n",
       "    .dataframe tbody tr th:only-of-type {\n",
       "        vertical-align: middle;\n",
       "    }\n",
       "\n",
       "    .dataframe tbody tr th {\n",
       "        vertical-align: top;\n",
       "    }\n",
       "\n",
       "    .dataframe thead th {\n",
       "        text-align: right;\n",
       "    }\n",
       "</style>\n",
       "<table border=\"1\" class=\"dataframe\">\n",
       "  <thead>\n",
       "    <tr style=\"text-align: right;\">\n",
       "      <th></th>\n",
       "      <th>primary_cleaner.input.sulfate</th>\n",
       "      <th>primary_cleaner.input.depressant</th>\n",
       "      <th>primary_cleaner.input.feed_size</th>\n",
       "      <th>primary_cleaner.input.xanthate</th>\n",
       "      <th>primary_cleaner.state.floatbank8_a_air</th>\n",
       "      <th>primary_cleaner.state.floatbank8_a_level</th>\n",
       "      <th>primary_cleaner.state.floatbank8_b_air</th>\n",
       "      <th>primary_cleaner.state.floatbank8_b_level</th>\n",
       "      <th>primary_cleaner.state.floatbank8_c_air</th>\n",
       "      <th>primary_cleaner.state.floatbank8_c_level</th>\n",
       "      <th>...</th>\n",
       "      <th>secondary_cleaner.state.floatbank4_a_air</th>\n",
       "      <th>secondary_cleaner.state.floatbank4_a_level</th>\n",
       "      <th>secondary_cleaner.state.floatbank4_b_air</th>\n",
       "      <th>secondary_cleaner.state.floatbank4_b_level</th>\n",
       "      <th>secondary_cleaner.state.floatbank5_a_air</th>\n",
       "      <th>secondary_cleaner.state.floatbank5_a_level</th>\n",
       "      <th>secondary_cleaner.state.floatbank5_b_air</th>\n",
       "      <th>secondary_cleaner.state.floatbank5_b_level</th>\n",
       "      <th>secondary_cleaner.state.floatbank6_a_air</th>\n",
       "      <th>secondary_cleaner.state.floatbank6_a_level</th>\n",
       "    </tr>\n",
       "  </thead>\n",
       "  <tbody>\n",
       "    <tr>\n",
       "      <th>0</th>\n",
       "      <td>127.092003</td>\n",
       "      <td>10.128295</td>\n",
       "      <td>7.25</td>\n",
       "      <td>0.988759</td>\n",
       "      <td>1549.775757</td>\n",
       "      <td>-498.912140</td>\n",
       "      <td>1551.434204</td>\n",
       "      <td>-516.403442</td>\n",
       "      <td>1549.873901</td>\n",
       "      <td>-498.666595</td>\n",
       "      <td>...</td>\n",
       "      <td>14.016835</td>\n",
       "      <td>-502.488007</td>\n",
       "      <td>12.099931</td>\n",
       "      <td>-504.715942</td>\n",
       "      <td>9.925633</td>\n",
       "      <td>-498.310211</td>\n",
       "      <td>8.079666</td>\n",
       "      <td>-500.470978</td>\n",
       "      <td>14.151341</td>\n",
       "      <td>-605.841980</td>\n",
       "    </tr>\n",
       "    <tr>\n",
       "      <th>1</th>\n",
       "      <td>125.629232</td>\n",
       "      <td>10.296251</td>\n",
       "      <td>7.25</td>\n",
       "      <td>1.002663</td>\n",
       "      <td>1576.166671</td>\n",
       "      <td>-500.904965</td>\n",
       "      <td>1575.950626</td>\n",
       "      <td>-499.865889</td>\n",
       "      <td>1575.994189</td>\n",
       "      <td>-499.315107</td>\n",
       "      <td>...</td>\n",
       "      <td>13.992281</td>\n",
       "      <td>-505.503262</td>\n",
       "      <td>11.950531</td>\n",
       "      <td>-501.331529</td>\n",
       "      <td>10.039245</td>\n",
       "      <td>-500.169983</td>\n",
       "      <td>7.984757</td>\n",
       "      <td>-500.582168</td>\n",
       "      <td>13.998353</td>\n",
       "      <td>-599.787184</td>\n",
       "    </tr>\n",
       "    <tr>\n",
       "      <th>2</th>\n",
       "      <td>123.819808</td>\n",
       "      <td>11.316280</td>\n",
       "      <td>7.25</td>\n",
       "      <td>0.991265</td>\n",
       "      <td>1601.556163</td>\n",
       "      <td>-499.997791</td>\n",
       "      <td>1600.386685</td>\n",
       "      <td>-500.607762</td>\n",
       "      <td>1602.003542</td>\n",
       "      <td>-500.870069</td>\n",
       "      <td>...</td>\n",
       "      <td>14.015015</td>\n",
       "      <td>-502.520901</td>\n",
       "      <td>11.912783</td>\n",
       "      <td>-501.133383</td>\n",
       "      <td>10.070913</td>\n",
       "      <td>-500.129135</td>\n",
       "      <td>8.013877</td>\n",
       "      <td>-500.517572</td>\n",
       "      <td>14.028663</td>\n",
       "      <td>-601.427363</td>\n",
       "    </tr>\n",
       "    <tr>\n",
       "      <th>3</th>\n",
       "      <td>122.270188</td>\n",
       "      <td>11.322140</td>\n",
       "      <td>7.25</td>\n",
       "      <td>0.996739</td>\n",
       "      <td>1599.968720</td>\n",
       "      <td>-500.951778</td>\n",
       "      <td>1600.659236</td>\n",
       "      <td>-499.677094</td>\n",
       "      <td>1600.304144</td>\n",
       "      <td>-500.727997</td>\n",
       "      <td>...</td>\n",
       "      <td>14.036510</td>\n",
       "      <td>-500.857308</td>\n",
       "      <td>11.999550</td>\n",
       "      <td>-501.193686</td>\n",
       "      <td>9.970366</td>\n",
       "      <td>-499.201640</td>\n",
       "      <td>7.977324</td>\n",
       "      <td>-500.255908</td>\n",
       "      <td>14.005551</td>\n",
       "      <td>-599.996129</td>\n",
       "    </tr>\n",
       "    <tr>\n",
       "      <th>4</th>\n",
       "      <td>117.988169</td>\n",
       "      <td>11.913613</td>\n",
       "      <td>7.25</td>\n",
       "      <td>1.009869</td>\n",
       "      <td>1601.339707</td>\n",
       "      <td>-498.975456</td>\n",
       "      <td>1601.437854</td>\n",
       "      <td>-500.323246</td>\n",
       "      <td>1599.581894</td>\n",
       "      <td>-500.888152</td>\n",
       "      <td>...</td>\n",
       "      <td>14.027298</td>\n",
       "      <td>-499.838632</td>\n",
       "      <td>11.953070</td>\n",
       "      <td>-501.053894</td>\n",
       "      <td>9.925709</td>\n",
       "      <td>-501.686727</td>\n",
       "      <td>7.894242</td>\n",
       "      <td>-500.356035</td>\n",
       "      <td>13.996647</td>\n",
       "      <td>-601.496691</td>\n",
       "    </tr>\n",
       "  </tbody>\n",
       "</table>\n",
       "<p>5 rows × 52 columns</p>\n",
       "</div>"
      ],
      "text/plain": [
       "   primary_cleaner.input.sulfate  primary_cleaner.input.depressant  \\\n",
       "0                     127.092003                         10.128295   \n",
       "1                     125.629232                         10.296251   \n",
       "2                     123.819808                         11.316280   \n",
       "3                     122.270188                         11.322140   \n",
       "4                     117.988169                         11.913613   \n",
       "\n",
       "   primary_cleaner.input.feed_size  primary_cleaner.input.xanthate  \\\n",
       "0                             7.25                        0.988759   \n",
       "1                             7.25                        1.002663   \n",
       "2                             7.25                        0.991265   \n",
       "3                             7.25                        0.996739   \n",
       "4                             7.25                        1.009869   \n",
       "\n",
       "   primary_cleaner.state.floatbank8_a_air  \\\n",
       "0                             1549.775757   \n",
       "1                             1576.166671   \n",
       "2                             1601.556163   \n",
       "3                             1599.968720   \n",
       "4                             1601.339707   \n",
       "\n",
       "   primary_cleaner.state.floatbank8_a_level  \\\n",
       "0                               -498.912140   \n",
       "1                               -500.904965   \n",
       "2                               -499.997791   \n",
       "3                               -500.951778   \n",
       "4                               -498.975456   \n",
       "\n",
       "   primary_cleaner.state.floatbank8_b_air  \\\n",
       "0                             1551.434204   \n",
       "1                             1575.950626   \n",
       "2                             1600.386685   \n",
       "3                             1600.659236   \n",
       "4                             1601.437854   \n",
       "\n",
       "   primary_cleaner.state.floatbank8_b_level  \\\n",
       "0                               -516.403442   \n",
       "1                               -499.865889   \n",
       "2                               -500.607762   \n",
       "3                               -499.677094   \n",
       "4                               -500.323246   \n",
       "\n",
       "   primary_cleaner.state.floatbank8_c_air  \\\n",
       "0                             1549.873901   \n",
       "1                             1575.994189   \n",
       "2                             1602.003542   \n",
       "3                             1600.304144   \n",
       "4                             1599.581894   \n",
       "\n",
       "   primary_cleaner.state.floatbank8_c_level  ...  \\\n",
       "0                               -498.666595  ...   \n",
       "1                               -499.315107  ...   \n",
       "2                               -500.870069  ...   \n",
       "3                               -500.727997  ...   \n",
       "4                               -500.888152  ...   \n",
       "\n",
       "   secondary_cleaner.state.floatbank4_a_air  \\\n",
       "0                                 14.016835   \n",
       "1                                 13.992281   \n",
       "2                                 14.015015   \n",
       "3                                 14.036510   \n",
       "4                                 14.027298   \n",
       "\n",
       "   secondary_cleaner.state.floatbank4_a_level  \\\n",
       "0                                 -502.488007   \n",
       "1                                 -505.503262   \n",
       "2                                 -502.520901   \n",
       "3                                 -500.857308   \n",
       "4                                 -499.838632   \n",
       "\n",
       "   secondary_cleaner.state.floatbank4_b_air  \\\n",
       "0                                 12.099931   \n",
       "1                                 11.950531   \n",
       "2                                 11.912783   \n",
       "3                                 11.999550   \n",
       "4                                 11.953070   \n",
       "\n",
       "   secondary_cleaner.state.floatbank4_b_level  \\\n",
       "0                                 -504.715942   \n",
       "1                                 -501.331529   \n",
       "2                                 -501.133383   \n",
       "3                                 -501.193686   \n",
       "4                                 -501.053894   \n",
       "\n",
       "   secondary_cleaner.state.floatbank5_a_air  \\\n",
       "0                                  9.925633   \n",
       "1                                 10.039245   \n",
       "2                                 10.070913   \n",
       "3                                  9.970366   \n",
       "4                                  9.925709   \n",
       "\n",
       "   secondary_cleaner.state.floatbank5_a_level  \\\n",
       "0                                 -498.310211   \n",
       "1                                 -500.169983   \n",
       "2                                 -500.129135   \n",
       "3                                 -499.201640   \n",
       "4                                 -501.686727   \n",
       "\n",
       "   secondary_cleaner.state.floatbank5_b_air  \\\n",
       "0                                  8.079666   \n",
       "1                                  7.984757   \n",
       "2                                  8.013877   \n",
       "3                                  7.977324   \n",
       "4                                  7.894242   \n",
       "\n",
       "   secondary_cleaner.state.floatbank5_b_level  \\\n",
       "0                                 -500.470978   \n",
       "1                                 -500.582168   \n",
       "2                                 -500.517572   \n",
       "3                                 -500.255908   \n",
       "4                                 -500.356035   \n",
       "\n",
       "   secondary_cleaner.state.floatbank6_a_air  \\\n",
       "0                                 14.151341   \n",
       "1                                 13.998353   \n",
       "2                                 14.028663   \n",
       "3                                 14.005551   \n",
       "4                                 13.996647   \n",
       "\n",
       "   secondary_cleaner.state.floatbank6_a_level  \n",
       "0                                 -605.841980  \n",
       "1                                 -599.787184  \n",
       "2                                 -601.427363  \n",
       "3                                 -599.996129  \n",
       "4                                 -601.496691  \n",
       "\n",
       "[5 rows x 52 columns]"
      ]
     },
     "execution_count": 65,
     "metadata": {},
     "output_type": "execute_result"
    }
   ],
   "source": [
    "train_features.head()"
   ]
  },
  {
   "cell_type": "code",
   "execution_count": 66,
   "metadata": {},
   "outputs": [],
   "source": [
    "def smape_rough(target_rough, predictions_rough):\n",
    "    smape_rough = np.sum((np.absolute(target_rough - predictions_rough)) / ((np.absolute(target_rough) + np.absolute(predictions_rough)) / 2))\n",
    "    smape_rough = smape_rough * 100 / len(target_rough)\n",
    "    return smape_rough                         \n",
    "    \n",
    "def smape_fin(target_fin, predictions_fin):   \n",
    "    smape_fin = np.sum((np.absolute(target_fin - predictions_fin)) / ((np.absolute(target_fin) + np.absolute(predictions_fin)) / 2))\n",
    "    smape_fin = smape_fin * 100 / len(target_fin)\n",
    "    return smape_fin\n"
   ]
  },
  {
   "cell_type": "code",
   "execution_count": 67,
   "metadata": {},
   "outputs": [],
   "source": [
    "smape_r = make_scorer(smape_rough, greater_is_better=False)\n",
    "smape_f = make_scorer(smape_fin, greater_is_better=False)"
   ]
  },
  {
   "cell_type": "code",
   "execution_count": 68,
   "metadata": {
    "scrolled": true
   },
   "outputs": [
    {
     "name": "stdout",
     "output_type": "stream",
     "text": [
      "Средняя оценка модели \"smape\": 13.842327683987664\n"
     ]
    }
   ],
   "source": [
    "model = DecisionTreeRegressor(random_state=12345)\n",
    "scores = cross_val_score(model, train_features, train_target_rough, cv=5, scoring=smape_r)\n",
    "final_rou = scores.sum() / len(scores)\n",
    "\n",
    "scores_fin = cross_val_score(model, train_features, train_target_fin, cv=5, scoring=smape_f)\n",
    "final_fin = scores_fin.sum() / len(scores)\n",
    "print('Средняя оценка модели \"smape\":', abs(0.25 * final_rou + 0.75 * final_fin))\n"
   ]
  },
  {
   "cell_type": "markdown",
   "metadata": {},
   "source": [
    "Модель дерева не имеет высокого качества, так как среднее симметричное процентное отклонение составляет более 19%."
   ]
  },
  {
   "cell_type": "code",
   "execution_count": 69,
   "metadata": {
    "scrolled": true
   },
   "outputs": [
    {
     "name": "stdout",
     "output_type": "stream",
     "text": [
      "best smape: 6.636732272209521\n",
      "best_model: RandomForestRegressor(max_depth=85, n_estimators=10, random_state=12345)\n",
      "best_high: 85\n",
      "best_estimators: 10\n"
     ]
    }
   ],
   "source": [
    "\n",
    "best_smape = 1000\n",
    "for i in range(2, 14, 4):\n",
    "    for h in range(10, 100, 25):\n",
    "        model=RandomForestRegressor(n_estimators=i, max_depth=h, random_state=12345)\n",
    "        scores_rou = cross_val_score(model, train_features, train_target_rough, cv=3, scoring=smape_r)\n",
    "        final_rou = scores.sum() / len(scores)\n",
    "        \n",
    "        scores_fin = cross_val_score(model, train_features, train_target_fin, cv=3, scoring=smape_f)\n",
    "        final_fin = scores_fin.sum() / len(scores)\n",
    "        smape =  abs(0.25 * final_rou + 0.75 * final_fin)\n",
    "        if smape < best_smape:\n",
    "            best_model = model\n",
    "            best_high = h\n",
    "            estim = i\n",
    "            best_smape = smape\n",
    "            \n",
    "print('best smape:', best_smape)\n",
    "print('best_model:', model)\n",
    "print('best_high:', h)\n",
    "print('best_estimators:', i)"
   ]
  },
  {
   "cell_type": "code",
   "execution_count": 70,
   "metadata": {},
   "outputs": [
    {
     "name": "stdout",
     "output_type": "stream",
     "text": [
      "{'max_depth': 35, 'min_samples_leaf': 5, 'n_estimators': 10}\n",
      "-7.622572934684141\n"
     ]
    }
   ],
   "source": [
    "params_set = {\n",
    "    'n_estimators': [2, 6, 10, 14],\n",
    "    'max_depth': [10, 35, 60, 85],\n",
    "    'min_samples_leaf': [1, 3, 5]\n",
    "}\n",
    "\n",
    "grid_1 = GridSearchCV(estimator = RandomForestRegressor(random_state = 12345),\n",
    "                      param_grid = params_set,\n",
    "                      scoring = smape_r,\n",
    "                      cv = 3\n",
    "                     )\n",
    "\n",
    "grid_1.fit(train_features, train_target_rough)\n",
    "print(grid_1.best_params_)\n",
    "print(grid_1.best_score_)"
   ]
  },
  {
   "cell_type": "markdown",
   "metadata": {},
   "source": [
    "Модель случайного леса показывает лучшие результаты чем модель дерева решений. среднее симметричное процентное отклонение составляет почти 10%."
   ]
  },
  {
   "cell_type": "code",
   "execution_count": 71,
   "metadata": {},
   "outputs": [
    {
     "name": "stdout",
     "output_type": "stream",
     "text": [
      "Оценка модели: 10.130567013634797\n"
     ]
    }
   ],
   "source": [
    "model = LinearRegression()\n",
    "scores_rou = cross_val_score(model, train_features, train_target_rough, cv=5, scoring=smape_r)\n",
    "final_rou = scores.sum() / len(scores)\n",
    "        \n",
    "scores_fin = cross_val_score(model, train_features, train_target_fin, cv=5, scoring=smape_f)\n",
    "final_fin = scores_fin.sum() / len(scores)\n",
    "smape =  abs(0.25 * final_rou + 0.75 * final_fin)\n",
    "print('Оценка модели:', smape)"
   ]
  },
  {
   "cell_type": "markdown",
   "metadata": {},
   "source": [
    "Модель линейной регрессии показала средние результаты, среднее симметричное процентное отклонение составляет более 13,5%. Что лучше чем у модели дерева решений, но хуже чем у случайного леса"
   ]
  },
  {
   "cell_type": "markdown",
   "metadata": {},
   "source": [
    "**Проверка модели на тестовой выборке**"
   ]
  },
  {
   "cell_type": "code",
   "execution_count": 72,
   "metadata": {
    "scrolled": true
   },
   "outputs": [
    {
     "name": "stdout",
     "output_type": "stream",
     "text": [
      "Итоговый smape на тестовой выборке составляет: 7.138027673650722\n"
     ]
    }
   ],
   "source": [
    "model_r = RandomForestRegressor(max_depth=85, n_estimators=10, random_state=12345)\n",
    "model_r.fit(train_features, train_target_rough)\n",
    "predict_rough = model_r.predict(test_features)\n",
    "smape_r = smape_rough(test_target_rough, predict_rough)\n",
    "\n",
    "model_fin = RandomForestRegressor(max_depth=85, n_estimators=10, random_state=12345)\n",
    "model_fin.fit(train_features, train_target_fin)\n",
    "predictions_fin = model_fin.predict(test_features)\n",
    "smape_final = smape_fin(test_target_fin, predictions_fin)\n",
    "\n",
    "print('Итоговый smape на тестовой выборке составляет:', abs(0.25 * smape_r + 0.75 * smape_final))"
   ]
  },
  {
   "cell_type": "markdown",
   "metadata": {},
   "source": [
    "**Проверка модели на адекватность**"
   ]
  },
  {
   "cell_type": "code",
   "execution_count": 73,
   "metadata": {
    "scrolled": true
   },
   "outputs": [
    {
     "name": "stdout",
     "output_type": "stream",
     "text": [
      "Итоговый smape на выборке из предсказаний из средних занчений: 7.217980177280101\n"
     ]
    }
   ],
   "source": [
    "mean_pred_rough = pd.Series(train_target_rough.mean(), index=train_target_rough.index)\n",
    "mean_pred_fin = pd.Series(train_target_fin.mean(), index=train_target_fin.index)\n",
    "\n",
    "smape_r = smape_rough(test_target_rough, mean_pred_rough)\n",
    "smape_final = smape_fin(test_target_fin, mean_pred_fin)\n",
    "\n",
    "print('Итоговый smape на выборке из предсказаний из средних занчений:', abs(0.25 * smape_r + 0.75 * smape_final))"
   ]
  },
  {
   "cell_type": "markdown",
   "metadata": {},
   "source": [
    "Обученная модель проверку на адекватность прошла. Ключевая метрика на выборке по предсказаниям из средних значений показала большее симметричное среднее абсолютное процентное отклонение."
   ]
  },
  {
   "cell_type": "markdown",
   "metadata": {},
   "source": [
    "## Выводы + Чек-лист готовности проекта"
   ]
  },
  {
   "cell_type": "markdown",
   "metadata": {},
   "source": [
    "1. Столбцы с датами преобразованы в тип datetime.\n",
    "2. Суммарно пропуски составляют в каждом датафрейме менее 10 процентов. Поскольку данных не много, то целессобразно заменить пропуски методом ffill, так как рядом стоящие элементы датафрейма имеют минимальные различия. \n",
    "3. До этапа флотации коцентрация трёх металлов распределена вокруг слудующих значений:\n",
    "серебро - 7,8\n",
    "медь - 3,5\n",
    "золото - 7,5\n",
    "\n",
    "4. Этап Флотации\n",
    "Среднее AG: 11.994759359873429\n",
    "Медианное AG: 12.098114967346191\n",
    "Среднее AU: 19.772000139486316\n",
    "Медианное AU: 20.280214025891475\n",
    "Среднее PB: 7.606272313195003\n",
    "Медианное PB: 7.742580079502529\n",
    "Концентрация металлов после этапа флотации для серебра равна 12, для золота - 21, для меди - 7,5.\n",
    "\n",
    "5. Этап Первичной обработки\n",
    "Среднее AG: 8.44240807771906\n",
    "Медианное AG: 8.507297972365805\n",
    "Среднее AU: 32.1194004078765\n",
    "Медианное AU: 32.841295480233306\n",
    "Среднее PB: 9.810316539310149\n",
    "Медианное PB: 10.142270415359071\n",
    "Во время первого этапа очистки концентрация серебра в среднем снижается, а вот концентрация меди и золота растут. причём концентрация золота в среднем выросла на 50%.\n",
    "\n",
    "6. Этап Первичной обработки\n",
    "Среднее AG: 5.168386967510243\n",
    "Медианное AG: 5.066039118467836\n",
    "Среднее AU: 44.0765129419528\n",
    "Медианное AU: 45.01124391455689\n",
    "Среднее PB: 9.978821384192907\n",
    "Медианное PB: 10.10226350598865\n",
    "Концентрация золото после второго этапа очистки выросла на 50% при параллельном уменьшении концентрации других металлов.\n",
    "7. По гистограмме Концентрации веществ на разных этапах очистки видно, что есть концентрации частоты которых практически равны нулю (концентрация от 0 до 40). Данный факт может помешать эффективному обучению модели. В связи с этим модель была очищена от выбросов.\n",
    "8. По мере очистки золота разброс в цонцентрации веществ уменьшается\n",
    "9. Наиболее эффективно оказалась модель случайного леса с парметрами: max_depth=85, n_estimators=10.\n",
    "10. Итоговый smape (симметричное среднее процентное отклонение) на тестовой выборке составляет: 12.871073474230785\n",
    "11. Обученная модель проверку на адекватность прошла. Ключевая метрика на выборке по предсказаниям из средних значений показала большее симметричное среднее абсолютное процентное отклонение."
   ]
  }
 ],
 "metadata": {
  "ExecuteTimeLog": [
   {
    "duration": 1961,
    "start_time": "2022-04-04T08:30:11.963Z"
   },
   {
    "duration": 649,
    "start_time": "2022-04-04T08:32:29.033Z"
   },
   {
    "duration": 25,
    "start_time": "2022-04-04T08:33:10.516Z"
   },
   {
    "duration": 17,
    "start_time": "2022-04-04T08:34:23.485Z"
   },
   {
    "duration": 192,
    "start_time": "2022-04-04T08:35:12.482Z"
   },
   {
    "duration": 21,
    "start_time": "2022-04-04T08:41:25.497Z"
   },
   {
    "duration": 12,
    "start_time": "2022-04-04T08:41:46.364Z"
   },
   {
    "duration": 21,
    "start_time": "2022-04-04T08:42:07.321Z"
   },
   {
    "duration": 6,
    "start_time": "2022-04-04T08:42:11.549Z"
   },
   {
    "duration": 9,
    "start_time": "2022-04-04T08:43:12.611Z"
   },
   {
    "duration": 105,
    "start_time": "2022-04-04T08:43:31.606Z"
   },
   {
    "duration": 7,
    "start_time": "2022-04-04T08:47:27.163Z"
   },
   {
    "duration": 21,
    "start_time": "2022-04-04T08:47:34.218Z"
   },
   {
    "duration": 17,
    "start_time": "2022-04-04T08:49:21.724Z"
   },
   {
    "duration": 23,
    "start_time": "2022-04-04T08:49:41.492Z"
   },
   {
    "duration": 132,
    "start_time": "2022-04-04T08:50:09.693Z"
   },
   {
    "duration": 10,
    "start_time": "2022-04-04T08:51:39.358Z"
   },
   {
    "duration": 8,
    "start_time": "2022-04-04T08:51:49.578Z"
   },
   {
    "duration": 7,
    "start_time": "2022-04-04T08:52:53.442Z"
   },
   {
    "duration": 9,
    "start_time": "2022-04-04T08:52:59.117Z"
   },
   {
    "duration": 6,
    "start_time": "2022-04-04T08:53:10.459Z"
   },
   {
    "duration": 6,
    "start_time": "2022-04-04T08:53:15.727Z"
   },
   {
    "duration": 101,
    "start_time": "2022-04-04T09:07:12.156Z"
   },
   {
    "duration": 9,
    "start_time": "2022-04-04T09:07:15.464Z"
   },
   {
    "duration": 17,
    "start_time": "2022-04-04T09:13:38.130Z"
   },
   {
    "duration": 1391,
    "start_time": "2022-04-04T09:14:20.519Z"
   },
   {
    "duration": 641,
    "start_time": "2022-04-04T09:14:21.912Z"
   },
   {
    "duration": 33,
    "start_time": "2022-04-04T09:14:22.555Z"
   },
   {
    "duration": 16,
    "start_time": "2022-04-04T09:14:22.590Z"
   },
   {
    "duration": 203,
    "start_time": "2022-04-04T09:14:22.608Z"
   },
   {
    "duration": 9,
    "start_time": "2022-04-04T09:14:22.813Z"
   },
   {
    "duration": 128,
    "start_time": "2022-04-04T09:14:22.824Z"
   },
   {
    "duration": 28,
    "start_time": "2022-04-04T09:14:22.954Z"
   },
   {
    "duration": 13,
    "start_time": "2022-04-04T09:14:22.984Z"
   },
   {
    "duration": 7,
    "start_time": "2022-04-04T09:14:22.999Z"
   },
   {
    "duration": 20,
    "start_time": "2022-04-04T09:14:23.007Z"
   },
   {
    "duration": 18,
    "start_time": "2022-04-04T09:14:23.029Z"
   },
   {
    "duration": 47,
    "start_time": "2022-04-04T09:14:23.049Z"
   },
   {
    "duration": 98,
    "start_time": "2022-04-04T09:14:23.098Z"
   },
   {
    "duration": 8,
    "start_time": "2022-04-04T09:14:23.198Z"
   },
   {
    "duration": 18,
    "start_time": "2022-04-04T09:14:23.207Z"
   },
   {
    "duration": 13,
    "start_time": "2022-04-04T09:42:24.677Z"
   },
   {
    "duration": 1719,
    "start_time": "2022-04-04T18:07:06.507Z"
   },
   {
    "duration": 812,
    "start_time": "2022-04-04T18:07:08.228Z"
   },
   {
    "duration": 30,
    "start_time": "2022-04-04T18:07:09.042Z"
   },
   {
    "duration": 34,
    "start_time": "2022-04-04T18:07:09.074Z"
   },
   {
    "duration": 217,
    "start_time": "2022-04-04T18:07:09.110Z"
   },
   {
    "duration": 9,
    "start_time": "2022-04-04T18:07:09.328Z"
   },
   {
    "duration": 142,
    "start_time": "2022-04-04T18:07:09.339Z"
   },
   {
    "duration": 28,
    "start_time": "2022-04-04T18:07:09.483Z"
   },
   {
    "duration": 13,
    "start_time": "2022-04-04T18:07:09.512Z"
   },
   {
    "duration": 7,
    "start_time": "2022-04-04T18:07:09.528Z"
   },
   {
    "duration": 29,
    "start_time": "2022-04-04T18:07:09.536Z"
   },
   {
    "duration": 52,
    "start_time": "2022-04-04T18:07:09.567Z"
   },
   {
    "duration": 19,
    "start_time": "2022-04-04T18:07:09.620Z"
   },
   {
    "duration": 113,
    "start_time": "2022-04-04T18:07:09.641Z"
   },
   {
    "duration": 9,
    "start_time": "2022-04-04T18:07:09.755Z"
   },
   {
    "duration": 14,
    "start_time": "2022-04-04T18:07:09.766Z"
   },
   {
    "duration": 2868,
    "start_time": "2022-04-04T18:07:09.781Z"
   },
   {
    "duration": 1436,
    "start_time": "2022-04-04T19:05:29.209Z"
   },
   {
    "duration": 634,
    "start_time": "2022-04-04T19:05:30.646Z"
   },
   {
    "duration": 30,
    "start_time": "2022-04-04T19:05:31.281Z"
   },
   {
    "duration": 16,
    "start_time": "2022-04-04T19:05:31.313Z"
   },
   {
    "duration": 211,
    "start_time": "2022-04-04T19:05:31.331Z"
   },
   {
    "duration": 8,
    "start_time": "2022-04-04T19:05:31.544Z"
   },
   {
    "duration": 134,
    "start_time": "2022-04-04T19:05:31.553Z"
   },
   {
    "duration": 25,
    "start_time": "2022-04-04T19:05:31.688Z"
   },
   {
    "duration": 12,
    "start_time": "2022-04-04T19:05:31.714Z"
   },
   {
    "duration": 6,
    "start_time": "2022-04-04T19:05:31.728Z"
   },
   {
    "duration": 19,
    "start_time": "2022-04-04T19:05:31.736Z"
   },
   {
    "duration": 45,
    "start_time": "2022-04-04T19:05:31.757Z"
   },
   {
    "duration": 16,
    "start_time": "2022-04-04T19:05:31.803Z"
   },
   {
    "duration": 103,
    "start_time": "2022-04-04T19:05:31.821Z"
   },
   {
    "duration": 9,
    "start_time": "2022-04-04T19:05:31.926Z"
   },
   {
    "duration": 14,
    "start_time": "2022-04-04T19:05:31.936Z"
   },
   {
    "duration": 2677,
    "start_time": "2022-04-04T19:05:31.952Z"
   },
   {
    "duration": 5,
    "start_time": "2022-04-04T19:16:46.449Z"
   },
   {
    "duration": 6,
    "start_time": "2022-04-04T19:18:36.567Z"
   },
   {
    "duration": 1504,
    "start_time": "2022-04-04T19:20:20.428Z"
   },
   {
    "duration": 645,
    "start_time": "2022-04-04T19:20:21.934Z"
   },
   {
    "duration": 36,
    "start_time": "2022-04-04T19:20:22.580Z"
   },
   {
    "duration": 17,
    "start_time": "2022-04-04T19:20:22.619Z"
   },
   {
    "duration": 225,
    "start_time": "2022-04-04T19:20:22.638Z"
   },
   {
    "duration": 10,
    "start_time": "2022-04-04T19:20:22.865Z"
   },
   {
    "duration": 127,
    "start_time": "2022-04-04T19:20:22.877Z"
   },
   {
    "duration": 19,
    "start_time": "2022-04-04T19:20:23.006Z"
   },
   {
    "duration": 14,
    "start_time": "2022-04-04T19:20:23.027Z"
   },
   {
    "duration": 7,
    "start_time": "2022-04-04T19:20:23.044Z"
   },
   {
    "duration": 54,
    "start_time": "2022-04-04T19:20:23.053Z"
   },
   {
    "duration": 23,
    "start_time": "2022-04-04T19:20:23.109Z"
   },
   {
    "duration": 18,
    "start_time": "2022-04-04T19:20:23.133Z"
   },
   {
    "duration": 103,
    "start_time": "2022-04-04T19:20:23.153Z"
   },
   {
    "duration": 8,
    "start_time": "2022-04-04T19:20:23.258Z"
   },
   {
    "duration": 12,
    "start_time": "2022-04-04T19:20:23.267Z"
   },
   {
    "duration": 25,
    "start_time": "2022-04-04T19:20:23.281Z"
   },
   {
    "duration": 7,
    "start_time": "2022-04-04T19:20:23.307Z"
   },
   {
    "duration": 4,
    "start_time": "2022-04-04T19:31:44.649Z"
   },
   {
    "duration": 5,
    "start_time": "2022-04-04T19:31:46.078Z"
   },
   {
    "duration": 7,
    "start_time": "2022-04-04T19:35:27.457Z"
   },
   {
    "duration": 6,
    "start_time": "2022-04-04T19:35:48.076Z"
   },
   {
    "duration": 8,
    "start_time": "2022-04-04T19:36:07.722Z"
   },
   {
    "duration": 5,
    "start_time": "2022-04-04T19:36:08.626Z"
   },
   {
    "duration": 6,
    "start_time": "2022-04-04T19:36:11.841Z"
   },
   {
    "duration": 98,
    "start_time": "2022-04-04T19:53:37.913Z"
   },
   {
    "duration": 4,
    "start_time": "2022-04-04T19:53:52.482Z"
   },
   {
    "duration": 12,
    "start_time": "2022-04-04T19:57:29.351Z"
   },
   {
    "duration": 3,
    "start_time": "2022-04-04T19:59:25.282Z"
   },
   {
    "duration": 4,
    "start_time": "2022-04-04T19:59:37.475Z"
   },
   {
    "duration": 26,
    "start_time": "2022-04-04T19:59:55.484Z"
   },
   {
    "duration": 3,
    "start_time": "2022-04-04T20:02:21.011Z"
   },
   {
    "duration": 5,
    "start_time": "2022-04-04T20:02:30.421Z"
   },
   {
    "duration": 1462,
    "start_time": "2022-04-04T20:04:00.059Z"
   },
   {
    "duration": 644,
    "start_time": "2022-04-04T20:04:01.523Z"
   },
   {
    "duration": 35,
    "start_time": "2022-04-04T20:04:02.169Z"
   },
   {
    "duration": 16,
    "start_time": "2022-04-04T20:04:02.207Z"
   },
   {
    "duration": 220,
    "start_time": "2022-04-04T20:04:02.225Z"
   },
   {
    "duration": 9,
    "start_time": "2022-04-04T20:04:02.447Z"
   },
   {
    "duration": 126,
    "start_time": "2022-04-04T20:04:02.458Z"
   },
   {
    "duration": 24,
    "start_time": "2022-04-04T20:04:02.586Z"
   },
   {
    "duration": 13,
    "start_time": "2022-04-04T20:04:02.612Z"
   },
   {
    "duration": 8,
    "start_time": "2022-04-04T20:04:02.628Z"
   },
   {
    "duration": 23,
    "start_time": "2022-04-04T20:04:02.637Z"
   },
   {
    "duration": 56,
    "start_time": "2022-04-04T20:04:02.662Z"
   },
   {
    "duration": 22,
    "start_time": "2022-04-04T20:04:02.720Z"
   },
   {
    "duration": 102,
    "start_time": "2022-04-04T20:04:02.744Z"
   },
   {
    "duration": 9,
    "start_time": "2022-04-04T20:04:02.848Z"
   },
   {
    "duration": 15,
    "start_time": "2022-04-04T20:04:02.859Z"
   },
   {
    "duration": 35,
    "start_time": "2022-04-04T20:04:02.875Z"
   },
   {
    "duration": 5,
    "start_time": "2022-04-04T20:04:02.912Z"
   },
   {
    "duration": 5,
    "start_time": "2022-04-04T20:04:02.918Z"
   },
   {
    "duration": 4,
    "start_time": "2022-04-04T20:04:02.924Z"
   },
   {
    "duration": 5,
    "start_time": "2022-04-04T20:04:02.930Z"
   },
   {
    "duration": 172,
    "start_time": "2022-04-04T20:06:33.368Z"
   },
   {
    "duration": 5,
    "start_time": "2022-04-04T20:06:41.529Z"
   },
   {
    "duration": 29,
    "start_time": "2022-04-04T20:07:04.991Z"
   },
   {
    "duration": 2,
    "start_time": "2022-04-04T20:09:48.501Z"
   },
   {
    "duration": 4,
    "start_time": "2022-04-04T20:09:55.106Z"
   },
   {
    "duration": 3,
    "start_time": "2022-04-04T20:09:57.791Z"
   },
   {
    "duration": 4,
    "start_time": "2022-04-04T20:10:04.455Z"
   },
   {
    "duration": 8,
    "start_time": "2022-04-04T20:15:10.096Z"
   },
   {
    "duration": 9,
    "start_time": "2022-04-04T20:15:18.544Z"
   },
   {
    "duration": 22,
    "start_time": "2022-04-04T20:15:32.670Z"
   },
   {
    "duration": 30,
    "start_time": "2022-04-04T20:16:27.362Z"
   },
   {
    "duration": 35,
    "start_time": "2022-04-04T20:16:42.147Z"
   },
   {
    "duration": 1432,
    "start_time": "2022-04-04T20:24:59.480Z"
   },
   {
    "duration": 12,
    "start_time": "2022-04-04T20:26:31.536Z"
   },
   {
    "duration": 33,
    "start_time": "2022-04-04T20:26:42.819Z"
   },
   {
    "duration": 22,
    "start_time": "2022-04-04T20:28:35.640Z"
   },
   {
    "duration": 26,
    "start_time": "2022-04-04T20:30:07.251Z"
   },
   {
    "duration": 16,
    "start_time": "2022-04-04T20:33:04.932Z"
   },
   {
    "duration": 18,
    "start_time": "2022-04-04T20:33:24.045Z"
   },
   {
    "duration": 8,
    "start_time": "2022-04-04T20:33:37.323Z"
   },
   {
    "duration": 8,
    "start_time": "2022-04-04T20:33:48.607Z"
   },
   {
    "duration": 18,
    "start_time": "2022-04-04T21:07:45.113Z"
   },
   {
    "duration": 8,
    "start_time": "2022-04-04T21:09:43.734Z"
   },
   {
    "duration": 5,
    "start_time": "2022-04-04T21:09:47.403Z"
   },
   {
    "duration": 266,
    "start_time": "2022-04-04T21:12:31.156Z"
   },
   {
    "duration": 246,
    "start_time": "2022-04-04T21:12:43.815Z"
   },
   {
    "duration": 373,
    "start_time": "2022-04-04T21:13:08.582Z"
   },
   {
    "duration": 9,
    "start_time": "2022-04-04T21:17:27.775Z"
   },
   {
    "duration": 310,
    "start_time": "2022-04-04T21:28:48.605Z"
   },
   {
    "duration": 307,
    "start_time": "2022-04-04T21:30:11.294Z"
   },
   {
    "duration": 294,
    "start_time": "2022-04-04T21:33:14.255Z"
   },
   {
    "duration": 9,
    "start_time": "2022-04-04T21:34:32.996Z"
   },
   {
    "duration": 13,
    "start_time": "2022-04-04T21:37:01.787Z"
   },
   {
    "duration": 308,
    "start_time": "2022-04-04T21:38:11.093Z"
   },
   {
    "duration": 8,
    "start_time": "2022-04-04T21:38:30.963Z"
   },
   {
    "duration": 10,
    "start_time": "2022-04-04T21:38:52.021Z"
   },
   {
    "duration": 1544,
    "start_time": "2022-04-05T05:37:49.046Z"
   },
   {
    "duration": 660,
    "start_time": "2022-04-05T05:37:50.595Z"
   },
   {
    "duration": 30,
    "start_time": "2022-04-05T05:37:51.257Z"
   },
   {
    "duration": 31,
    "start_time": "2022-04-05T05:37:51.289Z"
   },
   {
    "duration": 243,
    "start_time": "2022-04-05T05:37:51.322Z"
   },
   {
    "duration": 9,
    "start_time": "2022-04-05T05:37:51.567Z"
   },
   {
    "duration": 136,
    "start_time": "2022-04-05T05:37:51.578Z"
   },
   {
    "duration": 20,
    "start_time": "2022-04-05T05:37:51.716Z"
   },
   {
    "duration": 12,
    "start_time": "2022-04-05T05:37:51.740Z"
   },
   {
    "duration": 7,
    "start_time": "2022-04-05T05:37:51.753Z"
   },
   {
    "duration": 55,
    "start_time": "2022-04-05T05:37:51.762Z"
   },
   {
    "duration": 19,
    "start_time": "2022-04-05T05:37:51.819Z"
   },
   {
    "duration": 18,
    "start_time": "2022-04-05T05:37:51.840Z"
   },
   {
    "duration": 115,
    "start_time": "2022-04-05T05:37:51.860Z"
   },
   {
    "duration": 10,
    "start_time": "2022-04-05T05:37:51.977Z"
   },
   {
    "duration": 29,
    "start_time": "2022-04-05T05:37:51.989Z"
   },
   {
    "duration": 10,
    "start_time": "2022-04-05T05:37:52.020Z"
   },
   {
    "duration": 5,
    "start_time": "2022-04-05T05:37:52.032Z"
   },
   {
    "duration": 12,
    "start_time": "2022-04-05T05:37:52.039Z"
   },
   {
    "duration": 7,
    "start_time": "2022-04-05T05:37:52.053Z"
   },
   {
    "duration": 10,
    "start_time": "2022-04-05T05:37:52.061Z"
   },
   {
    "duration": 61,
    "start_time": "2022-04-05T05:37:52.073Z"
   },
   {
    "duration": 13,
    "start_time": "2022-04-05T05:37:52.136Z"
   },
   {
    "duration": 34,
    "start_time": "2022-04-05T05:37:52.151Z"
   },
   {
    "duration": 35,
    "start_time": "2022-04-05T05:37:52.187Z"
   },
   {
    "duration": 8,
    "start_time": "2022-04-05T05:37:52.224Z"
   },
   {
    "duration": 4,
    "start_time": "2022-04-05T05:37:52.235Z"
   },
   {
    "duration": 338,
    "start_time": "2022-04-05T05:37:52.240Z"
   },
   {
    "duration": 392,
    "start_time": "2022-04-05T05:37:52.579Z"
   },
   {
    "duration": 9,
    "start_time": "2022-04-05T05:37:52.972Z"
   },
   {
    "duration": 332,
    "start_time": "2022-04-05T05:37:52.983Z"
   },
   {
    "duration": 9,
    "start_time": "2022-04-05T05:37:53.317Z"
   },
   {
    "duration": 317,
    "start_time": "2022-04-05T05:37:53.328Z"
   },
   {
    "duration": 9,
    "start_time": "2022-04-05T05:37:53.646Z"
   },
   {
    "duration": 56,
    "start_time": "2022-04-05T05:49:26.032Z"
   },
   {
    "duration": 126,
    "start_time": "2022-04-05T06:02:12.045Z"
   },
   {
    "duration": 18,
    "start_time": "2022-04-05T06:02:28.584Z"
   },
   {
    "duration": 17,
    "start_time": "2022-04-05T06:02:58.473Z"
   },
   {
    "duration": 1798,
    "start_time": "2022-04-05T06:03:20.973Z"
   },
   {
    "duration": 1471,
    "start_time": "2022-04-05T06:03:53.659Z"
   },
   {
    "duration": 4,
    "start_time": "2022-04-05T06:04:35.492Z"
   },
   {
    "duration": 1646,
    "start_time": "2022-04-05T06:04:44.302Z"
   },
   {
    "duration": 864,
    "start_time": "2022-04-05T06:05:37.443Z"
   },
   {
    "duration": 1613,
    "start_time": "2022-04-05T06:07:44.926Z"
   },
   {
    "duration": 1626,
    "start_time": "2022-04-05T06:08:51.154Z"
   },
   {
    "duration": 1346,
    "start_time": "2022-04-05T06:09:16.610Z"
   },
   {
    "duration": 1610,
    "start_time": "2022-04-05T06:09:24.656Z"
   },
   {
    "duration": 1623,
    "start_time": "2022-04-05T06:09:37.882Z"
   },
   {
    "duration": 1514,
    "start_time": "2022-04-05T06:09:44.340Z"
   },
   {
    "duration": 1280,
    "start_time": "2022-04-05T06:12:39.752Z"
   },
   {
    "duration": 1048,
    "start_time": "2022-04-05T06:13:36.013Z"
   },
   {
    "duration": 1350,
    "start_time": "2022-04-05T06:16:16.425Z"
   },
   {
    "duration": 1120,
    "start_time": "2022-04-05T06:16:25.823Z"
   },
   {
    "duration": 703,
    "start_time": "2022-04-05T06:24:27.236Z"
   },
   {
    "duration": 762,
    "start_time": "2022-04-05T06:24:46.761Z"
   },
   {
    "duration": 27,
    "start_time": "2022-04-05T06:27:41.363Z"
   },
   {
    "duration": 42,
    "start_time": "2022-04-05T08:37:30.537Z"
   },
   {
    "duration": 1624,
    "start_time": "2022-04-05T08:37:38.004Z"
   },
   {
    "duration": 622,
    "start_time": "2022-04-05T08:37:39.630Z"
   },
   {
    "duration": 28,
    "start_time": "2022-04-05T08:37:40.253Z"
   },
   {
    "duration": 15,
    "start_time": "2022-04-05T08:37:40.283Z"
   },
   {
    "duration": 197,
    "start_time": "2022-04-05T08:37:40.299Z"
   },
   {
    "duration": 8,
    "start_time": "2022-04-05T08:37:40.497Z"
   },
   {
    "duration": 121,
    "start_time": "2022-04-05T08:37:40.506Z"
   },
   {
    "duration": 16,
    "start_time": "2022-04-05T08:37:40.629Z"
   },
   {
    "duration": 21,
    "start_time": "2022-04-05T08:37:40.646Z"
   },
   {
    "duration": 14,
    "start_time": "2022-04-05T08:37:40.669Z"
   },
   {
    "duration": 23,
    "start_time": "2022-04-05T08:37:40.684Z"
   },
   {
    "duration": 17,
    "start_time": "2022-04-05T08:37:40.709Z"
   },
   {
    "duration": 34,
    "start_time": "2022-04-05T08:37:40.728Z"
   },
   {
    "duration": 86,
    "start_time": "2022-04-05T08:37:40.763Z"
   },
   {
    "duration": 8,
    "start_time": "2022-04-05T08:37:40.850Z"
   },
   {
    "duration": 34,
    "start_time": "2022-04-05T08:37:40.859Z"
   },
   {
    "duration": 12,
    "start_time": "2022-04-05T08:37:40.894Z"
   },
   {
    "duration": 9,
    "start_time": "2022-04-05T08:37:40.907Z"
   },
   {
    "duration": 12,
    "start_time": "2022-04-05T08:37:40.918Z"
   },
   {
    "duration": 16,
    "start_time": "2022-04-05T08:37:40.931Z"
   },
   {
    "duration": 24,
    "start_time": "2022-04-05T08:37:40.949Z"
   },
   {
    "duration": 47,
    "start_time": "2022-04-05T08:37:40.975Z"
   },
   {
    "duration": 12,
    "start_time": "2022-04-05T08:37:41.023Z"
   },
   {
    "duration": 48,
    "start_time": "2022-04-05T08:37:41.036Z"
   },
   {
    "duration": 43,
    "start_time": "2022-04-05T08:37:41.085Z"
   },
   {
    "duration": 8,
    "start_time": "2022-04-05T08:37:41.129Z"
   },
   {
    "duration": 28,
    "start_time": "2022-04-05T08:37:41.138Z"
   },
   {
    "duration": 278,
    "start_time": "2022-04-05T08:37:41.169Z"
   },
   {
    "duration": 344,
    "start_time": "2022-04-05T08:37:41.448Z"
   },
   {
    "duration": 9,
    "start_time": "2022-04-05T08:37:41.793Z"
   },
   {
    "duration": 286,
    "start_time": "2022-04-05T08:37:41.803Z"
   },
   {
    "duration": 7,
    "start_time": "2022-04-05T08:37:42.091Z"
   },
   {
    "duration": 275,
    "start_time": "2022-04-05T08:37:42.100Z"
   },
   {
    "duration": 10,
    "start_time": "2022-04-05T08:37:42.376Z"
   },
   {
    "duration": 998,
    "start_time": "2022-04-05T08:37:42.387Z"
   },
   {
    "duration": 679,
    "start_time": "2022-04-05T08:37:43.387Z"
   },
   {
    "duration": 20,
    "start_time": "2022-04-05T08:37:44.068Z"
   },
   {
    "duration": 18,
    "start_time": "2022-04-05T09:02:09.608Z"
   },
   {
    "duration": 6,
    "start_time": "2022-04-05T09:17:04.928Z"
   },
   {
    "duration": 6,
    "start_time": "2022-04-05T09:18:24.649Z"
   },
   {
    "duration": 4,
    "start_time": "2022-04-05T09:19:15.369Z"
   },
   {
    "duration": 202,
    "start_time": "2022-04-05T09:21:34.583Z"
   },
   {
    "duration": 425,
    "start_time": "2022-04-05T09:22:06.546Z"
   },
   {
    "duration": 245,
    "start_time": "2022-04-05T09:22:31.843Z"
   },
   {
    "duration": 301,
    "start_time": "2022-04-05T09:24:02.117Z"
   },
   {
    "duration": 160,
    "start_time": "2022-04-05T09:24:17.402Z"
   },
   {
    "duration": 177,
    "start_time": "2022-04-05T09:24:41.871Z"
   },
   {
    "duration": 187,
    "start_time": "2022-04-05T09:24:55.125Z"
   },
   {
    "duration": 3794,
    "start_time": "2022-04-05T09:27:50.018Z"
   },
   {
    "duration": 5,
    "start_time": "2022-04-05T09:28:03.670Z"
   },
   {
    "duration": 215,
    "start_time": "2022-04-05T09:28:24.059Z"
   },
   {
    "duration": 142,
    "start_time": "2022-04-05T09:28:48.653Z"
   },
   {
    "duration": 204,
    "start_time": "2022-04-05T09:28:53.257Z"
   },
   {
    "duration": 302,
    "start_time": "2022-04-05T09:29:56.811Z"
   },
   {
    "duration": 211,
    "start_time": "2022-04-05T09:30:14.890Z"
   },
   {
    "duration": 503,
    "start_time": "2022-04-05T09:31:36.649Z"
   },
   {
    "duration": 379,
    "start_time": "2022-04-05T09:32:09.881Z"
   },
   {
    "duration": 10,
    "start_time": "2022-04-05T10:02:02.442Z"
   },
   {
    "duration": 762,
    "start_time": "2022-04-05T10:02:24.953Z"
   },
   {
    "duration": 492,
    "start_time": "2022-04-05T10:02:33.567Z"
   },
   {
    "duration": 13,
    "start_time": "2022-04-05T10:04:17.316Z"
   },
   {
    "duration": 1089,
    "start_time": "2022-04-05T10:06:00.932Z"
   },
   {
    "duration": 1599,
    "start_time": "2022-04-05T10:06:08.809Z"
   },
   {
    "duration": 656,
    "start_time": "2022-04-05T10:06:10.410Z"
   },
   {
    "duration": 39,
    "start_time": "2022-04-05T10:06:11.067Z"
   },
   {
    "duration": 22,
    "start_time": "2022-04-05T10:06:11.109Z"
   },
   {
    "duration": 248,
    "start_time": "2022-04-05T10:06:11.133Z"
   },
   {
    "duration": 10,
    "start_time": "2022-04-05T10:06:11.383Z"
   },
   {
    "duration": 153,
    "start_time": "2022-04-05T10:06:11.395Z"
   },
   {
    "duration": 18,
    "start_time": "2022-04-05T10:06:11.549Z"
   },
   {
    "duration": 18,
    "start_time": "2022-04-05T10:06:11.580Z"
   },
   {
    "duration": 9,
    "start_time": "2022-04-05T10:06:11.602Z"
   },
   {
    "duration": 22,
    "start_time": "2022-04-05T10:06:11.612Z"
   },
   {
    "duration": 47,
    "start_time": "2022-04-05T10:06:11.636Z"
   },
   {
    "duration": 21,
    "start_time": "2022-04-05T10:06:11.685Z"
   },
   {
    "duration": 95,
    "start_time": "2022-04-05T10:06:11.707Z"
   },
   {
    "duration": 8,
    "start_time": "2022-04-05T10:06:11.804Z"
   },
   {
    "duration": 17,
    "start_time": "2022-04-05T10:06:11.814Z"
   },
   {
    "duration": 9,
    "start_time": "2022-04-05T10:06:11.833Z"
   },
   {
    "duration": 8,
    "start_time": "2022-04-05T10:06:11.844Z"
   },
   {
    "duration": 6,
    "start_time": "2022-04-05T10:06:11.853Z"
   },
   {
    "duration": 23,
    "start_time": "2022-04-05T10:06:11.860Z"
   },
   {
    "duration": 7,
    "start_time": "2022-04-05T10:06:11.885Z"
   },
   {
    "duration": 29,
    "start_time": "2022-04-05T10:06:11.894Z"
   },
   {
    "duration": 11,
    "start_time": "2022-04-05T10:06:11.925Z"
   },
   {
    "duration": 48,
    "start_time": "2022-04-05T10:06:11.938Z"
   },
   {
    "duration": 17,
    "start_time": "2022-04-05T10:06:11.987Z"
   },
   {
    "duration": 8,
    "start_time": "2022-04-05T10:06:12.006Z"
   },
   {
    "duration": 7,
    "start_time": "2022-04-05T10:06:12.016Z"
   },
   {
    "duration": 305,
    "start_time": "2022-04-05T10:06:12.026Z"
   },
   {
    "duration": 340,
    "start_time": "2022-04-05T10:06:12.332Z"
   },
   {
    "duration": 14,
    "start_time": "2022-04-05T10:06:12.673Z"
   },
   {
    "duration": 296,
    "start_time": "2022-04-05T10:06:12.689Z"
   },
   {
    "duration": 9,
    "start_time": "2022-04-05T10:06:12.986Z"
   },
   {
    "duration": 289,
    "start_time": "2022-04-05T10:06:12.996Z"
   },
   {
    "duration": 9,
    "start_time": "2022-04-05T10:06:13.287Z"
   },
   {
    "duration": 1107,
    "start_time": "2022-04-05T10:06:13.298Z"
   },
   {
    "duration": 758,
    "start_time": "2022-04-05T10:06:14.407Z"
   },
   {
    "duration": 20,
    "start_time": "2022-04-05T10:06:15.167Z"
   },
   {
    "duration": 5,
    "start_time": "2022-04-05T10:06:15.188Z"
   },
   {
    "duration": 7,
    "start_time": "2022-04-05T10:06:15.194Z"
   },
   {
    "duration": 6,
    "start_time": "2022-04-05T10:06:15.202Z"
   },
   {
    "duration": 8,
    "start_time": "2022-04-05T10:06:15.209Z"
   },
   {
    "duration": 252,
    "start_time": "2022-04-05T10:06:15.218Z"
   },
   {
    "duration": 709,
    "start_time": "2022-04-05T10:06:15.472Z"
   },
   {
    "duration": 518,
    "start_time": "2022-04-05T10:06:16.183Z"
   },
   {
    "duration": 1435,
    "start_time": "2022-04-05T10:07:28.676Z"
   },
   {
    "duration": 616,
    "start_time": "2022-04-05T10:07:30.114Z"
   },
   {
    "duration": 25,
    "start_time": "2022-04-05T10:07:30.732Z"
   },
   {
    "duration": 25,
    "start_time": "2022-04-05T10:07:30.759Z"
   },
   {
    "duration": 214,
    "start_time": "2022-04-05T10:07:30.786Z"
   },
   {
    "duration": 10,
    "start_time": "2022-04-05T10:07:31.002Z"
   },
   {
    "duration": 133,
    "start_time": "2022-04-05T10:07:31.013Z"
   },
   {
    "duration": 17,
    "start_time": "2022-04-05T10:07:31.148Z"
   },
   {
    "duration": 27,
    "start_time": "2022-04-05T10:07:31.168Z"
   },
   {
    "duration": 8,
    "start_time": "2022-04-05T10:07:31.197Z"
   },
   {
    "duration": 25,
    "start_time": "2022-04-05T10:07:31.207Z"
   },
   {
    "duration": 19,
    "start_time": "2022-04-05T10:07:31.233Z"
   },
   {
    "duration": 34,
    "start_time": "2022-04-05T10:07:31.254Z"
   },
   {
    "duration": 94,
    "start_time": "2022-04-05T10:07:31.290Z"
   },
   {
    "duration": 8,
    "start_time": "2022-04-05T10:07:31.386Z"
   },
   {
    "duration": 17,
    "start_time": "2022-04-05T10:07:31.395Z"
   },
   {
    "duration": 9,
    "start_time": "2022-04-05T10:07:31.414Z"
   },
   {
    "duration": 7,
    "start_time": "2022-04-05T10:07:31.424Z"
   },
   {
    "duration": 7,
    "start_time": "2022-04-05T10:07:31.432Z"
   },
   {
    "duration": 5,
    "start_time": "2022-04-05T10:07:31.440Z"
   },
   {
    "duration": 6,
    "start_time": "2022-04-05T10:07:31.446Z"
   },
   {
    "duration": 57,
    "start_time": "2022-04-05T10:07:31.453Z"
   },
   {
    "duration": 11,
    "start_time": "2022-04-05T10:07:31.512Z"
   },
   {
    "duration": 33,
    "start_time": "2022-04-05T10:07:31.525Z"
   },
   {
    "duration": 30,
    "start_time": "2022-04-05T10:07:31.560Z"
   },
   {
    "duration": 8,
    "start_time": "2022-04-05T10:07:31.592Z"
   },
   {
    "duration": 5,
    "start_time": "2022-04-05T10:07:31.604Z"
   },
   {
    "duration": 295,
    "start_time": "2022-04-05T10:07:31.610Z"
   },
   {
    "duration": 345,
    "start_time": "2022-04-05T10:07:31.907Z"
   },
   {
    "duration": 10,
    "start_time": "2022-04-05T10:07:32.254Z"
   },
   {
    "duration": 293,
    "start_time": "2022-04-05T10:07:32.265Z"
   },
   {
    "duration": 8,
    "start_time": "2022-04-05T10:07:32.560Z"
   },
   {
    "duration": 276,
    "start_time": "2022-04-05T10:07:32.581Z"
   },
   {
    "duration": 9,
    "start_time": "2022-04-05T10:07:32.859Z"
   },
   {
    "duration": 1021,
    "start_time": "2022-04-05T10:07:32.869Z"
   },
   {
    "duration": 665,
    "start_time": "2022-04-05T10:07:33.892Z"
   },
   {
    "duration": 15,
    "start_time": "2022-04-05T10:07:34.558Z"
   },
   {
    "duration": 8,
    "start_time": "2022-04-05T10:07:34.575Z"
   },
   {
    "duration": 6,
    "start_time": "2022-04-05T10:07:34.585Z"
   },
   {
    "duration": 8,
    "start_time": "2022-04-05T10:07:34.593Z"
   },
   {
    "duration": 7,
    "start_time": "2022-04-05T10:07:34.602Z"
   },
   {
    "duration": 238,
    "start_time": "2022-04-05T10:07:34.610Z"
   },
   {
    "duration": 5,
    "start_time": "2022-04-05T10:07:34.849Z"
   },
   {
    "duration": 233,
    "start_time": "2022-04-05T10:07:34.855Z"
   },
   {
    "duration": 10,
    "start_time": "2022-04-05T10:08:53.912Z"
   },
   {
    "duration": 228,
    "start_time": "2022-04-05T10:08:56.162Z"
   },
   {
    "duration": 3,
    "start_time": "2022-04-05T10:15:53.451Z"
   },
   {
    "duration": 1494,
    "start_time": "2022-04-05T10:50:49.044Z"
   },
   {
    "duration": 614,
    "start_time": "2022-04-05T10:50:50.540Z"
   },
   {
    "duration": 32,
    "start_time": "2022-04-05T10:50:51.155Z"
   },
   {
    "duration": 23,
    "start_time": "2022-04-05T10:50:51.188Z"
   },
   {
    "duration": 195,
    "start_time": "2022-04-05T10:50:51.212Z"
   },
   {
    "duration": 8,
    "start_time": "2022-04-05T10:50:51.408Z"
   },
   {
    "duration": 127,
    "start_time": "2022-04-05T10:50:51.418Z"
   },
   {
    "duration": 18,
    "start_time": "2022-04-05T10:50:51.546Z"
   },
   {
    "duration": 22,
    "start_time": "2022-04-05T10:50:51.565Z"
   },
   {
    "duration": 6,
    "start_time": "2022-04-05T10:50:51.589Z"
   },
   {
    "duration": 24,
    "start_time": "2022-04-05T10:50:51.596Z"
   },
   {
    "duration": 17,
    "start_time": "2022-04-05T10:50:51.621Z"
   },
   {
    "duration": 15,
    "start_time": "2022-04-05T10:50:51.640Z"
   },
   {
    "duration": 104,
    "start_time": "2022-04-05T10:50:51.657Z"
   },
   {
    "duration": 19,
    "start_time": "2022-04-05T10:50:51.763Z"
   },
   {
    "duration": 18,
    "start_time": "2022-04-05T10:50:51.784Z"
   },
   {
    "duration": 10,
    "start_time": "2022-04-05T10:50:51.804Z"
   },
   {
    "duration": 6,
    "start_time": "2022-04-05T10:50:51.815Z"
   },
   {
    "duration": 7,
    "start_time": "2022-04-05T10:50:51.823Z"
   },
   {
    "duration": 7,
    "start_time": "2022-04-05T10:50:51.832Z"
   },
   {
    "duration": 5,
    "start_time": "2022-04-05T10:50:51.840Z"
   },
   {
    "duration": 55,
    "start_time": "2022-04-05T10:50:51.846Z"
   },
   {
    "duration": 10,
    "start_time": "2022-04-05T10:50:51.903Z"
   },
   {
    "duration": 26,
    "start_time": "2022-04-05T10:50:51.915Z"
   },
   {
    "duration": 20,
    "start_time": "2022-04-05T10:50:51.942Z"
   },
   {
    "duration": 19,
    "start_time": "2022-04-05T10:50:51.964Z"
   },
   {
    "duration": 4,
    "start_time": "2022-04-05T10:50:51.985Z"
   },
   {
    "duration": 283,
    "start_time": "2022-04-05T10:50:51.992Z"
   },
   {
    "duration": 334,
    "start_time": "2022-04-05T10:50:52.280Z"
   },
   {
    "duration": 9,
    "start_time": "2022-04-05T10:50:52.616Z"
   },
   {
    "duration": 285,
    "start_time": "2022-04-05T10:50:52.626Z"
   },
   {
    "duration": 9,
    "start_time": "2022-04-05T10:50:52.913Z"
   },
   {
    "duration": 276,
    "start_time": "2022-04-05T10:50:52.923Z"
   },
   {
    "duration": 8,
    "start_time": "2022-04-05T10:50:53.201Z"
   },
   {
    "duration": 1163,
    "start_time": "2022-04-05T10:50:53.211Z"
   },
   {
    "duration": 768,
    "start_time": "2022-04-05T10:50:54.375Z"
   },
   {
    "duration": 15,
    "start_time": "2022-04-05T10:50:55.145Z"
   },
   {
    "duration": 4,
    "start_time": "2022-04-05T10:50:55.161Z"
   },
   {
    "duration": 15,
    "start_time": "2022-04-05T10:50:55.167Z"
   },
   {
    "duration": 6,
    "start_time": "2022-04-05T10:50:55.183Z"
   },
   {
    "duration": 7,
    "start_time": "2022-04-05T10:50:55.190Z"
   },
   {
    "duration": 230,
    "start_time": "2022-04-05T10:50:55.199Z"
   },
   {
    "duration": 3,
    "start_time": "2022-04-05T10:50:55.430Z"
   },
   {
    "duration": 10,
    "start_time": "2022-04-05T10:50:55.435Z"
   },
   {
    "duration": 129,
    "start_time": "2022-04-05T10:50:55.447Z"
   },
   {
    "duration": 0,
    "start_time": "2022-04-05T10:50:55.581Z"
   },
   {
    "duration": 1649,
    "start_time": "2022-04-05T10:53:11.703Z"
   },
   {
    "duration": 611,
    "start_time": "2022-04-05T10:53:13.355Z"
   },
   {
    "duration": 30,
    "start_time": "2022-04-05T10:53:13.968Z"
   },
   {
    "duration": 16,
    "start_time": "2022-04-05T10:53:14.001Z"
   },
   {
    "duration": 209,
    "start_time": "2022-04-05T10:53:14.018Z"
   },
   {
    "duration": 8,
    "start_time": "2022-04-05T10:53:14.228Z"
   },
   {
    "duration": 135,
    "start_time": "2022-04-05T10:53:14.237Z"
   },
   {
    "duration": 23,
    "start_time": "2022-04-05T10:53:14.373Z"
   },
   {
    "duration": 13,
    "start_time": "2022-04-05T10:53:14.398Z"
   },
   {
    "duration": 6,
    "start_time": "2022-04-05T10:53:14.414Z"
   },
   {
    "duration": 19,
    "start_time": "2022-04-05T10:53:14.421Z"
   },
   {
    "duration": 41,
    "start_time": "2022-04-05T10:53:14.442Z"
   },
   {
    "duration": 16,
    "start_time": "2022-04-05T10:53:14.485Z"
   },
   {
    "duration": 99,
    "start_time": "2022-04-05T10:53:14.503Z"
   },
   {
    "duration": 8,
    "start_time": "2022-04-05T10:53:14.603Z"
   },
   {
    "duration": 12,
    "start_time": "2022-04-05T10:53:14.612Z"
   },
   {
    "duration": 9,
    "start_time": "2022-04-05T10:53:14.626Z"
   },
   {
    "duration": 4,
    "start_time": "2022-04-05T10:53:14.637Z"
   },
   {
    "duration": 6,
    "start_time": "2022-04-05T10:53:14.643Z"
   },
   {
    "duration": 32,
    "start_time": "2022-04-05T10:53:14.650Z"
   },
   {
    "duration": 5,
    "start_time": "2022-04-05T10:53:14.684Z"
   },
   {
    "duration": 30,
    "start_time": "2022-04-05T10:53:14.690Z"
   },
   {
    "duration": 12,
    "start_time": "2022-04-05T10:53:14.722Z"
   },
   {
    "duration": 51,
    "start_time": "2022-04-05T10:53:14.736Z"
   },
   {
    "duration": 18,
    "start_time": "2022-04-05T10:53:14.789Z"
   },
   {
    "duration": 7,
    "start_time": "2022-04-05T10:53:14.809Z"
   },
   {
    "duration": 4,
    "start_time": "2022-04-05T10:53:14.817Z"
   },
   {
    "duration": 298,
    "start_time": "2022-04-05T10:53:14.825Z"
   },
   {
    "duration": 337,
    "start_time": "2022-04-05T10:53:15.125Z"
   },
   {
    "duration": 19,
    "start_time": "2022-04-05T10:53:15.463Z"
   },
   {
    "duration": 276,
    "start_time": "2022-04-05T10:53:15.484Z"
   },
   {
    "duration": 21,
    "start_time": "2022-04-05T10:53:15.762Z"
   },
   {
    "duration": 306,
    "start_time": "2022-04-05T10:53:15.784Z"
   },
   {
    "duration": 11,
    "start_time": "2022-04-05T10:53:16.092Z"
   },
   {
    "duration": 1115,
    "start_time": "2022-04-05T10:53:16.104Z"
   },
   {
    "duration": 742,
    "start_time": "2022-04-05T10:53:17.221Z"
   },
   {
    "duration": 20,
    "start_time": "2022-04-05T10:53:17.965Z"
   },
   {
    "duration": 4,
    "start_time": "2022-04-05T10:53:17.986Z"
   },
   {
    "duration": 8,
    "start_time": "2022-04-05T10:53:17.992Z"
   },
   {
    "duration": 6,
    "start_time": "2022-04-05T10:53:18.001Z"
   },
   {
    "duration": 6,
    "start_time": "2022-04-05T10:53:18.008Z"
   },
   {
    "duration": 244,
    "start_time": "2022-04-05T10:53:18.015Z"
   },
   {
    "duration": 9,
    "start_time": "2022-04-05T10:53:18.261Z"
   },
   {
    "duration": 233,
    "start_time": "2022-04-05T10:53:18.271Z"
   },
   {
    "duration": 3,
    "start_time": "2022-04-05T10:53:18.505Z"
   },
   {
    "duration": 22,
    "start_time": "2022-04-05T10:53:49.719Z"
   },
   {
    "duration": 3780,
    "start_time": "2022-04-05T10:54:32.455Z"
   },
   {
    "duration": 5,
    "start_time": "2022-04-05T11:01:30.531Z"
   },
   {
    "duration": 4,
    "start_time": "2022-04-05T11:01:35.401Z"
   },
   {
    "duration": 3585,
    "start_time": "2022-04-05T11:01:39.123Z"
   },
   {
    "duration": 8405,
    "start_time": "2022-04-05T11:02:44.434Z"
   },
   {
    "duration": 1773,
    "start_time": "2022-04-05T11:03:00.787Z"
   },
   {
    "duration": 642,
    "start_time": "2022-04-05T11:03:02.562Z"
   },
   {
    "duration": 38,
    "start_time": "2022-04-05T11:03:03.206Z"
   },
   {
    "duration": 37,
    "start_time": "2022-04-05T11:03:03.247Z"
   },
   {
    "duration": 313,
    "start_time": "2022-04-05T11:03:03.286Z"
   },
   {
    "duration": 11,
    "start_time": "2022-04-05T11:03:03.600Z"
   },
   {
    "duration": 173,
    "start_time": "2022-04-05T11:03:03.613Z"
   },
   {
    "duration": 28,
    "start_time": "2022-04-05T11:03:03.788Z"
   },
   {
    "duration": 21,
    "start_time": "2022-04-05T11:03:03.818Z"
   },
   {
    "duration": 8,
    "start_time": "2022-04-05T11:03:03.843Z"
   },
   {
    "duration": 60,
    "start_time": "2022-04-05T11:03:03.853Z"
   },
   {
    "duration": 30,
    "start_time": "2022-04-05T11:03:03.916Z"
   },
   {
    "duration": 41,
    "start_time": "2022-04-05T11:03:03.948Z"
   },
   {
    "duration": 143,
    "start_time": "2022-04-05T11:03:03.991Z"
   },
   {
    "duration": 11,
    "start_time": "2022-04-05T11:03:04.136Z"
   },
   {
    "duration": 33,
    "start_time": "2022-04-05T11:03:04.149Z"
   },
   {
    "duration": 10,
    "start_time": "2022-04-05T11:03:04.184Z"
   },
   {
    "duration": 9,
    "start_time": "2022-04-05T11:03:04.196Z"
   },
   {
    "duration": 17,
    "start_time": "2022-04-05T11:03:04.206Z"
   },
   {
    "duration": 6,
    "start_time": "2022-04-05T11:03:04.225Z"
   },
   {
    "duration": 6,
    "start_time": "2022-04-05T11:03:04.232Z"
   },
   {
    "duration": 45,
    "start_time": "2022-04-05T11:03:04.239Z"
   },
   {
    "duration": 11,
    "start_time": "2022-04-05T11:03:04.285Z"
   },
   {
    "duration": 29,
    "start_time": "2022-04-05T11:03:04.298Z"
   },
   {
    "duration": 21,
    "start_time": "2022-04-05T11:03:04.328Z"
   },
   {
    "duration": 7,
    "start_time": "2022-04-05T11:03:04.351Z"
   },
   {
    "duration": 23,
    "start_time": "2022-04-05T11:03:04.359Z"
   },
   {
    "duration": 286,
    "start_time": "2022-04-05T11:03:04.385Z"
   },
   {
    "duration": 342,
    "start_time": "2022-04-05T11:03:04.680Z"
   },
   {
    "duration": 10,
    "start_time": "2022-04-05T11:03:05.024Z"
   },
   {
    "duration": 308,
    "start_time": "2022-04-05T11:03:05.035Z"
   },
   {
    "duration": 12,
    "start_time": "2022-04-05T11:03:05.345Z"
   },
   {
    "duration": 287,
    "start_time": "2022-04-05T11:03:05.358Z"
   },
   {
    "duration": 10,
    "start_time": "2022-04-05T11:03:05.646Z"
   },
   {
    "duration": 1063,
    "start_time": "2022-04-05T11:03:05.657Z"
   },
   {
    "duration": 751,
    "start_time": "2022-04-05T11:03:06.722Z"
   },
   {
    "duration": 15,
    "start_time": "2022-04-05T11:03:07.475Z"
   },
   {
    "duration": 3,
    "start_time": "2022-04-05T11:03:07.492Z"
   },
   {
    "duration": 7,
    "start_time": "2022-04-05T11:03:07.497Z"
   },
   {
    "duration": 8,
    "start_time": "2022-04-05T11:03:07.505Z"
   },
   {
    "duration": 8,
    "start_time": "2022-04-05T11:03:07.514Z"
   },
   {
    "duration": 388,
    "start_time": "2022-04-05T11:03:07.524Z"
   },
   {
    "duration": 13,
    "start_time": "2022-04-05T11:03:07.914Z"
   },
   {
    "duration": 391,
    "start_time": "2022-04-05T11:03:07.928Z"
   },
   {
    "duration": 6,
    "start_time": "2022-04-05T11:03:08.321Z"
   },
   {
    "duration": 5153,
    "start_time": "2022-04-05T11:03:08.329Z"
   },
   {
    "duration": 0,
    "start_time": "2022-04-05T11:03:13.484Z"
   },
   {
    "duration": 0,
    "start_time": "2022-04-05T11:03:13.486Z"
   },
   {
    "duration": 16,
    "start_time": "2022-04-05T11:05:06.977Z"
   },
   {
    "duration": 8,
    "start_time": "2022-04-05T11:06:18.570Z"
   },
   {
    "duration": 4098,
    "start_time": "2022-04-05T11:06:36.934Z"
   },
   {
    "duration": 24,
    "start_time": "2022-04-05T11:06:50.517Z"
   },
   {
    "duration": 5,
    "start_time": "2022-04-05T11:07:28.263Z"
   },
   {
    "duration": 9,
    "start_time": "2022-04-05T11:07:29.576Z"
   },
   {
    "duration": 12,
    "start_time": "2022-04-05T11:08:09.968Z"
   },
   {
    "duration": 4,
    "start_time": "2022-04-05T11:11:37.803Z"
   },
   {
    "duration": 13,
    "start_time": "2022-04-05T11:11:59.438Z"
   },
   {
    "duration": 4,
    "start_time": "2022-04-05T11:12:00.553Z"
   },
   {
    "duration": 1650,
    "start_time": "2022-04-05T11:24:53.372Z"
   },
   {
    "duration": 648,
    "start_time": "2022-04-05T11:24:55.024Z"
   },
   {
    "duration": 37,
    "start_time": "2022-04-05T11:24:55.673Z"
   },
   {
    "duration": 16,
    "start_time": "2022-04-05T11:24:55.712Z"
   },
   {
    "duration": 222,
    "start_time": "2022-04-05T11:24:55.730Z"
   },
   {
    "duration": 10,
    "start_time": "2022-04-05T11:24:55.954Z"
   },
   {
    "duration": 136,
    "start_time": "2022-04-05T11:24:55.966Z"
   },
   {
    "duration": 19,
    "start_time": "2022-04-05T11:24:56.104Z"
   },
   {
    "duration": 13,
    "start_time": "2022-04-05T11:24:56.124Z"
   },
   {
    "duration": 6,
    "start_time": "2022-04-05T11:24:56.141Z"
   },
   {
    "duration": 50,
    "start_time": "2022-04-05T11:24:56.149Z"
   },
   {
    "duration": 20,
    "start_time": "2022-04-05T11:24:56.200Z"
   },
   {
    "duration": 17,
    "start_time": "2022-04-05T11:24:56.221Z"
   },
   {
    "duration": 117,
    "start_time": "2022-04-05T11:24:56.239Z"
   },
   {
    "duration": 24,
    "start_time": "2022-04-05T11:24:56.358Z"
   },
   {
    "duration": 20,
    "start_time": "2022-04-05T11:24:56.383Z"
   },
   {
    "duration": 10,
    "start_time": "2022-04-05T11:24:56.405Z"
   },
   {
    "duration": 6,
    "start_time": "2022-04-05T11:24:56.417Z"
   },
   {
    "duration": 5,
    "start_time": "2022-04-05T11:24:56.425Z"
   },
   {
    "duration": 4,
    "start_time": "2022-04-05T11:24:56.432Z"
   },
   {
    "duration": 6,
    "start_time": "2022-04-05T11:24:56.438Z"
   },
   {
    "duration": 47,
    "start_time": "2022-04-05T11:24:56.446Z"
   },
   {
    "duration": 45,
    "start_time": "2022-04-05T11:24:56.495Z"
   },
   {
    "duration": 18,
    "start_time": "2022-04-05T11:24:56.542Z"
   },
   {
    "duration": 7,
    "start_time": "2022-04-05T11:24:56.561Z"
   },
   {
    "duration": 13,
    "start_time": "2022-04-05T11:24:56.569Z"
   },
   {
    "duration": 314,
    "start_time": "2022-04-05T11:24:56.584Z"
   },
   {
    "duration": 346,
    "start_time": "2022-04-05T11:24:56.902Z"
   },
   {
    "duration": 8,
    "start_time": "2022-04-05T11:24:57.250Z"
   },
   {
    "duration": 307,
    "start_time": "2022-04-05T11:24:57.260Z"
   },
   {
    "duration": 12,
    "start_time": "2022-04-05T11:24:57.569Z"
   },
   {
    "duration": 290,
    "start_time": "2022-04-05T11:24:57.584Z"
   },
   {
    "duration": 13,
    "start_time": "2022-04-05T11:24:57.876Z"
   },
   {
    "duration": 1606,
    "start_time": "2022-04-05T11:24:57.891Z"
   },
   {
    "duration": 692,
    "start_time": "2022-04-05T11:24:59.501Z"
   },
   {
    "duration": 16,
    "start_time": "2022-04-05T11:25:00.196Z"
   },
   {
    "duration": 4,
    "start_time": "2022-04-05T11:25:00.214Z"
   },
   {
    "duration": 8,
    "start_time": "2022-04-05T11:25:00.219Z"
   },
   {
    "duration": 9,
    "start_time": "2022-04-05T11:25:00.228Z"
   },
   {
    "duration": 7,
    "start_time": "2022-04-05T11:25:00.239Z"
   },
   {
    "duration": 268,
    "start_time": "2022-04-05T11:25:00.248Z"
   },
   {
    "duration": 9,
    "start_time": "2022-04-05T11:25:00.517Z"
   },
   {
    "duration": 243,
    "start_time": "2022-04-05T11:25:00.527Z"
   },
   {
    "duration": 4,
    "start_time": "2022-04-05T11:25:00.772Z"
   },
   {
    "duration": 21,
    "start_time": "2022-04-05T11:25:00.780Z"
   },
   {
    "duration": 7,
    "start_time": "2022-04-05T11:25:00.803Z"
   },
   {
    "duration": 12,
    "start_time": "2022-04-05T11:25:00.812Z"
   },
   {
    "duration": 13,
    "start_time": "2022-04-05T11:25:00.825Z"
   },
   {
    "duration": 247,
    "start_time": "2022-04-05T11:26:02.664Z"
   },
   {
    "duration": 4,
    "start_time": "2022-04-05T11:27:53.069Z"
   },
   {
    "duration": 26,
    "start_time": "2022-04-05T11:34:31.211Z"
   },
   {
    "duration": 18,
    "start_time": "2022-04-05T11:35:49.480Z"
   },
   {
    "duration": 22,
    "start_time": "2022-04-05T11:46:56.165Z"
   },
   {
    "duration": 28,
    "start_time": "2022-04-05T11:47:01.253Z"
   },
   {
    "duration": 16,
    "start_time": "2022-04-05T11:49:46.907Z"
   },
   {
    "duration": 105,
    "start_time": "2022-04-05T12:04:02.730Z"
   },
   {
    "duration": 10,
    "start_time": "2022-04-05T12:04:44.795Z"
   },
   {
    "duration": 6,
    "start_time": "2022-04-05T12:04:58.262Z"
   },
   {
    "duration": 4,
    "start_time": "2022-04-05T12:05:07.726Z"
   },
   {
    "duration": 212,
    "start_time": "2022-04-05T12:08:28.944Z"
   },
   {
    "duration": 14,
    "start_time": "2022-04-05T12:10:52.934Z"
   },
   {
    "duration": 17,
    "start_time": "2022-04-05T12:19:21.190Z"
   },
   {
    "duration": 4566,
    "start_time": "2022-04-05T12:19:33.464Z"
   },
   {
    "duration": 53,
    "start_time": "2022-04-05T12:40:18.089Z"
   },
   {
    "duration": 27,
    "start_time": "2022-04-05T12:41:00.420Z"
   },
   {
    "duration": 89,
    "start_time": "2022-04-05T12:41:07.794Z"
   },
   {
    "duration": 3364,
    "start_time": "2022-04-05T12:44:22.623Z"
   },
   {
    "duration": 100,
    "start_time": "2022-04-05T12:44:37.786Z"
   },
   {
    "duration": 100,
    "start_time": "2022-04-05T12:46:04.882Z"
   },
   {
    "duration": 142,
    "start_time": "2022-04-05T12:46:10.154Z"
   },
   {
    "duration": 40,
    "start_time": "2022-04-05T12:46:58.295Z"
   },
   {
    "duration": 1888,
    "start_time": "2022-04-05T12:47:41.288Z"
   },
   {
    "duration": 651,
    "start_time": "2022-04-05T12:47:43.180Z"
   },
   {
    "duration": 25,
    "start_time": "2022-04-05T12:47:43.832Z"
   },
   {
    "duration": 30,
    "start_time": "2022-04-05T12:47:43.860Z"
   },
   {
    "duration": 204,
    "start_time": "2022-04-05T12:47:43.892Z"
   },
   {
    "duration": 9,
    "start_time": "2022-04-05T12:47:44.098Z"
   },
   {
    "duration": 123,
    "start_time": "2022-04-05T12:47:44.108Z"
   },
   {
    "duration": 18,
    "start_time": "2022-04-05T12:47:44.233Z"
   },
   {
    "duration": 16,
    "start_time": "2022-04-05T12:47:44.252Z"
   },
   {
    "duration": 7,
    "start_time": "2022-04-05T12:47:44.280Z"
   },
   {
    "duration": 30,
    "start_time": "2022-04-05T12:47:44.289Z"
   },
   {
    "duration": 18,
    "start_time": "2022-04-05T12:47:44.320Z"
   },
   {
    "duration": 24,
    "start_time": "2022-04-05T12:47:44.340Z"
   },
   {
    "duration": 103,
    "start_time": "2022-04-05T12:47:44.365Z"
   },
   {
    "duration": 12,
    "start_time": "2022-04-05T12:47:44.469Z"
   },
   {
    "duration": 19,
    "start_time": "2022-04-05T12:47:44.483Z"
   },
   {
    "duration": 11,
    "start_time": "2022-04-05T12:47:44.504Z"
   },
   {
    "duration": 6,
    "start_time": "2022-04-05T12:47:44.517Z"
   },
   {
    "duration": 7,
    "start_time": "2022-04-05T12:47:44.524Z"
   },
   {
    "duration": 3,
    "start_time": "2022-04-05T12:47:44.533Z"
   },
   {
    "duration": 7,
    "start_time": "2022-04-05T12:47:44.538Z"
   },
   {
    "duration": 19,
    "start_time": "2022-04-05T12:47:44.547Z"
   },
   {
    "duration": 36,
    "start_time": "2022-04-05T12:47:44.567Z"
   },
   {
    "duration": 19,
    "start_time": "2022-04-05T12:47:44.605Z"
   },
   {
    "duration": 6,
    "start_time": "2022-04-05T12:47:44.626Z"
   },
   {
    "duration": 8,
    "start_time": "2022-04-05T12:47:44.634Z"
   },
   {
    "duration": 319,
    "start_time": "2022-04-05T12:47:44.643Z"
   },
   {
    "duration": 526,
    "start_time": "2022-04-05T12:47:44.966Z"
   },
   {
    "duration": 11,
    "start_time": "2022-04-05T12:47:45.494Z"
   },
   {
    "duration": 465,
    "start_time": "2022-04-05T12:47:45.507Z"
   },
   {
    "duration": 13,
    "start_time": "2022-04-05T12:47:45.974Z"
   },
   {
    "duration": 618,
    "start_time": "2022-04-05T12:47:45.989Z"
   },
   {
    "duration": 10,
    "start_time": "2022-04-05T12:47:46.608Z"
   },
   {
    "duration": 1268,
    "start_time": "2022-04-05T12:47:46.619Z"
   },
   {
    "duration": 682,
    "start_time": "2022-04-05T12:47:47.889Z"
   },
   {
    "duration": 22,
    "start_time": "2022-04-05T12:47:48.572Z"
   },
   {
    "duration": 6,
    "start_time": "2022-04-05T12:47:48.595Z"
   },
   {
    "duration": 7,
    "start_time": "2022-04-05T12:47:48.603Z"
   },
   {
    "duration": 5,
    "start_time": "2022-04-05T12:47:48.611Z"
   },
   {
    "duration": 8,
    "start_time": "2022-04-05T12:47:48.617Z"
   },
   {
    "duration": 251,
    "start_time": "2022-04-05T12:47:48.626Z"
   },
   {
    "duration": 12,
    "start_time": "2022-04-05T12:47:48.879Z"
   },
   {
    "duration": 232,
    "start_time": "2022-04-05T12:47:48.892Z"
   },
   {
    "duration": 4,
    "start_time": "2022-04-05T12:47:49.126Z"
   },
   {
    "duration": 12,
    "start_time": "2022-04-05T12:47:49.132Z"
   },
   {
    "duration": 4,
    "start_time": "2022-04-05T12:47:49.146Z"
   },
   {
    "duration": 10,
    "start_time": "2022-04-05T12:47:49.152Z"
   },
   {
    "duration": 15,
    "start_time": "2022-04-05T12:47:49.189Z"
   },
   {
    "duration": 4,
    "start_time": "2022-04-05T12:47:49.205Z"
   },
   {
    "duration": 237,
    "start_time": "2022-04-05T12:47:49.210Z"
   },
   {
    "duration": 16,
    "start_time": "2022-04-05T12:47:49.448Z"
   },
   {
    "duration": 19,
    "start_time": "2022-04-05T12:47:49.466Z"
   },
   {
    "duration": 305,
    "start_time": "2022-04-05T12:47:49.487Z"
   },
   {
    "duration": 43,
    "start_time": "2022-04-05T12:47:49.794Z"
   },
   {
    "duration": 19,
    "start_time": "2022-04-05T12:50:10.467Z"
   },
   {
    "duration": 13,
    "start_time": "2022-04-05T12:50:17.372Z"
   },
   {
    "duration": 1706,
    "start_time": "2022-04-05T12:50:24.235Z"
   },
   {
    "duration": 670,
    "start_time": "2022-04-05T12:50:25.943Z"
   },
   {
    "duration": 24,
    "start_time": "2022-04-05T12:50:26.614Z"
   },
   {
    "duration": 15,
    "start_time": "2022-04-05T12:50:26.639Z"
   },
   {
    "duration": 319,
    "start_time": "2022-04-05T12:50:26.656Z"
   },
   {
    "duration": 10,
    "start_time": "2022-04-05T12:50:26.981Z"
   },
   {
    "duration": 162,
    "start_time": "2022-04-05T12:50:26.993Z"
   },
   {
    "duration": 28,
    "start_time": "2022-04-05T12:50:27.156Z"
   },
   {
    "duration": 22,
    "start_time": "2022-04-05T12:50:27.187Z"
   },
   {
    "duration": 5,
    "start_time": "2022-04-05T12:50:27.211Z"
   },
   {
    "duration": 28,
    "start_time": "2022-04-05T12:50:27.218Z"
   },
   {
    "duration": 17,
    "start_time": "2022-04-05T12:50:27.247Z"
   },
   {
    "duration": 29,
    "start_time": "2022-04-05T12:50:27.265Z"
   },
   {
    "duration": 99,
    "start_time": "2022-04-05T12:50:27.298Z"
   },
   {
    "duration": 9,
    "start_time": "2022-04-05T12:50:27.401Z"
   },
   {
    "duration": 12,
    "start_time": "2022-04-05T12:50:27.411Z"
   },
   {
    "duration": 10,
    "start_time": "2022-04-05T12:50:27.424Z"
   },
   {
    "duration": 7,
    "start_time": "2022-04-05T12:50:27.435Z"
   },
   {
    "duration": 11,
    "start_time": "2022-04-05T12:50:27.443Z"
   },
   {
    "duration": 28,
    "start_time": "2022-04-05T12:50:27.455Z"
   },
   {
    "duration": 12,
    "start_time": "2022-04-05T12:50:27.486Z"
   },
   {
    "duration": 17,
    "start_time": "2022-04-05T12:50:27.501Z"
   },
   {
    "duration": 28,
    "start_time": "2022-04-05T12:50:27.520Z"
   },
   {
    "duration": 22,
    "start_time": "2022-04-05T12:50:27.550Z"
   },
   {
    "duration": 13,
    "start_time": "2022-04-05T12:50:27.573Z"
   },
   {
    "duration": 6,
    "start_time": "2022-04-05T12:50:27.588Z"
   },
   {
    "duration": 485,
    "start_time": "2022-04-05T12:50:27.598Z"
   },
   {
    "duration": 356,
    "start_time": "2022-04-05T12:50:28.084Z"
   },
   {
    "duration": 9,
    "start_time": "2022-04-05T12:50:28.441Z"
   },
   {
    "duration": 298,
    "start_time": "2022-04-05T12:50:28.451Z"
   },
   {
    "duration": 9,
    "start_time": "2022-04-05T12:50:28.751Z"
   },
   {
    "duration": 297,
    "start_time": "2022-04-05T12:50:28.761Z"
   },
   {
    "duration": 9,
    "start_time": "2022-04-05T12:50:29.060Z"
   },
   {
    "duration": 1157,
    "start_time": "2022-04-05T12:50:29.081Z"
   },
   {
    "duration": 759,
    "start_time": "2022-04-05T12:50:30.240Z"
   },
   {
    "duration": 17,
    "start_time": "2022-04-05T12:50:31.001Z"
   },
   {
    "duration": 4,
    "start_time": "2022-04-05T12:50:31.019Z"
   },
   {
    "duration": 16,
    "start_time": "2022-04-05T12:50:31.025Z"
   },
   {
    "duration": 13,
    "start_time": "2022-04-05T12:50:31.043Z"
   },
   {
    "duration": 10,
    "start_time": "2022-04-05T12:50:31.057Z"
   },
   {
    "duration": 256,
    "start_time": "2022-04-05T12:50:31.071Z"
   },
   {
    "duration": 9,
    "start_time": "2022-04-05T12:50:31.328Z"
   },
   {
    "duration": 258,
    "start_time": "2022-04-05T12:50:31.339Z"
   },
   {
    "duration": 4,
    "start_time": "2022-04-05T12:50:31.599Z"
   },
   {
    "duration": 25,
    "start_time": "2022-04-05T12:50:31.604Z"
   },
   {
    "duration": 8,
    "start_time": "2022-04-05T12:50:31.630Z"
   },
   {
    "duration": 11,
    "start_time": "2022-04-05T12:50:31.639Z"
   },
   {
    "duration": 15,
    "start_time": "2022-04-05T12:50:31.651Z"
   },
   {
    "duration": 4,
    "start_time": "2022-04-05T12:50:31.667Z"
   },
   {
    "duration": 253,
    "start_time": "2022-04-05T12:50:31.673Z"
   },
   {
    "duration": 15,
    "start_time": "2022-04-05T12:50:31.928Z"
   },
   {
    "duration": 5,
    "start_time": "2022-04-05T12:50:31.945Z"
   },
   {
    "duration": 272,
    "start_time": "2022-04-05T12:50:31.951Z"
   },
   {
    "duration": 28,
    "start_time": "2022-04-05T12:50:32.225Z"
   },
   {
    "duration": 63,
    "start_time": "2022-04-05T12:50:32.255Z"
   },
   {
    "duration": 17,
    "start_time": "2022-04-05T12:52:21.525Z"
   },
   {
    "duration": 1663,
    "start_time": "2022-04-05T12:54:00.372Z"
   },
   {
    "duration": 674,
    "start_time": "2022-04-05T12:54:02.037Z"
   },
   {
    "duration": 26,
    "start_time": "2022-04-05T12:54:02.712Z"
   },
   {
    "duration": 15,
    "start_time": "2022-04-05T12:54:02.739Z"
   },
   {
    "duration": 212,
    "start_time": "2022-04-05T12:54:02.755Z"
   },
   {
    "duration": 16,
    "start_time": "2022-04-05T12:54:02.969Z"
   },
   {
    "duration": 126,
    "start_time": "2022-04-05T12:54:02.987Z"
   },
   {
    "duration": 17,
    "start_time": "2022-04-05T12:54:03.115Z"
   },
   {
    "duration": 30,
    "start_time": "2022-04-05T12:54:03.134Z"
   },
   {
    "duration": 9,
    "start_time": "2022-04-05T12:54:03.167Z"
   },
   {
    "duration": 28,
    "start_time": "2022-04-05T12:54:03.178Z"
   },
   {
    "duration": 19,
    "start_time": "2022-04-05T12:54:03.208Z"
   },
   {
    "duration": 28,
    "start_time": "2022-04-05T12:54:03.229Z"
   },
   {
    "duration": 99,
    "start_time": "2022-04-05T12:54:03.258Z"
   },
   {
    "duration": 9,
    "start_time": "2022-04-05T12:54:03.359Z"
   },
   {
    "duration": 27,
    "start_time": "2022-04-05T12:54:03.369Z"
   },
   {
    "duration": 9,
    "start_time": "2022-04-05T12:54:03.398Z"
   },
   {
    "duration": 4,
    "start_time": "2022-04-05T12:54:03.409Z"
   },
   {
    "duration": 8,
    "start_time": "2022-04-05T12:54:03.415Z"
   },
   {
    "duration": 6,
    "start_time": "2022-04-05T12:54:03.425Z"
   },
   {
    "duration": 7,
    "start_time": "2022-04-05T12:54:03.432Z"
   },
   {
    "duration": 15,
    "start_time": "2022-04-05T12:54:03.440Z"
   },
   {
    "duration": 52,
    "start_time": "2022-04-05T12:54:03.456Z"
   },
   {
    "duration": 17,
    "start_time": "2022-04-05T12:54:03.510Z"
   },
   {
    "duration": 7,
    "start_time": "2022-04-05T12:54:03.528Z"
   },
   {
    "duration": 5,
    "start_time": "2022-04-05T12:54:03.536Z"
   },
   {
    "duration": 309,
    "start_time": "2022-04-05T12:54:03.542Z"
   },
   {
    "duration": 448,
    "start_time": "2022-04-05T12:54:03.854Z"
   },
   {
    "duration": 9,
    "start_time": "2022-04-05T12:54:04.303Z"
   },
   {
    "duration": 285,
    "start_time": "2022-04-05T12:54:04.314Z"
   },
   {
    "duration": 8,
    "start_time": "2022-04-05T12:54:04.601Z"
   },
   {
    "duration": 388,
    "start_time": "2022-04-05T12:54:04.611Z"
   },
   {
    "duration": 12,
    "start_time": "2022-04-05T12:54:05.001Z"
   },
   {
    "duration": 1145,
    "start_time": "2022-04-05T12:54:05.014Z"
   },
   {
    "duration": 739,
    "start_time": "2022-04-05T12:54:06.161Z"
   },
   {
    "duration": 15,
    "start_time": "2022-04-05T12:54:06.902Z"
   },
   {
    "duration": 15,
    "start_time": "2022-04-05T12:54:06.919Z"
   },
   {
    "duration": 7,
    "start_time": "2022-04-05T12:54:06.935Z"
   },
   {
    "duration": 14,
    "start_time": "2022-04-05T12:54:06.944Z"
   },
   {
    "duration": 11,
    "start_time": "2022-04-05T12:54:06.960Z"
   },
   {
    "duration": 269,
    "start_time": "2022-04-05T12:54:06.973Z"
   },
   {
    "duration": 10,
    "start_time": "2022-04-05T12:54:07.244Z"
   },
   {
    "duration": 278,
    "start_time": "2022-04-05T12:54:07.255Z"
   },
   {
    "duration": 4,
    "start_time": "2022-04-05T12:54:07.535Z"
   },
   {
    "duration": 37,
    "start_time": "2022-04-05T12:54:07.541Z"
   },
   {
    "duration": 13,
    "start_time": "2022-04-05T12:54:07.580Z"
   },
   {
    "duration": 23,
    "start_time": "2022-04-05T12:54:07.595Z"
   },
   {
    "duration": 27,
    "start_time": "2022-04-05T12:54:07.620Z"
   },
   {
    "duration": 8,
    "start_time": "2022-04-05T12:54:07.649Z"
   },
   {
    "duration": 259,
    "start_time": "2022-04-05T12:54:07.659Z"
   },
   {
    "duration": 17,
    "start_time": "2022-04-05T12:54:07.920Z"
   },
   {
    "duration": 15,
    "start_time": "2022-04-05T12:54:07.938Z"
   },
   {
    "duration": 274,
    "start_time": "2022-04-05T12:54:07.955Z"
   },
   {
    "duration": 95,
    "start_time": "2022-04-05T12:54:08.231Z"
   },
   {
    "duration": 3,
    "start_time": "2022-04-05T13:39:29.110Z"
   },
   {
    "duration": 165,
    "start_time": "2022-04-05T13:40:39.302Z"
   },
   {
    "duration": 3,
    "start_time": "2022-04-05T13:41:46.933Z"
   },
   {
    "duration": 11,
    "start_time": "2022-04-05T13:41:47.567Z"
   },
   {
    "duration": 5,
    "start_time": "2022-04-05T13:42:08.775Z"
   },
   {
    "duration": 6,
    "start_time": "2022-04-05T13:42:14.870Z"
   },
   {
    "duration": 18,
    "start_time": "2022-04-05T13:42:24.520Z"
   },
   {
    "duration": 3,
    "start_time": "2022-04-05T14:27:25.124Z"
   },
   {
    "duration": 3,
    "start_time": "2022-04-05T14:27:55.237Z"
   },
   {
    "duration": 161,
    "start_time": "2022-04-05T14:31:41.427Z"
   },
   {
    "duration": 3,
    "start_time": "2022-04-05T14:32:42.474Z"
   },
   {
    "duration": 5,
    "start_time": "2022-04-05T14:32:43.658Z"
   },
   {
    "duration": 4,
    "start_time": "2022-04-05T14:32:44.000Z"
   },
   {
    "duration": 18,
    "start_time": "2022-04-05T14:32:44.322Z"
   },
   {
    "duration": 4,
    "start_time": "2022-04-05T14:32:46.658Z"
   },
   {
    "duration": 17,
    "start_time": "2022-04-05T14:32:47.506Z"
   },
   {
    "duration": 7,
    "start_time": "2022-04-05T14:33:19.283Z"
   },
   {
    "duration": 7,
    "start_time": "2022-04-05T14:34:42.447Z"
   },
   {
    "duration": 17,
    "start_time": "2022-04-05T14:44:50.174Z"
   },
   {
    "duration": 7,
    "start_time": "2022-04-05T14:45:04.956Z"
   },
   {
    "duration": 1562,
    "start_time": "2022-04-05T14:45:11.249Z"
   },
   {
    "duration": 650,
    "start_time": "2022-04-05T14:45:12.813Z"
   },
   {
    "duration": 34,
    "start_time": "2022-04-05T14:45:13.464Z"
   },
   {
    "duration": 16,
    "start_time": "2022-04-05T14:45:13.500Z"
   },
   {
    "duration": 206,
    "start_time": "2022-04-05T14:45:13.518Z"
   },
   {
    "duration": 7,
    "start_time": "2022-04-05T14:45:13.726Z"
   },
   {
    "duration": 132,
    "start_time": "2022-04-05T14:45:13.735Z"
   },
   {
    "duration": 22,
    "start_time": "2022-04-05T14:45:13.868Z"
   },
   {
    "duration": 14,
    "start_time": "2022-04-05T14:45:13.892Z"
   },
   {
    "duration": 6,
    "start_time": "2022-04-05T14:45:13.908Z"
   },
   {
    "duration": 19,
    "start_time": "2022-04-05T14:45:13.916Z"
   },
   {
    "duration": 17,
    "start_time": "2022-04-05T14:45:13.936Z"
   },
   {
    "duration": 38,
    "start_time": "2022-04-05T14:45:13.955Z"
   },
   {
    "duration": 95,
    "start_time": "2022-04-05T14:45:13.994Z"
   },
   {
    "duration": 8,
    "start_time": "2022-04-05T14:45:14.090Z"
   },
   {
    "duration": 13,
    "start_time": "2022-04-05T14:45:14.099Z"
   },
   {
    "duration": 9,
    "start_time": "2022-04-05T14:45:14.114Z"
   },
   {
    "duration": 4,
    "start_time": "2022-04-05T14:45:14.125Z"
   },
   {
    "duration": 15,
    "start_time": "2022-04-05T14:45:14.131Z"
   },
   {
    "duration": 8,
    "start_time": "2022-04-05T14:45:14.148Z"
   },
   {
    "duration": 4,
    "start_time": "2022-04-05T14:45:14.181Z"
   },
   {
    "duration": 16,
    "start_time": "2022-04-05T14:45:14.187Z"
   },
   {
    "duration": 31,
    "start_time": "2022-04-05T14:45:14.205Z"
   },
   {
    "duration": 18,
    "start_time": "2022-04-05T14:45:14.238Z"
   },
   {
    "duration": 24,
    "start_time": "2022-04-05T14:45:14.258Z"
   },
   {
    "duration": 5,
    "start_time": "2022-04-05T14:45:14.283Z"
   },
   {
    "duration": 295,
    "start_time": "2022-04-05T14:45:14.289Z"
   },
   {
    "duration": 365,
    "start_time": "2022-04-05T14:45:14.588Z"
   },
   {
    "duration": 10,
    "start_time": "2022-04-05T14:45:14.955Z"
   },
   {
    "duration": 278,
    "start_time": "2022-04-05T14:45:14.980Z"
   },
   {
    "duration": 21,
    "start_time": "2022-04-05T14:45:15.260Z"
   },
   {
    "duration": 282,
    "start_time": "2022-04-05T14:45:15.283Z"
   },
   {
    "duration": 18,
    "start_time": "2022-04-05T14:45:15.567Z"
   },
   {
    "duration": 1090,
    "start_time": "2022-04-05T14:45:15.586Z"
   },
   {
    "duration": 828,
    "start_time": "2022-04-05T14:45:16.681Z"
   },
   {
    "duration": 17,
    "start_time": "2022-04-05T14:45:17.511Z"
   },
   {
    "duration": 4,
    "start_time": "2022-04-05T14:45:17.530Z"
   },
   {
    "duration": 11,
    "start_time": "2022-04-05T14:45:17.536Z"
   },
   {
    "duration": 8,
    "start_time": "2022-04-05T14:45:17.549Z"
   },
   {
    "duration": 22,
    "start_time": "2022-04-05T14:45:17.559Z"
   },
   {
    "duration": 381,
    "start_time": "2022-04-05T14:45:17.583Z"
   },
   {
    "duration": 20,
    "start_time": "2022-04-05T14:45:17.966Z"
   },
   {
    "duration": 235,
    "start_time": "2022-04-05T14:45:17.988Z"
   },
   {
    "duration": 4,
    "start_time": "2022-04-05T14:45:18.225Z"
   },
   {
    "duration": 15,
    "start_time": "2022-04-05T14:45:18.230Z"
   },
   {
    "duration": 4,
    "start_time": "2022-04-05T14:45:18.247Z"
   },
   {
    "duration": 28,
    "start_time": "2022-04-05T14:45:18.253Z"
   },
   {
    "duration": 15,
    "start_time": "2022-04-05T14:45:18.283Z"
   },
   {
    "duration": 9,
    "start_time": "2022-04-05T14:45:18.300Z"
   },
   {
    "duration": 11,
    "start_time": "2022-04-05T14:45:18.311Z"
   },
   {
    "duration": 258,
    "start_time": "2022-04-05T14:45:18.324Z"
   },
   {
    "duration": 6,
    "start_time": "2022-04-05T14:45:18.584Z"
   },
   {
    "duration": 19,
    "start_time": "2022-04-05T14:45:18.592Z"
   },
   {
    "duration": 5,
    "start_time": "2022-04-05T14:45:18.613Z"
   },
   {
    "duration": 244,
    "start_time": "2022-04-05T14:45:18.620Z"
   },
   {
    "duration": 61,
    "start_time": "2022-04-05T14:45:18.865Z"
   },
   {
    "duration": 3,
    "start_time": "2022-04-05T14:45:18.928Z"
   },
   {
    "duration": 13,
    "start_time": "2022-04-05T14:45:18.933Z"
   },
   {
    "duration": 6,
    "start_time": "2022-04-05T14:45:18.948Z"
   },
   {
    "duration": 47,
    "start_time": "2022-04-05T14:45:18.956Z"
   },
   {
    "duration": 4,
    "start_time": "2022-04-05T14:45:19.005Z"
   },
   {
    "duration": 1207,
    "start_time": "2022-04-05T14:45:19.011Z"
   },
   {
    "duration": 5,
    "start_time": "2022-04-05T14:51:15.309Z"
   },
   {
    "duration": 1209,
    "start_time": "2022-04-05T14:54:07.672Z"
   },
   {
    "duration": 10,
    "start_time": "2022-04-05T15:04:05.876Z"
   },
   {
    "duration": 27394,
    "start_time": "2022-04-05T15:04:14.753Z"
   },
   {
    "duration": 62,
    "start_time": "2022-04-05T15:07:51.316Z"
   },
   {
    "duration": 26768,
    "start_time": "2022-04-05T15:09:08.646Z"
   },
   {
    "duration": 4439,
    "start_time": "2022-04-05T15:10:33.422Z"
   },
   {
    "duration": 4444,
    "start_time": "2022-04-05T15:11:06.701Z"
   },
   {
    "duration": 4488,
    "start_time": "2022-04-05T16:36:17.498Z"
   },
   {
    "duration": 4369,
    "start_time": "2022-04-05T16:36:31.100Z"
   },
   {
    "duration": 28951,
    "start_time": "2022-04-05T16:37:53.603Z"
   },
   {
    "duration": 27367,
    "start_time": "2022-04-05T16:38:43.361Z"
   },
   {
    "duration": 16,
    "start_time": "2022-04-05T16:41:25.471Z"
   },
   {
    "duration": 28229,
    "start_time": "2022-04-05T16:41:37.845Z"
   },
   {
    "duration": 18,
    "start_time": "2022-04-05T16:57:26.577Z"
   },
   {
    "duration": 0,
    "start_time": "2022-04-05T18:00:55.960Z"
   },
   {
    "duration": 4,
    "start_time": "2022-04-05T18:03:24.894Z"
   },
   {
    "duration": 3183,
    "start_time": "2022-04-05T19:53:03.301Z"
   },
   {
    "duration": 1230,
    "start_time": "2022-04-05T19:53:06.487Z"
   },
   {
    "duration": 78,
    "start_time": "2022-04-05T19:53:07.720Z"
   },
   {
    "duration": 39,
    "start_time": "2022-04-05T19:53:07.802Z"
   },
   {
    "duration": 517,
    "start_time": "2022-04-05T19:53:07.844Z"
   },
   {
    "duration": 15,
    "start_time": "2022-04-05T19:53:08.364Z"
   },
   {
    "duration": 273,
    "start_time": "2022-04-05T19:53:08.383Z"
   },
   {
    "duration": 51,
    "start_time": "2022-04-05T19:53:08.659Z"
   },
   {
    "duration": 29,
    "start_time": "2022-04-05T19:53:08.712Z"
   },
   {
    "duration": 11,
    "start_time": "2022-04-05T19:53:08.767Z"
   },
   {
    "duration": 35,
    "start_time": "2022-04-05T19:53:08.781Z"
   },
   {
    "duration": 64,
    "start_time": "2022-04-05T19:53:08.818Z"
   },
   {
    "duration": 27,
    "start_time": "2022-04-05T19:53:08.885Z"
   },
   {
    "duration": 190,
    "start_time": "2022-04-05T19:53:08.914Z"
   },
   {
    "duration": 12,
    "start_time": "2022-04-05T19:53:09.107Z"
   },
   {
    "duration": 48,
    "start_time": "2022-04-05T19:53:09.121Z"
   },
   {
    "duration": 16,
    "start_time": "2022-04-05T19:53:09.173Z"
   },
   {
    "duration": 10,
    "start_time": "2022-04-05T19:53:09.192Z"
   },
   {
    "duration": 9,
    "start_time": "2022-04-05T19:53:09.205Z"
   },
   {
    "duration": 52,
    "start_time": "2022-04-05T19:53:09.217Z"
   },
   {
    "duration": 21,
    "start_time": "2022-04-05T19:53:09.271Z"
   },
   {
    "duration": 78,
    "start_time": "2022-04-05T19:53:09.295Z"
   },
   {
    "duration": 72,
    "start_time": "2022-04-05T19:53:09.376Z"
   },
   {
    "duration": 25,
    "start_time": "2022-04-05T19:53:09.452Z"
   },
   {
    "duration": 23,
    "start_time": "2022-04-05T19:53:09.480Z"
   },
   {
    "duration": 40,
    "start_time": "2022-04-05T19:53:09.506Z"
   },
   {
    "duration": 558,
    "start_time": "2022-04-05T19:53:09.549Z"
   },
   {
    "duration": 627,
    "start_time": "2022-04-05T19:53:10.115Z"
   },
   {
    "duration": 28,
    "start_time": "2022-04-05T19:53:10.746Z"
   },
   {
    "duration": 759,
    "start_time": "2022-04-05T19:53:10.777Z"
   },
   {
    "duration": 31,
    "start_time": "2022-04-05T19:53:11.539Z"
   },
   {
    "duration": 617,
    "start_time": "2022-04-05T19:53:11.573Z"
   },
   {
    "duration": 13,
    "start_time": "2022-04-05T19:53:12.192Z"
   },
   {
    "duration": 1833,
    "start_time": "2022-04-05T19:53:12.208Z"
   },
   {
    "duration": 1215,
    "start_time": "2022-04-05T19:53:14.044Z"
   },
   {
    "duration": 26,
    "start_time": "2022-04-05T19:53:15.261Z"
   },
   {
    "duration": 8,
    "start_time": "2022-04-05T19:53:15.289Z"
   },
   {
    "duration": 9,
    "start_time": "2022-04-05T19:53:15.300Z"
   },
   {
    "duration": 9,
    "start_time": "2022-04-05T19:53:15.311Z"
   },
   {
    "duration": 48,
    "start_time": "2022-04-05T19:53:15.322Z"
   },
   {
    "duration": 700,
    "start_time": "2022-04-05T19:53:15.373Z"
   },
   {
    "duration": 16,
    "start_time": "2022-04-05T19:53:16.077Z"
   },
   {
    "duration": 454,
    "start_time": "2022-04-05T19:53:16.096Z"
   },
   {
    "duration": 19,
    "start_time": "2022-04-05T19:53:16.553Z"
   },
   {
    "duration": 15,
    "start_time": "2022-04-05T19:53:16.575Z"
   },
   {
    "duration": 7,
    "start_time": "2022-04-05T19:53:16.592Z"
   },
   {
    "duration": 17,
    "start_time": "2022-04-05T19:53:16.602Z"
   },
   {
    "duration": 55,
    "start_time": "2022-04-05T19:53:16.621Z"
   },
   {
    "duration": 7,
    "start_time": "2022-04-05T19:53:16.679Z"
   },
   {
    "duration": 13,
    "start_time": "2022-04-05T19:53:16.689Z"
   },
   {
    "duration": 476,
    "start_time": "2022-04-05T19:53:16.705Z"
   },
   {
    "duration": 10,
    "start_time": "2022-04-05T19:53:17.184Z"
   },
   {
    "duration": 187,
    "start_time": "2022-04-05T19:53:17.197Z"
   },
   {
    "duration": 8,
    "start_time": "2022-04-05T19:53:17.386Z"
   },
   {
    "duration": 174,
    "start_time": "2022-04-05T19:53:17.396Z"
   },
   {
    "duration": 103,
    "start_time": "2022-04-05T19:53:17.573Z"
   },
   {
    "duration": 4,
    "start_time": "2022-04-05T19:53:17.679Z"
   },
   {
    "duration": 14,
    "start_time": "2022-04-05T19:53:17.685Z"
   },
   {
    "duration": 9,
    "start_time": "2022-04-05T19:53:17.702Z"
   },
   {
    "duration": 79,
    "start_time": "2022-04-05T19:53:17.714Z"
   },
   {
    "duration": 9,
    "start_time": "2022-04-05T19:53:17.796Z"
   },
   {
    "duration": 9,
    "start_time": "2022-04-05T19:53:17.808Z"
   },
   {
    "duration": 14737,
    "start_time": "2022-04-05T19:53:17.821Z"
   },
   {
    "duration": 0,
    "start_time": "2022-04-05T19:53:32.568Z"
   },
   {
    "duration": 0,
    "start_time": "2022-04-05T19:53:32.570Z"
   },
   {
    "duration": 0,
    "start_time": "2022-04-05T19:53:32.571Z"
   },
   {
    "duration": 38513,
    "start_time": "2022-04-05T19:53:53.219Z"
   },
   {
    "duration": 14,
    "start_time": "2022-04-05T20:28:47.543Z"
   },
   {
    "duration": 6,
    "start_time": "2022-04-05T20:28:59.272Z"
   },
   {
    "duration": 4,
    "start_time": "2022-04-05T20:36:36.720Z"
   },
   {
    "duration": 5752,
    "start_time": "2022-04-05T20:36:37.640Z"
   },
   {
    "duration": 6,
    "start_time": "2022-04-05T20:40:04.231Z"
   },
   {
    "duration": 5,
    "start_time": "2022-04-05T20:44:09.198Z"
   },
   {
    "duration": 4,
    "start_time": "2022-04-05T20:44:13.559Z"
   },
   {
    "duration": 5973,
    "start_time": "2022-04-05T20:44:14.323Z"
   },
   {
    "duration": 1711,
    "start_time": "2022-04-06T05:47:41.243Z"
   },
   {
    "duration": 702,
    "start_time": "2022-04-06T05:47:42.957Z"
   },
   {
    "duration": 29,
    "start_time": "2022-04-06T05:47:43.661Z"
   },
   {
    "duration": 19,
    "start_time": "2022-04-06T05:47:43.692Z"
   },
   {
    "duration": 260,
    "start_time": "2022-04-06T05:47:43.713Z"
   },
   {
    "duration": 9,
    "start_time": "2022-04-06T05:47:43.974Z"
   },
   {
    "duration": 140,
    "start_time": "2022-04-06T05:47:43.985Z"
   },
   {
    "duration": 23,
    "start_time": "2022-04-06T05:47:44.127Z"
   },
   {
    "duration": 27,
    "start_time": "2022-04-06T05:47:44.152Z"
   },
   {
    "duration": 7,
    "start_time": "2022-04-06T05:47:44.182Z"
   },
   {
    "duration": 25,
    "start_time": "2022-04-06T05:47:44.190Z"
   },
   {
    "duration": 22,
    "start_time": "2022-04-06T05:47:44.231Z"
   },
   {
    "duration": 18,
    "start_time": "2022-04-06T05:47:44.255Z"
   },
   {
    "duration": 114,
    "start_time": "2022-04-06T05:47:44.275Z"
   },
   {
    "duration": 9,
    "start_time": "2022-04-06T05:47:44.391Z"
   },
   {
    "duration": 33,
    "start_time": "2022-04-06T05:47:44.401Z"
   },
   {
    "duration": 10,
    "start_time": "2022-04-06T05:47:44.436Z"
   },
   {
    "duration": 6,
    "start_time": "2022-04-06T05:47:44.448Z"
   },
   {
    "duration": 7,
    "start_time": "2022-04-06T05:47:44.456Z"
   },
   {
    "duration": 5,
    "start_time": "2022-04-06T05:47:44.465Z"
   },
   {
    "duration": 7,
    "start_time": "2022-04-06T05:47:44.472Z"
   },
   {
    "duration": 51,
    "start_time": "2022-04-06T05:47:44.481Z"
   },
   {
    "duration": 34,
    "start_time": "2022-04-06T05:47:44.534Z"
   },
   {
    "duration": 21,
    "start_time": "2022-04-06T05:47:44.570Z"
   },
   {
    "duration": 9,
    "start_time": "2022-04-06T05:47:44.593Z"
   },
   {
    "duration": 29,
    "start_time": "2022-04-06T05:47:44.603Z"
   },
   {
    "duration": 355,
    "start_time": "2022-04-06T05:47:44.633Z"
   },
   {
    "duration": 422,
    "start_time": "2022-04-06T05:47:44.992Z"
   },
   {
    "duration": 18,
    "start_time": "2022-04-06T05:47:45.415Z"
   },
   {
    "duration": 352,
    "start_time": "2022-04-06T05:47:45.435Z"
   },
   {
    "duration": 10,
    "start_time": "2022-04-06T05:47:45.788Z"
   },
   {
    "duration": 347,
    "start_time": "2022-04-06T05:47:45.800Z"
   },
   {
    "duration": 10,
    "start_time": "2022-04-06T05:47:46.149Z"
   },
   {
    "duration": 1261,
    "start_time": "2022-04-06T05:47:46.161Z"
   },
   {
    "duration": 789,
    "start_time": "2022-04-06T05:47:47.424Z"
   },
   {
    "duration": 24,
    "start_time": "2022-04-06T05:47:48.215Z"
   },
   {
    "duration": 5,
    "start_time": "2022-04-06T05:47:48.240Z"
   },
   {
    "duration": 8,
    "start_time": "2022-04-06T05:47:48.247Z"
   },
   {
    "duration": 7,
    "start_time": "2022-04-06T05:47:48.256Z"
   },
   {
    "duration": 6,
    "start_time": "2022-04-06T05:47:48.264Z"
   },
   {
    "duration": 304,
    "start_time": "2022-04-06T05:47:48.272Z"
   },
   {
    "duration": 10,
    "start_time": "2022-04-06T05:47:48.577Z"
   },
   {
    "duration": 286,
    "start_time": "2022-04-06T05:47:48.589Z"
   },
   {
    "duration": 4,
    "start_time": "2022-04-06T05:47:48.876Z"
   },
   {
    "duration": 29,
    "start_time": "2022-04-06T05:47:48.882Z"
   },
   {
    "duration": 19,
    "start_time": "2022-04-06T05:47:48.913Z"
   },
   {
    "duration": 16,
    "start_time": "2022-04-06T05:47:48.933Z"
   },
   {
    "duration": 24,
    "start_time": "2022-04-06T05:47:48.950Z"
   },
   {
    "duration": 4,
    "start_time": "2022-04-06T05:47:48.976Z"
   },
   {
    "duration": 27,
    "start_time": "2022-04-06T05:47:48.981Z"
   },
   {
    "duration": 270,
    "start_time": "2022-04-06T05:47:49.010Z"
   },
   {
    "duration": 7,
    "start_time": "2022-04-06T05:47:49.282Z"
   },
   {
    "duration": 156,
    "start_time": "2022-04-06T05:47:49.291Z"
   },
   {
    "duration": 5,
    "start_time": "2022-04-06T05:47:49.449Z"
   },
   {
    "duration": 118,
    "start_time": "2022-04-06T05:47:49.455Z"
   },
   {
    "duration": 69,
    "start_time": "2022-04-06T05:47:49.575Z"
   },
   {
    "duration": 4,
    "start_time": "2022-04-06T05:47:49.645Z"
   },
   {
    "duration": 13,
    "start_time": "2022-04-06T05:47:49.650Z"
   },
   {
    "duration": 5,
    "start_time": "2022-04-06T05:47:49.665Z"
   },
   {
    "duration": 25,
    "start_time": "2022-04-06T05:47:49.672Z"
   },
   {
    "duration": 141,
    "start_time": "2022-04-06T05:47:49.698Z"
   },
   {
    "duration": 0,
    "start_time": "2022-04-06T05:47:49.841Z"
   },
   {
    "duration": 0,
    "start_time": "2022-04-06T05:47:49.843Z"
   },
   {
    "duration": 0,
    "start_time": "2022-04-06T05:47:49.844Z"
   },
   {
    "duration": 0,
    "start_time": "2022-04-06T05:47:49.845Z"
   },
   {
    "duration": 0,
    "start_time": "2022-04-06T05:47:49.846Z"
   },
   {
    "duration": 0,
    "start_time": "2022-04-06T05:47:49.847Z"
   },
   {
    "duration": 4,
    "start_time": "2022-04-06T05:49:26.815Z"
   },
   {
    "duration": 4,
    "start_time": "2022-04-06T05:57:19.165Z"
   },
   {
    "duration": 3,
    "start_time": "2022-04-06T05:57:19.757Z"
   },
   {
    "duration": 10,
    "start_time": "2022-04-06T05:57:21.115Z"
   },
   {
    "duration": 3,
    "start_time": "2022-04-06T05:57:28.238Z"
   },
   {
    "duration": 9530,
    "start_time": "2022-04-06T05:57:31.075Z"
   },
   {
    "duration": 9661,
    "start_time": "2022-04-06T05:58:26.282Z"
   },
   {
    "duration": 4,
    "start_time": "2022-04-06T06:01:13.068Z"
   },
   {
    "duration": 3,
    "start_time": "2022-04-06T06:01:15.630Z"
   },
   {
    "duration": 3,
    "start_time": "2022-04-06T06:01:15.895Z"
   },
   {
    "duration": 9725,
    "start_time": "2022-04-06T06:01:16.325Z"
   },
   {
    "duration": 4,
    "start_time": "2022-04-06T06:11:12.758Z"
   },
   {
    "duration": 3,
    "start_time": "2022-04-06T06:11:15.453Z"
   },
   {
    "duration": 2,
    "start_time": "2022-04-06T06:11:15.802Z"
   },
   {
    "duration": 9661,
    "start_time": "2022-04-06T06:11:17.360Z"
   },
   {
    "duration": 4,
    "start_time": "2022-04-06T06:12:18.215Z"
   },
   {
    "duration": 2,
    "start_time": "2022-04-06T06:12:24.165Z"
   },
   {
    "duration": 3,
    "start_time": "2022-04-06T06:12:24.447Z"
   },
   {
    "duration": 9699,
    "start_time": "2022-04-06T06:12:25.755Z"
   },
   {
    "duration": 9670,
    "start_time": "2022-04-06T06:24:20.091Z"
   },
   {
    "duration": 144,
    "start_time": "2022-04-06T06:43:12.390Z"
   },
   {
    "duration": 177690,
    "start_time": "2022-04-06T06:43:21.208Z"
   },
   {
    "duration": 14,
    "start_time": "2022-04-06T06:53:13.492Z"
   },
   {
    "duration": 3431,
    "start_time": "2022-04-06T06:53:32.101Z"
   },
   {
    "duration": 7792,
    "start_time": "2022-04-06T07:03:24.289Z"
   },
   {
    "duration": 7867,
    "start_time": "2022-04-06T07:04:24.567Z"
   },
   {
    "duration": 11,
    "start_time": "2022-04-06T07:06:59.053Z"
   },
   {
    "duration": 21,
    "start_time": "2022-04-06T07:09:28.489Z"
   },
   {
    "duration": 23,
    "start_time": "2022-04-06T07:09:51.775Z"
   },
   {
    "duration": 7806,
    "start_time": "2022-04-06T07:10:13.875Z"
   },
   {
    "duration": 7498,
    "start_time": "2022-04-06T07:13:45.145Z"
   },
   {
    "duration": 7563,
    "start_time": "2022-04-06T07:16:25.310Z"
   },
   {
    "duration": 2040,
    "start_time": "2022-04-06T17:28:40.012Z"
   },
   {
    "duration": 778,
    "start_time": "2022-04-06T17:28:42.055Z"
   },
   {
    "duration": 45,
    "start_time": "2022-04-06T17:28:42.836Z"
   },
   {
    "duration": 26,
    "start_time": "2022-04-06T17:28:42.884Z"
   },
   {
    "duration": 338,
    "start_time": "2022-04-06T17:28:42.911Z"
   },
   {
    "duration": 12,
    "start_time": "2022-04-06T17:28:43.252Z"
   },
   {
    "duration": 267,
    "start_time": "2022-04-06T17:28:43.266Z"
   },
   {
    "duration": 30,
    "start_time": "2022-04-06T17:28:43.542Z"
   },
   {
    "duration": 20,
    "start_time": "2022-04-06T17:28:43.574Z"
   },
   {
    "duration": 45,
    "start_time": "2022-04-06T17:28:43.598Z"
   },
   {
    "duration": 34,
    "start_time": "2022-04-06T17:28:43.645Z"
   },
   {
    "duration": 29,
    "start_time": "2022-04-06T17:28:43.682Z"
   },
   {
    "duration": 24,
    "start_time": "2022-04-06T17:28:43.743Z"
   },
   {
    "duration": 179,
    "start_time": "2022-04-06T17:28:43.770Z"
   },
   {
    "duration": 12,
    "start_time": "2022-04-06T17:28:43.951Z"
   },
   {
    "duration": 21,
    "start_time": "2022-04-06T17:28:43.966Z"
   },
   {
    "duration": 15,
    "start_time": "2022-04-06T17:28:43.989Z"
   },
   {
    "duration": 8,
    "start_time": "2022-04-06T17:28:44.044Z"
   },
   {
    "duration": 33,
    "start_time": "2022-04-06T17:28:44.054Z"
   },
   {
    "duration": 17,
    "start_time": "2022-04-06T17:28:44.089Z"
   },
   {
    "duration": 17,
    "start_time": "2022-04-06T17:28:44.109Z"
   },
   {
    "duration": 125,
    "start_time": "2022-04-06T17:28:44.129Z"
   },
   {
    "duration": 129,
    "start_time": "2022-04-06T17:28:44.257Z"
   },
   {
    "duration": 21,
    "start_time": "2022-04-06T17:28:44.388Z"
   },
   {
    "duration": 12,
    "start_time": "2022-04-06T17:28:44.412Z"
   },
   {
    "duration": 7,
    "start_time": "2022-04-06T17:28:44.444Z"
   },
   {
    "duration": 550,
    "start_time": "2022-04-06T17:28:44.453Z"
   },
   {
    "duration": 552,
    "start_time": "2022-04-06T17:28:45.013Z"
   },
   {
    "duration": 14,
    "start_time": "2022-04-06T17:28:45.567Z"
   },
   {
    "duration": 506,
    "start_time": "2022-04-06T17:28:45.583Z"
   },
   {
    "duration": 14,
    "start_time": "2022-04-06T17:28:46.091Z"
   },
   {
    "duration": 503,
    "start_time": "2022-04-06T17:28:46.108Z"
   },
   {
    "duration": 33,
    "start_time": "2022-04-06T17:28:46.613Z"
   },
   {
    "duration": 1701,
    "start_time": "2022-04-06T17:28:46.648Z"
   },
   {
    "duration": 1158,
    "start_time": "2022-04-06T17:28:48.351Z"
   },
   {
    "duration": 40,
    "start_time": "2022-04-06T17:28:49.512Z"
   },
   {
    "duration": 5,
    "start_time": "2022-04-06T17:28:49.555Z"
   },
   {
    "duration": 21,
    "start_time": "2022-04-06T17:28:49.562Z"
   },
   {
    "duration": 22,
    "start_time": "2022-04-06T17:28:49.585Z"
   },
   {
    "duration": 14,
    "start_time": "2022-04-06T17:28:49.609Z"
   },
   {
    "duration": 420,
    "start_time": "2022-04-06T17:28:49.625Z"
   },
   {
    "duration": 17,
    "start_time": "2022-04-06T17:28:50.047Z"
   },
   {
    "duration": 449,
    "start_time": "2022-04-06T17:28:50.066Z"
   },
   {
    "duration": 9,
    "start_time": "2022-04-06T17:28:50.518Z"
   },
   {
    "duration": 12,
    "start_time": "2022-04-06T17:28:50.543Z"
   },
   {
    "duration": 16,
    "start_time": "2022-04-06T17:28:50.557Z"
   },
   {
    "duration": 17,
    "start_time": "2022-04-06T17:28:50.576Z"
   },
   {
    "duration": 55,
    "start_time": "2022-04-06T17:28:50.595Z"
   },
   {
    "duration": 7,
    "start_time": "2022-04-06T17:28:50.652Z"
   },
   {
    "duration": 31,
    "start_time": "2022-04-06T17:28:50.661Z"
   },
   {
    "duration": 421,
    "start_time": "2022-04-06T17:28:50.695Z"
   },
   {
    "duration": 9,
    "start_time": "2022-04-06T17:28:51.118Z"
   },
   {
    "duration": 39,
    "start_time": "2022-04-06T17:28:51.129Z"
   },
   {
    "duration": 7,
    "start_time": "2022-04-06T17:28:51.170Z"
   },
   {
    "duration": 305,
    "start_time": "2022-04-06T17:28:51.179Z"
   },
   {
    "duration": 102,
    "start_time": "2022-04-06T17:28:51.486Z"
   },
   {
    "duration": 5,
    "start_time": "2022-04-06T17:28:51.590Z"
   },
   {
    "duration": 22,
    "start_time": "2022-04-06T17:28:51.597Z"
   },
   {
    "duration": 23,
    "start_time": "2022-04-06T17:28:51.622Z"
   },
   {
    "duration": 30,
    "start_time": "2022-04-06T17:28:51.647Z"
   },
   {
    "duration": 6,
    "start_time": "2022-04-06T17:28:51.680Z"
   },
   {
    "duration": 10,
    "start_time": "2022-04-06T17:28:51.689Z"
   },
   {
    "duration": 42,
    "start_time": "2022-04-06T17:28:51.701Z"
   },
   {
    "duration": 11890,
    "start_time": "2022-04-06T17:28:51.745Z"
   },
   {
    "duration": 222635,
    "start_time": "2022-04-06T17:29:03.637Z"
   },
   {
    "duration": 3171,
    "start_time": "2022-04-06T17:32:46.274Z"
   },
   {
    "duration": 17446,
    "start_time": "2022-04-06T17:32:49.448Z"
   },
   {
    "duration": 2081,
    "start_time": "2022-04-06T17:48:51.514Z"
   },
   {
    "duration": 808,
    "start_time": "2022-04-06T17:48:53.598Z"
   },
   {
    "duration": 53,
    "start_time": "2022-04-06T17:48:54.408Z"
   },
   {
    "duration": 25,
    "start_time": "2022-04-06T17:48:54.464Z"
   },
   {
    "duration": 321,
    "start_time": "2022-04-06T17:48:54.491Z"
   },
   {
    "duration": 11,
    "start_time": "2022-04-06T17:48:54.814Z"
   },
   {
    "duration": 206,
    "start_time": "2022-04-06T17:48:54.827Z"
   },
   {
    "duration": 32,
    "start_time": "2022-04-06T17:48:55.036Z"
   },
   {
    "duration": 20,
    "start_time": "2022-04-06T17:48:55.070Z"
   },
   {
    "duration": 49,
    "start_time": "2022-04-06T17:48:55.095Z"
   },
   {
    "duration": 37,
    "start_time": "2022-04-06T17:48:55.147Z"
   },
   {
    "duration": 56,
    "start_time": "2022-04-06T17:48:55.186Z"
   },
   {
    "duration": 25,
    "start_time": "2022-04-06T17:48:55.244Z"
   },
   {
    "duration": 177,
    "start_time": "2022-04-06T17:48:55.271Z"
   },
   {
    "duration": 12,
    "start_time": "2022-04-06T17:48:55.450Z"
   },
   {
    "duration": 20,
    "start_time": "2022-04-06T17:48:55.464Z"
   },
   {
    "duration": 14,
    "start_time": "2022-04-06T17:48:55.486Z"
   },
   {
    "duration": 8,
    "start_time": "2022-04-06T17:48:55.543Z"
   },
   {
    "duration": 12,
    "start_time": "2022-04-06T17:48:55.554Z"
   },
   {
    "duration": 5,
    "start_time": "2022-04-06T17:48:55.569Z"
   },
   {
    "duration": 14,
    "start_time": "2022-04-06T17:48:55.576Z"
   },
   {
    "duration": 56,
    "start_time": "2022-04-06T17:48:55.592Z"
   },
   {
    "duration": 47,
    "start_time": "2022-04-06T17:48:55.650Z"
   },
   {
    "duration": 54,
    "start_time": "2022-04-06T17:48:55.699Z"
   },
   {
    "duration": 11,
    "start_time": "2022-04-06T17:48:55.755Z"
   },
   {
    "duration": 7,
    "start_time": "2022-04-06T17:48:55.768Z"
   },
   {
    "duration": 500,
    "start_time": "2022-04-06T17:48:55.777Z"
   },
   {
    "duration": 560,
    "start_time": "2022-04-06T17:48:56.283Z"
   },
   {
    "duration": 14,
    "start_time": "2022-04-06T17:48:56.845Z"
   },
   {
    "duration": 500,
    "start_time": "2022-04-06T17:48:56.861Z"
   },
   {
    "duration": 13,
    "start_time": "2022-04-06T17:48:57.364Z"
   },
   {
    "duration": 494,
    "start_time": "2022-04-06T17:48:57.379Z"
   },
   {
    "duration": 12,
    "start_time": "2022-04-06T17:48:57.875Z"
   },
   {
    "duration": 1693,
    "start_time": "2022-04-06T17:48:57.889Z"
   },
   {
    "duration": 1164,
    "start_time": "2022-04-06T17:48:59.584Z"
   },
   {
    "duration": 25,
    "start_time": "2022-04-06T17:49:00.750Z"
   },
   {
    "duration": 7,
    "start_time": "2022-04-06T17:49:00.777Z"
   },
   {
    "duration": 45,
    "start_time": "2022-04-06T17:49:00.786Z"
   },
   {
    "duration": 11,
    "start_time": "2022-04-06T17:49:00.833Z"
   },
   {
    "duration": 16,
    "start_time": "2022-04-06T17:49:00.847Z"
   },
   {
    "duration": 478,
    "start_time": "2022-04-06T17:49:00.865Z"
   },
   {
    "duration": 17,
    "start_time": "2022-04-06T17:49:01.345Z"
   },
   {
    "duration": 456,
    "start_time": "2022-04-06T17:49:01.364Z"
   },
   {
    "duration": 6,
    "start_time": "2022-04-06T17:49:01.822Z"
   },
   {
    "duration": 18,
    "start_time": "2022-04-06T17:49:01.842Z"
   },
   {
    "duration": 9,
    "start_time": "2022-04-06T17:49:01.862Z"
   },
   {
    "duration": 26,
    "start_time": "2022-04-06T17:49:01.873Z"
   },
   {
    "duration": 22,
    "start_time": "2022-04-06T17:49:01.902Z"
   },
   {
    "duration": 6,
    "start_time": "2022-04-06T17:49:01.942Z"
   },
   {
    "duration": 14,
    "start_time": "2022-04-06T17:49:01.950Z"
   },
   {
    "duration": 446,
    "start_time": "2022-04-06T17:49:01.966Z"
   },
   {
    "duration": 8,
    "start_time": "2022-04-06T17:49:02.414Z"
   },
   {
    "duration": 45,
    "start_time": "2022-04-06T17:49:02.425Z"
   },
   {
    "duration": 7,
    "start_time": "2022-04-06T17:49:02.473Z"
   },
   {
    "duration": 304,
    "start_time": "2022-04-06T17:49:02.483Z"
   },
   {
    "duration": 102,
    "start_time": "2022-04-06T17:49:02.790Z"
   },
   {
    "duration": 4,
    "start_time": "2022-04-06T17:49:02.894Z"
   },
   {
    "duration": 17,
    "start_time": "2022-04-06T17:49:02.900Z"
   },
   {
    "duration": 28,
    "start_time": "2022-04-06T17:49:02.919Z"
   },
   {
    "duration": 44,
    "start_time": "2022-04-06T17:49:02.949Z"
   },
   {
    "duration": 10,
    "start_time": "2022-04-06T17:49:02.995Z"
   },
   {
    "duration": 12,
    "start_time": "2022-04-06T17:49:03.007Z"
   },
   {
    "duration": 21,
    "start_time": "2022-04-06T17:49:03.022Z"
   },
   {
    "duration": 11879,
    "start_time": "2022-04-06T17:49:03.045Z"
   },
   {
    "duration": 216050,
    "start_time": "2022-04-06T17:49:14.926Z"
   },
   {
    "duration": 2870,
    "start_time": "2022-04-06T17:52:50.978Z"
   },
   {
    "duration": 18202,
    "start_time": "2022-04-06T17:52:53.851Z"
   },
   {
    "duration": 56851,
    "start_time": "2022-04-06T21:47:34.077Z"
   },
   {
    "duration": 813,
    "start_time": "2022-04-06T21:48:30.931Z"
   },
   {
    "duration": 52,
    "start_time": "2022-04-06T21:48:31.746Z"
   },
   {
    "duration": 26,
    "start_time": "2022-04-06T21:48:31.801Z"
   },
   {
    "duration": 356,
    "start_time": "2022-04-06T21:48:31.829Z"
   },
   {
    "duration": 12,
    "start_time": "2022-04-06T21:48:32.187Z"
   },
   {
    "duration": 211,
    "start_time": "2022-04-06T21:48:32.202Z"
   },
   {
    "duration": 32,
    "start_time": "2022-04-06T21:48:32.415Z"
   },
   {
    "duration": 42,
    "start_time": "2022-04-06T21:48:32.449Z"
   },
   {
    "duration": 9,
    "start_time": "2022-04-06T21:48:32.495Z"
   },
   {
    "duration": 43,
    "start_time": "2022-04-06T21:48:32.506Z"
   },
   {
    "duration": 51,
    "start_time": "2022-04-06T21:48:32.552Z"
   },
   {
    "duration": 28,
    "start_time": "2022-04-06T21:48:32.605Z"
   },
   {
    "duration": 191,
    "start_time": "2022-04-06T21:48:32.635Z"
   },
   {
    "duration": 12,
    "start_time": "2022-04-06T21:48:32.828Z"
   },
   {
    "duration": 46,
    "start_time": "2022-04-06T21:48:32.842Z"
   },
   {
    "duration": 15,
    "start_time": "2022-04-06T21:48:32.890Z"
   },
   {
    "duration": 16,
    "start_time": "2022-04-06T21:48:32.907Z"
   },
   {
    "duration": 12,
    "start_time": "2022-04-06T21:48:32.925Z"
   },
   {
    "duration": 11,
    "start_time": "2022-04-06T21:48:32.939Z"
   },
   {
    "duration": 33,
    "start_time": "2022-04-06T21:48:32.952Z"
   },
   {
    "duration": 19,
    "start_time": "2022-04-06T21:48:32.987Z"
   },
   {
    "duration": 70,
    "start_time": "2022-04-06T21:48:33.008Z"
   },
   {
    "duration": 22,
    "start_time": "2022-04-06T21:48:33.080Z"
   },
   {
    "duration": 11,
    "start_time": "2022-04-06T21:48:33.104Z"
   },
   {
    "duration": 35,
    "start_time": "2022-04-06T21:48:33.117Z"
   },
   {
    "duration": 532,
    "start_time": "2022-04-06T21:48:33.154Z"
   },
   {
    "duration": 611,
    "start_time": "2022-04-06T21:48:33.692Z"
   },
   {
    "duration": 13,
    "start_time": "2022-04-06T21:48:34.306Z"
   },
   {
    "duration": 539,
    "start_time": "2022-04-06T21:48:34.321Z"
   },
   {
    "duration": 25,
    "start_time": "2022-04-06T21:48:34.862Z"
   },
   {
    "duration": 632,
    "start_time": "2022-04-06T21:48:34.890Z"
   },
   {
    "duration": 12,
    "start_time": "2022-04-06T21:48:35.524Z"
   },
   {
    "duration": 1727,
    "start_time": "2022-04-06T21:48:35.539Z"
   },
   {
    "duration": 1123,
    "start_time": "2022-04-06T21:48:37.268Z"
   },
   {
    "duration": 25,
    "start_time": "2022-04-06T21:48:38.393Z"
   },
   {
    "duration": 6,
    "start_time": "2022-04-06T21:48:38.420Z"
   },
   {
    "duration": 7,
    "start_time": "2022-04-06T21:48:38.428Z"
   },
   {
    "duration": 6,
    "start_time": "2022-04-06T21:48:38.437Z"
   },
   {
    "duration": 39,
    "start_time": "2022-04-06T21:48:38.445Z"
   },
   {
    "duration": 439,
    "start_time": "2022-04-06T21:48:38.486Z"
   },
   {
    "duration": 15,
    "start_time": "2022-04-06T21:48:38.927Z"
   },
   {
    "duration": 443,
    "start_time": "2022-04-06T21:48:38.944Z"
   },
   {
    "duration": 5,
    "start_time": "2022-04-06T21:48:39.390Z"
   },
   {
    "duration": 16,
    "start_time": "2022-04-06T21:48:39.397Z"
   },
   {
    "duration": 6,
    "start_time": "2022-04-06T21:49:11.159Z"
   },
   {
    "duration": 6,
    "start_time": "2022-04-06T21:57:47.372Z"
   },
   {
    "duration": 1541,
    "start_time": "2022-04-07T05:06:46.434Z"
   },
   {
    "duration": 646,
    "start_time": "2022-04-07T05:06:47.978Z"
   },
   {
    "duration": 27,
    "start_time": "2022-04-07T05:06:48.626Z"
   },
   {
    "duration": 17,
    "start_time": "2022-04-07T05:06:48.655Z"
   },
   {
    "duration": 231,
    "start_time": "2022-04-07T05:06:48.673Z"
   },
   {
    "duration": 9,
    "start_time": "2022-04-07T05:06:48.906Z"
   },
   {
    "duration": 127,
    "start_time": "2022-04-07T05:06:48.916Z"
   },
   {
    "duration": 20,
    "start_time": "2022-04-07T05:06:49.044Z"
   },
   {
    "duration": 14,
    "start_time": "2022-04-07T05:06:49.065Z"
   },
   {
    "duration": 6,
    "start_time": "2022-04-07T05:06:49.082Z"
   },
   {
    "duration": 23,
    "start_time": "2022-04-07T05:06:49.089Z"
   },
   {
    "duration": 20,
    "start_time": "2022-04-07T05:06:49.137Z"
   },
   {
    "duration": 21,
    "start_time": "2022-04-07T05:06:49.159Z"
   },
   {
    "duration": 108,
    "start_time": "2022-04-07T05:06:49.181Z"
   },
   {
    "duration": 9,
    "start_time": "2022-04-07T05:06:49.291Z"
   },
   {
    "duration": 13,
    "start_time": "2022-04-07T05:06:49.302Z"
   },
   {
    "duration": 27,
    "start_time": "2022-04-07T05:06:49.317Z"
   },
   {
    "duration": 5,
    "start_time": "2022-04-07T05:06:49.345Z"
   },
   {
    "duration": 6,
    "start_time": "2022-04-07T05:06:49.351Z"
   },
   {
    "duration": 4,
    "start_time": "2022-04-07T05:06:49.359Z"
   },
   {
    "duration": 12,
    "start_time": "2022-04-07T05:06:49.365Z"
   },
   {
    "duration": 13,
    "start_time": "2022-04-07T05:06:49.379Z"
   },
   {
    "duration": 49,
    "start_time": "2022-04-07T05:06:49.393Z"
   },
   {
    "duration": 22,
    "start_time": "2022-04-07T05:06:49.444Z"
   },
   {
    "duration": 10,
    "start_time": "2022-04-07T05:06:49.468Z"
   },
   {
    "duration": 5,
    "start_time": "2022-04-07T05:06:49.480Z"
   },
   {
    "duration": 334,
    "start_time": "2022-04-07T05:06:49.486Z"
   },
   {
    "duration": 382,
    "start_time": "2022-04-07T05:06:49.825Z"
   },
   {
    "duration": 10,
    "start_time": "2022-04-07T05:06:50.209Z"
   },
   {
    "duration": 316,
    "start_time": "2022-04-07T05:06:50.221Z"
   },
   {
    "duration": 10,
    "start_time": "2022-04-07T05:06:50.539Z"
   },
   {
    "duration": 305,
    "start_time": "2022-04-07T05:06:50.551Z"
   },
   {
    "duration": 10,
    "start_time": "2022-04-07T05:06:50.858Z"
   },
   {
    "duration": 1139,
    "start_time": "2022-04-07T05:06:50.869Z"
   },
   {
    "duration": 729,
    "start_time": "2022-04-07T05:06:52.010Z"
   },
   {
    "duration": 17,
    "start_time": "2022-04-07T05:06:52.741Z"
   },
   {
    "duration": 5,
    "start_time": "2022-04-07T05:06:52.760Z"
   },
   {
    "duration": 7,
    "start_time": "2022-04-07T05:06:52.766Z"
   },
   {
    "duration": 6,
    "start_time": "2022-04-07T05:06:52.775Z"
   },
   {
    "duration": 5,
    "start_time": "2022-04-07T05:06:52.783Z"
   },
   {
    "duration": 266,
    "start_time": "2022-04-07T05:06:52.790Z"
   },
   {
    "duration": 10,
    "start_time": "2022-04-07T05:06:53.059Z"
   },
   {
    "duration": 251,
    "start_time": "2022-04-07T05:06:53.071Z"
   },
   {
    "duration": 5,
    "start_time": "2022-04-07T05:06:53.323Z"
   },
   {
    "duration": 9,
    "start_time": "2022-04-07T05:06:53.337Z"
   },
   {
    "duration": 3,
    "start_time": "2022-04-07T05:06:53.348Z"
   },
   {
    "duration": 11,
    "start_time": "2022-04-07T05:06:53.352Z"
   },
   {
    "duration": 15,
    "start_time": "2022-04-07T05:06:53.364Z"
   },
   {
    "duration": 4,
    "start_time": "2022-04-07T05:06:53.381Z"
   },
   {
    "duration": 10,
    "start_time": "2022-04-07T05:06:53.386Z"
   },
   {
    "duration": 256,
    "start_time": "2022-04-07T05:06:53.398Z"
   },
   {
    "duration": 7,
    "start_time": "2022-04-07T05:06:53.655Z"
   },
   {
    "duration": 157,
    "start_time": "2022-04-07T05:06:53.663Z"
   },
   {
    "duration": 15,
    "start_time": "2022-04-07T05:06:53.822Z"
   },
   {
    "duration": 104,
    "start_time": "2022-04-07T05:06:53.839Z"
   },
   {
    "duration": 52,
    "start_time": "2022-04-07T05:06:53.945Z"
   },
   {
    "duration": 3,
    "start_time": "2022-04-07T05:06:53.999Z"
   },
   {
    "duration": 10,
    "start_time": "2022-04-07T05:06:54.003Z"
   },
   {
    "duration": 5,
    "start_time": "2022-04-07T05:06:54.037Z"
   },
   {
    "duration": 19,
    "start_time": "2022-04-07T05:06:54.044Z"
   },
   {
    "duration": 6,
    "start_time": "2022-04-07T05:06:54.064Z"
   },
   {
    "duration": 7,
    "start_time": "2022-04-07T05:06:54.072Z"
   },
   {
    "duration": 8,
    "start_time": "2022-04-07T05:06:54.081Z"
   },
   {
    "duration": 8719,
    "start_time": "2022-04-07T05:06:54.091Z"
   },
   {
    "duration": 157896,
    "start_time": "2022-04-07T05:07:02.812Z"
   },
   {
    "duration": 2929,
    "start_time": "2022-04-07T05:09:40.710Z"
   },
   {
    "duration": 13153,
    "start_time": "2022-04-07T05:09:43.647Z"
   },
   {
    "duration": 4,
    "start_time": "2022-04-07T05:17:20.812Z"
   },
   {
    "duration": 10,
    "start_time": "2022-04-07T05:24:58.473Z"
   },
   {
    "duration": 11,
    "start_time": "2022-04-07T05:26:34.517Z"
   },
   {
    "duration": 9,
    "start_time": "2022-04-07T05:39:51.048Z"
   },
   {
    "duration": 10,
    "start_time": "2022-04-07T05:39:54.316Z"
   },
   {
    "duration": 261,
    "start_time": "2022-04-07T05:43:29.876Z"
   },
   {
    "duration": 168,
    "start_time": "2022-04-07T05:44:58.706Z"
   },
   {
    "duration": 290,
    "start_time": "2022-04-07T05:45:53.265Z"
   },
   {
    "duration": 329,
    "start_time": "2022-04-07T05:46:11.554Z"
   },
   {
    "duration": 228,
    "start_time": "2022-04-07T05:46:50.974Z"
   },
   {
    "duration": 223,
    "start_time": "2022-04-07T05:46:56.778Z"
   },
   {
    "duration": 345,
    "start_time": "2022-04-07T05:47:21.748Z"
   },
   {
    "duration": 243,
    "start_time": "2022-04-07T05:49:07.134Z"
   },
   {
    "duration": 1321,
    "start_time": "2022-04-07T05:49:12.287Z"
   },
   {
    "duration": 1436,
    "start_time": "2022-04-07T05:49:19.086Z"
   },
   {
    "duration": 227,
    "start_time": "2022-04-07T05:49:22.069Z"
   },
   {
    "duration": 1882,
    "start_time": "2022-04-07T16:53:49.244Z"
   },
   {
    "duration": 691,
    "start_time": "2022-04-07T16:53:51.128Z"
   },
   {
    "duration": 28,
    "start_time": "2022-04-07T16:53:51.820Z"
   },
   {
    "duration": 33,
    "start_time": "2022-04-07T16:53:51.850Z"
   },
   {
    "duration": 207,
    "start_time": "2022-04-07T16:53:51.885Z"
   },
   {
    "duration": 9,
    "start_time": "2022-04-07T16:53:52.094Z"
   },
   {
    "duration": 135,
    "start_time": "2022-04-07T16:53:52.105Z"
   },
   {
    "duration": 17,
    "start_time": "2022-04-07T16:53:52.242Z"
   },
   {
    "duration": 27,
    "start_time": "2022-04-07T16:53:52.261Z"
   },
   {
    "duration": 7,
    "start_time": "2022-04-07T16:53:52.292Z"
   },
   {
    "duration": 20,
    "start_time": "2022-04-07T16:53:52.301Z"
   },
   {
    "duration": 18,
    "start_time": "2022-04-07T16:53:52.323Z"
   },
   {
    "duration": 54,
    "start_time": "2022-04-07T16:53:52.343Z"
   },
   {
    "duration": 112,
    "start_time": "2022-04-07T16:53:52.398Z"
   },
   {
    "duration": 10,
    "start_time": "2022-04-07T16:53:52.512Z"
   },
   {
    "duration": 14,
    "start_time": "2022-04-07T16:53:52.524Z"
   },
   {
    "duration": 10,
    "start_time": "2022-04-07T16:53:52.540Z"
   },
   {
    "duration": 34,
    "start_time": "2022-04-07T16:53:52.551Z"
   },
   {
    "duration": 6,
    "start_time": "2022-04-07T16:53:52.586Z"
   },
   {
    "duration": 4,
    "start_time": "2022-04-07T16:53:52.594Z"
   },
   {
    "duration": 7,
    "start_time": "2022-04-07T16:53:52.600Z"
   },
   {
    "duration": 13,
    "start_time": "2022-04-07T16:53:52.609Z"
   },
   {
    "duration": 67,
    "start_time": "2022-04-07T16:53:52.623Z"
   },
   {
    "duration": 19,
    "start_time": "2022-04-07T16:53:52.691Z"
   },
   {
    "duration": 8,
    "start_time": "2022-04-07T16:53:52.711Z"
   },
   {
    "duration": 4,
    "start_time": "2022-04-07T16:53:52.720Z"
   },
   {
    "duration": 320,
    "start_time": "2022-04-07T16:53:52.726Z"
   },
   {
    "duration": 332,
    "start_time": "2022-04-07T16:53:53.050Z"
   },
   {
    "duration": 8,
    "start_time": "2022-04-07T16:53:53.384Z"
   },
   {
    "duration": 289,
    "start_time": "2022-04-07T16:53:53.393Z"
   },
   {
    "duration": 8,
    "start_time": "2022-04-07T16:53:53.683Z"
   },
   {
    "duration": 316,
    "start_time": "2022-04-07T16:53:53.693Z"
   },
   {
    "duration": 9,
    "start_time": "2022-04-07T16:53:54.011Z"
   },
   {
    "duration": 238,
    "start_time": "2022-04-07T16:53:54.022Z"
   },
   {
    "duration": 230,
    "start_time": "2022-04-07T16:53:54.261Z"
   },
   {
    "duration": 225,
    "start_time": "2022-04-07T16:53:54.493Z"
   },
   {
    "duration": 965,
    "start_time": "2022-04-07T16:53:54.720Z"
   },
   {
    "duration": 671,
    "start_time": "2022-04-07T16:53:55.687Z"
   },
   {
    "duration": 102,
    "start_time": "2022-04-07T16:53:56.360Z"
   },
   {
    "duration": 0,
    "start_time": "2022-04-07T16:53:56.463Z"
   },
   {
    "duration": 0,
    "start_time": "2022-04-07T16:53:56.465Z"
   },
   {
    "duration": 0,
    "start_time": "2022-04-07T16:53:56.465Z"
   },
   {
    "duration": 0,
    "start_time": "2022-04-07T16:53:56.467Z"
   },
   {
    "duration": 0,
    "start_time": "2022-04-07T16:53:56.467Z"
   },
   {
    "duration": 0,
    "start_time": "2022-04-07T16:53:56.468Z"
   },
   {
    "duration": 0,
    "start_time": "2022-04-07T16:53:56.481Z"
   },
   {
    "duration": 0,
    "start_time": "2022-04-07T16:53:56.482Z"
   },
   {
    "duration": 0,
    "start_time": "2022-04-07T16:53:56.483Z"
   },
   {
    "duration": 0,
    "start_time": "2022-04-07T16:53:56.484Z"
   },
   {
    "duration": 0,
    "start_time": "2022-04-07T16:53:56.485Z"
   },
   {
    "duration": 0,
    "start_time": "2022-04-07T16:53:56.486Z"
   },
   {
    "duration": 0,
    "start_time": "2022-04-07T16:53:56.487Z"
   },
   {
    "duration": 0,
    "start_time": "2022-04-07T16:53:56.487Z"
   },
   {
    "duration": 0,
    "start_time": "2022-04-07T16:53:56.489Z"
   },
   {
    "duration": 0,
    "start_time": "2022-04-07T16:53:56.490Z"
   },
   {
    "duration": 0,
    "start_time": "2022-04-07T16:53:56.491Z"
   },
   {
    "duration": 0,
    "start_time": "2022-04-07T16:53:56.492Z"
   },
   {
    "duration": 0,
    "start_time": "2022-04-07T16:53:56.493Z"
   },
   {
    "duration": 0,
    "start_time": "2022-04-07T16:53:56.494Z"
   },
   {
    "duration": 0,
    "start_time": "2022-04-07T16:53:56.494Z"
   },
   {
    "duration": 0,
    "start_time": "2022-04-07T16:53:56.495Z"
   },
   {
    "duration": 0,
    "start_time": "2022-04-07T16:53:56.496Z"
   },
   {
    "duration": 0,
    "start_time": "2022-04-07T16:53:56.658Z"
   },
   {
    "duration": 0,
    "start_time": "2022-04-07T16:53:56.659Z"
   },
   {
    "duration": 0,
    "start_time": "2022-04-07T16:53:56.660Z"
   },
   {
    "duration": 0,
    "start_time": "2022-04-07T16:53:56.661Z"
   },
   {
    "duration": 0,
    "start_time": "2022-04-07T16:53:56.662Z"
   },
   {
    "duration": 0,
    "start_time": "2022-04-07T16:53:56.663Z"
   },
   {
    "duration": 0,
    "start_time": "2022-04-07T16:53:56.664Z"
   },
   {
    "duration": 0,
    "start_time": "2022-04-07T16:53:56.665Z"
   },
   {
    "duration": 0,
    "start_time": "2022-04-07T16:53:56.681Z"
   },
   {
    "duration": 0,
    "start_time": "2022-04-07T16:53:56.682Z"
   },
   {
    "duration": 10,
    "start_time": "2022-04-07T16:54:58.052Z"
   },
   {
    "duration": 11,
    "start_time": "2022-04-07T16:55:03.841Z"
   },
   {
    "duration": 1598,
    "start_time": "2022-04-07T16:55:13.400Z"
   },
   {
    "duration": 670,
    "start_time": "2022-04-07T16:55:15.000Z"
   },
   {
    "duration": 24,
    "start_time": "2022-04-07T16:55:15.671Z"
   },
   {
    "duration": 14,
    "start_time": "2022-04-07T16:55:15.697Z"
   },
   {
    "duration": 213,
    "start_time": "2022-04-07T16:55:15.712Z"
   },
   {
    "duration": 8,
    "start_time": "2022-04-07T16:55:15.926Z"
   },
   {
    "duration": 129,
    "start_time": "2022-04-07T16:55:15.936Z"
   },
   {
    "duration": 23,
    "start_time": "2022-04-07T16:55:16.067Z"
   },
   {
    "duration": 12,
    "start_time": "2022-04-07T16:55:16.092Z"
   },
   {
    "duration": 6,
    "start_time": "2022-04-07T16:55:16.106Z"
   },
   {
    "duration": 22,
    "start_time": "2022-04-07T16:55:16.114Z"
   },
   {
    "duration": 54,
    "start_time": "2022-04-07T16:55:16.138Z"
   },
   {
    "duration": 17,
    "start_time": "2022-04-07T16:55:16.194Z"
   },
   {
    "duration": 125,
    "start_time": "2022-04-07T16:55:16.213Z"
   },
   {
    "duration": 10,
    "start_time": "2022-04-07T16:55:16.340Z"
   },
   {
    "duration": 33,
    "start_time": "2022-04-07T16:55:16.352Z"
   },
   {
    "duration": 10,
    "start_time": "2022-04-07T16:55:16.387Z"
   },
   {
    "duration": 5,
    "start_time": "2022-04-07T16:55:16.398Z"
   },
   {
    "duration": 6,
    "start_time": "2022-04-07T16:55:16.404Z"
   },
   {
    "duration": 4,
    "start_time": "2022-04-07T16:55:16.412Z"
   },
   {
    "duration": 7,
    "start_time": "2022-04-07T16:55:16.417Z"
   },
   {
    "duration": 13,
    "start_time": "2022-04-07T16:55:16.425Z"
   },
   {
    "duration": 61,
    "start_time": "2022-04-07T16:55:16.440Z"
   },
   {
    "duration": 19,
    "start_time": "2022-04-07T16:55:16.502Z"
   },
   {
    "duration": 7,
    "start_time": "2022-04-07T16:55:16.522Z"
   },
   {
    "duration": 7,
    "start_time": "2022-04-07T16:55:16.531Z"
   },
   {
    "duration": 299,
    "start_time": "2022-04-07T16:55:16.539Z"
   },
   {
    "duration": 349,
    "start_time": "2022-04-07T16:55:16.841Z"
   },
   {
    "duration": 10,
    "start_time": "2022-04-07T16:55:17.191Z"
   },
   {
    "duration": 292,
    "start_time": "2022-04-07T16:55:17.203Z"
   },
   {
    "duration": 10,
    "start_time": "2022-04-07T16:55:17.496Z"
   },
   {
    "duration": 296,
    "start_time": "2022-04-07T16:55:17.508Z"
   },
   {
    "duration": 8,
    "start_time": "2022-04-07T16:55:17.806Z"
   },
   {
    "duration": 236,
    "start_time": "2022-04-07T16:55:17.815Z"
   },
   {
    "duration": 230,
    "start_time": "2022-04-07T16:55:18.053Z"
   },
   {
    "duration": 210,
    "start_time": "2022-04-07T16:55:18.285Z"
   },
   {
    "duration": 999,
    "start_time": "2022-04-07T16:55:18.497Z"
   },
   {
    "duration": 658,
    "start_time": "2022-04-07T16:55:19.497Z"
   },
   {
    "duration": 8,
    "start_time": "2022-04-07T16:55:20.157Z"
   },
   {
    "duration": 17,
    "start_time": "2022-04-07T16:55:20.167Z"
   },
   {
    "duration": 131,
    "start_time": "2022-04-07T16:55:20.186Z"
   },
   {
    "duration": 4,
    "start_time": "2022-04-07T16:55:20.319Z"
   },
   {
    "duration": 9,
    "start_time": "2022-04-07T16:55:20.324Z"
   },
   {
    "duration": 5,
    "start_time": "2022-04-07T16:55:20.335Z"
   },
   {
    "duration": 5,
    "start_time": "2022-04-07T16:55:20.341Z"
   },
   {
    "duration": 239,
    "start_time": "2022-04-07T16:55:20.348Z"
   },
   {
    "duration": 9,
    "start_time": "2022-04-07T16:55:20.589Z"
   },
   {
    "duration": 226,
    "start_time": "2022-04-07T16:55:20.600Z"
   },
   {
    "duration": 4,
    "start_time": "2022-04-07T16:55:20.827Z"
   },
   {
    "duration": 10,
    "start_time": "2022-04-07T16:55:20.832Z"
   },
   {
    "duration": 3,
    "start_time": "2022-04-07T16:55:20.843Z"
   },
   {
    "duration": 47,
    "start_time": "2022-04-07T16:55:20.848Z"
   },
   {
    "duration": 5,
    "start_time": "2022-04-07T16:55:20.896Z"
   },
   {
    "duration": 7,
    "start_time": "2022-04-07T16:55:20.903Z"
   },
   {
    "duration": 11,
    "start_time": "2022-04-07T16:55:20.911Z"
   },
   {
    "duration": 237,
    "start_time": "2022-04-07T16:55:20.923Z"
   },
   {
    "duration": 7,
    "start_time": "2022-04-07T16:55:21.161Z"
   },
   {
    "duration": 16,
    "start_time": "2022-04-07T16:55:21.181Z"
   },
   {
    "duration": 5,
    "start_time": "2022-04-07T16:55:21.199Z"
   },
   {
    "duration": 118,
    "start_time": "2022-04-07T16:55:21.206Z"
   },
   {
    "duration": 68,
    "start_time": "2022-04-07T16:55:21.326Z"
   },
   {
    "duration": 3,
    "start_time": "2022-04-07T16:55:21.396Z"
   },
   {
    "duration": 9,
    "start_time": "2022-04-07T16:55:21.401Z"
   },
   {
    "duration": 5,
    "start_time": "2022-04-07T16:55:21.411Z"
   },
   {
    "duration": 19,
    "start_time": "2022-04-07T16:55:21.418Z"
   },
   {
    "duration": 4,
    "start_time": "2022-04-07T16:55:21.438Z"
   },
   {
    "duration": 4,
    "start_time": "2022-04-07T16:55:21.444Z"
   },
   {
    "duration": 2,
    "start_time": "2022-04-07T16:55:21.482Z"
   },
   {
    "duration": 9019,
    "start_time": "2022-04-07T16:55:21.485Z"
   },
   {
    "duration": 163084,
    "start_time": "2022-04-07T16:55:30.505Z"
   },
   {
    "duration": 2795,
    "start_time": "2022-04-07T16:58:13.590Z"
   },
   {
    "duration": 14621,
    "start_time": "2022-04-07T16:58:16.387Z"
   },
   {
    "duration": 4,
    "start_time": "2022-04-07T18:08:04.842Z"
   },
   {
    "duration": 189,
    "start_time": "2022-04-07T18:14:40.375Z"
   },
   {
    "duration": 103,
    "start_time": "2022-04-07T18:15:42.358Z"
   },
   {
    "duration": 13,
    "start_time": "2022-04-07T18:18:17.561Z"
   },
   {
    "duration": 1541,
    "start_time": "2022-04-07T18:19:09.401Z"
   },
   {
    "duration": 685,
    "start_time": "2022-04-07T18:19:10.944Z"
   },
   {
    "duration": 25,
    "start_time": "2022-04-07T18:19:11.630Z"
   },
   {
    "duration": 29,
    "start_time": "2022-04-07T18:19:11.656Z"
   },
   {
    "duration": 202,
    "start_time": "2022-04-07T18:19:11.687Z"
   },
   {
    "duration": 11,
    "start_time": "2022-04-07T18:19:11.891Z"
   },
   {
    "duration": 138,
    "start_time": "2022-04-07T18:19:11.904Z"
   },
   {
    "duration": 19,
    "start_time": "2022-04-07T18:19:12.044Z"
   },
   {
    "duration": 13,
    "start_time": "2022-04-07T18:19:12.080Z"
   },
   {
    "duration": 6,
    "start_time": "2022-04-07T18:19:12.097Z"
   },
   {
    "duration": 21,
    "start_time": "2022-04-07T18:19:12.105Z"
   },
   {
    "duration": 55,
    "start_time": "2022-04-07T18:19:12.128Z"
   },
   {
    "duration": 17,
    "start_time": "2022-04-07T18:19:12.185Z"
   },
   {
    "duration": 101,
    "start_time": "2022-04-07T18:19:12.204Z"
   },
   {
    "duration": 10,
    "start_time": "2022-04-07T18:19:12.307Z"
   },
   {
    "duration": 14,
    "start_time": "2022-04-07T18:19:12.319Z"
   },
   {
    "duration": 11,
    "start_time": "2022-04-07T18:19:12.334Z"
   },
   {
    "duration": 38,
    "start_time": "2022-04-07T18:19:12.346Z"
   },
   {
    "duration": 5,
    "start_time": "2022-04-07T18:19:12.386Z"
   },
   {
    "duration": 3,
    "start_time": "2022-04-07T18:19:12.393Z"
   },
   {
    "duration": 6,
    "start_time": "2022-04-07T18:19:12.397Z"
   },
   {
    "duration": 12,
    "start_time": "2022-04-07T18:19:12.405Z"
   },
   {
    "duration": 33,
    "start_time": "2022-04-07T18:19:12.419Z"
   },
   {
    "duration": 43,
    "start_time": "2022-04-07T18:19:12.454Z"
   },
   {
    "duration": 8,
    "start_time": "2022-04-07T18:19:12.498Z"
   },
   {
    "duration": 4,
    "start_time": "2022-04-07T18:19:12.507Z"
   },
   {
    "duration": 300,
    "start_time": "2022-04-07T18:19:12.513Z"
   },
   {
    "duration": 343,
    "start_time": "2022-04-07T18:19:12.816Z"
   },
   {
    "duration": 21,
    "start_time": "2022-04-07T18:19:13.161Z"
   },
   {
    "duration": 276,
    "start_time": "2022-04-07T18:19:13.184Z"
   },
   {
    "duration": 20,
    "start_time": "2022-04-07T18:19:13.461Z"
   },
   {
    "duration": 267,
    "start_time": "2022-04-07T18:19:13.482Z"
   },
   {
    "duration": 9,
    "start_time": "2022-04-07T18:19:13.750Z"
   },
   {
    "duration": 237,
    "start_time": "2022-04-07T18:19:13.761Z"
   },
   {
    "duration": 234,
    "start_time": "2022-04-07T18:19:13.999Z"
   },
   {
    "duration": 215,
    "start_time": "2022-04-07T18:19:14.234Z"
   },
   {
    "duration": 1041,
    "start_time": "2022-04-07T18:19:14.450Z"
   },
   {
    "duration": 673,
    "start_time": "2022-04-07T18:19:15.492Z"
   },
   {
    "duration": 14,
    "start_time": "2022-04-07T18:19:16.167Z"
   },
   {
    "duration": 10,
    "start_time": "2022-04-07T18:19:16.183Z"
   },
   {
    "duration": 145,
    "start_time": "2022-04-07T18:19:16.194Z"
   },
   {
    "duration": 4,
    "start_time": "2022-04-07T18:19:16.341Z"
   },
   {
    "duration": 8,
    "start_time": "2022-04-07T18:19:16.347Z"
   },
   {
    "duration": 5,
    "start_time": "2022-04-07T18:19:16.357Z"
   },
   {
    "duration": 19,
    "start_time": "2022-04-07T18:19:16.363Z"
   },
   {
    "duration": 234,
    "start_time": "2022-04-07T18:19:16.384Z"
   },
   {
    "duration": 9,
    "start_time": "2022-04-07T18:19:16.620Z"
   },
   {
    "duration": 229,
    "start_time": "2022-04-07T18:19:16.630Z"
   },
   {
    "duration": 4,
    "start_time": "2022-04-07T18:19:16.860Z"
   },
   {
    "duration": 20,
    "start_time": "2022-04-07T18:19:16.865Z"
   },
   {
    "duration": 3,
    "start_time": "2022-04-07T18:19:16.886Z"
   },
   {
    "duration": 29,
    "start_time": "2022-04-07T18:19:16.890Z"
   },
   {
    "duration": 5,
    "start_time": "2022-04-07T18:19:16.920Z"
   },
   {
    "duration": 6,
    "start_time": "2022-04-07T18:19:16.927Z"
   },
   {
    "duration": 10,
    "start_time": "2022-04-07T18:19:16.934Z"
   },
   {
    "duration": 337,
    "start_time": "2022-04-07T18:19:16.945Z"
   },
   {
    "duration": 5,
    "start_time": "2022-04-07T18:19:17.284Z"
   },
   {
    "duration": 18,
    "start_time": "2022-04-07T18:19:17.291Z"
   },
   {
    "duration": 5,
    "start_time": "2022-04-07T18:19:17.310Z"
   },
   {
    "duration": 114,
    "start_time": "2022-04-07T18:19:17.316Z"
   },
   {
    "duration": 67,
    "start_time": "2022-04-07T18:19:17.432Z"
   },
   {
    "duration": 3,
    "start_time": "2022-04-07T18:19:17.501Z"
   },
   {
    "duration": 12,
    "start_time": "2022-04-07T18:19:17.505Z"
   },
   {
    "duration": 6,
    "start_time": "2022-04-07T18:19:17.518Z"
   },
   {
    "duration": 18,
    "start_time": "2022-04-07T18:19:17.526Z"
   },
   {
    "duration": 5,
    "start_time": "2022-04-07T18:19:17.545Z"
   },
   {
    "duration": 30,
    "start_time": "2022-04-07T18:19:17.551Z"
   },
   {
    "duration": 3,
    "start_time": "2022-04-07T18:19:17.582Z"
   },
   {
    "duration": 10374,
    "start_time": "2022-04-07T18:19:17.586Z"
   },
   {
    "duration": 161627,
    "start_time": "2022-04-07T18:19:27.962Z"
   },
   {
    "duration": 153025,
    "start_time": "2022-04-07T18:22:09.591Z"
   },
   {
    "duration": 2467,
    "start_time": "2022-04-07T18:24:42.618Z"
   },
   {
    "duration": 14584,
    "start_time": "2022-04-07T18:24:45.087Z"
   },
   {
    "duration": 112,
    "start_time": "2022-04-07T18:25:14.807Z"
   },
   {
    "duration": 11,
    "start_time": "2022-04-07T18:25:24.085Z"
   },
   {
    "duration": 4,
    "start_time": "2022-04-07T18:43:58.797Z"
   },
   {
    "duration": 1439,
    "start_time": "2022-04-07T18:48:04.886Z"
   },
   {
    "duration": 678,
    "start_time": "2022-04-07T18:48:06.327Z"
   },
   {
    "duration": 25,
    "start_time": "2022-04-07T18:48:07.007Z"
   },
   {
    "duration": 18,
    "start_time": "2022-04-07T18:48:07.035Z"
   },
   {
    "duration": 225,
    "start_time": "2022-04-07T18:48:07.054Z"
   },
   {
    "duration": 10,
    "start_time": "2022-04-07T18:48:07.281Z"
   },
   {
    "duration": 131,
    "start_time": "2022-04-07T18:48:07.293Z"
   },
   {
    "duration": 19,
    "start_time": "2022-04-07T18:48:07.426Z"
   },
   {
    "duration": 15,
    "start_time": "2022-04-07T18:48:07.447Z"
   },
   {
    "duration": 21,
    "start_time": "2022-04-07T18:48:07.465Z"
   },
   {
    "duration": 20,
    "start_time": "2022-04-07T18:48:07.487Z"
   },
   {
    "duration": 17,
    "start_time": "2022-04-07T18:48:07.508Z"
   },
   {
    "duration": 19,
    "start_time": "2022-04-07T18:48:07.527Z"
   },
   {
    "duration": 120,
    "start_time": "2022-04-07T18:48:07.547Z"
   },
   {
    "duration": 17,
    "start_time": "2022-04-07T18:48:07.668Z"
   },
   {
    "duration": 13,
    "start_time": "2022-04-07T18:48:07.686Z"
   },
   {
    "duration": 11,
    "start_time": "2022-04-07T18:48:07.701Z"
   },
   {
    "duration": 4,
    "start_time": "2022-04-07T18:48:07.714Z"
   },
   {
    "duration": 8,
    "start_time": "2022-04-07T18:48:07.719Z"
   },
   {
    "duration": 6,
    "start_time": "2022-04-07T18:48:07.729Z"
   },
   {
    "duration": 45,
    "start_time": "2022-04-07T18:48:07.736Z"
   },
   {
    "duration": 12,
    "start_time": "2022-04-07T18:48:07.783Z"
   },
   {
    "duration": 28,
    "start_time": "2022-04-07T18:48:07.796Z"
   },
   {
    "duration": 24,
    "start_time": "2022-04-07T18:48:07.825Z"
   },
   {
    "duration": 8,
    "start_time": "2022-04-07T18:48:07.850Z"
   },
   {
    "duration": 6,
    "start_time": "2022-04-07T18:48:07.882Z"
   },
   {
    "duration": 294,
    "start_time": "2022-04-07T18:48:07.889Z"
   },
   {
    "duration": 365,
    "start_time": "2022-04-07T18:48:08.187Z"
   },
   {
    "duration": 8,
    "start_time": "2022-04-07T18:48:08.554Z"
   },
   {
    "duration": 305,
    "start_time": "2022-04-07T18:48:08.564Z"
   },
   {
    "duration": 13,
    "start_time": "2022-04-07T18:48:08.871Z"
   },
   {
    "duration": 295,
    "start_time": "2022-04-07T18:48:08.886Z"
   },
   {
    "duration": 8,
    "start_time": "2022-04-07T18:48:09.183Z"
   },
   {
    "duration": 228,
    "start_time": "2022-04-07T18:48:09.193Z"
   },
   {
    "duration": 243,
    "start_time": "2022-04-07T18:48:09.423Z"
   },
   {
    "duration": 217,
    "start_time": "2022-04-07T18:48:09.667Z"
   },
   {
    "duration": 1046,
    "start_time": "2022-04-07T18:48:09.886Z"
   },
   {
    "duration": 722,
    "start_time": "2022-04-07T18:48:10.934Z"
   },
   {
    "duration": 9,
    "start_time": "2022-04-07T18:48:11.658Z"
   },
   {
    "duration": 11,
    "start_time": "2022-04-07T18:48:11.680Z"
   },
   {
    "duration": 136,
    "start_time": "2022-04-07T18:48:11.692Z"
   },
   {
    "duration": 4,
    "start_time": "2022-04-07T18:48:11.830Z"
   },
   {
    "duration": 7,
    "start_time": "2022-04-07T18:48:11.836Z"
   },
   {
    "duration": 5,
    "start_time": "2022-04-07T18:48:11.844Z"
   },
   {
    "duration": 5,
    "start_time": "2022-04-07T18:48:11.850Z"
   },
   {
    "duration": 243,
    "start_time": "2022-04-07T18:48:11.856Z"
   },
   {
    "duration": 9,
    "start_time": "2022-04-07T18:48:12.101Z"
   },
   {
    "duration": 220,
    "start_time": "2022-04-07T18:48:12.111Z"
   },
   {
    "duration": 4,
    "start_time": "2022-04-07T18:48:12.332Z"
   },
   {
    "duration": 12,
    "start_time": "2022-04-07T18:48:12.337Z"
   },
   {
    "duration": 3,
    "start_time": "2022-04-07T18:48:12.350Z"
   },
   {
    "duration": 40,
    "start_time": "2022-04-07T18:48:12.354Z"
   },
   {
    "duration": 4,
    "start_time": "2022-04-07T18:48:12.396Z"
   },
   {
    "duration": 6,
    "start_time": "2022-04-07T18:48:12.402Z"
   },
   {
    "duration": 9,
    "start_time": "2022-04-07T18:48:12.410Z"
   },
   {
    "duration": 242,
    "start_time": "2022-04-07T18:48:12.421Z"
   },
   {
    "duration": 5,
    "start_time": "2022-04-07T18:48:12.665Z"
   },
   {
    "duration": 16,
    "start_time": "2022-04-07T18:48:12.681Z"
   },
   {
    "duration": 5,
    "start_time": "2022-04-07T18:48:12.699Z"
   },
   {
    "duration": 115,
    "start_time": "2022-04-07T18:48:12.706Z"
   },
   {
    "duration": 60,
    "start_time": "2022-04-07T18:48:12.822Z"
   },
   {
    "duration": 3,
    "start_time": "2022-04-07T18:48:12.883Z"
   },
   {
    "duration": 8,
    "start_time": "2022-04-07T18:48:12.888Z"
   },
   {
    "duration": 4,
    "start_time": "2022-04-07T18:48:12.898Z"
   },
   {
    "duration": 19,
    "start_time": "2022-04-07T18:48:12.903Z"
   },
   {
    "duration": 4,
    "start_time": "2022-04-07T18:48:12.924Z"
   },
   {
    "duration": 4,
    "start_time": "2022-04-07T18:48:12.929Z"
   },
   {
    "duration": 4,
    "start_time": "2022-04-07T18:48:12.935Z"
   },
   {
    "duration": 9024,
    "start_time": "2022-04-07T18:48:12.940Z"
   },
   {
    "duration": 165115,
    "start_time": "2022-04-07T18:48:21.966Z"
   },
   {
    "duration": 153842,
    "start_time": "2022-04-07T18:51:07.083Z"
   },
   {
    "duration": 3158,
    "start_time": "2022-04-07T18:53:40.926Z"
   },
   {
    "duration": 13416,
    "start_time": "2022-04-07T18:53:44.086Z"
   },
   {
    "duration": 104,
    "start_time": "2022-04-07T18:58:20.507Z"
   },
   {
    "duration": 1548,
    "start_time": "2022-04-07T18:58:32.870Z"
   },
   {
    "duration": 686,
    "start_time": "2022-04-07T18:58:34.420Z"
   },
   {
    "duration": 24,
    "start_time": "2022-04-07T18:58:35.107Z"
   },
   {
    "duration": 14,
    "start_time": "2022-04-07T18:58:35.133Z"
   },
   {
    "duration": 252,
    "start_time": "2022-04-07T18:58:35.148Z"
   },
   {
    "duration": 7,
    "start_time": "2022-04-07T18:58:35.402Z"
   },
   {
    "duration": 132,
    "start_time": "2022-04-07T18:58:35.411Z"
   },
   {
    "duration": 18,
    "start_time": "2022-04-07T18:58:35.545Z"
   },
   {
    "duration": 25,
    "start_time": "2022-04-07T18:58:35.564Z"
   },
   {
    "duration": 6,
    "start_time": "2022-04-07T18:58:35.591Z"
   },
   {
    "duration": 20,
    "start_time": "2022-04-07T18:58:35.598Z"
   },
   {
    "duration": 17,
    "start_time": "2022-04-07T18:58:35.619Z"
   },
   {
    "duration": 50,
    "start_time": "2022-04-07T18:58:35.637Z"
   },
   {
    "duration": 95,
    "start_time": "2022-04-07T18:58:35.688Z"
   },
   {
    "duration": 10,
    "start_time": "2022-04-07T18:58:35.785Z"
   },
   {
    "duration": 15,
    "start_time": "2022-04-07T18:58:35.796Z"
   },
   {
    "duration": 10,
    "start_time": "2022-04-07T18:58:35.813Z"
   },
   {
    "duration": 6,
    "start_time": "2022-04-07T18:58:35.824Z"
   },
   {
    "duration": 6,
    "start_time": "2022-04-07T18:58:35.832Z"
   },
   {
    "duration": 46,
    "start_time": "2022-04-07T18:58:35.839Z"
   },
   {
    "duration": 7,
    "start_time": "2022-04-07T18:58:35.887Z"
   },
   {
    "duration": 14,
    "start_time": "2022-04-07T18:58:35.896Z"
   },
   {
    "duration": 26,
    "start_time": "2022-04-07T18:58:35.912Z"
   },
   {
    "duration": 55,
    "start_time": "2022-04-07T18:58:35.939Z"
   },
   {
    "duration": 7,
    "start_time": "2022-04-07T18:58:35.995Z"
   },
   {
    "duration": 7,
    "start_time": "2022-04-07T18:58:36.004Z"
   },
   {
    "duration": 289,
    "start_time": "2022-04-07T18:58:36.013Z"
   },
   {
    "duration": 364,
    "start_time": "2022-04-07T18:58:36.305Z"
   },
   {
    "duration": 14,
    "start_time": "2022-04-07T18:58:36.671Z"
   },
   {
    "duration": 289,
    "start_time": "2022-04-07T18:58:36.687Z"
   },
   {
    "duration": 8,
    "start_time": "2022-04-07T18:58:36.978Z"
   },
   {
    "duration": 278,
    "start_time": "2022-04-07T18:58:36.987Z"
   },
   {
    "duration": 18,
    "start_time": "2022-04-07T18:58:37.267Z"
   },
   {
    "duration": 230,
    "start_time": "2022-04-07T18:58:37.287Z"
   },
   {
    "duration": 236,
    "start_time": "2022-04-07T18:58:37.519Z"
   },
   {
    "duration": 223,
    "start_time": "2022-04-07T18:58:37.757Z"
   },
   {
    "duration": 1000,
    "start_time": "2022-04-07T18:58:37.981Z"
   },
   {
    "duration": 660,
    "start_time": "2022-04-07T18:58:38.982Z"
   },
   {
    "duration": 9,
    "start_time": "2022-04-07T18:58:39.644Z"
   },
   {
    "duration": 10,
    "start_time": "2022-04-07T18:58:39.654Z"
   },
   {
    "duration": 118,
    "start_time": "2022-04-07T18:58:39.681Z"
   },
   {
    "duration": 4,
    "start_time": "2022-04-07T18:58:39.800Z"
   },
   {
    "duration": 4,
    "start_time": "2022-04-07T18:58:39.806Z"
   },
   {
    "duration": 4,
    "start_time": "2022-04-07T18:58:39.812Z"
   },
   {
    "duration": 4,
    "start_time": "2022-04-07T18:58:39.817Z"
   },
   {
    "duration": 240,
    "start_time": "2022-04-07T18:58:39.823Z"
   },
   {
    "duration": 17,
    "start_time": "2022-04-07T18:58:40.065Z"
   },
   {
    "duration": 218,
    "start_time": "2022-04-07T18:58:40.084Z"
   },
   {
    "duration": 3,
    "start_time": "2022-04-07T18:58:40.304Z"
   },
   {
    "duration": 11,
    "start_time": "2022-04-07T18:58:40.309Z"
   },
   {
    "duration": 3,
    "start_time": "2022-04-07T18:58:40.321Z"
   },
   {
    "duration": 27,
    "start_time": "2022-04-07T18:58:40.326Z"
   },
   {
    "duration": 5,
    "start_time": "2022-04-07T18:58:40.354Z"
   },
   {
    "duration": 22,
    "start_time": "2022-04-07T18:58:40.360Z"
   },
   {
    "duration": 10,
    "start_time": "2022-04-07T18:58:40.383Z"
   },
   {
    "duration": 227,
    "start_time": "2022-04-07T18:58:40.394Z"
   },
   {
    "duration": 5,
    "start_time": "2022-04-07T18:58:40.622Z"
   },
   {
    "duration": 18,
    "start_time": "2022-04-07T18:58:40.629Z"
   },
   {
    "duration": 4,
    "start_time": "2022-04-07T18:58:40.648Z"
   },
   {
    "duration": 115,
    "start_time": "2022-04-07T18:58:40.654Z"
   },
   {
    "duration": 56,
    "start_time": "2022-04-07T18:58:40.771Z"
   },
   {
    "duration": 3,
    "start_time": "2022-04-07T18:58:40.828Z"
   },
   {
    "duration": 13,
    "start_time": "2022-04-07T18:58:40.833Z"
   },
   {
    "duration": 5,
    "start_time": "2022-04-07T18:58:40.847Z"
   },
   {
    "duration": 42,
    "start_time": "2022-04-07T18:58:40.854Z"
   },
   {
    "duration": 5,
    "start_time": "2022-04-07T18:58:40.897Z"
   },
   {
    "duration": 6,
    "start_time": "2022-04-07T18:58:40.903Z"
   },
   {
    "duration": 11,
    "start_time": "2022-04-07T18:58:40.910Z"
   },
   {
    "duration": 8837,
    "start_time": "2022-04-07T18:58:40.923Z"
   },
   {
    "duration": 162604,
    "start_time": "2022-04-07T18:58:49.762Z"
   },
   {
    "duration": 151835,
    "start_time": "2022-04-07T19:01:32.367Z"
   },
   {
    "duration": 2778,
    "start_time": "2022-04-07T19:04:04.204Z"
   },
   {
    "duration": 14319,
    "start_time": "2022-04-07T19:04:06.983Z"
   },
   {
    "duration": 2400,
    "start_time": "2022-04-09T10:37:03.775Z"
   },
   {
    "duration": 817,
    "start_time": "2022-04-09T10:37:06.178Z"
   },
   {
    "duration": 41,
    "start_time": "2022-04-09T10:37:06.998Z"
   },
   {
    "duration": 48,
    "start_time": "2022-04-09T10:37:07.042Z"
   },
   {
    "duration": 331,
    "start_time": "2022-04-09T10:37:07.092Z"
   },
   {
    "duration": 12,
    "start_time": "2022-04-09T10:37:07.425Z"
   },
   {
    "duration": 211,
    "start_time": "2022-04-09T10:37:07.439Z"
   },
   {
    "duration": 39,
    "start_time": "2022-04-09T10:37:07.652Z"
   },
   {
    "duration": 21,
    "start_time": "2022-04-09T10:37:07.694Z"
   },
   {
    "duration": 9,
    "start_time": "2022-04-09T10:37:07.719Z"
   },
   {
    "duration": 68,
    "start_time": "2022-04-09T10:37:07.730Z"
   },
   {
    "duration": 31,
    "start_time": "2022-04-09T10:37:07.800Z"
   },
   {
    "duration": 51,
    "start_time": "2022-04-09T10:37:07.833Z"
   },
   {
    "duration": 172,
    "start_time": "2022-04-09T10:37:07.886Z"
   },
   {
    "duration": 24,
    "start_time": "2022-04-09T10:37:08.061Z"
   },
   {
    "duration": 20,
    "start_time": "2022-04-09T10:37:08.087Z"
   },
   {
    "duration": 14,
    "start_time": "2022-04-09T10:37:08.109Z"
   },
   {
    "duration": 8,
    "start_time": "2022-04-09T10:37:08.125Z"
   },
   {
    "duration": 9,
    "start_time": "2022-04-09T10:37:08.135Z"
   },
   {
    "duration": 6,
    "start_time": "2022-04-09T10:37:08.183Z"
   },
   {
    "duration": 8,
    "start_time": "2022-04-09T10:37:08.191Z"
   },
   {
    "duration": 20,
    "start_time": "2022-04-09T10:37:08.201Z"
   },
   {
    "duration": 74,
    "start_time": "2022-04-09T10:37:08.224Z"
   },
   {
    "duration": 22,
    "start_time": "2022-04-09T10:37:08.301Z"
   },
   {
    "duration": 11,
    "start_time": "2022-04-09T10:37:08.325Z"
   },
   {
    "duration": 7,
    "start_time": "2022-04-09T10:37:08.339Z"
   },
   {
    "duration": 599,
    "start_time": "2022-04-09T10:37:08.348Z"
   },
   {
    "duration": 614,
    "start_time": "2022-04-09T10:37:08.953Z"
   },
   {
    "duration": 26,
    "start_time": "2022-04-09T10:37:09.569Z"
   },
   {
    "duration": 540,
    "start_time": "2022-04-09T10:37:09.597Z"
   },
   {
    "duration": 13,
    "start_time": "2022-04-09T10:37:10.140Z"
   },
   {
    "duration": 542,
    "start_time": "2022-04-09T10:37:10.155Z"
   },
   {
    "duration": 13,
    "start_time": "2022-04-09T10:37:10.699Z"
   },
   {
    "duration": 443,
    "start_time": "2022-04-09T10:37:10.715Z"
   },
   {
    "duration": 445,
    "start_time": "2022-04-09T10:37:11.160Z"
   },
   {
    "duration": 425,
    "start_time": "2022-04-09T10:37:11.607Z"
   },
   {
    "duration": 1743,
    "start_time": "2022-04-09T10:37:12.034Z"
   },
   {
    "duration": 1122,
    "start_time": "2022-04-09T10:37:13.780Z"
   },
   {
    "duration": 15,
    "start_time": "2022-04-09T10:37:14.905Z"
   },
   {
    "duration": 16,
    "start_time": "2022-04-09T10:37:14.922Z"
   },
   {
    "duration": 196,
    "start_time": "2022-04-09T10:37:14.941Z"
   },
   {
    "duration": 8,
    "start_time": "2022-04-09T10:37:15.140Z"
   },
   {
    "duration": 9,
    "start_time": "2022-04-09T10:37:15.151Z"
   },
   {
    "duration": 25,
    "start_time": "2022-04-09T10:37:15.163Z"
   },
   {
    "duration": 8,
    "start_time": "2022-04-09T10:37:15.191Z"
   },
   {
    "duration": 605,
    "start_time": "2022-04-09T10:37:15.201Z"
   },
   {
    "duration": 23,
    "start_time": "2022-04-09T10:37:15.808Z"
   },
   {
    "duration": 701,
    "start_time": "2022-04-09T10:37:15.834Z"
   },
   {
    "duration": 9,
    "start_time": "2022-04-09T10:37:16.538Z"
   },
   {
    "duration": 34,
    "start_time": "2022-04-09T10:37:16.550Z"
   },
   {
    "duration": 6,
    "start_time": "2022-04-09T10:37:16.587Z"
   },
   {
    "duration": 55,
    "start_time": "2022-04-09T10:37:16.595Z"
   },
   {
    "duration": 10,
    "start_time": "2022-04-09T10:37:16.653Z"
   },
   {
    "duration": 6,
    "start_time": "2022-04-09T10:37:16.685Z"
   },
   {
    "duration": 12,
    "start_time": "2022-04-09T10:37:16.694Z"
   },
   {
    "duration": 440,
    "start_time": "2022-04-09T10:37:16.709Z"
   },
   {
    "duration": 7,
    "start_time": "2022-04-09T10:37:17.151Z"
   },
   {
    "duration": 44,
    "start_time": "2022-04-09T10:37:17.161Z"
   },
   {
    "duration": 8,
    "start_time": "2022-04-09T10:37:17.207Z"
   },
   {
    "duration": 171,
    "start_time": "2022-04-09T10:37:17.217Z"
   },
   {
    "duration": 103,
    "start_time": "2022-04-09T10:37:17.390Z"
   },
   {
    "duration": 4,
    "start_time": "2022-04-09T10:37:17.495Z"
   },
   {
    "duration": 14,
    "start_time": "2022-04-09T10:37:17.501Z"
   },
   {
    "duration": 7,
    "start_time": "2022-04-09T10:37:17.517Z"
   },
   {
    "duration": 60,
    "start_time": "2022-04-09T10:37:17.526Z"
   },
   {
    "duration": 9,
    "start_time": "2022-04-09T10:37:17.588Z"
   },
   {
    "duration": 7,
    "start_time": "2022-04-09T10:37:17.599Z"
   },
   {
    "duration": 8,
    "start_time": "2022-04-09T10:37:17.608Z"
   },
   {
    "duration": 12584,
    "start_time": "2022-04-09T10:37:17.618Z"
   },
   {
    "duration": 230206,
    "start_time": "2022-04-09T10:37:30.205Z"
   },
   {
    "duration": 216535,
    "start_time": "2022-04-09T10:41:20.414Z"
   },
   {
    "duration": 3234,
    "start_time": "2022-04-09T10:44:56.951Z"
   },
   {
    "duration": 19104,
    "start_time": "2022-04-09T10:45:00.190Z"
   },
   {
    "duration": 181,
    "start_time": "2022-04-09T12:02:54.109Z"
   },
   {
    "duration": 10,
    "start_time": "2022-04-09T12:03:31.938Z"
   },
   {
    "duration": 16,
    "start_time": "2022-04-09T12:05:05.527Z"
   },
   {
    "duration": 17,
    "start_time": "2022-04-09T12:05:50.021Z"
   },
   {
    "duration": 9,
    "start_time": "2022-04-09T12:06:16.057Z"
   },
   {
    "duration": 19,
    "start_time": "2022-04-09T12:08:02.723Z"
   },
   {
    "duration": 1575,
    "start_time": "2022-04-09T20:03:01.354Z"
   },
   {
    "duration": 619,
    "start_time": "2022-04-09T20:03:02.932Z"
   },
   {
    "duration": 28,
    "start_time": "2022-04-09T20:03:03.552Z"
   },
   {
    "duration": 30,
    "start_time": "2022-04-09T20:03:03.582Z"
   },
   {
    "duration": 227,
    "start_time": "2022-04-09T20:03:03.614Z"
   },
   {
    "duration": 10,
    "start_time": "2022-04-09T20:03:03.843Z"
   },
   {
    "duration": 130,
    "start_time": "2022-04-09T20:03:03.854Z"
   },
   {
    "duration": 31,
    "start_time": "2022-04-09T20:03:03.986Z"
   },
   {
    "duration": 13,
    "start_time": "2022-04-09T20:03:04.019Z"
   },
   {
    "duration": 7,
    "start_time": "2022-04-09T20:03:04.035Z"
   },
   {
    "duration": 23,
    "start_time": "2022-04-09T20:03:04.044Z"
   },
   {
    "duration": 50,
    "start_time": "2022-04-09T20:03:04.069Z"
   },
   {
    "duration": 19,
    "start_time": "2022-04-09T20:03:04.121Z"
   },
   {
    "duration": 109,
    "start_time": "2022-04-09T20:03:04.142Z"
   },
   {
    "duration": 9,
    "start_time": "2022-04-09T20:03:04.253Z"
   },
   {
    "duration": 15,
    "start_time": "2022-04-09T20:03:04.264Z"
   },
   {
    "duration": 34,
    "start_time": "2022-04-09T20:03:04.280Z"
   },
   {
    "duration": 6,
    "start_time": "2022-04-09T20:03:04.316Z"
   },
   {
    "duration": 5,
    "start_time": "2022-04-09T20:03:04.324Z"
   },
   {
    "duration": 4,
    "start_time": "2022-04-09T20:03:04.331Z"
   },
   {
    "duration": 6,
    "start_time": "2022-04-09T20:03:04.337Z"
   },
   {
    "duration": 13,
    "start_time": "2022-04-09T20:03:04.345Z"
   },
   {
    "duration": 70,
    "start_time": "2022-04-09T20:03:04.359Z"
   },
   {
    "duration": 20,
    "start_time": "2022-04-09T20:03:04.430Z"
   },
   {
    "duration": 8,
    "start_time": "2022-04-09T20:03:04.451Z"
   },
   {
    "duration": 4,
    "start_time": "2022-04-09T20:03:04.461Z"
   },
   {
    "duration": 345,
    "start_time": "2022-04-09T20:03:04.467Z"
   },
   {
    "duration": 391,
    "start_time": "2022-04-09T20:03:04.817Z"
   },
   {
    "duration": 8,
    "start_time": "2022-04-09T20:03:05.210Z"
   },
   {
    "duration": 325,
    "start_time": "2022-04-09T20:03:05.220Z"
   },
   {
    "duration": 9,
    "start_time": "2022-04-09T20:03:05.547Z"
   },
   {
    "duration": 332,
    "start_time": "2022-04-09T20:03:05.558Z"
   },
   {
    "duration": 19,
    "start_time": "2022-04-09T20:03:05.892Z"
   },
   {
    "duration": 263,
    "start_time": "2022-04-09T20:03:05.912Z"
   },
   {
    "duration": 269,
    "start_time": "2022-04-09T20:03:06.176Z"
   },
   {
    "duration": 246,
    "start_time": "2022-04-09T20:03:06.447Z"
   },
   {
    "duration": 1119,
    "start_time": "2022-04-09T20:03:06.695Z"
   },
   {
    "duration": 737,
    "start_time": "2022-04-09T20:03:07.816Z"
   },
   {
    "duration": 9,
    "start_time": "2022-04-09T20:03:08.555Z"
   },
   {
    "duration": 10,
    "start_time": "2022-04-09T20:03:08.565Z"
   },
   {
    "duration": 143,
    "start_time": "2022-04-09T20:03:08.577Z"
   },
   {
    "duration": 5,
    "start_time": "2022-04-09T20:03:08.722Z"
   },
   {
    "duration": 8,
    "start_time": "2022-04-09T20:03:08.728Z"
   },
   {
    "duration": 8,
    "start_time": "2022-04-09T20:03:08.737Z"
   },
   {
    "duration": 4,
    "start_time": "2022-04-09T20:03:08.747Z"
   },
   {
    "duration": 271,
    "start_time": "2022-04-09T20:03:08.753Z"
   },
   {
    "duration": 10,
    "start_time": "2022-04-09T20:03:09.026Z"
   },
   {
    "duration": 273,
    "start_time": "2022-04-09T20:03:09.037Z"
   },
   {
    "duration": 4,
    "start_time": "2022-04-09T20:03:09.312Z"
   },
   {
    "duration": 10,
    "start_time": "2022-04-09T20:03:09.318Z"
   },
   {
    "duration": 3,
    "start_time": "2022-04-09T20:03:09.330Z"
   },
   {
    "duration": 29,
    "start_time": "2022-04-09T20:03:09.334Z"
   },
   {
    "duration": 5,
    "start_time": "2022-04-09T20:03:09.365Z"
   },
   {
    "duration": 11,
    "start_time": "2022-04-09T20:03:09.372Z"
   },
   {
    "duration": 31,
    "start_time": "2022-04-09T20:03:09.384Z"
   },
   {
    "duration": 256,
    "start_time": "2022-04-09T20:03:09.417Z"
   },
   {
    "duration": 6,
    "start_time": "2022-04-09T20:03:09.674Z"
   },
   {
    "duration": 28,
    "start_time": "2022-04-09T20:03:09.682Z"
   },
   {
    "duration": 5,
    "start_time": "2022-04-09T20:03:09.712Z"
   },
   {
    "duration": 118,
    "start_time": "2022-04-09T20:03:09.718Z"
   },
   {
    "duration": 60,
    "start_time": "2022-04-09T20:03:09.837Z"
   },
   {
    "duration": 3,
    "start_time": "2022-04-09T20:03:09.909Z"
   },
   {
    "duration": 10,
    "start_time": "2022-04-09T20:03:09.913Z"
   },
   {
    "duration": 4,
    "start_time": "2022-04-09T20:03:09.925Z"
   },
   {
    "duration": 22,
    "start_time": "2022-04-09T20:03:09.931Z"
   },
   {
    "duration": 5,
    "start_time": "2022-04-09T20:03:09.954Z"
   },
   {
    "duration": 6,
    "start_time": "2022-04-09T20:03:09.960Z"
   },
   {
    "duration": 4,
    "start_time": "2022-04-09T20:03:09.968Z"
   },
   {
    "duration": 9814,
    "start_time": "2022-04-09T20:03:09.973Z"
   },
   {
    "duration": 173667,
    "start_time": "2022-04-09T20:03:19.789Z"
   },
   {
    "duration": 164758,
    "start_time": "2022-04-09T20:06:13.458Z"
   },
   {
    "duration": 3700,
    "start_time": "2022-04-09T20:08:58.218Z"
   },
   {
    "duration": 15230,
    "start_time": "2022-04-09T20:09:01.920Z"
   },
   {
    "duration": 14,
    "start_time": "2022-04-09T20:09:17.152Z"
   },
   {
    "duration": 117,
    "start_time": "2022-04-09T20:23:38.295Z"
   },
   {
    "duration": 7,
    "start_time": "2022-04-09T20:27:04.628Z"
   },
   {
    "duration": 6,
    "start_time": "2022-04-09T20:27:12.622Z"
   },
   {
    "duration": 11,
    "start_time": "2022-04-09T20:28:50.068Z"
   },
   {
    "duration": 11,
    "start_time": "2022-04-09T20:39:14.588Z"
   },
   {
    "duration": 1423,
    "start_time": "2022-04-09T20:40:54.003Z"
   },
   {
    "duration": 633,
    "start_time": "2022-04-09T20:40:55.428Z"
   },
   {
    "duration": 26,
    "start_time": "2022-04-09T20:40:56.063Z"
   },
   {
    "duration": 25,
    "start_time": "2022-04-09T20:40:56.091Z"
   },
   {
    "duration": 227,
    "start_time": "2022-04-09T20:40:56.118Z"
   },
   {
    "duration": 9,
    "start_time": "2022-04-09T20:40:56.348Z"
   },
   {
    "duration": 131,
    "start_time": "2022-04-09T20:40:56.359Z"
   },
   {
    "duration": 24,
    "start_time": "2022-04-09T20:40:56.493Z"
   },
   {
    "duration": 12,
    "start_time": "2022-04-09T20:40:56.519Z"
   },
   {
    "duration": 5,
    "start_time": "2022-04-09T20:40:56.534Z"
   },
   {
    "duration": 19,
    "start_time": "2022-04-09T20:40:56.541Z"
   },
   {
    "duration": 19,
    "start_time": "2022-04-09T20:40:56.562Z"
   },
   {
    "duration": 17,
    "start_time": "2022-04-09T20:40:56.610Z"
   },
   {
    "duration": 104,
    "start_time": "2022-04-09T20:40:56.629Z"
   },
   {
    "duration": 8,
    "start_time": "2022-04-09T20:40:56.735Z"
   },
   {
    "duration": 14,
    "start_time": "2022-04-09T20:40:56.744Z"
   },
   {
    "duration": 8,
    "start_time": "2022-04-09T20:40:56.759Z"
   },
   {
    "duration": 11,
    "start_time": "2022-04-09T20:40:56.769Z"
   },
   {
    "duration": 27,
    "start_time": "2022-04-09T20:40:56.782Z"
   },
   {
    "duration": 4,
    "start_time": "2022-04-09T20:40:56.811Z"
   },
   {
    "duration": 5,
    "start_time": "2022-04-09T20:40:56.816Z"
   },
   {
    "duration": 12,
    "start_time": "2022-04-09T20:40:56.823Z"
   },
   {
    "duration": 32,
    "start_time": "2022-04-09T20:40:56.837Z"
   },
   {
    "duration": 48,
    "start_time": "2022-04-09T20:40:56.871Z"
   },
   {
    "duration": 7,
    "start_time": "2022-04-09T20:40:56.921Z"
   },
   {
    "duration": 13,
    "start_time": "2022-04-09T20:40:56.930Z"
   },
   {
    "duration": 324,
    "start_time": "2022-04-09T20:40:56.945Z"
   },
   {
    "duration": 384,
    "start_time": "2022-04-09T20:40:57.273Z"
   },
   {
    "duration": 9,
    "start_time": "2022-04-09T20:40:57.658Z"
   },
   {
    "duration": 328,
    "start_time": "2022-04-09T20:40:57.669Z"
   },
   {
    "duration": 13,
    "start_time": "2022-04-09T20:40:57.999Z"
   },
   {
    "duration": 316,
    "start_time": "2022-04-09T20:40:58.014Z"
   },
   {
    "duration": 9,
    "start_time": "2022-04-09T20:40:58.332Z"
   },
   {
    "duration": 283,
    "start_time": "2022-04-09T20:40:58.343Z"
   },
   {
    "duration": 269,
    "start_time": "2022-04-09T20:40:58.628Z"
   },
   {
    "duration": 262,
    "start_time": "2022-04-09T20:40:58.898Z"
   },
   {
    "duration": 1237,
    "start_time": "2022-04-09T20:40:59.162Z"
   },
   {
    "duration": 758,
    "start_time": "2022-04-09T20:41:00.401Z"
   },
   {
    "duration": 8,
    "start_time": "2022-04-09T20:41:01.161Z"
   },
   {
    "duration": 10,
    "start_time": "2022-04-09T20:41:01.171Z"
   },
   {
    "duration": 139,
    "start_time": "2022-04-09T20:41:01.183Z"
   },
   {
    "duration": 4,
    "start_time": "2022-04-09T20:41:01.324Z"
   },
   {
    "duration": 11,
    "start_time": "2022-04-09T20:41:01.330Z"
   },
   {
    "duration": 5,
    "start_time": "2022-04-09T20:41:01.342Z"
   },
   {
    "duration": 5,
    "start_time": "2022-04-09T20:41:01.348Z"
   },
   {
    "duration": 267,
    "start_time": "2022-04-09T20:41:01.354Z"
   },
   {
    "duration": 10,
    "start_time": "2022-04-09T20:41:01.623Z"
   },
   {
    "duration": 259,
    "start_time": "2022-04-09T20:41:01.634Z"
   },
   {
    "duration": 5,
    "start_time": "2022-04-09T20:41:01.894Z"
   },
   {
    "duration": 8,
    "start_time": "2022-04-09T20:41:01.908Z"
   },
   {
    "duration": 5,
    "start_time": "2022-04-09T20:41:01.917Z"
   },
   {
    "duration": 41,
    "start_time": "2022-04-09T20:41:01.923Z"
   },
   {
    "duration": 5,
    "start_time": "2022-04-09T20:41:01.966Z"
   },
   {
    "duration": 7,
    "start_time": "2022-04-09T20:41:01.973Z"
   },
   {
    "duration": 15,
    "start_time": "2022-04-09T20:41:01.982Z"
   },
   {
    "duration": 260,
    "start_time": "2022-04-09T20:41:01.999Z"
   },
   {
    "duration": 5,
    "start_time": "2022-04-09T20:41:02.262Z"
   },
   {
    "duration": 28,
    "start_time": "2022-04-09T20:41:02.269Z"
   },
   {
    "duration": 12,
    "start_time": "2022-04-09T20:41:02.299Z"
   },
   {
    "duration": 108,
    "start_time": "2022-04-09T20:41:02.313Z"
   },
   {
    "duration": 59,
    "start_time": "2022-04-09T20:41:02.423Z"
   },
   {
    "duration": 4,
    "start_time": "2022-04-09T20:41:02.483Z"
   },
   {
    "duration": 23,
    "start_time": "2022-04-09T20:41:02.488Z"
   },
   {
    "duration": 5,
    "start_time": "2022-04-09T20:41:02.513Z"
   },
   {
    "duration": 23,
    "start_time": "2022-04-09T20:41:02.519Z"
   },
   {
    "duration": 5,
    "start_time": "2022-04-09T20:41:02.544Z"
   },
   {
    "duration": 4,
    "start_time": "2022-04-09T20:41:02.551Z"
   },
   {
    "duration": 6,
    "start_time": "2022-04-09T20:41:02.556Z"
   },
   {
    "duration": 9625,
    "start_time": "2022-04-09T20:41:02.563Z"
   },
   {
    "duration": 167629,
    "start_time": "2022-04-09T20:41:12.190Z"
   },
   {
    "duration": 159632,
    "start_time": "2022-04-09T20:43:59.821Z"
   },
   {
    "duration": 2755,
    "start_time": "2022-04-09T20:46:39.455Z"
   },
   {
    "duration": 13829,
    "start_time": "2022-04-09T20:46:42.212Z"
   },
   {
    "duration": 13,
    "start_time": "2022-04-09T20:46:56.043Z"
   },
   {
    "duration": 1506,
    "start_time": "2022-04-10T09:07:35.458Z"
   },
   {
    "duration": 538,
    "start_time": "2022-04-10T09:07:36.966Z"
   },
   {
    "duration": 22,
    "start_time": "2022-04-10T09:07:37.506Z"
   },
   {
    "duration": 21,
    "start_time": "2022-04-10T09:07:37.530Z"
   },
   {
    "duration": 190,
    "start_time": "2022-04-10T09:07:37.553Z"
   },
   {
    "duration": 7,
    "start_time": "2022-04-10T09:07:37.744Z"
   },
   {
    "duration": 127,
    "start_time": "2022-04-10T09:07:37.753Z"
   },
   {
    "duration": 17,
    "start_time": "2022-04-10T09:07:37.882Z"
   },
   {
    "duration": 34,
    "start_time": "2022-04-10T09:07:37.901Z"
   },
   {
    "duration": 10,
    "start_time": "2022-04-10T09:07:37.936Z"
   },
   {
    "duration": 37,
    "start_time": "2022-04-10T09:07:37.947Z"
   },
   {
    "duration": 16,
    "start_time": "2022-04-10T09:07:37.985Z"
   },
   {
    "duration": 37,
    "start_time": "2022-04-10T09:07:38.003Z"
   },
   {
    "duration": 74,
    "start_time": "2022-04-10T09:07:38.043Z"
   },
   {
    "duration": 7,
    "start_time": "2022-04-10T09:07:38.118Z"
   },
   {
    "duration": 24,
    "start_time": "2022-04-10T09:07:38.127Z"
   },
   {
    "duration": 18,
    "start_time": "2022-04-10T09:07:38.153Z"
   },
   {
    "duration": 20,
    "start_time": "2022-04-10T09:07:38.172Z"
   },
   {
    "duration": 11,
    "start_time": "2022-04-10T09:07:38.194Z"
   },
   {
    "duration": 18,
    "start_time": "2022-04-10T09:07:38.206Z"
   },
   {
    "duration": 22,
    "start_time": "2022-04-10T09:07:38.225Z"
   },
   {
    "duration": 22,
    "start_time": "2022-04-10T09:07:38.248Z"
   },
   {
    "duration": 47,
    "start_time": "2022-04-10T09:07:38.271Z"
   },
   {
    "duration": 25,
    "start_time": "2022-04-10T09:07:38.319Z"
   },
   {
    "duration": 7,
    "start_time": "2022-04-10T09:07:38.345Z"
   },
   {
    "duration": 19,
    "start_time": "2022-04-10T09:07:38.353Z"
   },
   {
    "duration": 279,
    "start_time": "2022-04-10T09:07:38.374Z"
   },
   {
    "duration": 322,
    "start_time": "2022-04-10T09:07:38.655Z"
   },
   {
    "duration": 8,
    "start_time": "2022-04-10T09:07:38.978Z"
   },
   {
    "duration": 286,
    "start_time": "2022-04-10T09:07:38.988Z"
   },
   {
    "duration": 8,
    "start_time": "2022-04-10T09:07:39.276Z"
   },
   {
    "duration": 259,
    "start_time": "2022-04-10T09:07:39.285Z"
   },
   {
    "duration": 8,
    "start_time": "2022-04-10T09:07:39.546Z"
   },
   {
    "duration": 220,
    "start_time": "2022-04-10T09:07:39.555Z"
   },
   {
    "duration": 228,
    "start_time": "2022-04-10T09:07:39.776Z"
   },
   {
    "duration": 204,
    "start_time": "2022-04-10T09:07:40.005Z"
   },
   {
    "duration": 933,
    "start_time": "2022-04-10T09:07:40.211Z"
   },
   {
    "duration": 673,
    "start_time": "2022-04-10T09:07:41.145Z"
   },
   {
    "duration": 8,
    "start_time": "2022-04-10T09:07:41.819Z"
   },
   {
    "duration": 25,
    "start_time": "2022-04-10T09:07:41.828Z"
   },
   {
    "duration": 117,
    "start_time": "2022-04-10T09:07:41.857Z"
   },
   {
    "duration": 4,
    "start_time": "2022-04-10T09:07:41.976Z"
   },
   {
    "duration": 34,
    "start_time": "2022-04-10T09:07:41.981Z"
   },
   {
    "duration": 25,
    "start_time": "2022-04-10T09:07:42.017Z"
   },
   {
    "duration": 24,
    "start_time": "2022-04-10T09:07:42.044Z"
   },
   {
    "duration": 228,
    "start_time": "2022-04-10T09:07:42.069Z"
   },
   {
    "duration": 8,
    "start_time": "2022-04-10T09:07:42.299Z"
   },
   {
    "duration": 236,
    "start_time": "2022-04-10T09:07:42.309Z"
   },
   {
    "duration": 4,
    "start_time": "2022-04-10T09:07:42.546Z"
   },
   {
    "duration": 41,
    "start_time": "2022-04-10T09:07:42.552Z"
   },
   {
    "duration": 20,
    "start_time": "2022-04-10T09:07:42.595Z"
   },
   {
    "duration": 54,
    "start_time": "2022-04-10T09:07:42.616Z"
   },
   {
    "duration": 16,
    "start_time": "2022-04-10T09:07:42.671Z"
   },
   {
    "duration": 26,
    "start_time": "2022-04-10T09:07:42.689Z"
   },
   {
    "duration": 38,
    "start_time": "2022-04-10T09:07:42.716Z"
   },
   {
    "duration": 221,
    "start_time": "2022-04-10T09:07:42.755Z"
   },
   {
    "duration": 5,
    "start_time": "2022-04-10T09:07:42.978Z"
   },
   {
    "duration": 36,
    "start_time": "2022-04-10T09:07:42.984Z"
   },
   {
    "duration": 7,
    "start_time": "2022-04-10T09:07:43.021Z"
   },
   {
    "duration": 118,
    "start_time": "2022-04-10T09:07:43.029Z"
   },
   {
    "duration": 49,
    "start_time": "2022-04-10T09:07:43.148Z"
   },
   {
    "duration": 8,
    "start_time": "2022-04-10T09:07:43.198Z"
   },
   {
    "duration": 20,
    "start_time": "2022-04-10T09:07:43.207Z"
   },
   {
    "duration": 24,
    "start_time": "2022-04-10T09:07:43.228Z"
   },
   {
    "duration": 48,
    "start_time": "2022-04-10T09:07:43.253Z"
   },
   {
    "duration": 16,
    "start_time": "2022-04-10T09:07:43.302Z"
   },
   {
    "duration": 27,
    "start_time": "2022-04-10T09:07:43.319Z"
   },
   {
    "duration": 18,
    "start_time": "2022-04-10T09:07:43.347Z"
   }
  ],
  "kernelspec": {
   "display_name": "Python 3 (ipykernel)",
   "language": "python",
   "name": "python3"
  },
  "language_info": {
   "codemirror_mode": {
    "name": "ipython",
    "version": 3
   },
   "file_extension": ".py",
   "mimetype": "text/x-python",
   "name": "python",
   "nbconvert_exporter": "python",
   "pygments_lexer": "ipython3",
   "version": "3.9.7"
  },
  "toc": {
   "base_numbering": 1,
   "nav_menu": {},
   "number_sections": true,
   "sideBar": true,
   "skip_h1_title": true,
   "title_cell": "Содержание",
   "title_sidebar": "Contents",
   "toc_cell": true,
   "toc_position": {},
   "toc_section_display": true,
   "toc_window_display": true
  }
 },
 "nbformat": 4,
 "nbformat_minor": 2
}
